{
 "cells": [
  {
   "cell_type": "code",
   "execution_count": 1,
   "metadata": {},
   "outputs": [],
   "source": [
    "import pandas as pd\n",
    "import numpy as np\n",
    "import pyarrow.parquet as pq\n",
    "import os\n",
    "import airportsdata \n",
    "from geopy.distance import geodesic\n",
    "\n",
    "import pandas as pd\n",
    "import matplotlib.pyplot as plt\n",
    "import plotly.graph_objects as go\n",
    "import pycountry\n",
    "import pycountry_convert as pc\n",
    "import plotly.io as pio\n",
    "import seaborn as sns\n"
   ]
  },
  {
   "cell_type": "markdown",
   "metadata": {},
   "source": [
    "# 1. Data Preparation"
   ]
  },
  {
   "cell_type": "code",
   "execution_count": 2,
   "metadata": {},
   "outputs": [],
   "source": [
    "path_flights = os.getcwd() + '/data/data_flight_economy_business.xlsx'\n",
    "\n",
    "data_all = pd.read_excel(path_flights,sheet_name='combined')\n",
    "data_direct = pd.read_excel(path_flights,sheet_name='direct')\n",
    "data_non_direct = pd.read_excel(path_flights,sheet_name='non_direct')\n",
    "\n",
    "airports = airportsdata.load()"
   ]
  },
  {
   "cell_type": "code",
   "execution_count": 3,
   "metadata": {},
   "outputs": [
    {
     "data": {
      "text/html": [
       "<div>\n",
       "<style scoped>\n",
       "    .dataframe tbody tr th:only-of-type {\n",
       "        vertical-align: middle;\n",
       "    }\n",
       "\n",
       "    .dataframe tbody tr th {\n",
       "        vertical-align: top;\n",
       "    }\n",
       "\n",
       "    .dataframe thead th {\n",
       "        text-align: right;\n",
       "    }\n",
       "</style>\n",
       "<table border=\"1\" class=\"dataframe\">\n",
       "  <thead>\n",
       "    <tr style=\"text-align: right;\">\n",
       "      <th></th>\n",
       "      <th>origin_airport</th>\n",
       "      <th>total_delegates</th>\n",
       "      <th>destination_airport</th>\n",
       "      <th>assumed_load_factor</th>\n",
       "      <th>aircraft_type_icao</th>\n",
       "      <th>total_fuel_burn</th>\n",
       "      <th>co2_kg</th>\n",
       "      <th>nox_kg</th>\n",
       "      <th>hc_kg</th>\n",
       "      <th>oc_kg</th>\n",
       "      <th>h2o_kg</th>\n",
       "      <th>so2_kg</th>\n",
       "      <th>sulphates_kg</th>\n",
       "      <th>Split Econ/Busi</th>\n",
       "      <th>Seats Economy</th>\n",
       "      <th>Seats Business</th>\n",
       "      <th>total_kg_co2</th>\n",
       "      <th>pp_kg_co2</th>\n",
       "    </tr>\n",
       "  </thead>\n",
       "  <tbody>\n",
       "    <tr>\n",
       "      <th>0</th>\n",
       "      <td>OMAA</td>\n",
       "      <td>8786</td>\n",
       "      <td>OMDB</td>\n",
       "      <td>0.529896</td>\n",
       "      <td>DH8D</td>\n",
       "      <td>466.979806</td>\n",
       "      <td>1475.189208</td>\n",
       "      <td>7.070074</td>\n",
       "      <td>0.242829</td>\n",
       "      <td>0.009340</td>\n",
       "      <td>574.385162</td>\n",
       "      <td>0.560376</td>\n",
       "      <td>0.011436</td>\n",
       "      <td>0.128205</td>\n",
       "      <td>36</td>\n",
       "      <td>5</td>\n",
       "      <td>3.172736e+05</td>\n",
       "      <td>71.960449</td>\n",
       "    </tr>\n",
       "    <tr>\n",
       "      <th>1</th>\n",
       "      <td>SBGR</td>\n",
       "      <td>3618</td>\n",
       "      <td>OMDB</td>\n",
       "      <td>0.787394</td>\n",
       "      <td>B77W</td>\n",
       "      <td>117028.001705</td>\n",
       "      <td>369691.457386</td>\n",
       "      <td>2653.651550</td>\n",
       "      <td>11.064843</td>\n",
       "      <td>2.340560</td>\n",
       "      <td>143944.442097</td>\n",
       "      <td>140.433602</td>\n",
       "      <td>2.865992</td>\n",
       "      <td>0.098361</td>\n",
       "      <td>303</td>\n",
       "      <td>33</td>\n",
       "      <td>1.315651e+07</td>\n",
       "      <td>1731.575913</td>\n",
       "    </tr>\n",
       "    <tr>\n",
       "      <th>2</th>\n",
       "      <td>ZBAA</td>\n",
       "      <td>2640</td>\n",
       "      <td>OMDB</td>\n",
       "      <td>0.641342</td>\n",
       "      <td>B77L</td>\n",
       "      <td>52082.273957</td>\n",
       "      <td>164527.903430</td>\n",
       "      <td>961.016159</td>\n",
       "      <td>6.623664</td>\n",
       "      <td>1.041645</td>\n",
       "      <td>64061.196967</td>\n",
       "      <td>62.498729</td>\n",
       "      <td>1.275484</td>\n",
       "      <td>0.180672</td>\n",
       "      <td>125</td>\n",
       "      <td>28</td>\n",
       "      <td>4.811404e+06</td>\n",
       "      <td>1382.587424</td>\n",
       "    </tr>\n",
       "  </tbody>\n",
       "</table>\n",
       "</div>"
      ],
      "text/plain": [
       "  origin_airport  total_delegates destination_airport  assumed_load_factor  \\\n",
       "0           OMAA             8786                OMDB             0.529896   \n",
       "1           SBGR             3618                OMDB             0.787394   \n",
       "2           ZBAA             2640                OMDB             0.641342   \n",
       "\n",
       "  aircraft_type_icao  total_fuel_burn         co2_kg       nox_kg      hc_kg  \\\n",
       "0               DH8D       466.979806    1475.189208     7.070074   0.242829   \n",
       "1               B77W    117028.001705  369691.457386  2653.651550  11.064843   \n",
       "2               B77L     52082.273957  164527.903430   961.016159   6.623664   \n",
       "\n",
       "      oc_kg         h2o_kg      so2_kg  sulphates_kg  Split Econ/Busi  \\\n",
       "0  0.009340     574.385162    0.560376      0.011436         0.128205   \n",
       "1  2.340560  143944.442097  140.433602      2.865992         0.098361   \n",
       "2  1.041645   64061.196967   62.498729      1.275484         0.180672   \n",
       "\n",
       "   Seats Economy  Seats Business  total_kg_co2    pp_kg_co2  \n",
       "0             36               5  3.172736e+05    71.960449  \n",
       "1            303              33  1.315651e+07  1731.575913  \n",
       "2            125              28  4.811404e+06  1382.587424  "
      ]
     },
     "execution_count": 3,
     "metadata": {},
     "output_type": "execute_result"
    }
   ],
   "source": [
    "data_all.iloc[:3]"
   ]
  },
  {
   "cell_type": "code",
   "execution_count": 4,
   "metadata": {},
   "outputs": [],
   "source": [
    "data_all.dropna(subset=['Seats Economy', 'Seats Business'], inplace=True)\n",
    "\n",
    "# Convert 'Seats Economy' and 'Seats Business' to integers\n",
    "data_all['Seats Economy'] = data_all['Seats Economy'].astype(int)\n",
    "data_all['Seats Business'] = data_all['Seats Business'].astype(int)\n",
    "\n",
    "# data_all['Seats Economy'] = data_all['Seats Economy'] * data_all['assumed_load_factor']\n",
    "# data_all['Seats Business'] = data_all['Seats Business'] * data_all['assumed_load_factor']\n"
   ]
  },
  {
   "cell_type": "code",
   "execution_count": 5,
   "metadata": {},
   "outputs": [
    {
     "data": {
      "text/plain": [
       "0       5\n",
       "1      33\n",
       "2      28\n",
       "3      27\n",
       "4      28\n",
       "       ..\n",
       "271    32\n",
       "272    32\n",
       "273    29\n",
       "274    12\n",
       "275    27\n",
       "Name: Seats Business, Length: 276, dtype: int32"
      ]
     },
     "execution_count": 5,
     "metadata": {},
     "output_type": "execute_result"
    }
   ],
   "source": [
    "data_all['Seats Business'] "
   ]
  },
  {
   "cell_type": "markdown",
   "metadata": {},
   "source": [
    "Get latitude and longitude for origin and destination"
   ]
  },
  {
   "cell_type": "code",
   "execution_count": 6,
   "metadata": {},
   "outputs": [
    {
     "name": "stdout",
     "output_type": "stream",
     "text": [
      "airport miss\n",
      "airport miss\n",
      "airport miss\n"
     ]
    }
   ],
   "source": [
    "def get_coordinates(row, column_name):\n",
    "    airport_code = row[column_name]\n",
    "    airport_info = airports.get(airport_code)\n",
    "    if airport_info:\n",
    "        return pd.Series([airport_info['lat'], airport_info['lon']])\n",
    "    else:\n",
    "        print(\"airport miss\")\n",
    "        # print(data_all.loc[row])\n",
    "        return pd.Series([None, None])\n",
    "\n",
    "# Apply the function to get latitude and longitude for origin and destination airports\n",
    "data_all[['origin_lat', 'origin_lon']] = data_all.apply(lambda row: get_coordinates(row, 'origin_airport'), axis=1)\n",
    "data_all[['dest_lat', 'dest_lon']] = data_all.apply(lambda row: get_coordinates(row, 'destination_airport'), axis=1)\n"
   ]
  },
  {
   "cell_type": "markdown",
   "metadata": {},
   "source": [
    "Calculate distance between origin and destination"
   ]
  },
  {
   "cell_type": "code",
   "execution_count": 7,
   "metadata": {},
   "outputs": [
    {
     "data": {
      "text/html": [
       "<div>\n",
       "<style scoped>\n",
       "    .dataframe tbody tr th:only-of-type {\n",
       "        vertical-align: middle;\n",
       "    }\n",
       "\n",
       "    .dataframe tbody tr th {\n",
       "        vertical-align: top;\n",
       "    }\n",
       "\n",
       "    .dataframe thead th {\n",
       "        text-align: right;\n",
       "    }\n",
       "</style>\n",
       "<table border=\"1\" class=\"dataframe\">\n",
       "  <thead>\n",
       "    <tr style=\"text-align: right;\">\n",
       "      <th></th>\n",
       "      <th>origin_airport</th>\n",
       "      <th>total_delegates</th>\n",
       "      <th>destination_airport</th>\n",
       "      <th>assumed_load_factor</th>\n",
       "      <th>aircraft_type_icao</th>\n",
       "      <th>total_fuel_burn</th>\n",
       "      <th>co2_kg</th>\n",
       "      <th>nox_kg</th>\n",
       "      <th>hc_kg</th>\n",
       "      <th>oc_kg</th>\n",
       "      <th>...</th>\n",
       "      <th>Split Econ/Busi</th>\n",
       "      <th>Seats Economy</th>\n",
       "      <th>Seats Business</th>\n",
       "      <th>total_kg_co2</th>\n",
       "      <th>pp_kg_co2</th>\n",
       "      <th>origin_lat</th>\n",
       "      <th>origin_lon</th>\n",
       "      <th>dest_lat</th>\n",
       "      <th>dest_lon</th>\n",
       "      <th>distance_km</th>\n",
       "    </tr>\n",
       "  </thead>\n",
       "  <tbody>\n",
       "    <tr>\n",
       "      <th>0</th>\n",
       "      <td>OMAA</td>\n",
       "      <td>8786</td>\n",
       "      <td>OMDB</td>\n",
       "      <td>0.529896</td>\n",
       "      <td>DH8D</td>\n",
       "      <td>466.979806</td>\n",
       "      <td>1475.189208</td>\n",
       "      <td>7.070074</td>\n",
       "      <td>0.242829</td>\n",
       "      <td>0.009340</td>\n",
       "      <td>...</td>\n",
       "      <td>0.128205</td>\n",
       "      <td>36</td>\n",
       "      <td>5</td>\n",
       "      <td>3.172736e+05</td>\n",
       "      <td>71.960449</td>\n",
       "      <td>24.433001</td>\n",
       "      <td>54.651100</td>\n",
       "      <td>25.2528</td>\n",
       "      <td>55.364399</td>\n",
       "      <td>115.950338</td>\n",
       "    </tr>\n",
       "    <tr>\n",
       "      <th>1</th>\n",
       "      <td>SBGR</td>\n",
       "      <td>3618</td>\n",
       "      <td>OMDB</td>\n",
       "      <td>0.787394</td>\n",
       "      <td>B77W</td>\n",
       "      <td>117028.001705</td>\n",
       "      <td>369691.457386</td>\n",
       "      <td>2653.651550</td>\n",
       "      <td>11.064843</td>\n",
       "      <td>2.340560</td>\n",
       "      <td>...</td>\n",
       "      <td>0.098361</td>\n",
       "      <td>303</td>\n",
       "      <td>33</td>\n",
       "      <td>1.315651e+07</td>\n",
       "      <td>1731.575913</td>\n",
       "      <td>-23.435556</td>\n",
       "      <td>-46.473057</td>\n",
       "      <td>25.2528</td>\n",
       "      <td>55.364399</td>\n",
       "      <td>12217.959202</td>\n",
       "    </tr>\n",
       "    <tr>\n",
       "      <th>2</th>\n",
       "      <td>ZBAA</td>\n",
       "      <td>2640</td>\n",
       "      <td>OMDB</td>\n",
       "      <td>0.641342</td>\n",
       "      <td>B77L</td>\n",
       "      <td>52082.273957</td>\n",
       "      <td>164527.903430</td>\n",
       "      <td>961.016159</td>\n",
       "      <td>6.623664</td>\n",
       "      <td>1.041645</td>\n",
       "      <td>...</td>\n",
       "      <td>0.180672</td>\n",
       "      <td>125</td>\n",
       "      <td>28</td>\n",
       "      <td>4.811404e+06</td>\n",
       "      <td>1382.587424</td>\n",
       "      <td>40.080101</td>\n",
       "      <td>116.584999</td>\n",
       "      <td>25.2528</td>\n",
       "      <td>55.364399</td>\n",
       "      <td>5855.097793</td>\n",
       "    </tr>\n",
       "  </tbody>\n",
       "</table>\n",
       "<p>3 rows × 23 columns</p>\n",
       "</div>"
      ],
      "text/plain": [
       "  origin_airport  total_delegates destination_airport  assumed_load_factor  \\\n",
       "0           OMAA             8786                OMDB             0.529896   \n",
       "1           SBGR             3618                OMDB             0.787394   \n",
       "2           ZBAA             2640                OMDB             0.641342   \n",
       "\n",
       "  aircraft_type_icao  total_fuel_burn         co2_kg       nox_kg      hc_kg  \\\n",
       "0               DH8D       466.979806    1475.189208     7.070074   0.242829   \n",
       "1               B77W    117028.001705  369691.457386  2653.651550  11.064843   \n",
       "2               B77L     52082.273957  164527.903430   961.016159   6.623664   \n",
       "\n",
       "      oc_kg  ...  Split Econ/Busi  Seats Economy  Seats Business  \\\n",
       "0  0.009340  ...         0.128205             36               5   \n",
       "1  2.340560  ...         0.098361            303              33   \n",
       "2  1.041645  ...         0.180672            125              28   \n",
       "\n",
       "   total_kg_co2    pp_kg_co2  origin_lat  origin_lon  dest_lat   dest_lon  \\\n",
       "0  3.172736e+05    71.960449   24.433001   54.651100   25.2528  55.364399   \n",
       "1  1.315651e+07  1731.575913  -23.435556  -46.473057   25.2528  55.364399   \n",
       "2  4.811404e+06  1382.587424   40.080101  116.584999   25.2528  55.364399   \n",
       "\n",
       "    distance_km  \n",
       "0    115.950338  \n",
       "1  12217.959202  \n",
       "2   5855.097793  \n",
       "\n",
       "[3 rows x 23 columns]"
      ]
     },
     "execution_count": 7,
     "metadata": {},
     "output_type": "execute_result"
    }
   ],
   "source": [
    "def calculate_distance(row):\n",
    "    origin_coord = (row['origin_lat'], row['origin_lon'])\n",
    "    dest_coord = (row['dest_lat'], row['dest_lon'])\n",
    "    return geodesic(origin_coord, dest_coord).kilometers\n",
    "\n",
    "# Drop rows with NaN values in latitude and longitude columns\n",
    "data_all.dropna(subset=['origin_lat', 'origin_lon', 'dest_lat', 'dest_lon'], inplace=True)\n",
    "\n",
    "# Apply the function to calculate distances\n",
    "data_all['distance_km'] = data_all.apply(calculate_distance, axis=1)\n",
    "\n",
    "data_all.iloc[:3]"
   ]
  },
  {
   "cell_type": "code",
   "execution_count": 8,
   "metadata": {},
   "outputs": [
    {
     "data": {
      "text/html": [
       "<div>\n",
       "<style scoped>\n",
       "    .dataframe tbody tr th:only-of-type {\n",
       "        vertical-align: middle;\n",
       "    }\n",
       "\n",
       "    .dataframe tbody tr th {\n",
       "        vertical-align: top;\n",
       "    }\n",
       "\n",
       "    .dataframe thead th {\n",
       "        text-align: right;\n",
       "    }\n",
       "</style>\n",
       "<table border=\"1\" class=\"dataframe\">\n",
       "  <thead>\n",
       "    <tr style=\"text-align: right;\">\n",
       "      <th></th>\n",
       "      <th>origin_airport</th>\n",
       "      <th>total_delegates</th>\n",
       "      <th>destination_airport</th>\n",
       "      <th>assumed_load_factor</th>\n",
       "      <th>aircraft_type_icao</th>\n",
       "      <th>total_fuel_burn</th>\n",
       "      <th>co2_kg</th>\n",
       "      <th>nox_kg</th>\n",
       "      <th>hc_kg</th>\n",
       "      <th>oc_kg</th>\n",
       "      <th>...</th>\n",
       "      <th>Split Econ/Busi</th>\n",
       "      <th>Seats Economy</th>\n",
       "      <th>Seats Business</th>\n",
       "      <th>total_kg_co2</th>\n",
       "      <th>pp_kg_co2</th>\n",
       "      <th>origin_lat</th>\n",
       "      <th>origin_lon</th>\n",
       "      <th>dest_lat</th>\n",
       "      <th>dest_lon</th>\n",
       "      <th>distance_km</th>\n",
       "    </tr>\n",
       "  </thead>\n",
       "  <tbody>\n",
       "    <tr>\n",
       "      <th>0</th>\n",
       "      <td>OMAA</td>\n",
       "      <td>8786</td>\n",
       "      <td>OMDB</td>\n",
       "      <td>0.529896</td>\n",
       "      <td>DH8D</td>\n",
       "      <td>466.979806</td>\n",
       "      <td>1475.189208</td>\n",
       "      <td>7.070074</td>\n",
       "      <td>0.242829</td>\n",
       "      <td>0.009340</td>\n",
       "      <td>...</td>\n",
       "      <td>0.128205</td>\n",
       "      <td>36</td>\n",
       "      <td>5</td>\n",
       "      <td>3.172736e+05</td>\n",
       "      <td>71.960449</td>\n",
       "      <td>24.433001</td>\n",
       "      <td>54.651100</td>\n",
       "      <td>25.2528</td>\n",
       "      <td>55.364399</td>\n",
       "      <td>115.950338</td>\n",
       "    </tr>\n",
       "    <tr>\n",
       "      <th>1</th>\n",
       "      <td>SBGR</td>\n",
       "      <td>3618</td>\n",
       "      <td>OMDB</td>\n",
       "      <td>0.787394</td>\n",
       "      <td>B77W</td>\n",
       "      <td>117028.001705</td>\n",
       "      <td>369691.457386</td>\n",
       "      <td>2653.651550</td>\n",
       "      <td>11.064843</td>\n",
       "      <td>2.340560</td>\n",
       "      <td>...</td>\n",
       "      <td>0.098361</td>\n",
       "      <td>303</td>\n",
       "      <td>33</td>\n",
       "      <td>1.315651e+07</td>\n",
       "      <td>1731.575913</td>\n",
       "      <td>-23.435556</td>\n",
       "      <td>-46.473057</td>\n",
       "      <td>25.2528</td>\n",
       "      <td>55.364399</td>\n",
       "      <td>12217.959202</td>\n",
       "    </tr>\n",
       "    <tr>\n",
       "      <th>2</th>\n",
       "      <td>ZBAA</td>\n",
       "      <td>2640</td>\n",
       "      <td>OMDB</td>\n",
       "      <td>0.641342</td>\n",
       "      <td>B77L</td>\n",
       "      <td>52082.273957</td>\n",
       "      <td>164527.903430</td>\n",
       "      <td>961.016159</td>\n",
       "      <td>6.623664</td>\n",
       "      <td>1.041645</td>\n",
       "      <td>...</td>\n",
       "      <td>0.180672</td>\n",
       "      <td>125</td>\n",
       "      <td>28</td>\n",
       "      <td>4.811404e+06</td>\n",
       "      <td>1382.587424</td>\n",
       "      <td>40.080101</td>\n",
       "      <td>116.584999</td>\n",
       "      <td>25.2528</td>\n",
       "      <td>55.364399</td>\n",
       "      <td>5855.097793</td>\n",
       "    </tr>\n",
       "  </tbody>\n",
       "</table>\n",
       "<p>3 rows × 23 columns</p>\n",
       "</div>"
      ],
      "text/plain": [
       "  origin_airport  total_delegates destination_airport  assumed_load_factor  \\\n",
       "0           OMAA             8786                OMDB             0.529896   \n",
       "1           SBGR             3618                OMDB             0.787394   \n",
       "2           ZBAA             2640                OMDB             0.641342   \n",
       "\n",
       "  aircraft_type_icao  total_fuel_burn         co2_kg       nox_kg      hc_kg  \\\n",
       "0               DH8D       466.979806    1475.189208     7.070074   0.242829   \n",
       "1               B77W    117028.001705  369691.457386  2653.651550  11.064843   \n",
       "2               B77L     52082.273957  164527.903430   961.016159   6.623664   \n",
       "\n",
       "      oc_kg  ...  Split Econ/Busi  Seats Economy  Seats Business  \\\n",
       "0  0.009340  ...         0.128205             36               5   \n",
       "1  2.340560  ...         0.098361            303              33   \n",
       "2  1.041645  ...         0.180672            125              28   \n",
       "\n",
       "   total_kg_co2    pp_kg_co2  origin_lat  origin_lon  dest_lat   dest_lon  \\\n",
       "0  3.172736e+05    71.960449   24.433001   54.651100   25.2528  55.364399   \n",
       "1  1.315651e+07  1731.575913  -23.435556  -46.473057   25.2528  55.364399   \n",
       "2  4.811404e+06  1382.587424   40.080101  116.584999   25.2528  55.364399   \n",
       "\n",
       "    distance_km  \n",
       "0    115.950338  \n",
       "1  12217.959202  \n",
       "2   5855.097793  \n",
       "\n",
       "[3 rows x 23 columns]"
      ]
     },
     "execution_count": 8,
     "metadata": {},
     "output_type": "execute_result"
    }
   ],
   "source": [
    "dubai_airport = pd.DataFrame({'dest_lat_A': [airports.get('OMDB')['lat']],\n",
    "                     'origin_lon_A': [airports.get('OMDB')['lon']]})\n",
    "\n",
    "delegate_airports = data_all[['dest_lat','origin_lon']]\n",
    "\n",
    "# Function to calculate distance using geopy.distance\n",
    "def calculate_distance(row):\n",
    "    coord_A = (dubai_airport['dest_lat_A'].iloc[0], dubai_airport['origin_lon_A'].iloc[0])\n",
    "    coord_B = (row['dest_lat'], row['origin_lon'])\n",
    "    return geodesic(coord_A, coord_B).kilometers\n",
    "\n",
    "data_all.loc[data_all['origin_airport'] == data_all['destination_airport'], 'distance_km'] = delegate_airports.apply(calculate_distance,axis=1).astype(np.int64)\n",
    "data_all.iloc[:3]"
   ]
  },
  {
   "cell_type": "markdown",
   "metadata": {},
   "source": [
    "Calculate CO2 per person"
   ]
  },
  {
   "cell_type": "code",
   "execution_count": 9,
   "metadata": {},
   "outputs": [],
   "source": [
    "factor_business = 4.025\n",
    "\n",
    "data_all['total_seats'] = data_all['Seats Economy'] + data_all['Seats Business'] \n",
    "data_all['total_seats_factor_business'] = (data_all['Seats Economy'] + data_all['Seats Business'] * factor_business)\n",
    "\n",
    "data_all['economy_co2_pp'] = (data_all['co2_kg'] * data_all['Seats Economy'] / data_all['total_seats_factor_business']) / data_all['Seats Economy']\n",
    "data_all['business_co2_pp'] = (data_all['co2_kg'] * data_all['Seats Business'] * factor_business /  data_all['total_seats_factor_business']) / data_all['Seats Business']"
   ]
  },
  {
   "cell_type": "code",
   "execution_count": 10,
   "metadata": {},
   "outputs": [
    {
     "data": {
      "text/plain": [
       "0       36\n",
       "1      303\n",
       "2      125\n",
       "3      245\n",
       "4      126\n",
       "      ... \n",
       "271    289\n",
       "272    289\n",
       "273    269\n",
       "274    163\n",
       "275    245\n",
       "Name: Seats Economy, Length: 273, dtype: int32"
      ]
     },
     "execution_count": 10,
     "metadata": {},
     "output_type": "execute_result"
    }
   ],
   "source": [
    "data_all['Seats Economy']"
   ]
  },
  {
   "cell_type": "code",
   "execution_count": 11,
   "metadata": {},
   "outputs": [],
   "source": [
    "# Assuming data_all is your DataFrame containing the relevant columns\n",
    "\n",
    "# Count occurrences of each aircraft type before grouping\n",
    "occurrences = data_all['aircraft_type_icao'].value_counts().reset_index()\n",
    "occurrences.columns = ['aircraft_type_icao', 'occurrences']\n",
    "\n",
    "# Grouping by aircraft_type_icao and calculating the average of other columns\n",
    "grouped_data = data_all.groupby('aircraft_type_icao').agg({\n",
    "    'total_seats': lambda x: round(x.mean(), 1),\n",
    "    'distance_km': lambda x: round(x.mean(), 1),\n",
    "    'total_fuel_burn': lambda x: round(x.mean(), 1)\n",
    "}).reset_index()\n",
    "\n",
    "# Merge the occurrences information with grouped_data\n",
    "grouped_data = pd.merge(grouped_data, occurrences, on='aircraft_type_icao', how='left')\n",
    "\n",
    "# print(grouped_data)"
   ]
  },
  {
   "cell_type": "code",
   "execution_count": 12,
   "metadata": {},
   "outputs": [],
   "source": [
    "# Definitely long haul : A359, A388, B77L, B77W, B788,\n",
    "short_medium_aircraft = ['A20N','A21N','B38M','B734','B748','B752','B763','BCS3','DC87','E190','RJ85','E290','B733',]\n",
    "short_haul_aircraft = ['A310','A319','A320','A321','A333','AT72','AT76','AT75','B735','B737','B738','B737','E190','B762','CRJ2','D228','DH8D','E145','E170',\n",
    "                       'A20N','A21N','B734','B752','B763','DC87','RJ85']\n",
    "\n",
    "# Define a function to check if the aircraft_type_icao is in the short_haul_aircraft list\n",
    "def is_short_haul(aircraft_type):\n",
    "    return aircraft_type in short_haul_aircraft\n",
    "\n",
    "# Apply the function to create a new column 'is_short_haul'\n",
    "grouped_data['is_short_haul'] = grouped_data['aircraft_type_icao'].apply(is_short_haul)\n",
    "data_all['is_short_haul'] = data_all['aircraft_type_icao'].apply(is_short_haul)"
   ]
  },
  {
   "cell_type": "code",
   "execution_count": 13,
   "metadata": {},
   "outputs": [],
   "source": [
    "# data_all[data_all['is_short_haul'] == True]\n",
    "# grouped_data[grouped_data['is_short_haul'] == True]"
   ]
  },
  {
   "cell_type": "markdown",
   "metadata": {},
   "source": [
    "Assign delegate number to flight from hub-airport to Dubai"
   ]
  },
  {
   "cell_type": "code",
   "execution_count": 14,
   "metadata": {},
   "outputs": [],
   "source": [
    "data_all['total_delegats_inc_hub'] = data_all['total_delegates']"
   ]
  },
  {
   "cell_type": "code",
   "execution_count": 15,
   "metadata": {},
   "outputs": [],
   "source": [
    "\n",
    "occurrence_count = {}\n",
    "\n",
    "# Replace zeros in the value column with the nth occurrence value for each reference value\n",
    "for index, row in data_all.iterrows():\n",
    "    if row['total_delegates'] == 0:\n",
    "        reference_value = row['destination_airport']\n",
    "        if reference_value not in occurrence_count:\n",
    "            occurrence_count[reference_value] = 0\n",
    "        else:\n",
    "            occurrence_count[reference_value] += 1\n",
    "        nth_occurrence = occurrence_count[reference_value]\n",
    "        replacement_value = data_all[data_all['destination_airport'] == reference_value]['total_delegates'].iloc[nth_occurrence]\n",
    "        data_all.at[index, 'total_delegats_inc_hub'] = replacement_value\n"
   ]
  },
  {
   "cell_type": "code",
   "execution_count": 16,
   "metadata": {},
   "outputs": [
    {
     "name": "stdout",
     "output_type": "stream",
     "text": [
      "Total delegates:  79872\n",
      "Total delegates with people who have to travel twice:  96413\n"
     ]
    }
   ],
   "source": [
    "print('Total delegates: ',data_all['total_delegates'].sum())\n",
    "print('Total delegates with people who have to travel twice: ',data_all['total_delegats_inc_hub'].sum())"
   ]
  },
  {
   "cell_type": "markdown",
   "metadata": {},
   "source": [
    "## 1.1 Calculating CO2 Emission"
   ]
  },
  {
   "cell_type": "code",
   "execution_count": 17,
   "metadata": {},
   "outputs": [],
   "source": [
    "data_all['total_co2'] = (data_all['total_delegats_inc_hub'] / (data_all['Seats Business'] + data_all['Seats Economy'])) * data_all['co2_kg'] * 2 # two directions"
   ]
  },
  {
   "cell_type": "code",
   "execution_count": 18,
   "metadata": {},
   "outputs": [
    {
     "data": {
      "text/html": [
       "<div>\n",
       "<style scoped>\n",
       "    .dataframe tbody tr th:only-of-type {\n",
       "        vertical-align: middle;\n",
       "    }\n",
       "\n",
       "    .dataframe tbody tr th {\n",
       "        vertical-align: top;\n",
       "    }\n",
       "\n",
       "    .dataframe thead th {\n",
       "        text-align: right;\n",
       "    }\n",
       "</style>\n",
       "<table border=\"1\" class=\"dataframe\">\n",
       "  <thead>\n",
       "    <tr style=\"text-align: right;\">\n",
       "      <th></th>\n",
       "      <th>origin_airport</th>\n",
       "      <th>total_delegates</th>\n",
       "      <th>destination_airport</th>\n",
       "      <th>assumed_load_factor</th>\n",
       "      <th>aircraft_type_icao</th>\n",
       "      <th>total_fuel_burn</th>\n",
       "      <th>co2_kg</th>\n",
       "      <th>nox_kg</th>\n",
       "      <th>hc_kg</th>\n",
       "      <th>oc_kg</th>\n",
       "      <th>...</th>\n",
       "      <th>dest_lat</th>\n",
       "      <th>dest_lon</th>\n",
       "      <th>distance_km</th>\n",
       "      <th>total_seats</th>\n",
       "      <th>total_seats_factor_business</th>\n",
       "      <th>economy_co2_pp</th>\n",
       "      <th>business_co2_pp</th>\n",
       "      <th>is_short_haul</th>\n",
       "      <th>total_delegats_inc_hub</th>\n",
       "      <th>total_co2</th>\n",
       "    </tr>\n",
       "  </thead>\n",
       "  <tbody>\n",
       "    <tr>\n",
       "      <th>0</th>\n",
       "      <td>OMAA</td>\n",
       "      <td>8786</td>\n",
       "      <td>OMDB</td>\n",
       "      <td>0.529896</td>\n",
       "      <td>DH8D</td>\n",
       "      <td>466.979806</td>\n",
       "      <td>1475.189208</td>\n",
       "      <td>7.070074</td>\n",
       "      <td>0.242829</td>\n",
       "      <td>0.009340</td>\n",
       "      <td>...</td>\n",
       "      <td>25.252800</td>\n",
       "      <td>55.364399</td>\n",
       "      <td>115.950338</td>\n",
       "      <td>41</td>\n",
       "      <td>56.125</td>\n",
       "      <td>26.283995</td>\n",
       "      <td>105.793079</td>\n",
       "      <td>True</td>\n",
       "      <td>8786</td>\n",
       "      <td>6.322445e+05</td>\n",
       "    </tr>\n",
       "    <tr>\n",
       "      <th>1</th>\n",
       "      <td>SBGR</td>\n",
       "      <td>3618</td>\n",
       "      <td>OMDB</td>\n",
       "      <td>0.787394</td>\n",
       "      <td>B77W</td>\n",
       "      <td>117028.001705</td>\n",
       "      <td>369691.457386</td>\n",
       "      <td>2653.651550</td>\n",
       "      <td>11.064843</td>\n",
       "      <td>2.340560</td>\n",
       "      <td>...</td>\n",
       "      <td>25.252800</td>\n",
       "      <td>55.364399</td>\n",
       "      <td>12217.959202</td>\n",
       "      <td>336</td>\n",
       "      <td>435.825</td>\n",
       "      <td>848.256657</td>\n",
       "      <td>3414.233043</td>\n",
       "      <td>False</td>\n",
       "      <td>3618</td>\n",
       "      <td>7.961570e+06</td>\n",
       "    </tr>\n",
       "    <tr>\n",
       "      <th>2</th>\n",
       "      <td>ZBAA</td>\n",
       "      <td>2640</td>\n",
       "      <td>OMDB</td>\n",
       "      <td>0.641342</td>\n",
       "      <td>B77L</td>\n",
       "      <td>52082.273957</td>\n",
       "      <td>164527.903430</td>\n",
       "      <td>961.016159</td>\n",
       "      <td>6.623664</td>\n",
       "      <td>1.041645</td>\n",
       "      <td>...</td>\n",
       "      <td>25.252800</td>\n",
       "      <td>55.364399</td>\n",
       "      <td>5855.097793</td>\n",
       "      <td>153</td>\n",
       "      <td>237.700</td>\n",
       "      <td>692.166190</td>\n",
       "      <td>2785.968916</td>\n",
       "      <td>False</td>\n",
       "      <td>2640</td>\n",
       "      <td>5.677826e+06</td>\n",
       "    </tr>\n",
       "    <tr>\n",
       "      <th>3</th>\n",
       "      <td>WIII</td>\n",
       "      <td>1229</td>\n",
       "      <td>OMDB</td>\n",
       "      <td>0.637657</td>\n",
       "      <td>B77W</td>\n",
       "      <td>52290.480217</td>\n",
       "      <td>165185.627004</td>\n",
       "      <td>1076.737713</td>\n",
       "      <td>7.272460</td>\n",
       "      <td>1.045810</td>\n",
       "      <td>...</td>\n",
       "      <td>25.252800</td>\n",
       "      <td>55.364399</td>\n",
       "      <td>6543.696070</td>\n",
       "      <td>272</td>\n",
       "      <td>353.675</td>\n",
       "      <td>467.054858</td>\n",
       "      <td>1879.895805</td>\n",
       "      <td>False</td>\n",
       "      <td>1229</td>\n",
       "      <td>1.492744e+06</td>\n",
       "    </tr>\n",
       "    <tr>\n",
       "      <th>4</th>\n",
       "      <td>RJTT</td>\n",
       "      <td>1221</td>\n",
       "      <td>OMDB</td>\n",
       "      <td>0.645028</td>\n",
       "      <td>B77L</td>\n",
       "      <td>72779.497786</td>\n",
       "      <td>229910.433506</td>\n",
       "      <td>1418.160959</td>\n",
       "      <td>7.370945</td>\n",
       "      <td>1.455590</td>\n",
       "      <td>...</td>\n",
       "      <td>25.252800</td>\n",
       "      <td>55.364399</td>\n",
       "      <td>7949.313707</td>\n",
       "      <td>154</td>\n",
       "      <td>238.700</td>\n",
       "      <td>963.177350</td>\n",
       "      <td>3876.788835</td>\n",
       "      <td>False</td>\n",
       "      <td>1221</td>\n",
       "      <td>3.645723e+06</td>\n",
       "    </tr>\n",
       "    <tr>\n",
       "      <th>...</th>\n",
       "      <td>...</td>\n",
       "      <td>...</td>\n",
       "      <td>...</td>\n",
       "      <td>...</td>\n",
       "      <td>...</td>\n",
       "      <td>...</td>\n",
       "      <td>...</td>\n",
       "      <td>...</td>\n",
       "      <td>...</td>\n",
       "      <td>...</td>\n",
       "      <td>...</td>\n",
       "      <td>...</td>\n",
       "      <td>...</td>\n",
       "      <td>...</td>\n",
       "      <td>...</td>\n",
       "      <td>...</td>\n",
       "      <td>...</td>\n",
       "      <td>...</td>\n",
       "      <td>...</td>\n",
       "      <td>...</td>\n",
       "      <td>...</td>\n",
       "    </tr>\n",
       "    <tr>\n",
       "      <th>271</th>\n",
       "      <td>KMIA</td>\n",
       "      <td>0</td>\n",
       "      <td>KMIA</td>\n",
       "      <td>0.751742</td>\n",
       "      <td>B77W</td>\n",
       "      <td>114219.191624</td>\n",
       "      <td>360818.426340</td>\n",
       "      <td>2563.752966</td>\n",
       "      <td>9.649549</td>\n",
       "      <td>2.284384</td>\n",
       "      <td>...</td>\n",
       "      <td>25.795361</td>\n",
       "      <td>-80.290116</td>\n",
       "      <td>12625.000000</td>\n",
       "      <td>321</td>\n",
       "      <td>417.800</td>\n",
       "      <td>863.615190</td>\n",
       "      <td>3476.051139</td>\n",
       "      <td>False</td>\n",
       "      <td>74</td>\n",
       "      <td>1.663587e+05</td>\n",
       "    </tr>\n",
       "    <tr>\n",
       "      <th>272</th>\n",
       "      <td>KMIA</td>\n",
       "      <td>0</td>\n",
       "      <td>KMIA</td>\n",
       "      <td>0.751742</td>\n",
       "      <td>B77W</td>\n",
       "      <td>114219.191624</td>\n",
       "      <td>360818.426340</td>\n",
       "      <td>2563.752966</td>\n",
       "      <td>9.649549</td>\n",
       "      <td>2.284384</td>\n",
       "      <td>...</td>\n",
       "      <td>25.795361</td>\n",
       "      <td>-80.290116</td>\n",
       "      <td>12625.000000</td>\n",
       "      <td>321</td>\n",
       "      <td>417.800</td>\n",
       "      <td>863.615190</td>\n",
       "      <td>3476.051139</td>\n",
       "      <td>False</td>\n",
       "      <td>0</td>\n",
       "      <td>0.000000e+00</td>\n",
       "    </tr>\n",
       "    <tr>\n",
       "      <th>273</th>\n",
       "      <td>LEBL</td>\n",
       "      <td>0</td>\n",
       "      <td>LEBL</td>\n",
       "      <td>0.698774</td>\n",
       "      <td>B77W</td>\n",
       "      <td>42317.352958</td>\n",
       "      <td>133680.517994</td>\n",
       "      <td>869.466243</td>\n",
       "      <td>6.217029</td>\n",
       "      <td>0.846347</td>\n",
       "      <td>...</td>\n",
       "      <td>41.297100</td>\n",
       "      <td>2.078460</td>\n",
       "      <td>5183.000000</td>\n",
       "      <td>298</td>\n",
       "      <td>385.725</td>\n",
       "      <td>346.569494</td>\n",
       "      <td>1394.942213</td>\n",
       "      <td>False</td>\n",
       "      <td>0</td>\n",
       "      <td>0.000000e+00</td>\n",
       "    </tr>\n",
       "    <tr>\n",
       "      <th>274</th>\n",
       "      <td>HRYR</td>\n",
       "      <td>0</td>\n",
       "      <td>HRYR</td>\n",
       "      <td>0.606079</td>\n",
       "      <td>A332</td>\n",
       "      <td>26776.622897</td>\n",
       "      <td>84587.351733</td>\n",
       "      <td>374.152490</td>\n",
       "      <td>2.358692</td>\n",
       "      <td>0.535532</td>\n",
       "      <td>...</td>\n",
       "      <td>-1.968630</td>\n",
       "      <td>30.139500</td>\n",
       "      <td>4058.000000</td>\n",
       "      <td>175</td>\n",
       "      <td>211.300</td>\n",
       "      <td>400.318749</td>\n",
       "      <td>1611.282966</td>\n",
       "      <td>False</td>\n",
       "      <td>233</td>\n",
       "      <td>2.252440e+05</td>\n",
       "    </tr>\n",
       "    <tr>\n",
       "      <th>275</th>\n",
       "      <td>RKSI</td>\n",
       "      <td>0</td>\n",
       "      <td>RKSI</td>\n",
       "      <td>0.637657</td>\n",
       "      <td>B77W</td>\n",
       "      <td>72795.955755</td>\n",
       "      <td>229962.424229</td>\n",
       "      <td>1581.179032</td>\n",
       "      <td>7.253965</td>\n",
       "      <td>1.455919</td>\n",
       "      <td>...</td>\n",
       "      <td>37.469101</td>\n",
       "      <td>126.450996</td>\n",
       "      <td>6741.000000</td>\n",
       "      <td>272</td>\n",
       "      <td>353.675</td>\n",
       "      <td>650.208311</td>\n",
       "      <td>2617.088450</td>\n",
       "      <td>False</td>\n",
       "      <td>133</td>\n",
       "      <td>2.248897e+05</td>\n",
       "    </tr>\n",
       "  </tbody>\n",
       "</table>\n",
       "<p>273 rows × 30 columns</p>\n",
       "</div>"
      ],
      "text/plain": [
       "    origin_airport  total_delegates destination_airport  assumed_load_factor  \\\n",
       "0             OMAA             8786                OMDB             0.529896   \n",
       "1             SBGR             3618                OMDB             0.787394   \n",
       "2             ZBAA             2640                OMDB             0.641342   \n",
       "3             WIII             1229                OMDB             0.637657   \n",
       "4             RJTT             1221                OMDB             0.645028   \n",
       "..             ...              ...                 ...                  ...   \n",
       "271           KMIA                0                KMIA             0.751742   \n",
       "272           KMIA                0                KMIA             0.751742   \n",
       "273           LEBL                0                LEBL             0.698774   \n",
       "274           HRYR                0                HRYR             0.606079   \n",
       "275           RKSI                0                RKSI             0.637657   \n",
       "\n",
       "    aircraft_type_icao  total_fuel_burn         co2_kg       nox_kg  \\\n",
       "0                 DH8D       466.979806    1475.189208     7.070074   \n",
       "1                 B77W    117028.001705  369691.457386  2653.651550   \n",
       "2                 B77L     52082.273957  164527.903430   961.016159   \n",
       "3                 B77W     52290.480217  165185.627004  1076.737713   \n",
       "4                 B77L     72779.497786  229910.433506  1418.160959   \n",
       "..                 ...              ...            ...          ...   \n",
       "271               B77W    114219.191624  360818.426340  2563.752966   \n",
       "272               B77W    114219.191624  360818.426340  2563.752966   \n",
       "273               B77W     42317.352958  133680.517994   869.466243   \n",
       "274               A332     26776.622897   84587.351733   374.152490   \n",
       "275               B77W     72795.955755  229962.424229  1581.179032   \n",
       "\n",
       "         hc_kg     oc_kg  ...   dest_lat    dest_lon   distance_km  \\\n",
       "0     0.242829  0.009340  ...  25.252800   55.364399    115.950338   \n",
       "1    11.064843  2.340560  ...  25.252800   55.364399  12217.959202   \n",
       "2     6.623664  1.041645  ...  25.252800   55.364399   5855.097793   \n",
       "3     7.272460  1.045810  ...  25.252800   55.364399   6543.696070   \n",
       "4     7.370945  1.455590  ...  25.252800   55.364399   7949.313707   \n",
       "..         ...       ...  ...        ...         ...           ...   \n",
       "271   9.649549  2.284384  ...  25.795361  -80.290116  12625.000000   \n",
       "272   9.649549  2.284384  ...  25.795361  -80.290116  12625.000000   \n",
       "273   6.217029  0.846347  ...  41.297100    2.078460   5183.000000   \n",
       "274   2.358692  0.535532  ...  -1.968630   30.139500   4058.000000   \n",
       "275   7.253965  1.455919  ...  37.469101  126.450996   6741.000000   \n",
       "\n",
       "     total_seats  total_seats_factor_business  economy_co2_pp  \\\n",
       "0             41                       56.125       26.283995   \n",
       "1            336                      435.825      848.256657   \n",
       "2            153                      237.700      692.166190   \n",
       "3            272                      353.675      467.054858   \n",
       "4            154                      238.700      963.177350   \n",
       "..           ...                          ...             ...   \n",
       "271          321                      417.800      863.615190   \n",
       "272          321                      417.800      863.615190   \n",
       "273          298                      385.725      346.569494   \n",
       "274          175                      211.300      400.318749   \n",
       "275          272                      353.675      650.208311   \n",
       "\n",
       "     business_co2_pp  is_short_haul  total_delegats_inc_hub     total_co2  \n",
       "0         105.793079           True                    8786  6.322445e+05  \n",
       "1        3414.233043          False                    3618  7.961570e+06  \n",
       "2        2785.968916          False                    2640  5.677826e+06  \n",
       "3        1879.895805          False                    1229  1.492744e+06  \n",
       "4        3876.788835          False                    1221  3.645723e+06  \n",
       "..               ...            ...                     ...           ...  \n",
       "271      3476.051139          False                      74  1.663587e+05  \n",
       "272      3476.051139          False                       0  0.000000e+00  \n",
       "273      1394.942213          False                       0  0.000000e+00  \n",
       "274      1611.282966          False                     233  2.252440e+05  \n",
       "275      2617.088450          False                     133  2.248897e+05  \n",
       "\n",
       "[273 rows x 30 columns]"
      ]
     },
     "execution_count": 18,
     "metadata": {},
     "output_type": "execute_result"
    }
   ],
   "source": [
    "data_all"
   ]
  },
  {
   "cell_type": "markdown",
   "metadata": {},
   "source": [
    "## 1.2 Long and short haul flights"
   ]
  },
  {
   "cell_type": "code",
   "execution_count": 19,
   "metadata": {},
   "outputs": [
    {
     "data": {
      "image/png": "[encoded data removed]",
      "text/plain": [
       "<Figure size 2000x1000 with 5 Axes>"
      ]
     },
     "metadata": {},
     "output_type": "display_data"
    }
   ],
   "source": [
    "# Create a figure with subplots\n",
    "fig, axs = plt.subplots(5, 1, figsize=(20, 10),sharex=True)\n",
    "\n",
    "\n",
    "# Plotting total seats\n",
    "for index, row in grouped_data.iterrows():\n",
    "    color = 'lightblue' if row['aircraft_type_icao'] not in short_haul_aircraft else 'blue'\n",
    "    axs[0].bar(row['aircraft_type_icao'], row['total_seats'], color=color)\n",
    "\n",
    "axs[0].set_title('Average Total Seats by Aircraft Type')\n",
    "# axs[0].set_xlabel('Aircraft Type')\n",
    "axs[0].set_ylabel('Total Seats')\n",
    "axs[0].axhline(y=200, color='red', linestyle='--', linewidth=1)  # Adding the limit line at 200\n",
    "\n",
    "\n",
    "# Plotting distance\n",
    "for index, row in grouped_data.iterrows():\n",
    "    color = 'lightgreen' if row['aircraft_type_icao'] not in short_haul_aircraft else 'green'\n",
    "    axs[1].bar(row['aircraft_type_icao'], row['distance_km'], color=color)\n",
    "\n",
    "axs[1].set_title('Average Distance by Aircraft Type')\n",
    "# axs[1].set_xlabel('Aircraft Type')\n",
    "axs[1].set_ylabel('Distance (km)')\n",
    "axs[1].axhline(y=3000, color='red', linestyle='--', linewidth=1)  # Adding the limit line at 3000\n",
    "\n",
    "\n",
    "# Plotting total fuel burn\n",
    "for index, row in grouped_data.iterrows():\n",
    "    color = 'pink' if row['aircraft_type_icao'] not in short_haul_aircraft else 'red'\n",
    "    axs[2].bar(row['aircraft_type_icao'], row['total_fuel_burn'], color=color)\n",
    "\n",
    "axs[2].set_title('Average Total Fuel Burn by Aircraft Type')\n",
    "# axs[2].set_xlabel('Aircraft Type')\n",
    "axs[2].set_ylabel('Total Fuel Burn')\n",
    "\n",
    "# Plotting occurrences\n",
    "for index, row in grouped_data.iterrows():\n",
    "    color = 'LIGHTPINK' if row['aircraft_type_icao'] not in short_haul_aircraft else 'magenta'\n",
    "    axs[3].bar(row['aircraft_type_icao'], row['occurrences'], color=color)\n",
    "\n",
    "axs[3].set_title('Occurrences of Aircraft Types')\n",
    "axs[3].set_xlabel('Aircraft Type')\n",
    "axs[3].set_ylabel('Occurrences')\n",
    "axs[3].tick_params(axis='x', which='both', bottom=True, top=False)  # Show x-axis ticks only for axs[3]\n",
    "\n",
    "# Calculate the sum of total delegates for each aircraft type\n",
    "total_delegates_sum = data_all.groupby('aircraft_type_icao')['total_delegates'].sum()\n",
    "\n",
    "for aircraft_type in total_delegates_sum.index:\n",
    "    color = 'peachpuff' if aircraft_type not in short_haul_aircraft else 'orange'  # Using lightsalmon for short haul\n",
    "    axs[4].bar(aircraft_type, total_delegates_sum[aircraft_type], color=color)\n",
    "\n",
    "axs[4].set_title('Sum of Total Delegates by Aircraft Type')\n",
    "axs[4].set_xlabel('Aircraft Type')\n",
    "axs[4].set_ylabel('Sum of Total Delegates')\n",
    "\n",
    "\n",
    "\n",
    "\n",
    "# Rotate x-axis labels for better readability if necessary\n",
    "# plt.setp(axs[3].xaxis.get_majorticklabels(), rotation=45)\n",
    "\n",
    "# Adjust layout to prevent overlap\n",
    "plt.tight_layout()\n",
    "\n",
    "# Show the plot\n",
    "plt.show()\n"
   ]
  },
  {
   "cell_type": "code",
   "execution_count": 97,
   "metadata": {},
   "outputs": [
    {
     "data": {
      "image/png": "[encoded data removed]",
      "text/plain": [
       "<Figure size 2000x600 with 3 Axes>"
      ]
     },
     "metadata": {},
     "output_type": "display_data"
    }
   ],
   "source": [
    "# Create a figure with subplots\n",
    "fig, axs = plt.subplots(3, 1, figsize=(20, 6),sharex=True)\n",
    "\n",
    "\n",
    "# Plotting total seats\n",
    "for index, row in grouped_data.iterrows():\n",
    "    color = 'lightblue' if row['aircraft_type_icao'] not in short_haul_aircraft else 'blue'\n",
    "    axs[0].bar(row['aircraft_type_icao'], row['total_seats'], color=color)\n",
    "\n",
    "axs[0].set_title('Average Total Seats by Aircraft Type')\n",
    "# axs[0].set_xlabel('Aircraft Type')\n",
    "axs[0].set_ylabel('Total Seats')\n",
    "axs[0].axhline(y=200, color='red', linestyle='--', linewidth=1)  # Adding the limit line at 200\n",
    "\n",
    "\n",
    "# Plotting distance\n",
    "for index, row in grouped_data.iterrows():\n",
    "    color = 'lightgreen' if row['aircraft_type_icao'] not in short_haul_aircraft else 'green'\n",
    "    axs[1].bar(row['aircraft_type_icao'], row['distance_km'], color=color)\n",
    "\n",
    "axs[1].set_title('Average Distance by Aircraft Type')\n",
    "# axs[1].set_xlabel('Aircraft Type')\n",
    "axs[1].set_ylabel('Distance (km)')\n",
    "axs[1].axhline(y=3000, color='red', linestyle='--', linewidth=1)  # Adding the limit line at 3000\n",
    "\n",
    "\n",
    "for aircraft_type in total_delegates_sum.index:\n",
    "    color = 'peachpuff' if aircraft_type not in short_haul_aircraft else 'orange'  # Using lightsalmon for short haul\n",
    "    axs[2].bar(aircraft_type, total_delegates_sum[aircraft_type], color=color)\n",
    "\n",
    "axs[2].set_title('Sum of Total Delegates by Aircraft Type')\n",
    "axs[2].set_xlabel('Aircraft Type')\n",
    "axs[2].set_ylabel('Sum of Total Delegates')\n",
    "#axs[2].tick_params(axis='x', which='both', bottom=True, top=False)  # Show x-axis ticks only for axs[3]\n",
    "\n",
    "# Calculate the sum of total delegates for each aircraft type\n",
    "total_delegates_sum = data_all.groupby('aircraft_type_icao')['total_delegates'].sum()\n",
    "\n",
    "\n",
    "\n",
    "\n",
    "\n",
    "\n",
    "# Rotate x-axis labels for better readability if necessary\n",
    "# plt.setp(axs[3].xaxis.get_majorticklabels(), rotation=45)\n",
    "\n",
    "# Adjust layout to prevent overlap\n",
    "plt.tight_layout()\n",
    "\n",
    "# Show the plot\n",
    "plt.show()\n"
   ]
  },
  {
   "cell_type": "code",
   "execution_count": 20,
   "metadata": {},
   "outputs": [
    {
     "data": {
      "text/plain": [
       "32252"
      ]
     },
     "execution_count": 20,
     "metadata": {},
     "output_type": "execute_result"
    }
   ],
   "source": [
    "data_all.loc[data_all['is_short_haul'] == True,'total_delegates'].sum()"
   ]
  },
  {
   "cell_type": "markdown",
   "metadata": {},
   "source": [
    "# 2. Data Analysis\n",
    "## 2.1 General"
   ]
  },
  {
   "cell_type": "code",
   "execution_count": 21,
   "metadata": {},
   "outputs": [
    {
     "data": {
      "image/png": "[encoded data removed]",
      "text/plain": [
       "<Figure size 2000x600 with 1 Axes>"
      ]
     },
     "metadata": {},
     "output_type": "display_data"
    }
   ],
   "source": [
    "# Boxplot for total_fuel_burn\n",
    "plt.figure(figsize=(20, 6))\n",
    "sns.boxplot(x='aircraft_type_icao', y='pp_kg_co2', data=data_all)\n",
    "# plt.title('Total kg of CO2 per person')\n",
    "plt.xlabel('Aircraft Type')\n",
    "plt.ylabel('Total kg CO2 per person')\n",
    "plt.show()\n",
    "\n",
    "# # Boxplot for total_fuel_burn\n",
    "# plt.figure(figsize=(15, 6))\n",
    "# sns.boxplot(x='aircraft_type_icao', y='pp_g_co2_km', data=data_all)\n",
    "# # plt.title('Total kg of CO2 per person')\n",
    "# plt.xlabel('Aircraft Type')\n",
    "# plt.ylabel('Total g CO2 per km')\n",
    "# plt.show()"
   ]
  },
  {
   "cell_type": "code",
   "execution_count": 22,
   "metadata": {},
   "outputs": [],
   "source": [
    "# plt.figure(figsize=(15, 6))\n",
    "\n",
    "# # Barplot for average value\n",
    "# sns.barplot(x='aircraft_type_icao', y='pp_g_co2_km', data=data_direct, estimator=lambda x: sum(x) / len(x), color='lightblue')\n",
    "\n",
    "# # Add values to the top of the bars\n",
    "# for p in plt.gca().patches:\n",
    "#     plt.gca().annotate('{:.2f}'.format(p.get_height()), (p.get_x() + p.get_width() / 2., p.get_height()),\n",
    "#                 ha='center', va='center', fontsize=11, color='black', xytext=(0, 5),\n",
    "#                 textcoords='offset points')\n",
    "\n",
    "# plt.xlabel('Aircraft Type')\n",
    "# plt.ylabel('Total g CO2 per km')\n",
    "\n",
    "# plt.show()\n"
   ]
  },
  {
   "cell_type": "markdown",
   "metadata": {},
   "source": [
    "## 2.2 Split Economy/Business Class"
   ]
  },
  {
   "cell_type": "code",
   "execution_count": 89,
   "metadata": {},
   "outputs": [
    {
     "data": {
      "image/png": "[encoded data removed]",
      "text/plain": [
       "<Figure size 1000x1000 with 1 Axes>"
      ]
     },
     "metadata": {},
     "output_type": "display_data"
    }
   ],
   "source": [
    "\n",
    "# Plot\n",
    "plt.figure(figsize=(10, 10))\n",
    "\n",
    "# Stacked bar plot\n",
    "plt.barh(data_all['aircraft_type_icao'], data_all['Seats Economy'], label='Economy')\n",
    "plt.barh(data_all['aircraft_type_icao'], data_all['Seats Business'],  label='Business') # left=data_all['Seats Economy'],\n",
    "\n",
    "# Labels and title\n",
    "plt.xlabel('Number of Seats')\n",
    "plt.ylabel('Aircraft Type ICAO')\n",
    "plt.title('Stacked Plot of Economy and Business Seats by Aircraft Type')\n",
    "plt.legend()\n",
    "\n",
    "# Show plot\n",
    "plt.show()\n"
   ]
  },
  {
   "cell_type": "markdown",
   "metadata": {},
   "source": [
    "### 2.2.1 CO2 Emission Visualisation"
   ]
  },
  {
   "cell_type": "code",
   "execution_count": 87,
   "metadata": {},
   "outputs": [
    {
     "data": {
      "image/png": "[encoded data removed]",
      "text/plain": [
       "<Figure size 800x1500 with 2 Axes>"
      ]
     },
     "metadata": {},
     "output_type": "display_data"
    }
   ],
   "source": [
    "# Calculate mean CO2 emissions for business and economy\n",
    "mean_business_co2 = data_all.groupby('aircraft_type_icao')['business_co2_pp'].mean()\n",
    "mean_economy_co2 = data_all.groupby('aircraft_type_icao')['economy_co2_pp'].mean()\n",
    "\n",
    "# Plot\n",
    "fig, ax1 = plt.subplots(figsize=(8, 15))\n",
    "\n",
    "# Stacked bar plot for seats\n",
    "ax1.barh(data_all['aircraft_type_icao'], data_all['Seats Economy'], label='Economy')\n",
    "ax1.barh(data_all['aircraft_type_icao'], data_all['Seats Business'], label='Business')\n",
    "\n",
    "# Labels and title for seats\n",
    "ax1.set_xlabel('Number of Seats', fontsize=14)\n",
    "ax1.set_ylabel('Aircraft Type ICAO', fontsize=14)\n",
    "# ax1.set_title('Stacked Plot of Economy and Business Seats by Aircraft Type', fontsize=16)\n",
    "\n",
    "# Create a second x-axis for CO2 emissions\n",
    "ax2 = ax1.twiny()\n",
    "ax2.set_xlabel('CO2 Emissions (kg)', fontsize=14)\n",
    "\n",
    "ax2.set_xlim(0, data_all[['business_co2_pp', 'economy_co2_pp']].max().max() + 100)\n",
    "\n",
    "# Plot mean CO2 emissions as points with darker shades\n",
    "ax2.scatter(mean_economy_co2, mean_economy_co2.index, color='navy', label='Mean Economy CO2', alpha=0.7)\n",
    "ax2.scatter(mean_business_co2, mean_business_co2.index, color='darkorange', label='Mean Business CO2', alpha=0.7)\n",
    "\n",
    "# Add legend\n",
    "# fig.legend(loc='upper right', bbox_to_anchor=(1, 1))\n",
    "# ax1.legend(loc='upper right', bbox_to_anchor=(1, 1.2))\n",
    "fig.legend(loc='upper right', bbox_to_anchor=(0.875, 0.85))\n",
    "\n",
    "# Show plot\n",
    "plt.show()\n"
   ]
  },
  {
   "cell_type": "markdown",
   "metadata": {},
   "source": [
    "# 3 Calculating total emissions"
   ]
  },
  {
   "cell_type": "code",
   "execution_count": 25,
   "metadata": {},
   "outputs": [
    {
     "name": "stdout",
     "output_type": "stream",
     "text": [
      "97741251.86562386\n"
     ]
    }
   ],
   "source": [
    "# data_all['total_co2'] = (data_all['total_delegats_inc_hub'] / (data_all['Seats Business'] + data_all['Seats Economy'])) * data_all['co2_kg'] * 2\n",
    "print(data_all['total_co2'].sum())"
   ]
  },
  {
   "cell_type": "code",
   "execution_count": 26,
   "metadata": {},
   "outputs": [
    {
     "data": {
      "text/html": [
       "<div>\n",
       "<style scoped>\n",
       "    .dataframe tbody tr th:only-of-type {\n",
       "        vertical-align: middle;\n",
       "    }\n",
       "\n",
       "    .dataframe tbody tr th {\n",
       "        vertical-align: top;\n",
       "    }\n",
       "\n",
       "    .dataframe thead th {\n",
       "        text-align: right;\n",
       "    }\n",
       "</style>\n",
       "<table border=\"1\" class=\"dataframe\">\n",
       "  <thead>\n",
       "    <tr style=\"text-align: right;\">\n",
       "      <th></th>\n",
       "      <th>origin_airport</th>\n",
       "      <th>destination_airport</th>\n",
       "      <th>total_delegats_inc_hub</th>\n",
       "      <th>aircraft_type_icao</th>\n",
       "      <th>co2_kg</th>\n",
       "      <th>Split Econ/Busi</th>\n",
       "      <th>Seats Economy</th>\n",
       "      <th>Seats Business</th>\n",
       "      <th>economy_co2_pp</th>\n",
       "      <th>business_co2_pp</th>\n",
       "      <th>is_short_haul</th>\n",
       "      <th>total_delegats_inc_hub</th>\n",
       "      <th>total_co2</th>\n",
       "    </tr>\n",
       "  </thead>\n",
       "  <tbody>\n",
       "    <tr>\n",
       "      <th>0</th>\n",
       "      <td>OMAA</td>\n",
       "      <td>OMDB</td>\n",
       "      <td>8786</td>\n",
       "      <td>DH8D</td>\n",
       "      <td>1475.189208</td>\n",
       "      <td>0.128205</td>\n",
       "      <td>36</td>\n",
       "      <td>5</td>\n",
       "      <td>26.283995</td>\n",
       "      <td>105.793079</td>\n",
       "      <td>True</td>\n",
       "      <td>8786</td>\n",
       "      <td>6.322445e+05</td>\n",
       "    </tr>\n",
       "    <tr>\n",
       "      <th>1</th>\n",
       "      <td>SBGR</td>\n",
       "      <td>OMDB</td>\n",
       "      <td>3618</td>\n",
       "      <td>B77W</td>\n",
       "      <td>369691.457386</td>\n",
       "      <td>0.098361</td>\n",
       "      <td>303</td>\n",
       "      <td>33</td>\n",
       "      <td>848.256657</td>\n",
       "      <td>3414.233043</td>\n",
       "      <td>False</td>\n",
       "      <td>3618</td>\n",
       "      <td>7.961570e+06</td>\n",
       "    </tr>\n",
       "    <tr>\n",
       "      <th>2</th>\n",
       "      <td>ZBAA</td>\n",
       "      <td>OMDB</td>\n",
       "      <td>2640</td>\n",
       "      <td>B77L</td>\n",
       "      <td>164527.903430</td>\n",
       "      <td>0.180672</td>\n",
       "      <td>125</td>\n",
       "      <td>28</td>\n",
       "      <td>692.166190</td>\n",
       "      <td>2785.968916</td>\n",
       "      <td>False</td>\n",
       "      <td>2640</td>\n",
       "      <td>5.677826e+06</td>\n",
       "    </tr>\n",
       "  </tbody>\n",
       "</table>\n",
       "</div>"
      ],
      "text/plain": [
       "  origin_airport destination_airport  total_delegats_inc_hub  \\\n",
       "0           OMAA                OMDB                    8786   \n",
       "1           SBGR                OMDB                    3618   \n",
       "2           ZBAA                OMDB                    2640   \n",
       "\n",
       "  aircraft_type_icao         co2_kg  Split Econ/Busi  Seats Economy  \\\n",
       "0               DH8D    1475.189208         0.128205             36   \n",
       "1               B77W  369691.457386         0.098361            303   \n",
       "2               B77L  164527.903430         0.180672            125   \n",
       "\n",
       "   Seats Business  economy_co2_pp  business_co2_pp  is_short_haul  \\\n",
       "0               5       26.283995       105.793079           True   \n",
       "1              33      848.256657      3414.233043          False   \n",
       "2              28      692.166190      2785.968916          False   \n",
       "\n",
       "   total_delegats_inc_hub     total_co2  \n",
       "0                    8786  6.322445e+05  \n",
       "1                    3618  7.961570e+06  \n",
       "2                    2640  5.677826e+06  "
      ]
     },
     "execution_count": 26,
     "metadata": {},
     "output_type": "execute_result"
    }
   ],
   "source": [
    "data_all[['origin_airport','destination_airport','total_delegats_inc_hub','aircraft_type_icao','co2_kg',\n",
    "          'Split Econ/Busi','Seats Economy','Seats Business','economy_co2_pp', 'business_co2_pp', \n",
    "          'is_short_haul','total_delegats_inc_hub', 'total_co2']].iloc[:3]"
   ]
  },
  {
   "cell_type": "code",
   "execution_count": 28,
   "metadata": {},
   "outputs": [
    {
     "data": {
      "text/plain": [
       "95858687.91290657"
      ]
     },
     "execution_count": 28,
     "metadata": {},
     "output_type": "execute_result"
    }
   ],
   "source": [
    "data_all['economy_new'] = 0.0\n",
    "data_all['business_new'] = 0.0\n",
    "\n",
    "sensitivity_value = 0.05 # Assumption that 5% change to economy for medium to long haul flights (>3 hours)\n",
    "\n",
    "data_all.loc[data_all['is_short_haul'] == False,'economy_new'] = data_all.loc[data_all['is_short_haul'] == False,'Seats Economy'] + data_all.loc[data_all['is_short_haul'] == False,'Seats Business'] * sensitivity_value\n",
    "data_all.loc[data_all['is_short_haul'] == False,'business_new'] = data_all.loc[data_all['is_short_haul'] == False,'Seats Business'] * (1 - sensitivity_value)\n",
    "\n",
    "\n",
    "sensitivity_value_short = 0.3 # Assumption that 30% change to economy for short flights (<3 hours)\n",
    "\n",
    "# SHORT FLIGHTS, overwrite value\n",
    "data_all.loc[data_all['is_short_haul'] == True,'economy_new'] = data_all.loc[data_all['is_short_haul'] == True,'Seats Economy'] + data_all.loc[data_all['is_short_haul'] == True,'Seats Business'] * sensitivity_value_short\n",
    "data_all.loc[data_all['is_short_haul'] == True,'business_new'] = data_all.loc[data_all['is_short_haul'] == True,'Seats Business'] * (1 - sensitivity_value_short)\n",
    "\n",
    "# ((V4*0.8*AC4)+(((U4+(V4*0.2))*AB4)))/(U4+V4)\n",
    "\n",
    "new_co2_economy = data_all['economy_new'] * data_all['economy_co2_pp']# / (data_all['business_new'] + data_all['economy_new'])\n",
    "new_co2_business = data_all['business_new'] * data_all['business_co2_pp']# /  (data_all['business_new'] + data_all['economy_new'])\n",
    "\n",
    "# new emission for whole flight\n",
    "data_all['flight_co2_reduced'] = new_co2_economy + new_co2_business\n",
    "\n",
    "# Some values were 0, if business class was 0\n",
    "missing_rows = data_all['flight_co2_reduced'].isnull() | (data_all['flight_co2_reduced'] == 0)\n",
    "data_all.loc[missing_rows, 'flight_co2_reduced'] = data_all.loc[missing_rows, 'co2_kg']\n",
    "\n",
    "data_all['total_co2_new'] = (data_all['total_delegats_inc_hub'] / (data_all['Seats Business'] + data_all['Seats Economy'])) * data_all['flight_co2_reduced'] * 2\n",
    "data_all['total_co2_new'].sum()"
   ]
  },
  {
   "cell_type": "markdown",
   "metadata": {},
   "source": [
    "Calculate the effect of short and medium/long flights alone "
   ]
  },
  {
   "cell_type": "code",
   "execution_count": 29,
   "metadata": {},
   "outputs": [
    {
     "data": {
      "text/plain": [
       "96987263.97770672"
      ]
     },
     "execution_count": 29,
     "metadata": {},
     "output_type": "execute_result"
    }
   ],
   "source": [
    "data_all.loc[data_all['is_short_haul'] == True,'economy_short'] = data_all.loc[data_all['is_short_haul'] == True,'Seats Economy'] + data_all.loc[data_all['is_short_haul'] == True,'Seats Business'] * sensitivity_value_short\n",
    "data_all.loc[data_all['is_short_haul'] == True,'business_short'] = data_all.loc[data_all['is_short_haul'] == True,'Seats Business'] * (1 - sensitivity_value_short)\n",
    "\n",
    "new_co2_economy = data_all['economy_short'] * data_all['economy_co2_pp']# / (data_all['business_new'] + data_all['economy_new'])\n",
    "new_co2_business = data_all['business_short'] * data_all['business_co2_pp']# /  (data_all['business_new'] + data_all['economy_new'])\n",
    "\n",
    "\n",
    "data_all['flight_co2_reduced_long'] = new_co2_economy + new_co2_business\n",
    "\n",
    "# Some values were 0, if business class was 0\n",
    "missing_rows = data_all['flight_co2_reduced_long'].isnull() | (data_all['flight_co2_reduced_long'] == 0)\n",
    "data_all.loc[missing_rows, 'flight_co2_reduced_long'] = data_all.loc[missing_rows, 'co2_kg']\n",
    "\n",
    "data_all['total_co2_long'] = (data_all['total_delegats_inc_hub'] / (data_all['Seats Business'] + data_all['Seats Economy'])) * data_all['flight_co2_reduced_long'] * 2\n",
    "data_all['total_co2_long'].sum()"
   ]
  },
  {
   "cell_type": "code",
   "execution_count": 30,
   "metadata": {},
   "outputs": [
    {
     "data": {
      "text/plain": [
       "96612675.80082372"
      ]
     },
     "execution_count": 30,
     "metadata": {},
     "output_type": "execute_result"
    }
   ],
   "source": [
    "data_all.loc[data_all['is_short_haul'] == False,'economy_long'] = data_all.loc[data_all['is_short_haul'] == False,'Seats Economy'] + data_all.loc[data_all['is_short_haul'] == False,'Seats Business'] * sensitivity_value\n",
    "data_all.loc[data_all['is_short_haul'] == False,'business_long'] = data_all.loc[data_all['is_short_haul'] == False,'Seats Business'] * (1 - sensitivity_value)\n",
    "\n",
    "new_co2_economy = data_all['economy_long'] * data_all['economy_co2_pp']# / (data_all['business_new'] + data_all['economy_new'])\n",
    "new_co2_business = data_all['business_long'] * data_all['business_co2_pp']# /  (data_all['business_new'] + data_all['economy_new'])\n",
    "\n",
    "\n",
    "\n",
    "data_all['flight_co2_reduced_short'] = new_co2_economy + new_co2_business\n",
    "\n",
    "# Some values were 0, if business class was 0\n",
    "missing_rows = data_all['flight_co2_reduced_short'].isnull() | (data_all['flight_co2_reduced_short'] == 0)\n",
    "data_all.loc[missing_rows, 'flight_co2_reduced_short'] = data_all.loc[missing_rows, 'co2_kg']\n",
    "\n",
    "data_all['total_co2_short'] = (data_all['total_delegats_inc_hub'] / (data_all['Seats Business'] + data_all['Seats Economy'])) * data_all['flight_co2_reduced_short'] * 2\n",
    "data_all['total_co2_short'].sum()"
   ]
  },
  {
   "cell_type": "code",
   "execution_count": null,
   "metadata": {},
   "outputs": [],
   "source": []
  },
  {
   "cell_type": "code",
   "execution_count": 335,
   "metadata": {},
   "outputs": [],
   "source": [
    "\n"
   ]
  },
  {
   "cell_type": "code",
   "execution_count": 342,
   "metadata": {},
   "outputs": [
    {
     "data": {
      "text/plain": [
       "95858687.91290657"
      ]
     },
     "execution_count": 342,
     "metadata": {},
     "output_type": "execute_result"
    }
   ],
   "source": []
  },
  {
   "cell_type": "code",
   "execution_count": null,
   "metadata": {},
   "outputs": [],
   "source": []
  },
  {
   "cell_type": "code",
   "execution_count": 337,
   "metadata": {},
   "outputs": [
    {
     "data": {
      "text/plain": [
       "0.9838762555614202"
      ]
     },
     "execution_count": 337,
     "metadata": {},
     "output_type": "execute_result"
    }
   ],
   "source": [
    "data_all['flight_co2_reduced_short'].mean() / data_all['co2_kg'].mean()"
   ]
  },
  {
   "cell_type": "code",
   "execution_count": 338,
   "metadata": {},
   "outputs": [
    {
     "data": {
      "text/plain": [
       "0        1355.925582\n",
       "1      365457.596348\n",
       "2      161596.579614\n",
       "3      163278.291727\n",
       "4      225831.377428\n",
       "           ...      \n",
       "271    356638.528821\n",
       "272    356638.528821\n",
       "273    132160.377551\n",
       "274     83860.773203\n",
       "275    227307.136041\n",
       "Name: flight_co2_reduced_short, Length: 273, dtype: float64"
      ]
     },
     "execution_count": 338,
     "metadata": {},
     "output_type": "execute_result"
    }
   ],
   "source": [
    "data_all['flight_co2_reduced_short']"
   ]
  },
  {
   "cell_type": "markdown",
   "metadata": {},
   "source": [
    "## Visualisation"
   ]
  },
  {
   "cell_type": "code",
   "execution_count": 340,
   "metadata": {},
   "outputs": [
    {
     "data": {
      "text/plain": [
       "97741251.86562386"
      ]
     },
     "execution_count": 340,
     "metadata": {},
     "output_type": "execute_result"
    }
   ],
   "source": [
    "data_all['total_co2'].sum()"
   ]
  },
  {
   "cell_type": "code",
   "execution_count": 103,
   "metadata": {},
   "outputs": [
    {
     "data": {
      "application/vnd.plotly.v1+json": {
       "config": {
        "plotlyServerURL": "https://plot.ly"
       },
       "data": [
        {
         "connector": {
          "line": {
           "color": "rgb(63, 63, 63)"
          }
         },
         "decreasing": {
          "marker": {
           "color": "green"
          }
         },
         "increasing": {
          "marker": {
           "color": "red"
          }
         },
         "measure": [
          "relative",
          "relative",
          "relative"
         ],
         "name": "Change in Total CO2",
         "orientation": "v",
         "type": "waterfall",
         "x": [
          "Current Status",
          "Long haul \n(-5%)",
          "Short haul\n(-30%)"
         ],
         "y": [
          97741251.86562386,
          -753987.8879171461,
          -1128576.0648001432
         ]
        }
       ],
       "layout": {
        "annotations": [
         {
          "font": {
           "color": "white",
           "family": "Aharoni",
           "size": 18
          },
          "showarrow": false,
          "text": "-0.77%",
          "x": 1,
          "y": 97364257.92166528
         },
         {
          "font": {
           "color": "white",
           "family": "Aharoni",
           "size": 18
          },
          "showarrow": false,
          "text": "-1.15%",
          "x": 2,
          "y": 96422975.94530664
         },
         {
          "font": {
           "color": "black",
           "family": "Aharoni",
           "size": 18
          },
          "showarrow": false,
          "text": "Total % Reduction: -1.93%",
          "x": 1.5,
          "y": 95358687.91290657
         }
        ],
        "height": 600,
        "showlegend": false,
        "template": {
         "data": {
          "bar": [
           {
            "error_x": {
             "color": "#2a3f5f"
            },
            "error_y": {
             "color": "#2a3f5f"
            },
            "marker": {
             "line": {
              "color": "#E5ECF6",
              "width": 0.5
             },
             "pattern": {
              "fillmode": "overlay",
              "size": 10,
              "solidity": 0.2
             }
            },
            "type": "bar"
           }
          ],
          "barpolar": [
           {
            "marker": {
             "line": {
              "color": "#E5ECF6",
              "width": 0.5
             },
             "pattern": {
              "fillmode": "overlay",
              "size": 10,
              "solidity": 0.2
             }
            },
            "type": "barpolar"
           }
          ],
          "carpet": [
           {
            "aaxis": {
             "endlinecolor": "#2a3f5f",
             "gridcolor": "white",
             "linecolor": "white",
             "minorgridcolor": "white",
             "startlinecolor": "#2a3f5f"
            },
            "baxis": {
             "endlinecolor": "#2a3f5f",
             "gridcolor": "white",
             "linecolor": "white",
             "minorgridcolor": "white",
             "startlinecolor": "#2a3f5f"
            },
            "type": "carpet"
           }
          ],
          "choropleth": [
           {
            "colorbar": {
             "outlinewidth": 0,
             "ticks": ""
            },
            "type": "choropleth"
           }
          ],
          "contour": [
           {
            "colorbar": {
             "outlinewidth": 0,
             "ticks": ""
            },
            "colorscale": [
             [
              0,
              "#0d0887"
             ],
             [
              0.1111111111111111,
              "#46039f"
             ],
             [
              0.2222222222222222,
              "#7201a8"
             ],
             [
              0.3333333333333333,
              "#9c179e"
             ],
             [
              0.4444444444444444,
              "#bd3786"
             ],
             [
              0.5555555555555556,
              "#d8576b"
             ],
             [
              0.6666666666666666,
              "#ed7953"
             ],
             [
              0.7777777777777778,
              "#fb9f3a"
             ],
             [
              0.8888888888888888,
              "#fdca26"
             ],
             [
              1,
              "#f0f921"
             ]
            ],
            "type": "contour"
           }
          ],
          "contourcarpet": [
           {
            "colorbar": {
             "outlinewidth": 0,
             "ticks": ""
            },
            "type": "contourcarpet"
           }
          ],
          "heatmap": [
           {
            "colorbar": {
             "outlinewidth": 0,
             "ticks": ""
            },
            "colorscale": [
             [
              0,
              "#0d0887"
             ],
             [
              0.1111111111111111,
              "#46039f"
             ],
             [
              0.2222222222222222,
              "#7201a8"
             ],
             [
              0.3333333333333333,
              "#9c179e"
             ],
             [
              0.4444444444444444,
              "#bd3786"
             ],
             [
              0.5555555555555556,
              "#d8576b"
             ],
             [
              0.6666666666666666,
              "#ed7953"
             ],
             [
              0.7777777777777778,
              "#fb9f3a"
             ],
             [
              0.8888888888888888,
              "#fdca26"
             ],
             [
              1,
              "#f0f921"
             ]
            ],
            "type": "heatmap"
           }
          ],
          "heatmapgl": [
           {
            "colorbar": {
             "outlinewidth": 0,
             "ticks": ""
            },
            "colorscale": [
             [
              0,
              "#0d0887"
             ],
             [
              0.1111111111111111,
              "#46039f"
             ],
             [
              0.2222222222222222,
              "#7201a8"
             ],
             [
              0.3333333333333333,
              "#9c179e"
             ],
             [
              0.4444444444444444,
              "#bd3786"
             ],
             [
              0.5555555555555556,
              "#d8576b"
             ],
             [
              0.6666666666666666,
              "#ed7953"
             ],
             [
              0.7777777777777778,
              "#fb9f3a"
             ],
             [
              0.8888888888888888,
              "#fdca26"
             ],
             [
              1,
              "#f0f921"
             ]
            ],
            "type": "heatmapgl"
           }
          ],
          "histogram": [
           {
            "marker": {
             "pattern": {
              "fillmode": "overlay",
              "size": 10,
              "solidity": 0.2
             }
            },
            "type": "histogram"
           }
          ],
          "histogram2d": [
           {
            "colorbar": {
             "outlinewidth": 0,
             "ticks": ""
            },
            "colorscale": [
             [
              0,
              "#0d0887"
             ],
             [
              0.1111111111111111,
              "#46039f"
             ],
             [
              0.2222222222222222,
              "#7201a8"
             ],
             [
              0.3333333333333333,
              "#9c179e"
             ],
             [
              0.4444444444444444,
              "#bd3786"
             ],
             [
              0.5555555555555556,
              "#d8576b"
             ],
             [
              0.6666666666666666,
              "#ed7953"
             ],
             [
              0.7777777777777778,
              "#fb9f3a"
             ],
             [
              0.8888888888888888,
              "#fdca26"
             ],
             [
              1,
              "#f0f921"
             ]
            ],
            "type": "histogram2d"
           }
          ],
          "histogram2dcontour": [
           {
            "colorbar": {
             "outlinewidth": 0,
             "ticks": ""
            },
            "colorscale": [
             [
              0,
              "#0d0887"
             ],
             [
              0.1111111111111111,
              "#46039f"
             ],
             [
              0.2222222222222222,
              "#7201a8"
             ],
             [
              0.3333333333333333,
              "#9c179e"
             ],
             [
              0.4444444444444444,
              "#bd3786"
             ],
             [
              0.5555555555555556,
              "#d8576b"
             ],
             [
              0.6666666666666666,
              "#ed7953"
             ],
             [
              0.7777777777777778,
              "#fb9f3a"
             ],
             [
              0.8888888888888888,
              "#fdca26"
             ],
             [
              1,
              "#f0f921"
             ]
            ],
            "type": "histogram2dcontour"
           }
          ],
          "mesh3d": [
           {
            "colorbar": {
             "outlinewidth": 0,
             "ticks": ""
            },
            "type": "mesh3d"
           }
          ],
          "parcoords": [
           {
            "line": {
             "colorbar": {
              "outlinewidth": 0,
              "ticks": ""
             }
            },
            "type": "parcoords"
           }
          ],
          "pie": [
           {
            "automargin": true,
            "type": "pie"
           }
          ],
          "scatter": [
           {
            "fillpattern": {
             "fillmode": "overlay",
             "size": 10,
             "solidity": 0.2
            },
            "type": "scatter"
           }
          ],
          "scatter3d": [
           {
            "line": {
             "colorbar": {
              "outlinewidth": 0,
              "ticks": ""
             }
            },
            "marker": {
             "colorbar": {
              "outlinewidth": 0,
              "ticks": ""
             }
            },
            "type": "scatter3d"
           }
          ],
          "scattercarpet": [
           {
            "marker": {
             "colorbar": {
              "outlinewidth": 0,
              "ticks": ""
             }
            },
            "type": "scattercarpet"
           }
          ],
          "scattergeo": [
           {
            "marker": {
             "colorbar": {
              "outlinewidth": 0,
              "ticks": ""
             }
            },
            "type": "scattergeo"
           }
          ],
          "scattergl": [
           {
            "marker": {
             "colorbar": {
              "outlinewidth": 0,
              "ticks": ""
             }
            },
            "type": "scattergl"
           }
          ],
          "scattermapbox": [
           {
            "marker": {
             "colorbar": {
              "outlinewidth": 0,
              "ticks": ""
             }
            },
            "type": "scattermapbox"
           }
          ],
          "scatterpolar": [
           {
            "marker": {
             "colorbar": {
              "outlinewidth": 0,
              "ticks": ""
             }
            },
            "type": "scatterpolar"
           }
          ],
          "scatterpolargl": [
           {
            "marker": {
             "colorbar": {
              "outlinewidth": 0,
              "ticks": ""
             }
            },
            "type": "scatterpolargl"
           }
          ],
          "scatterternary": [
           {
            "marker": {
             "colorbar": {
              "outlinewidth": 0,
              "ticks": ""
             }
            },
            "type": "scatterternary"
           }
          ],
          "surface": [
           {
            "colorbar": {
             "outlinewidth": 0,
             "ticks": ""
            },
            "colorscale": [
             [
              0,
              "#0d0887"
             ],
             [
              0.1111111111111111,
              "#46039f"
             ],
             [
              0.2222222222222222,
              "#7201a8"
             ],
             [
              0.3333333333333333,
              "#9c179e"
             ],
             [
              0.4444444444444444,
              "#bd3786"
             ],
             [
              0.5555555555555556,
              "#d8576b"
             ],
             [
              0.6666666666666666,
              "#ed7953"
             ],
             [
              0.7777777777777778,
              "#fb9f3a"
             ],
             [
              0.8888888888888888,
              "#fdca26"
             ],
             [
              1,
              "#f0f921"
             ]
            ],
            "type": "surface"
           }
          ],
          "table": [
           {
            "cells": {
             "fill": {
              "color": "#EBF0F8"
             },
             "line": {
              "color": "white"
             }
            },
            "header": {
             "fill": {
              "color": "#C8D4E3"
             },
             "line": {
              "color": "white"
             }
            },
            "type": "table"
           }
          ]
         },
         "layout": {
          "annotationdefaults": {
           "arrowcolor": "#2a3f5f",
           "arrowhead": 0,
           "arrowwidth": 1
          },
          "autotypenumbers": "strict",
          "coloraxis": {
           "colorbar": {
            "outlinewidth": 0,
            "ticks": ""
           }
          },
          "colorscale": {
           "diverging": [
            [
             0,
             "#8e0152"
            ],
            [
             0.1,
             "#c51b7d"
            ],
            [
             0.2,
             "#de77ae"
            ],
            [
             0.3,
             "#f1b6da"
            ],
            [
             0.4,
             "#fde0ef"
            ],
            [
             0.5,
             "#f7f7f7"
            ],
            [
             0.6,
             "#e6f5d0"
            ],
            [
             0.7,
             "#b8e186"
            ],
            [
             0.8,
             "#7fbc41"
            ],
            [
             0.9,
             "#4d9221"
            ],
            [
             1,
             "#276419"
            ]
           ],
           "sequential": [
            [
             0,
             "#0d0887"
            ],
            [
             0.1111111111111111,
             "#46039f"
            ],
            [
             0.2222222222222222,
             "#7201a8"
            ],
            [
             0.3333333333333333,
             "#9c179e"
            ],
            [
             0.4444444444444444,
             "#bd3786"
            ],
            [
             0.5555555555555556,
             "#d8576b"
            ],
            [
             0.6666666666666666,
             "#ed7953"
            ],
            [
             0.7777777777777778,
             "#fb9f3a"
            ],
            [
             0.8888888888888888,
             "#fdca26"
            ],
            [
             1,
             "#f0f921"
            ]
           ],
           "sequentialminus": [
            [
             0,
             "#0d0887"
            ],
            [
             0.1111111111111111,
             "#46039f"
            ],
            [
             0.2222222222222222,
             "#7201a8"
            ],
            [
             0.3333333333333333,
             "#9c179e"
            ],
            [
             0.4444444444444444,
             "#bd3786"
            ],
            [
             0.5555555555555556,
             "#d8576b"
            ],
            [
             0.6666666666666666,
             "#ed7953"
            ],
            [
             0.7777777777777778,
             "#fb9f3a"
            ],
            [
             0.8888888888888888,
             "#fdca26"
            ],
            [
             1,
             "#f0f921"
            ]
           ]
          },
          "colorway": [
           "#636efa",
           "#EF553B",
           "#00cc96",
           "#ab63fa",
           "#FFA15A",
           "#19d3f3",
           "#FF6692",
           "#B6E880",
           "#FF97FF",
           "#FECB52"
          ],
          "font": {
           "color": "#2a3f5f"
          },
          "geo": {
           "bgcolor": "white",
           "lakecolor": "white",
           "landcolor": "#E5ECF6",
           "showlakes": true,
           "showland": true,
           "subunitcolor": "white"
          },
          "hoverlabel": {
           "align": "left"
          },
          "hovermode": "closest",
          "mapbox": {
           "style": "light"
          },
          "paper_bgcolor": "white",
          "plot_bgcolor": "#E5ECF6",
          "polar": {
           "angularaxis": {
            "gridcolor": "white",
            "linecolor": "white",
            "ticks": ""
           },
           "bgcolor": "#E5ECF6",
           "radialaxis": {
            "gridcolor": "white",
            "linecolor": "white",
            "ticks": ""
           }
          },
          "scene": {
           "xaxis": {
            "backgroundcolor": "#E5ECF6",
            "gridcolor": "white",
            "gridwidth": 2,
            "linecolor": "white",
            "showbackground": true,
            "ticks": "",
            "zerolinecolor": "white"
           },
           "yaxis": {
            "backgroundcolor": "#E5ECF6",
            "gridcolor": "white",
            "gridwidth": 2,
            "linecolor": "white",
            "showbackground": true,
            "ticks": "",
            "zerolinecolor": "white"
           },
           "zaxis": {
            "backgroundcolor": "#E5ECF6",
            "gridcolor": "white",
            "gridwidth": 2,
            "linecolor": "white",
            "showbackground": true,
            "ticks": "",
            "zerolinecolor": "white"
           }
          },
          "shapedefaults": {
           "line": {
            "color": "#2a3f5f"
           }
          },
          "ternary": {
           "aaxis": {
            "gridcolor": "white",
            "linecolor": "white",
            "ticks": ""
           },
           "baxis": {
            "gridcolor": "white",
            "linecolor": "white",
            "ticks": ""
           },
           "bgcolor": "#E5ECF6",
           "caxis": {
            "gridcolor": "white",
            "linecolor": "white",
            "ticks": ""
           }
          },
          "title": {
           "x": 0.05
          },
          "xaxis": {
           "automargin": true,
           "gridcolor": "white",
           "linecolor": "white",
           "ticks": "",
           "title": {
            "standoff": 15
           },
           "zerolinecolor": "white",
           "zerolinewidth": 2
          },
          "yaxis": {
           "automargin": true,
           "gridcolor": "white",
           "linecolor": "white",
           "ticks": "",
           "title": {
            "standoff": 15
           },
           "zerolinecolor": "white",
           "zerolinewidth": 2
          }
         }
        },
        "width": 500,
        "yaxis": {
         "range": [
          94741251.86562386,
          99241251.86562386
         ]
        }
       }
      }
     },
     "metadata": {},
     "output_type": "display_data"
    }
   ],
   "source": [
    "import plotly.graph_objects as go\n",
    "\n",
    "# Calculate the sum of total_co2\n",
    "current_status = data_all['total_co2'].sum()\n",
    "\n",
    "# Calculate the reductions\n",
    "reduction_long = data_all['total_co2_long'].sum() - current_status \n",
    "reduction_short = data_all['total_co2_short'].sum() - current_status\n",
    "\n",
    "# Calculate percentage reductions\n",
    "percentage_reduction_long = (reduction_long / current_status) * 100\n",
    "percentage_reduction_short = (reduction_short / current_status) * 100\n",
    "\n",
    "total_percentage_reduction = percentage_reduction_long + percentage_reduction_short\n",
    "\n",
    "\n",
    "# Create the waterfall chart\n",
    "fig = go.Figure(go.Waterfall(\n",
    "    name=\"Change in Total CO2\",\n",
    "    orientation=\"v\",\n",
    "    measure=[\"relative\", \"relative\", \"relative\"],\n",
    "    x=[\"Current Status\", \"Long haul \\n(-5%)\", \"Short haul\\n(-30%)\"],\n",
    "    y=[current_status, reduction_long, reduction_short],\n",
    "    connector={\"line\": {\"color\": \"rgb(63, 63, 63)\"}},\n",
    "    increasing={\"marker\": {\"color\": \"red\"}},  # Change color for increases (reductions)\n",
    "    decreasing={\"marker\": {\"color\": \"green\"}},    # Change color for decreases (total_co2)\n",
    "))\n",
    "\n",
    "# Add annotations for percentage reductions\n",
    "annotations = [\n",
    "    dict(\n",
    "        x=1,  # x-coordinate of the annotation\n",
    "        y=current_status + reduction_long / 2,  # y-coordinate of the annotation\n",
    "        text=f\"{percentage_reduction_long:.2f}%\",  # Text of the annotation\n",
    "        showarrow=False,  # Hide arrow\n",
    "        font=dict(color=\"white\", size=18, family=\"Aharoni\")  # Font settings with Aharoni font\n",
    "    ),\n",
    "    dict(\n",
    "        x=2,  # x-coordinate of the annotation\n",
    "        y= current_status + reduction_long + reduction_short/ 2,  # y-coordinate of the annotation\n",
    "        text=f\"{percentage_reduction_short:.2f}%\",  # Text of the annotation\n",
    "        showarrow=False,  # Hide arrow\n",
    "        font=dict(color=\"white\", size=18, family=\"Aharoni\")  # Font settings with Aharoni font\n",
    "    ),\n",
    "    dict(\n",
    "        x=1.5,  # x-coordinate of the annotation\n",
    "        y=current_status + reduction_long + reduction_short - 500000,  # y-coordinate of the annotation\n",
    "        text=f\"Total % Reduction: {total_percentage_reduction:.2f}%\",  # Text of the annotation\n",
    "        showarrow=False,  # Do not show arrow\n",
    "        font=dict(color=\"black\", size=18, family=\"Aharoni\")  # Font settings with Aharoni font  # Font settings\n",
    "    )\n",
    "]\n",
    "\n",
    "adjust = 3000000\n",
    "# Update layout with annotations\n",
    "fig.update_layout(\n",
    "    width=500, height=600,\n",
    "    # title=\"Waterfall Diagram of Total CO2\",\n",
    "    showlegend=False,\n",
    "    annotations=annotations,  # Add annotations\n",
    "    yaxis=dict(range=[current_status - adjust, current_status + adjust/2])  # Adjust range as needed\n",
    ")\n",
    "\n",
    "# Show the plot\n",
    "fig.show()\n"
   ]
  },
  {
   "cell_type": "code",
   "execution_count": null,
   "metadata": {},
   "outputs": [],
   "source": []
  }
 ],
 "metadata": {
  "kernelspec": {
   "display_name": "Python 3",
   "language": "python",
   "name": "python3"
  },
  "language_info": {
   "codemirror_mode": {
    "name": "ipython",
    "version": 3
   },
   "file_extension": ".py",
   "mimetype": "text/x-python",
   "name": "python",
   "nbconvert_exporter": "python",
   "pygments_lexer": "ipython3",
   "version": "3.11.8"
  }
 },
 "nbformat": 4,
 "nbformat_minor": 2
}

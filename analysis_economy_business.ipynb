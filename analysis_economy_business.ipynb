{
 "cells": [
  {
   "cell_type": "code",
   "execution_count": 1,
   "metadata": {},
   "outputs": [],
   "source": [
    "import pandas as pd\n",
    "import numpy as np\n",
    "import pyarrow.parquet as pq\n",
    "import os\n",
    "import airportsdata \n",
    "from geopy.distance import geodesic\n",
    "\n",
    "import pandas as pd\n",
    "import matplotlib.pyplot as plt\n",
    "import plotly.graph_objects as go\n",
    "import pycountry\n",
    "import pycountry_convert as pc\n",
    "import plotly.io as pio\n",
    "import seaborn as sns\n"
   ]
  },
  {
   "cell_type": "markdown",
   "metadata": {},
   "source": [
    "# 1. Data Preparation"
   ]
  },
  {
   "cell_type": "code",
   "execution_count": 2,
   "metadata": {},
   "outputs": [],
   "source": [
    "# Load provided air data from 2021\n",
    "dataset = pq.ParquetDataset('c:\\\\Users\\\\lukas\\\\OneDrive - Imperial College London\\\\0_Sustainable Transport\\\\2021_COP26',\n",
    "                            ) # filters=[('columnName', 'in', filterList)]\n",
    "df = dataset.read(use_threads=True).to_pandas()"
   ]
  },
  {
   "cell_type": "code",
   "execution_count": 3,
   "metadata": {},
   "outputs": [],
   "source": [
    "path_flights = os.getcwd() + '/data/data_flight_economy_business.xlsx'\n",
    "\n",
    "data_all = pd.read_excel(path_flights,sheet_name='combined')\n",
    "data_direct = pd.read_excel(path_flights,sheet_name='direct')\n",
    "data_non_direct = pd.read_excel(path_flights,sheet_name='non_direct')\n",
    "\n",
    "airports = airportsdata.load()"
   ]
  },
  {
   "cell_type": "code",
   "execution_count": 4,
   "metadata": {},
   "outputs": [
    {
     "data": {
      "text/plain": [
       "Index(['origin_airport', 'total_delegates', 'destination_airport',\n",
       "       'assumed_load_factor', 'aircraft_type_icao', 'total_fuel_burn',\n",
       "       'co2_kg', 'nox_kg', 'hc_kg', 'oc_kg', 'h2o_kg', 'so2_kg',\n",
       "       'sulphates_kg', 'Split Econ/Busi', 'Seats Economy', 'Seats Business',\n",
       "       'total_kg_co2', 'pp_kg_co2'],\n",
       "      dtype='object')"
      ]
     },
     "execution_count": 4,
     "metadata": {},
     "output_type": "execute_result"
    }
   ],
   "source": [
    "data_all.columns"
   ]
  },
  {
   "cell_type": "code",
   "execution_count": 5,
   "metadata": {},
   "outputs": [
    {
     "data": {
      "text/plain": [
       "Index(['callsign', 'icao_address', 'flight_number', 'tail_number',\n",
       "       'aircraft_type_icao', 'aircraft_engine_type', 'origin_airport',\n",
       "       'origin_airport_name', 'origin_country', 'destination_airport',\n",
       "       'destination_airport_name', 'destination_country',\n",
       "       'scheduled_departure_time_utc', 'scheduled_arrival_time_utc',\n",
       "       'first_waypoint_time', 'last_waypoint_time', 'duration_hours',\n",
       "       'total_distance_km', 'great_circle_distance_km',\n",
       "       'longitude_first_waypoint', 'longitude_last_waypoint', 'longitude_min',\n",
       "       'longitude_max', 'latitude_first_waypoint', 'latitude_last_waypoint',\n",
       "       'latitude_min', 'latitude_max', 'altitude_first_waypoint',\n",
       "       'altitude_last_waypoint', 'altitude_min', 'altitude_max', 'n_wypts',\n",
       "       'n_terrestrial', 'n_satellites', 'n_interpolate', 'n_extrapolate',\n",
       "       'n_great_circle', 'extrap_trajectory_start', 'extrap_trajectory_end',\n",
       "       'trajectory_complete', 'great_circle_trajectory', 'est_origin_airport',\n",
       "       'est_destination_airport', 'flight_id', 'cirium_availability',\n",
       "       'aircraft_type_cirium', 'aircraft_usage', 'market_class',\n",
       "       'aircraft_age', 'fuel_data_source', 'aircraft_type_bada',\n",
       "       'engine_type_bada', 'engine_type_edb', 'engine_uid', 'n_engine',\n",
       "       'assumed_load_factor', 'aircraft_mass_initial_kg',\n",
       "       'aircraft_mass_mean_kg', 'total_fuel_burn',\n",
       "       'propulsion_efficiency_mean', 'co2_kg', 'gaseous_data_source', 'nox_kg',\n",
       "       'co_kg', 'hc_kg', 'oc_kg', 'h2o_kg', 'so2_kg', 'sulphates_kg',\n",
       "       'nvpm_data_source', 'nvpm_mass_kg', 'nvpm_number', 'nvpm_ei_n_mean',\n",
       "       'sdr_mean', 'night_flight', 'night_segments', 'pct_night_dist'],\n",
       "      dtype='object')"
      ]
     },
     "execution_count": 5,
     "metadata": {},
     "output_type": "execute_result"
    }
   ],
   "source": [
    "df.columns"
   ]
  },
  {
   "cell_type": "code",
   "execution_count": 6,
   "metadata": {},
   "outputs": [
    {
     "data": {
      "text/plain": [
       "range(0, 178)"
      ]
     },
     "execution_count": 6,
     "metadata": {},
     "output_type": "execute_result"
    }
   ],
   "source": [
    "range(0, 178)"
   ]
  },
  {
   "cell_type": "code",
   "execution_count": 7,
   "metadata": {},
   "outputs": [],
   "source": [
    "data_all['duration_hours'] = 0"
   ]
  },
  {
   "cell_type": "markdown",
   "metadata": {},
   "source": [
    "TESTING TO USE DURATION HOURS"
   ]
  },
  {
   "cell_type": "code",
   "execution_count": 10,
   "metadata": {},
   "outputs": [
    {
     "name": "stderr",
     "output_type": "stream",
     "text": [
      "C:\\Users\\lukas\\AppData\\Local\\Temp\\ipykernel_13604\\3542232524.py:3: FutureWarning: Series.__getitem__ treating keys as positions is deprecated. In a future version, integer keys will always be treated as labels (consistent with DataFrame behavior). To access a value by position, use `ser.iloc[pos]`\n",
      "  lambda row: df[(df.iloc[:, 4] == row[4]) &\n",
      "C:\\Users\\lukas\\AppData\\Local\\Temp\\ipykernel_13604\\3542232524.py:4: FutureWarning: Series.__getitem__ treating keys as positions is deprecated. In a future version, integer keys will always be treated as labels (consistent with DataFrame behavior). To access a value by position, use `ser.iloc[pos]`\n",
      "  (df.iloc[:, 6] == row[0]) &\n",
      "C:\\Users\\lukas\\AppData\\Local\\Temp\\ipykernel_13604\\3542232524.py:5: FutureWarning: Series.__getitem__ treating keys as positions is deprecated. In a future version, integer keys will always be treated as labels (consistent with DataFrame behavior). To access a value by position, use `ser.iloc[pos]`\n",
      "  (df.iloc[:, 9] == row[2]) &\n",
      "C:\\Users\\lukas\\AppData\\Local\\Temp\\ipykernel_13604\\3542232524.py:6: FutureWarning: Series.__getitem__ treating keys as positions is deprecated. In a future version, integer keys will always be treated as labels (consistent with DataFrame behavior). To access a value by position, use `ser.iloc[pos]`\n",
      "  (df.iloc[:, 55] == row[3])]['duration_hours'].mean(),\n",
      "C:\\Users\\lukas\\AppData\\Local\\Temp\\ipykernel_13604\\3542232524.py:12: FutureWarning: Series.__getitem__ treating keys as positions is deprecated. In a future version, integer keys will always be treated as labels (consistent with DataFrame behavior). To access a value by position, use `ser.iloc[pos]`\n",
      "  lambda row: df[(df.iloc[:, 4] == row[4]) &\n",
      "C:\\Users\\lukas\\AppData\\Local\\Temp\\ipykernel_13604\\3542232524.py:13: FutureWarning: Series.__getitem__ treating keys as positions is deprecated. In a future version, integer keys will always be treated as labels (consistent with DataFrame behavior). To access a value by position, use `ser.iloc[pos]`\n",
      "  (df.iloc[:, 6] == row[0]) &\n",
      "C:\\Users\\lukas\\AppData\\Local\\Temp\\ipykernel_13604\\3542232524.py:15: FutureWarning: Series.__getitem__ treating keys as positions is deprecated. In a future version, integer keys will always be treated as labels (consistent with DataFrame behavior). To access a value by position, use `ser.iloc[pos]`\n",
      "  (df.iloc[:, 55] == row[3])]['duration_hours'].mean(),\n"
     ]
    }
   ],
   "source": [
    "# Calculate mean duration hours for the first 179 rows\n",
    "mean_duration_first = data_all.iloc[:179].apply(\n",
    "    lambda row: df[(df.iloc[:, 4] == row[4]) & \n",
    "                   (df.iloc[:, 6] == row[0]) &\n",
    "                   (df.iloc[:, 9] == row[2]) & \n",
    "                   (df.iloc[:, 55] == row[3])]['duration_hours'].mean(),\n",
    "    axis=1\n",
    ")\n",
    "\n",
    "# Calculate mean duration hours for the remaining rows\n",
    "mean_duration_remaining = data_all.iloc[179:].apply(\n",
    "    lambda row: df[(df.iloc[:, 4] == row[4]) & \n",
    "                   (df.iloc[:, 6] == row[0]) &\n",
    "                   (df.iloc[:, 9] == 'OMDB') & \n",
    "                   (df.iloc[:, 55] == row[3])]['duration_hours'].mean(),\n",
    "    axis=1\n",
    ")\n",
    "\n",
    "# Assign mean duration hours to the DataFrame\n",
    "data_all['duration_hours'] = pd.concat([mean_duration_first, mean_duration_remaining])\n"
   ]
  },
  {
   "cell_type": "code",
   "execution_count": 11,
   "metadata": {},
   "outputs": [
    {
     "data": {
      "text/html": [
       "<div>\n",
       "<style scoped>\n",
       "    .dataframe tbody tr th:only-of-type {\n",
       "        vertical-align: middle;\n",
       "    }\n",
       "\n",
       "    .dataframe tbody tr th {\n",
       "        vertical-align: top;\n",
       "    }\n",
       "\n",
       "    .dataframe thead th {\n",
       "        text-align: right;\n",
       "    }\n",
       "</style>\n",
       "<table border=\"1\" class=\"dataframe\">\n",
       "  <thead>\n",
       "    <tr style=\"text-align: right;\">\n",
       "      <th></th>\n",
       "      <th>origin_airport</th>\n",
       "      <th>total_delegates</th>\n",
       "      <th>destination_airport</th>\n",
       "      <th>assumed_load_factor</th>\n",
       "      <th>aircraft_type_icao</th>\n",
       "      <th>total_fuel_burn</th>\n",
       "      <th>co2_kg</th>\n",
       "      <th>nox_kg</th>\n",
       "      <th>hc_kg</th>\n",
       "      <th>oc_kg</th>\n",
       "      <th>h2o_kg</th>\n",
       "      <th>so2_kg</th>\n",
       "      <th>sulphates_kg</th>\n",
       "      <th>Split Econ/Busi</th>\n",
       "      <th>Seats Economy</th>\n",
       "      <th>Seats Business</th>\n",
       "      <th>total_kg_co2</th>\n",
       "      <th>pp_kg_co2</th>\n",
       "      <th>duration_hours</th>\n",
       "    </tr>\n",
       "  </thead>\n",
       "  <tbody>\n",
       "    <tr>\n",
       "      <th>0</th>\n",
       "      <td>OMAA</td>\n",
       "      <td>8786</td>\n",
       "      <td>OMDB</td>\n",
       "      <td>0.529896</td>\n",
       "      <td>DH8D</td>\n",
       "      <td>466.979806</td>\n",
       "      <td>1475.189208</td>\n",
       "      <td>7.070074</td>\n",
       "      <td>0.242829</td>\n",
       "      <td>0.009340</td>\n",
       "      <td>574.385162</td>\n",
       "      <td>0.560376</td>\n",
       "      <td>0.011436</td>\n",
       "      <td>0.128205</td>\n",
       "      <td>36</td>\n",
       "      <td>5</td>\n",
       "      <td>3.172736e+05</td>\n",
       "      <td>71.960449</td>\n",
       "      <td>0.44</td>\n",
       "    </tr>\n",
       "    <tr>\n",
       "      <th>1</th>\n",
       "      <td>SBGR</td>\n",
       "      <td>3618</td>\n",
       "      <td>OMDB</td>\n",
       "      <td>0.787394</td>\n",
       "      <td>B77W</td>\n",
       "      <td>117028.001705</td>\n",
       "      <td>369691.457386</td>\n",
       "      <td>2653.651550</td>\n",
       "      <td>11.064843</td>\n",
       "      <td>2.340560</td>\n",
       "      <td>143944.442097</td>\n",
       "      <td>140.433602</td>\n",
       "      <td>2.865992</td>\n",
       "      <td>0.098361</td>\n",
       "      <td>303</td>\n",
       "      <td>33</td>\n",
       "      <td>1.315651e+07</td>\n",
       "      <td>1731.575913</td>\n",
       "      <td>13.91</td>\n",
       "    </tr>\n",
       "    <tr>\n",
       "      <th>2</th>\n",
       "      <td>ZBAA</td>\n",
       "      <td>2640</td>\n",
       "      <td>OMDB</td>\n",
       "      <td>0.641342</td>\n",
       "      <td>B77L</td>\n",
       "      <td>52082.273957</td>\n",
       "      <td>164527.903430</td>\n",
       "      <td>961.016159</td>\n",
       "      <td>6.623664</td>\n",
       "      <td>1.041645</td>\n",
       "      <td>64061.196967</td>\n",
       "      <td>62.498729</td>\n",
       "      <td>1.275484</td>\n",
       "      <td>0.180672</td>\n",
       "      <td>125</td>\n",
       "      <td>28</td>\n",
       "      <td>4.811404e+06</td>\n",
       "      <td>1382.587424</td>\n",
       "      <td>8.27</td>\n",
       "    </tr>\n",
       "    <tr>\n",
       "      <th>3</th>\n",
       "      <td>WIII</td>\n",
       "      <td>1229</td>\n",
       "      <td>OMDB</td>\n",
       "      <td>0.637657</td>\n",
       "      <td>B77W</td>\n",
       "      <td>52290.480217</td>\n",
       "      <td>165185.627004</td>\n",
       "      <td>1076.737713</td>\n",
       "      <td>7.272460</td>\n",
       "      <td>1.045810</td>\n",
       "      <td>64317.290666</td>\n",
       "      <td>62.748576</td>\n",
       "      <td>1.280583</td>\n",
       "      <td>0.098361</td>\n",
       "      <td>245</td>\n",
       "      <td>27</td>\n",
       "      <td>9.508812e+05</td>\n",
       "      <td>773.703171</td>\n",
       "      <td>7.41</td>\n",
       "    </tr>\n",
       "    <tr>\n",
       "      <th>4</th>\n",
       "      <td>RJTT</td>\n",
       "      <td>1221</td>\n",
       "      <td>OMDB</td>\n",
       "      <td>0.645028</td>\n",
       "      <td>B77L</td>\n",
       "      <td>72779.497786</td>\n",
       "      <td>229910.433506</td>\n",
       "      <td>1418.160959</td>\n",
       "      <td>7.370945</td>\n",
       "      <td>1.455590</td>\n",
       "      <td>89518.782277</td>\n",
       "      <td>87.335397</td>\n",
       "      <td>1.782355</td>\n",
       "      <td>0.180672</td>\n",
       "      <td>126</td>\n",
       "      <td>28</td>\n",
       "      <td>5.083146e+06</td>\n",
       "      <td>1932.020450</td>\n",
       "      <td>10.82</td>\n",
       "    </tr>\n",
       "    <tr>\n",
       "      <th>...</th>\n",
       "      <td>...</td>\n",
       "      <td>...</td>\n",
       "      <td>...</td>\n",
       "      <td>...</td>\n",
       "      <td>...</td>\n",
       "      <td>...</td>\n",
       "      <td>...</td>\n",
       "      <td>...</td>\n",
       "      <td>...</td>\n",
       "      <td>...</td>\n",
       "      <td>...</td>\n",
       "      <td>...</td>\n",
       "      <td>...</td>\n",
       "      <td>...</td>\n",
       "      <td>...</td>\n",
       "      <td>...</td>\n",
       "      <td>...</td>\n",
       "      <td>...</td>\n",
       "      <td>...</td>\n",
       "    </tr>\n",
       "    <tr>\n",
       "      <th>271</th>\n",
       "      <td>KMIA</td>\n",
       "      <td>0</td>\n",
       "      <td>KMIA</td>\n",
       "      <td>0.751742</td>\n",
       "      <td>B77W</td>\n",
       "      <td>114219.191624</td>\n",
       "      <td>360818.426340</td>\n",
       "      <td>2563.752966</td>\n",
       "      <td>9.649549</td>\n",
       "      <td>2.284384</td>\n",
       "      <td>140489.605698</td>\n",
       "      <td>137.063030</td>\n",
       "      <td>2.797205</td>\n",
       "      <td>0.098361</td>\n",
       "      <td>289</td>\n",
       "      <td>32</td>\n",
       "      <td>2.248090e+03</td>\n",
       "      <td>0.000000</td>\n",
       "      <td>13.61</td>\n",
       "    </tr>\n",
       "    <tr>\n",
       "      <th>272</th>\n",
       "      <td>KMIA</td>\n",
       "      <td>0</td>\n",
       "      <td>KMIA</td>\n",
       "      <td>0.751742</td>\n",
       "      <td>B77W</td>\n",
       "      <td>114219.191624</td>\n",
       "      <td>360818.426340</td>\n",
       "      <td>2563.752966</td>\n",
       "      <td>9.649549</td>\n",
       "      <td>2.284384</td>\n",
       "      <td>140489.605698</td>\n",
       "      <td>137.063030</td>\n",
       "      <td>2.797205</td>\n",
       "      <td>0.098361</td>\n",
       "      <td>289</td>\n",
       "      <td>32</td>\n",
       "      <td>2.248090e+03</td>\n",
       "      <td>0.000000</td>\n",
       "      <td>13.61</td>\n",
       "    </tr>\n",
       "    <tr>\n",
       "      <th>273</th>\n",
       "      <td>LEBL</td>\n",
       "      <td>0</td>\n",
       "      <td>LEBL</td>\n",
       "      <td>0.698774</td>\n",
       "      <td>B77W</td>\n",
       "      <td>42317.352958</td>\n",
       "      <td>133680.517994</td>\n",
       "      <td>869.466243</td>\n",
       "      <td>6.217029</td>\n",
       "      <td>0.846347</td>\n",
       "      <td>52050.344138</td>\n",
       "      <td>50.780824</td>\n",
       "      <td>1.036343</td>\n",
       "      <td>0.098361</td>\n",
       "      <td>269</td>\n",
       "      <td>29</td>\n",
       "      <td>8.971847e+02</td>\n",
       "      <td>0.000000</td>\n",
       "      <td>5.89</td>\n",
       "    </tr>\n",
       "    <tr>\n",
       "      <th>274</th>\n",
       "      <td>HRYR</td>\n",
       "      <td>0</td>\n",
       "      <td>HRYR</td>\n",
       "      <td>0.606079</td>\n",
       "      <td>A332</td>\n",
       "      <td>26776.622897</td>\n",
       "      <td>84587.351733</td>\n",
       "      <td>374.152490</td>\n",
       "      <td>2.358692</td>\n",
       "      <td>0.535532</td>\n",
       "      <td>32935.246164</td>\n",
       "      <td>32.131947</td>\n",
       "      <td>0.655754</td>\n",
       "      <td>0.065972</td>\n",
       "      <td>163</td>\n",
       "      <td>12</td>\n",
       "      <td>9.667126e+02</td>\n",
       "      <td>0.000000</td>\n",
       "      <td>5.46</td>\n",
       "    </tr>\n",
       "    <tr>\n",
       "      <th>275</th>\n",
       "      <td>RKSI</td>\n",
       "      <td>0</td>\n",
       "      <td>RKSI</td>\n",
       "      <td>0.637657</td>\n",
       "      <td>B77W</td>\n",
       "      <td>72795.955755</td>\n",
       "      <td>229962.424229</td>\n",
       "      <td>1581.179032</td>\n",
       "      <td>7.253965</td>\n",
       "      <td>1.455919</td>\n",
       "      <td>89539.025578</td>\n",
       "      <td>87.355147</td>\n",
       "      <td>1.782758</td>\n",
       "      <td>0.098361</td>\n",
       "      <td>245</td>\n",
       "      <td>27</td>\n",
       "      <td>1.690900e+03</td>\n",
       "      <td>0.000000</td>\n",
       "      <td>9.21</td>\n",
       "    </tr>\n",
       "  </tbody>\n",
       "</table>\n",
       "<p>276 rows × 19 columns</p>\n",
       "</div>"
      ],
      "text/plain": [
       "    origin_airport  total_delegates destination_airport  assumed_load_factor  \\\n",
       "0             OMAA             8786                OMDB             0.529896   \n",
       "1             SBGR             3618                OMDB             0.787394   \n",
       "2             ZBAA             2640                OMDB             0.641342   \n",
       "3             WIII             1229                OMDB             0.637657   \n",
       "4             RJTT             1221                OMDB             0.645028   \n",
       "..             ...              ...                 ...                  ...   \n",
       "271           KMIA                0                KMIA             0.751742   \n",
       "272           KMIA                0                KMIA             0.751742   \n",
       "273           LEBL                0                LEBL             0.698774   \n",
       "274           HRYR                0                HRYR             0.606079   \n",
       "275           RKSI                0                RKSI             0.637657   \n",
       "\n",
       "    aircraft_type_icao  total_fuel_burn         co2_kg       nox_kg  \\\n",
       "0                 DH8D       466.979806    1475.189208     7.070074   \n",
       "1                 B77W    117028.001705  369691.457386  2653.651550   \n",
       "2                 B77L     52082.273957  164527.903430   961.016159   \n",
       "3                 B77W     52290.480217  165185.627004  1076.737713   \n",
       "4                 B77L     72779.497786  229910.433506  1418.160959   \n",
       "..                 ...              ...            ...          ...   \n",
       "271               B77W    114219.191624  360818.426340  2563.752966   \n",
       "272               B77W    114219.191624  360818.426340  2563.752966   \n",
       "273               B77W     42317.352958  133680.517994   869.466243   \n",
       "274               A332     26776.622897   84587.351733   374.152490   \n",
       "275               B77W     72795.955755  229962.424229  1581.179032   \n",
       "\n",
       "         hc_kg     oc_kg         h2o_kg      so2_kg  sulphates_kg  \\\n",
       "0     0.242829  0.009340     574.385162    0.560376      0.011436   \n",
       "1    11.064843  2.340560  143944.442097  140.433602      2.865992   \n",
       "2     6.623664  1.041645   64061.196967   62.498729      1.275484   \n",
       "3     7.272460  1.045810   64317.290666   62.748576      1.280583   \n",
       "4     7.370945  1.455590   89518.782277   87.335397      1.782355   \n",
       "..         ...       ...            ...         ...           ...   \n",
       "271   9.649549  2.284384  140489.605698  137.063030      2.797205   \n",
       "272   9.649549  2.284384  140489.605698  137.063030      2.797205   \n",
       "273   6.217029  0.846347   52050.344138   50.780824      1.036343   \n",
       "274   2.358692  0.535532   32935.246164   32.131947      0.655754   \n",
       "275   7.253965  1.455919   89539.025578   87.355147      1.782758   \n",
       "\n",
       "     Split Econ/Busi  Seats Economy  Seats Business  total_kg_co2  \\\n",
       "0           0.128205             36               5  3.172736e+05   \n",
       "1           0.098361            303              33  1.315651e+07   \n",
       "2           0.180672            125              28  4.811404e+06   \n",
       "3           0.098361            245              27  9.508812e+05   \n",
       "4           0.180672            126              28  5.083146e+06   \n",
       "..               ...            ...             ...           ...   \n",
       "271         0.098361            289              32  2.248090e+03   \n",
       "272         0.098361            289              32  2.248090e+03   \n",
       "273         0.098361            269              29  8.971847e+02   \n",
       "274         0.065972            163              12  9.667126e+02   \n",
       "275         0.098361            245              27  1.690900e+03   \n",
       "\n",
       "       pp_kg_co2  duration_hours  \n",
       "0      71.960449            0.44  \n",
       "1    1731.575913           13.91  \n",
       "2    1382.587424            8.27  \n",
       "3     773.703171            7.41  \n",
       "4    1932.020450           10.82  \n",
       "..           ...             ...  \n",
       "271     0.000000           13.61  \n",
       "272     0.000000           13.61  \n",
       "273     0.000000            5.89  \n",
       "274     0.000000            5.46  \n",
       "275     0.000000            9.21  \n",
       "\n",
       "[276 rows x 19 columns]"
      ]
     },
     "execution_count": 11,
     "metadata": {},
     "output_type": "execute_result"
    }
   ],
   "source": [
    "data_all"
   ]
  },
  {
   "cell_type": "code",
   "execution_count": 13,
   "metadata": {},
   "outputs": [
    {
     "data": {
      "text/plain": [
       "7"
      ]
     },
     "execution_count": 13,
     "metadata": {},
     "output_type": "execute_result"
    }
   ],
   "source": [
    "data_all['duration_hours'].isnull().sum()"
   ]
  },
  {
   "cell_type": "code",
   "execution_count": 15,
   "metadata": {},
   "outputs": [],
   "source": [
    "data_all.dropna(subset=['Seats Economy', 'Seats Business'], inplace=True)\n",
    "\n",
    "# Convert 'Seats Economy' and 'Seats Business' to integers\n",
    "data_all['Seats Economy'] = data_all['Seats Economy'].astype(int)\n",
    "data_all['Seats Business'] = data_all['Seats Business'].astype(int)\n",
    "\n",
    "# data_all['Seats Economy'] = data_all['Seats Economy'] * data_all['assumed_load_factor']\n",
    "# data_all['Seats Business'] = data_all['Seats Business'] * data_all['assumed_load_factor']\n"
   ]
  },
  {
   "cell_type": "markdown",
   "metadata": {},
   "source": [
    "Get latitude and longitude for origin and destination"
   ]
  },
  {
   "cell_type": "code",
   "execution_count": 16,
   "metadata": {},
   "outputs": [
    {
     "name": "stdout",
     "output_type": "stream",
     "text": [
      "airport miss\n",
      "airport miss\n",
      "airport miss\n"
     ]
    }
   ],
   "source": [
    "def get_coordinates(row, column_name):\n",
    "    airport_code = row[column_name]\n",
    "    airport_info = airports.get(airport_code)\n",
    "    if airport_info:\n",
    "        return pd.Series([airport_info['lat'], airport_info['lon']])\n",
    "    else:\n",
    "        print(\"airport miss\")\n",
    "        # print(data_all.loc[row])\n",
    "        return pd.Series([None, None])\n",
    "\n",
    "# Apply the function to get latitude and longitude for origin and destination airports\n",
    "data_all[['origin_lat', 'origin_lon']] = data_all.apply(lambda row: get_coordinates(row, 'origin_airport'), axis=1)\n",
    "data_all[['dest_lat', 'dest_lon']] = data_all.apply(lambda row: get_coordinates(row, 'destination_airport'), axis=1)\n"
   ]
  },
  {
   "cell_type": "markdown",
   "metadata": {},
   "source": [
    "Calculate distance between origin and destination"
   ]
  },
  {
   "cell_type": "code",
   "execution_count": 17,
   "metadata": {},
   "outputs": [
    {
     "data": {
      "text/html": [
       "<div>\n",
       "<style scoped>\n",
       "    .dataframe tbody tr th:only-of-type {\n",
       "        vertical-align: middle;\n",
       "    }\n",
       "\n",
       "    .dataframe tbody tr th {\n",
       "        vertical-align: top;\n",
       "    }\n",
       "\n",
       "    .dataframe thead th {\n",
       "        text-align: right;\n",
       "    }\n",
       "</style>\n",
       "<table border=\"1\" class=\"dataframe\">\n",
       "  <thead>\n",
       "    <tr style=\"text-align: right;\">\n",
       "      <th></th>\n",
       "      <th>origin_airport</th>\n",
       "      <th>total_delegates</th>\n",
       "      <th>destination_airport</th>\n",
       "      <th>assumed_load_factor</th>\n",
       "      <th>aircraft_type_icao</th>\n",
       "      <th>total_fuel_burn</th>\n",
       "      <th>co2_kg</th>\n",
       "      <th>nox_kg</th>\n",
       "      <th>hc_kg</th>\n",
       "      <th>oc_kg</th>\n",
       "      <th>...</th>\n",
       "      <th>Seats Economy</th>\n",
       "      <th>Seats Business</th>\n",
       "      <th>total_kg_co2</th>\n",
       "      <th>pp_kg_co2</th>\n",
       "      <th>duration_hours</th>\n",
       "      <th>origin_lat</th>\n",
       "      <th>origin_lon</th>\n",
       "      <th>dest_lat</th>\n",
       "      <th>dest_lon</th>\n",
       "      <th>distance_km</th>\n",
       "    </tr>\n",
       "  </thead>\n",
       "  <tbody>\n",
       "    <tr>\n",
       "      <th>0</th>\n",
       "      <td>OMAA</td>\n",
       "      <td>8786</td>\n",
       "      <td>OMDB</td>\n",
       "      <td>0.529896</td>\n",
       "      <td>DH8D</td>\n",
       "      <td>466.979806</td>\n",
       "      <td>1475.189208</td>\n",
       "      <td>7.070074</td>\n",
       "      <td>0.242829</td>\n",
       "      <td>0.009340</td>\n",
       "      <td>...</td>\n",
       "      <td>36</td>\n",
       "      <td>5</td>\n",
       "      <td>3.172736e+05</td>\n",
       "      <td>71.960449</td>\n",
       "      <td>0.44</td>\n",
       "      <td>24.433001</td>\n",
       "      <td>54.651100</td>\n",
       "      <td>25.2528</td>\n",
       "      <td>55.364399</td>\n",
       "      <td>115.950338</td>\n",
       "    </tr>\n",
       "    <tr>\n",
       "      <th>1</th>\n",
       "      <td>SBGR</td>\n",
       "      <td>3618</td>\n",
       "      <td>OMDB</td>\n",
       "      <td>0.787394</td>\n",
       "      <td>B77W</td>\n",
       "      <td>117028.001705</td>\n",
       "      <td>369691.457386</td>\n",
       "      <td>2653.651550</td>\n",
       "      <td>11.064843</td>\n",
       "      <td>2.340560</td>\n",
       "      <td>...</td>\n",
       "      <td>303</td>\n",
       "      <td>33</td>\n",
       "      <td>1.315651e+07</td>\n",
       "      <td>1731.575913</td>\n",
       "      <td>13.91</td>\n",
       "      <td>-23.435556</td>\n",
       "      <td>-46.473057</td>\n",
       "      <td>25.2528</td>\n",
       "      <td>55.364399</td>\n",
       "      <td>12217.959202</td>\n",
       "    </tr>\n",
       "    <tr>\n",
       "      <th>2</th>\n",
       "      <td>ZBAA</td>\n",
       "      <td>2640</td>\n",
       "      <td>OMDB</td>\n",
       "      <td>0.641342</td>\n",
       "      <td>B77L</td>\n",
       "      <td>52082.273957</td>\n",
       "      <td>164527.903430</td>\n",
       "      <td>961.016159</td>\n",
       "      <td>6.623664</td>\n",
       "      <td>1.041645</td>\n",
       "      <td>...</td>\n",
       "      <td>125</td>\n",
       "      <td>28</td>\n",
       "      <td>4.811404e+06</td>\n",
       "      <td>1382.587424</td>\n",
       "      <td>8.27</td>\n",
       "      <td>40.080101</td>\n",
       "      <td>116.584999</td>\n",
       "      <td>25.2528</td>\n",
       "      <td>55.364399</td>\n",
       "      <td>5855.097793</td>\n",
       "    </tr>\n",
       "  </tbody>\n",
       "</table>\n",
       "<p>3 rows × 24 columns</p>\n",
       "</div>"
      ],
      "text/plain": [
       "  origin_airport  total_delegates destination_airport  assumed_load_factor  \\\n",
       "0           OMAA             8786                OMDB             0.529896   \n",
       "1           SBGR             3618                OMDB             0.787394   \n",
       "2           ZBAA             2640                OMDB             0.641342   \n",
       "\n",
       "  aircraft_type_icao  total_fuel_burn         co2_kg       nox_kg      hc_kg  \\\n",
       "0               DH8D       466.979806    1475.189208     7.070074   0.242829   \n",
       "1               B77W    117028.001705  369691.457386  2653.651550  11.064843   \n",
       "2               B77L     52082.273957  164527.903430   961.016159   6.623664   \n",
       "\n",
       "      oc_kg  ...  Seats Economy  Seats Business  total_kg_co2    pp_kg_co2  \\\n",
       "0  0.009340  ...             36               5  3.172736e+05    71.960449   \n",
       "1  2.340560  ...            303              33  1.315651e+07  1731.575913   \n",
       "2  1.041645  ...            125              28  4.811404e+06  1382.587424   \n",
       "\n",
       "   duration_hours  origin_lat  origin_lon  dest_lat   dest_lon   distance_km  \n",
       "0            0.44   24.433001   54.651100   25.2528  55.364399    115.950338  \n",
       "1           13.91  -23.435556  -46.473057   25.2528  55.364399  12217.959202  \n",
       "2            8.27   40.080101  116.584999   25.2528  55.364399   5855.097793  \n",
       "\n",
       "[3 rows x 24 columns]"
      ]
     },
     "execution_count": 17,
     "metadata": {},
     "output_type": "execute_result"
    }
   ],
   "source": [
    "def calculate_distance(row):\n",
    "    origin_coord = (row['origin_lat'], row['origin_lon'])\n",
    "    dest_coord = (row['dest_lat'], row['dest_lon'])\n",
    "    return geodesic(origin_coord, dest_coord).kilometers\n",
    "\n",
    "# Drop rows with NaN values in latitude and longitude columns\n",
    "data_all.dropna(subset=['origin_lat', 'origin_lon', 'dest_lat', 'dest_lon'], inplace=True)\n",
    "\n",
    "# Apply the function to calculate distances\n",
    "data_all['distance_km'] = data_all.apply(calculate_distance, axis=1)\n",
    "\n",
    "data_all.iloc[:3]"
   ]
  },
  {
   "cell_type": "code",
   "execution_count": 18,
   "metadata": {},
   "outputs": [
    {
     "data": {
      "text/html": [
       "<div>\n",
       "<style scoped>\n",
       "    .dataframe tbody tr th:only-of-type {\n",
       "        vertical-align: middle;\n",
       "    }\n",
       "\n",
       "    .dataframe tbody tr th {\n",
       "        vertical-align: top;\n",
       "    }\n",
       "\n",
       "    .dataframe thead th {\n",
       "        text-align: right;\n",
       "    }\n",
       "</style>\n",
       "<table border=\"1\" class=\"dataframe\">\n",
       "  <thead>\n",
       "    <tr style=\"text-align: right;\">\n",
       "      <th></th>\n",
       "      <th>origin_airport</th>\n",
       "      <th>total_delegates</th>\n",
       "      <th>destination_airport</th>\n",
       "      <th>assumed_load_factor</th>\n",
       "      <th>aircraft_type_icao</th>\n",
       "      <th>total_fuel_burn</th>\n",
       "      <th>co2_kg</th>\n",
       "      <th>nox_kg</th>\n",
       "      <th>hc_kg</th>\n",
       "      <th>oc_kg</th>\n",
       "      <th>...</th>\n",
       "      <th>Seats Economy</th>\n",
       "      <th>Seats Business</th>\n",
       "      <th>total_kg_co2</th>\n",
       "      <th>pp_kg_co2</th>\n",
       "      <th>duration_hours</th>\n",
       "      <th>origin_lat</th>\n",
       "      <th>origin_lon</th>\n",
       "      <th>dest_lat</th>\n",
       "      <th>dest_lon</th>\n",
       "      <th>distance_km</th>\n",
       "    </tr>\n",
       "  </thead>\n",
       "  <tbody>\n",
       "    <tr>\n",
       "      <th>0</th>\n",
       "      <td>OMAA</td>\n",
       "      <td>8786</td>\n",
       "      <td>OMDB</td>\n",
       "      <td>0.529896</td>\n",
       "      <td>DH8D</td>\n",
       "      <td>466.979806</td>\n",
       "      <td>1475.189208</td>\n",
       "      <td>7.070074</td>\n",
       "      <td>0.242829</td>\n",
       "      <td>0.009340</td>\n",
       "      <td>...</td>\n",
       "      <td>36</td>\n",
       "      <td>5</td>\n",
       "      <td>3.172736e+05</td>\n",
       "      <td>71.960449</td>\n",
       "      <td>0.44</td>\n",
       "      <td>24.433001</td>\n",
       "      <td>54.651100</td>\n",
       "      <td>25.2528</td>\n",
       "      <td>55.364399</td>\n",
       "      <td>115.950338</td>\n",
       "    </tr>\n",
       "    <tr>\n",
       "      <th>1</th>\n",
       "      <td>SBGR</td>\n",
       "      <td>3618</td>\n",
       "      <td>OMDB</td>\n",
       "      <td>0.787394</td>\n",
       "      <td>B77W</td>\n",
       "      <td>117028.001705</td>\n",
       "      <td>369691.457386</td>\n",
       "      <td>2653.651550</td>\n",
       "      <td>11.064843</td>\n",
       "      <td>2.340560</td>\n",
       "      <td>...</td>\n",
       "      <td>303</td>\n",
       "      <td>33</td>\n",
       "      <td>1.315651e+07</td>\n",
       "      <td>1731.575913</td>\n",
       "      <td>13.91</td>\n",
       "      <td>-23.435556</td>\n",
       "      <td>-46.473057</td>\n",
       "      <td>25.2528</td>\n",
       "      <td>55.364399</td>\n",
       "      <td>12217.959202</td>\n",
       "    </tr>\n",
       "    <tr>\n",
       "      <th>2</th>\n",
       "      <td>ZBAA</td>\n",
       "      <td>2640</td>\n",
       "      <td>OMDB</td>\n",
       "      <td>0.641342</td>\n",
       "      <td>B77L</td>\n",
       "      <td>52082.273957</td>\n",
       "      <td>164527.903430</td>\n",
       "      <td>961.016159</td>\n",
       "      <td>6.623664</td>\n",
       "      <td>1.041645</td>\n",
       "      <td>...</td>\n",
       "      <td>125</td>\n",
       "      <td>28</td>\n",
       "      <td>4.811404e+06</td>\n",
       "      <td>1382.587424</td>\n",
       "      <td>8.27</td>\n",
       "      <td>40.080101</td>\n",
       "      <td>116.584999</td>\n",
       "      <td>25.2528</td>\n",
       "      <td>55.364399</td>\n",
       "      <td>5855.097793</td>\n",
       "    </tr>\n",
       "  </tbody>\n",
       "</table>\n",
       "<p>3 rows × 24 columns</p>\n",
       "</div>"
      ],
      "text/plain": [
       "  origin_airport  total_delegates destination_airport  assumed_load_factor  \\\n",
       "0           OMAA             8786                OMDB             0.529896   \n",
       "1           SBGR             3618                OMDB             0.787394   \n",
       "2           ZBAA             2640                OMDB             0.641342   \n",
       "\n",
       "  aircraft_type_icao  total_fuel_burn         co2_kg       nox_kg      hc_kg  \\\n",
       "0               DH8D       466.979806    1475.189208     7.070074   0.242829   \n",
       "1               B77W    117028.001705  369691.457386  2653.651550  11.064843   \n",
       "2               B77L     52082.273957  164527.903430   961.016159   6.623664   \n",
       "\n",
       "      oc_kg  ...  Seats Economy  Seats Business  total_kg_co2    pp_kg_co2  \\\n",
       "0  0.009340  ...             36               5  3.172736e+05    71.960449   \n",
       "1  2.340560  ...            303              33  1.315651e+07  1731.575913   \n",
       "2  1.041645  ...            125              28  4.811404e+06  1382.587424   \n",
       "\n",
       "   duration_hours  origin_lat  origin_lon  dest_lat   dest_lon   distance_km  \n",
       "0            0.44   24.433001   54.651100   25.2528  55.364399    115.950338  \n",
       "1           13.91  -23.435556  -46.473057   25.2528  55.364399  12217.959202  \n",
       "2            8.27   40.080101  116.584999   25.2528  55.364399   5855.097793  \n",
       "\n",
       "[3 rows x 24 columns]"
      ]
     },
     "execution_count": 18,
     "metadata": {},
     "output_type": "execute_result"
    }
   ],
   "source": [
    "dubai_airport = pd.DataFrame({'dest_lat_A': [airports.get('OMDB')['lat']],\n",
    "                     'origin_lon_A': [airports.get('OMDB')['lon']]})\n",
    "\n",
    "delegate_airports = data_all[['dest_lat','origin_lon']]\n",
    "\n",
    "# Function to calculate distance using geopy.distance\n",
    "def calculate_distance(row):\n",
    "    coord_A = (dubai_airport['dest_lat_A'].iloc[0], dubai_airport['origin_lon_A'].iloc[0])\n",
    "    coord_B = (row['dest_lat'], row['origin_lon'])\n",
    "    return geodesic(coord_A, coord_B).kilometers\n",
    "\n",
    "data_all.loc[data_all['origin_airport'] == data_all['destination_airport'], 'distance_km'] = delegate_airports.apply(calculate_distance,axis=1).astype(np.int64)\n",
    "data_all.iloc[:3]"
   ]
  },
  {
   "cell_type": "markdown",
   "metadata": {},
   "source": [
    "Calculate CO2 per person"
   ]
  },
  {
   "cell_type": "code",
   "execution_count": 19,
   "metadata": {},
   "outputs": [],
   "source": [
    "factor_business = 4.025\n",
    "\n",
    "data_all['total_seats'] = data_all['Seats Economy'] + data_all['Seats Business'] \n",
    "data_all['total_seats_factor_business'] = (data_all['Seats Economy'] + data_all['Seats Business'] * factor_business)\n",
    "\n",
    "data_all['economy_co2_pp'] = (data_all['co2_kg'] * data_all['Seats Economy'] / data_all['total_seats_factor_business']) / data_all['Seats Economy']\n",
    "data_all['business_co2_pp'] = (data_all['co2_kg'] * data_all['Seats Business'] * factor_business /  data_all['total_seats_factor_business']) / data_all['Seats Business']"
   ]
  },
  {
   "cell_type": "code",
   "execution_count": 23,
   "metadata": {},
   "outputs": [],
   "source": [
    "# Assuming data_all is your DataFrame containing the relevant columns\n",
    "\n",
    "# Count occurrences of each aircraft type before grouping\n",
    "occurrences = data_all['aircraft_type_icao'].value_counts().reset_index()\n",
    "occurrences.columns = ['aircraft_type_icao', 'occurrences']\n",
    "\n",
    "# Grouping by aircraft_type_icao and calculating the average of other columns\n",
    "grouped_data = data_all.groupby('aircraft_type_icao').agg({\n",
    "    'total_seats': lambda x: round(x.mean(), 1),\n",
    "    'distance_km': lambda x: round(x.mean(), 1),\n",
    "    'total_fuel_burn': lambda x: round(x.mean(), 1),\n",
    "    'duration_hours': lambda x: round(x.mean(),1)\n",
    "}).reset_index()\n",
    "\n",
    "# Merge the occurrences information with grouped_data\n",
    "grouped_data = pd.merge(grouped_data, occurrences, on='aircraft_type_icao', how='left')\n",
    "\n",
    "# print(grouped_data)"
   ]
  },
  {
   "cell_type": "code",
   "execution_count": 61,
   "metadata": {},
   "outputs": [
    {
     "data": {
      "text/html": [
       "<div>\n",
       "<style scoped>\n",
       "    .dataframe tbody tr th:only-of-type {\n",
       "        vertical-align: middle;\n",
       "    }\n",
       "\n",
       "    .dataframe tbody tr th {\n",
       "        vertical-align: top;\n",
       "    }\n",
       "\n",
       "    .dataframe thead th {\n",
       "        text-align: right;\n",
       "    }\n",
       "</style>\n",
       "<table border=\"1\" class=\"dataframe\">\n",
       "  <thead>\n",
       "    <tr style=\"text-align: right;\">\n",
       "      <th></th>\n",
       "      <th>aircraft_type_icao</th>\n",
       "      <th>total_seats</th>\n",
       "      <th>distance_km</th>\n",
       "      <th>total_fuel_burn</th>\n",
       "      <th>duration_hours</th>\n",
       "      <th>occurrences</th>\n",
       "      <th>is_short_haul</th>\n",
       "    </tr>\n",
       "  </thead>\n",
       "  <tbody>\n",
       "    <tr>\n",
       "      <th>0</th>\n",
       "      <td>A20N</td>\n",
       "      <td>100.0</td>\n",
       "      <td>2338.7</td>\n",
       "      <td>5729.6</td>\n",
       "      <td>2.9</td>\n",
       "      <td>3</td>\n",
       "      <td>True</td>\n",
       "    </tr>\n",
       "    <tr>\n",
       "      <th>1</th>\n",
       "      <td>A21N</td>\n",
       "      <td>124.0</td>\n",
       "      <td>2576.2</td>\n",
       "      <td>8190.8</td>\n",
       "      <td>3.4</td>\n",
       "      <td>4</td>\n",
       "      <td>False</td>\n",
       "    </tr>\n",
       "    <tr>\n",
       "      <th>2</th>\n",
       "      <td>A310</td>\n",
       "      <td>128.0</td>\n",
       "      <td>874.5</td>\n",
       "      <td>5839.9</td>\n",
       "      <td>1.4</td>\n",
       "      <td>1</td>\n",
       "      <td>True</td>\n",
       "    </tr>\n",
       "  </tbody>\n",
       "</table>\n",
       "</div>"
      ],
      "text/plain": [
       "  aircraft_type_icao  total_seats  distance_km  total_fuel_burn  \\\n",
       "0               A20N        100.0       2338.7           5729.6   \n",
       "1               A21N        124.0       2576.2           8190.8   \n",
       "2               A310        128.0        874.5           5839.9   \n",
       "\n",
       "   duration_hours  occurrences  is_short_haul  \n",
       "0             2.9            3           True  \n",
       "1             3.4            4          False  \n",
       "2             1.4            1           True  "
      ]
     },
     "execution_count": 61,
     "metadata": {},
     "output_type": "execute_result"
    }
   ],
   "source": [
    "# Define a function to check if the duration is less than 3 hours\n",
    "def is_short_haul(duration_hours):\n",
    "    # Check if duration_hours is not NaN and less than 3 hours\n",
    "    return (not pd.isna(duration_hours)) and duration_hours < 3\n",
    "\n",
    "# Apply the function to create a new column 'is_short_haul' based on 'duration_hours'\n",
    "grouped_data['is_short_haul'] = grouped_data['duration_hours'].apply(is_short_haul)\n",
    "# data_all['is_short_haul'] = data_all['duration_hours'].apply(is_short_haul)\n",
    "grouped_data.iloc[:3]"
   ]
  },
  {
   "cell_type": "code",
   "execution_count": 27,
   "metadata": {},
   "outputs": [],
   "source": [
    "# # Definitely long haul : A359, A388, B77L, B77W, B788,\n",
    "# short_medium_aircraft = ['A20N','A21N','B38M','B734','B748','B752','B763','BCS3','DC87','E190','RJ85','E290','B733',]\n",
    "# short_haul_aircraft = ['A310','A319','A320','A321','A333','AT72','AT76','AT75','B735','B737','B738','B737','E190','B762','CRJ2','D228','DH8D','E145','E170',\n",
    "#                        'A20N','A21N','B734','B752','B763','DC87','RJ85']\n",
    "\n",
    "# # Define a function to check if the aircraft_type_icao is in the short_haul_aircraft list\n",
    "# def is_short_haul(aircraft_type):\n",
    "#     return aircraft_type in short_haul_aircraft\n",
    "\n",
    "# # Apply the function to create a new column 'is_short_haul'\n",
    "# grouped_data['is_short_haul'] = grouped_data['aircraft_type_icao'].apply(is_short_haul)\n",
    "# data_all['is_short_haul'] = data_all['aircraft_type_icao'].apply(is_short_haul)"
   ]
  },
  {
   "cell_type": "code",
   "execution_count": 62,
   "metadata": {},
   "outputs": [
    {
     "data": {
      "text/html": [
       "<div>\n",
       "<style scoped>\n",
       "    .dataframe tbody tr th:only-of-type {\n",
       "        vertical-align: middle;\n",
       "    }\n",
       "\n",
       "    .dataframe tbody tr th {\n",
       "        vertical-align: top;\n",
       "    }\n",
       "\n",
       "    .dataframe thead th {\n",
       "        text-align: right;\n",
       "    }\n",
       "</style>\n",
       "<table border=\"1\" class=\"dataframe\">\n",
       "  <thead>\n",
       "    <tr style=\"text-align: right;\">\n",
       "      <th></th>\n",
       "      <th>aircraft_type_icao</th>\n",
       "      <th>total_seats</th>\n",
       "      <th>distance_km</th>\n",
       "      <th>total_fuel_burn</th>\n",
       "      <th>duration_hours</th>\n",
       "      <th>occurrences</th>\n",
       "      <th>is_short_haul</th>\n",
       "    </tr>\n",
       "  </thead>\n",
       "  <tbody>\n",
       "    <tr>\n",
       "      <th>0</th>\n",
       "      <td>A20N</td>\n",
       "      <td>100.0</td>\n",
       "      <td>2338.7</td>\n",
       "      <td>5729.6</td>\n",
       "      <td>2.9</td>\n",
       "      <td>3</td>\n",
       "      <td>True</td>\n",
       "    </tr>\n",
       "    <tr>\n",
       "      <th>2</th>\n",
       "      <td>A310</td>\n",
       "      <td>128.0</td>\n",
       "      <td>874.5</td>\n",
       "      <td>5839.9</td>\n",
       "      <td>1.4</td>\n",
       "      <td>1</td>\n",
       "      <td>True</td>\n",
       "    </tr>\n",
       "    <tr>\n",
       "      <th>3</th>\n",
       "      <td>A319</td>\n",
       "      <td>92.0</td>\n",
       "      <td>1494.0</td>\n",
       "      <td>4740.8</td>\n",
       "      <td>2.1</td>\n",
       "      <td>6</td>\n",
       "      <td>True</td>\n",
       "    </tr>\n",
       "    <tr>\n",
       "      <th>4</th>\n",
       "      <td>A320</td>\n",
       "      <td>102.6</td>\n",
       "      <td>1904.2</td>\n",
       "      <td>4761.9</td>\n",
       "      <td>2.1</td>\n",
       "      <td>10</td>\n",
       "      <td>True</td>\n",
       "    </tr>\n",
       "    <tr>\n",
       "      <th>7</th>\n",
       "      <td>A333</td>\n",
       "      <td>132.4</td>\n",
       "      <td>1988.3</td>\n",
       "      <td>13425.3</td>\n",
       "      <td>2.6</td>\n",
       "      <td>7</td>\n",
       "      <td>True</td>\n",
       "    </tr>\n",
       "    <tr>\n",
       "      <th>10</th>\n",
       "      <td>AT72</td>\n",
       "      <td>46.0</td>\n",
       "      <td>286.2</td>\n",
       "      <td>519.4</td>\n",
       "      <td>0.8</td>\n",
       "      <td>1</td>\n",
       "      <td>True</td>\n",
       "    </tr>\n",
       "    <tr>\n",
       "      <th>11</th>\n",
       "      <td>AT75</td>\n",
       "      <td>48.0</td>\n",
       "      <td>101.0</td>\n",
       "      <td>298.9</td>\n",
       "      <td>0.4</td>\n",
       "      <td>1</td>\n",
       "      <td>True</td>\n",
       "    </tr>\n",
       "    <tr>\n",
       "      <th>12</th>\n",
       "      <td>AT76</td>\n",
       "      <td>45.8</td>\n",
       "      <td>2228.6</td>\n",
       "      <td>636.5</td>\n",
       "      <td>1.1</td>\n",
       "      <td>4</td>\n",
       "      <td>True</td>\n",
       "    </tr>\n",
       "    <tr>\n",
       "      <th>16</th>\n",
       "      <td>B735</td>\n",
       "      <td>104.0</td>\n",
       "      <td>296.2</td>\n",
       "      <td>1350.5</td>\n",
       "      <td>0.6</td>\n",
       "      <td>2</td>\n",
       "      <td>True</td>\n",
       "    </tr>\n",
       "    <tr>\n",
       "      <th>17</th>\n",
       "      <td>B737</td>\n",
       "      <td>126.3</td>\n",
       "      <td>1495.3</td>\n",
       "      <td>4737.6</td>\n",
       "      <td>2.1</td>\n",
       "      <td>3</td>\n",
       "      <td>True</td>\n",
       "    </tr>\n",
       "    <tr>\n",
       "      <th>21</th>\n",
       "      <td>B752</td>\n",
       "      <td>120.0</td>\n",
       "      <td>1209.3</td>\n",
       "      <td>5213.2</td>\n",
       "      <td>1.6</td>\n",
       "      <td>2</td>\n",
       "      <td>True</td>\n",
       "    </tr>\n",
       "    <tr>\n",
       "      <th>22</th>\n",
       "      <td>B762</td>\n",
       "      <td>160.0</td>\n",
       "      <td>942.4</td>\n",
       "      <td>6074.9</td>\n",
       "      <td>1.4</td>\n",
       "      <td>1</td>\n",
       "      <td>True</td>\n",
       "    </tr>\n",
       "    <tr>\n",
       "      <th>29</th>\n",
       "      <td>CRJ2</td>\n",
       "      <td>31.0</td>\n",
       "      <td>536.4</td>\n",
       "      <td>1058.0</td>\n",
       "      <td>1.0</td>\n",
       "      <td>1</td>\n",
       "      <td>True</td>\n",
       "    </tr>\n",
       "    <tr>\n",
       "      <th>30</th>\n",
       "      <td>D228</td>\n",
       "      <td>13.0</td>\n",
       "      <td>247.9</td>\n",
       "      <td>162.6</td>\n",
       "      <td>0.8</td>\n",
       "      <td>1</td>\n",
       "      <td>True</td>\n",
       "    </tr>\n",
       "    <tr>\n",
       "      <th>31</th>\n",
       "      <td>DC87</td>\n",
       "      <td>204.0</td>\n",
       "      <td>1632.5</td>\n",
       "      <td>9939.8</td>\n",
       "      <td>2.3</td>\n",
       "      <td>1</td>\n",
       "      <td>True</td>\n",
       "    </tr>\n",
       "    <tr>\n",
       "      <th>32</th>\n",
       "      <td>DH8D</td>\n",
       "      <td>41.0</td>\n",
       "      <td>116.0</td>\n",
       "      <td>467.0</td>\n",
       "      <td>0.4</td>\n",
       "      <td>1</td>\n",
       "      <td>True</td>\n",
       "    </tr>\n",
       "    <tr>\n",
       "      <th>33</th>\n",
       "      <td>E145</td>\n",
       "      <td>30.0</td>\n",
       "      <td>434.1</td>\n",
       "      <td>971.3</td>\n",
       "      <td>0.9</td>\n",
       "      <td>1</td>\n",
       "      <td>True</td>\n",
       "    </tr>\n",
       "    <tr>\n",
       "      <th>34</th>\n",
       "      <td>E170</td>\n",
       "      <td>49.0</td>\n",
       "      <td>725.3</td>\n",
       "      <td>1609.1</td>\n",
       "      <td>1.0</td>\n",
       "      <td>1</td>\n",
       "      <td>True</td>\n",
       "    </tr>\n",
       "    <tr>\n",
       "      <th>35</th>\n",
       "      <td>E190</td>\n",
       "      <td>61.7</td>\n",
       "      <td>2103.5</td>\n",
       "      <td>2796.8</td>\n",
       "      <td>1.7</td>\n",
       "      <td>6</td>\n",
       "      <td>True</td>\n",
       "    </tr>\n",
       "  </tbody>\n",
       "</table>\n",
       "</div>"
      ],
      "text/plain": [
       "   aircraft_type_icao  total_seats  distance_km  total_fuel_burn  \\\n",
       "0                A20N        100.0       2338.7           5729.6   \n",
       "2                A310        128.0        874.5           5839.9   \n",
       "3                A319         92.0       1494.0           4740.8   \n",
       "4                A320        102.6       1904.2           4761.9   \n",
       "7                A333        132.4       1988.3          13425.3   \n",
       "10               AT72         46.0        286.2            519.4   \n",
       "11               AT75         48.0        101.0            298.9   \n",
       "12               AT76         45.8       2228.6            636.5   \n",
       "16               B735        104.0        296.2           1350.5   \n",
       "17               B737        126.3       1495.3           4737.6   \n",
       "21               B752        120.0       1209.3           5213.2   \n",
       "22               B762        160.0        942.4           6074.9   \n",
       "29               CRJ2         31.0        536.4           1058.0   \n",
       "30               D228         13.0        247.9            162.6   \n",
       "31               DC87        204.0       1632.5           9939.8   \n",
       "32               DH8D         41.0        116.0            467.0   \n",
       "33               E145         30.0        434.1            971.3   \n",
       "34               E170         49.0        725.3           1609.1   \n",
       "35               E190         61.7       2103.5           2796.8   \n",
       "\n",
       "    duration_hours  occurrences  is_short_haul  \n",
       "0              2.9            3           True  \n",
       "2              1.4            1           True  \n",
       "3              2.1            6           True  \n",
       "4              2.1           10           True  \n",
       "7              2.6            7           True  \n",
       "10             0.8            1           True  \n",
       "11             0.4            1           True  \n",
       "12             1.1            4           True  \n",
       "16             0.6            2           True  \n",
       "17             2.1            3           True  \n",
       "21             1.6            2           True  \n",
       "22             1.4            1           True  \n",
       "29             1.0            1           True  \n",
       "30             0.8            1           True  \n",
       "31             2.3            1           True  \n",
       "32             0.4            1           True  \n",
       "33             0.9            1           True  \n",
       "34             1.0            1           True  \n",
       "35             1.7            6           True  "
      ]
     },
     "execution_count": 62,
     "metadata": {},
     "output_type": "execute_result"
    }
   ],
   "source": [
    "# data_all[data_all['is_short_haul'] == True]\n",
    "grouped_data[grouped_data['is_short_haul'] == True]"
   ]
  },
  {
   "cell_type": "markdown",
   "metadata": {},
   "source": [
    "Assign delegate number to flight from hub-airport to Dubai"
   ]
  },
  {
   "cell_type": "code",
   "execution_count": 63,
   "metadata": {},
   "outputs": [],
   "source": [
    "data_all['total_delegats_inc_hub'] = data_all['total_delegates']"
   ]
  },
  {
   "cell_type": "code",
   "execution_count": 64,
   "metadata": {},
   "outputs": [],
   "source": [
    "\n",
    "occurrence_count = {}\n",
    "\n",
    "# Replace zeros in the value column with the nth occurrence value for each reference value\n",
    "for index, row in data_all.iterrows():\n",
    "    if row['total_delegates'] == 0:\n",
    "        reference_value = row['destination_airport']\n",
    "        if reference_value not in occurrence_count:\n",
    "            occurrence_count[reference_value] = 0\n",
    "        else:\n",
    "            occurrence_count[reference_value] += 1\n",
    "        nth_occurrence = occurrence_count[reference_value]\n",
    "        replacement_value = data_all[data_all['destination_airport'] == reference_value]['total_delegates'].iloc[nth_occurrence]\n",
    "        data_all.at[index, 'total_delegats_inc_hub'] = replacement_value\n"
   ]
  },
  {
   "cell_type": "code",
   "execution_count": 65,
   "metadata": {},
   "outputs": [
    {
     "name": "stdout",
     "output_type": "stream",
     "text": [
      "Total delegates:  79872\n",
      "Total delegates with people who have to travel twice:  96413\n"
     ]
    }
   ],
   "source": [
    "print('Total delegates: ',data_all['total_delegates'].sum())\n",
    "print('Total delegates with people who have to travel twice: ',data_all['total_delegats_inc_hub'].sum())"
   ]
  },
  {
   "cell_type": "markdown",
   "metadata": {},
   "source": [
    "## 1.1 Calculating CO2 Emission"
   ]
  },
  {
   "cell_type": "code",
   "execution_count": 66,
   "metadata": {},
   "outputs": [],
   "source": [
    "data_all['total_co2'] = (data_all['total_delegats_inc_hub'] / (data_all['Seats Business'] + data_all['Seats Economy'])) * data_all['co2_kg'] * 2 # two directions"
   ]
  },
  {
   "cell_type": "code",
   "execution_count": 67,
   "metadata": {},
   "outputs": [
    {
     "data": {
      "text/html": [
       "<div>\n",
       "<style scoped>\n",
       "    .dataframe tbody tr th:only-of-type {\n",
       "        vertical-align: middle;\n",
       "    }\n",
       "\n",
       "    .dataframe tbody tr th {\n",
       "        vertical-align: top;\n",
       "    }\n",
       "\n",
       "    .dataframe thead th {\n",
       "        text-align: right;\n",
       "    }\n",
       "</style>\n",
       "<table border=\"1\" class=\"dataframe\">\n",
       "  <thead>\n",
       "    <tr style=\"text-align: right;\">\n",
       "      <th></th>\n",
       "      <th>origin_airport</th>\n",
       "      <th>total_delegates</th>\n",
       "      <th>destination_airport</th>\n",
       "      <th>assumed_load_factor</th>\n",
       "      <th>aircraft_type_icao</th>\n",
       "      <th>total_fuel_burn</th>\n",
       "      <th>co2_kg</th>\n",
       "      <th>nox_kg</th>\n",
       "      <th>hc_kg</th>\n",
       "      <th>oc_kg</th>\n",
       "      <th>...</th>\n",
       "      <th>dest_lat</th>\n",
       "      <th>dest_lon</th>\n",
       "      <th>distance_km</th>\n",
       "      <th>total_seats</th>\n",
       "      <th>total_seats_factor_business</th>\n",
       "      <th>economy_co2_pp</th>\n",
       "      <th>business_co2_pp</th>\n",
       "      <th>is_short_haul</th>\n",
       "      <th>total_delegats_inc_hub</th>\n",
       "      <th>total_co2</th>\n",
       "    </tr>\n",
       "  </thead>\n",
       "  <tbody>\n",
       "    <tr>\n",
       "      <th>0</th>\n",
       "      <td>OMAA</td>\n",
       "      <td>8786</td>\n",
       "      <td>OMDB</td>\n",
       "      <td>0.529896</td>\n",
       "      <td>DH8D</td>\n",
       "      <td>466.979806</td>\n",
       "      <td>1475.189208</td>\n",
       "      <td>7.070074</td>\n",
       "      <td>0.242829</td>\n",
       "      <td>0.009340</td>\n",
       "      <td>...</td>\n",
       "      <td>25.252800</td>\n",
       "      <td>55.364399</td>\n",
       "      <td>115.950338</td>\n",
       "      <td>41</td>\n",
       "      <td>56.125</td>\n",
       "      <td>26.283995</td>\n",
       "      <td>105.793079</td>\n",
       "      <td>True</td>\n",
       "      <td>8786</td>\n",
       "      <td>6.322445e+05</td>\n",
       "    </tr>\n",
       "    <tr>\n",
       "      <th>1</th>\n",
       "      <td>SBGR</td>\n",
       "      <td>3618</td>\n",
       "      <td>OMDB</td>\n",
       "      <td>0.787394</td>\n",
       "      <td>B77W</td>\n",
       "      <td>117028.001705</td>\n",
       "      <td>369691.457386</td>\n",
       "      <td>2653.651550</td>\n",
       "      <td>11.064843</td>\n",
       "      <td>2.340560</td>\n",
       "      <td>...</td>\n",
       "      <td>25.252800</td>\n",
       "      <td>55.364399</td>\n",
       "      <td>12217.959202</td>\n",
       "      <td>336</td>\n",
       "      <td>435.825</td>\n",
       "      <td>848.256657</td>\n",
       "      <td>3414.233043</td>\n",
       "      <td>False</td>\n",
       "      <td>3618</td>\n",
       "      <td>7.961570e+06</td>\n",
       "    </tr>\n",
       "    <tr>\n",
       "      <th>2</th>\n",
       "      <td>ZBAA</td>\n",
       "      <td>2640</td>\n",
       "      <td>OMDB</td>\n",
       "      <td>0.641342</td>\n",
       "      <td>B77L</td>\n",
       "      <td>52082.273957</td>\n",
       "      <td>164527.903430</td>\n",
       "      <td>961.016159</td>\n",
       "      <td>6.623664</td>\n",
       "      <td>1.041645</td>\n",
       "      <td>...</td>\n",
       "      <td>25.252800</td>\n",
       "      <td>55.364399</td>\n",
       "      <td>5855.097793</td>\n",
       "      <td>153</td>\n",
       "      <td>237.700</td>\n",
       "      <td>692.166190</td>\n",
       "      <td>2785.968916</td>\n",
       "      <td>False</td>\n",
       "      <td>2640</td>\n",
       "      <td>5.677826e+06</td>\n",
       "    </tr>\n",
       "    <tr>\n",
       "      <th>3</th>\n",
       "      <td>WIII</td>\n",
       "      <td>1229</td>\n",
       "      <td>OMDB</td>\n",
       "      <td>0.637657</td>\n",
       "      <td>B77W</td>\n",
       "      <td>52290.480217</td>\n",
       "      <td>165185.627004</td>\n",
       "      <td>1076.737713</td>\n",
       "      <td>7.272460</td>\n",
       "      <td>1.045810</td>\n",
       "      <td>...</td>\n",
       "      <td>25.252800</td>\n",
       "      <td>55.364399</td>\n",
       "      <td>6543.696070</td>\n",
       "      <td>272</td>\n",
       "      <td>353.675</td>\n",
       "      <td>467.054858</td>\n",
       "      <td>1879.895805</td>\n",
       "      <td>False</td>\n",
       "      <td>1229</td>\n",
       "      <td>1.492744e+06</td>\n",
       "    </tr>\n",
       "    <tr>\n",
       "      <th>4</th>\n",
       "      <td>RJTT</td>\n",
       "      <td>1221</td>\n",
       "      <td>OMDB</td>\n",
       "      <td>0.645028</td>\n",
       "      <td>B77L</td>\n",
       "      <td>72779.497786</td>\n",
       "      <td>229910.433506</td>\n",
       "      <td>1418.160959</td>\n",
       "      <td>7.370945</td>\n",
       "      <td>1.455590</td>\n",
       "      <td>...</td>\n",
       "      <td>25.252800</td>\n",
       "      <td>55.364399</td>\n",
       "      <td>7949.313707</td>\n",
       "      <td>154</td>\n",
       "      <td>238.700</td>\n",
       "      <td>963.177350</td>\n",
       "      <td>3876.788835</td>\n",
       "      <td>False</td>\n",
       "      <td>1221</td>\n",
       "      <td>3.645723e+06</td>\n",
       "    </tr>\n",
       "    <tr>\n",
       "      <th>...</th>\n",
       "      <td>...</td>\n",
       "      <td>...</td>\n",
       "      <td>...</td>\n",
       "      <td>...</td>\n",
       "      <td>...</td>\n",
       "      <td>...</td>\n",
       "      <td>...</td>\n",
       "      <td>...</td>\n",
       "      <td>...</td>\n",
       "      <td>...</td>\n",
       "      <td>...</td>\n",
       "      <td>...</td>\n",
       "      <td>...</td>\n",
       "      <td>...</td>\n",
       "      <td>...</td>\n",
       "      <td>...</td>\n",
       "      <td>...</td>\n",
       "      <td>...</td>\n",
       "      <td>...</td>\n",
       "      <td>...</td>\n",
       "      <td>...</td>\n",
       "    </tr>\n",
       "    <tr>\n",
       "      <th>271</th>\n",
       "      <td>KMIA</td>\n",
       "      <td>0</td>\n",
       "      <td>KMIA</td>\n",
       "      <td>0.751742</td>\n",
       "      <td>B77W</td>\n",
       "      <td>114219.191624</td>\n",
       "      <td>360818.426340</td>\n",
       "      <td>2563.752966</td>\n",
       "      <td>9.649549</td>\n",
       "      <td>2.284384</td>\n",
       "      <td>...</td>\n",
       "      <td>25.795361</td>\n",
       "      <td>-80.290116</td>\n",
       "      <td>12625.000000</td>\n",
       "      <td>321</td>\n",
       "      <td>417.800</td>\n",
       "      <td>863.615190</td>\n",
       "      <td>3476.051139</td>\n",
       "      <td>False</td>\n",
       "      <td>74</td>\n",
       "      <td>1.663587e+05</td>\n",
       "    </tr>\n",
       "    <tr>\n",
       "      <th>272</th>\n",
       "      <td>KMIA</td>\n",
       "      <td>0</td>\n",
       "      <td>KMIA</td>\n",
       "      <td>0.751742</td>\n",
       "      <td>B77W</td>\n",
       "      <td>114219.191624</td>\n",
       "      <td>360818.426340</td>\n",
       "      <td>2563.752966</td>\n",
       "      <td>9.649549</td>\n",
       "      <td>2.284384</td>\n",
       "      <td>...</td>\n",
       "      <td>25.795361</td>\n",
       "      <td>-80.290116</td>\n",
       "      <td>12625.000000</td>\n",
       "      <td>321</td>\n",
       "      <td>417.800</td>\n",
       "      <td>863.615190</td>\n",
       "      <td>3476.051139</td>\n",
       "      <td>False</td>\n",
       "      <td>0</td>\n",
       "      <td>0.000000e+00</td>\n",
       "    </tr>\n",
       "    <tr>\n",
       "      <th>273</th>\n",
       "      <td>LEBL</td>\n",
       "      <td>0</td>\n",
       "      <td>LEBL</td>\n",
       "      <td>0.698774</td>\n",
       "      <td>B77W</td>\n",
       "      <td>42317.352958</td>\n",
       "      <td>133680.517994</td>\n",
       "      <td>869.466243</td>\n",
       "      <td>6.217029</td>\n",
       "      <td>0.846347</td>\n",
       "      <td>...</td>\n",
       "      <td>41.297100</td>\n",
       "      <td>2.078460</td>\n",
       "      <td>5183.000000</td>\n",
       "      <td>298</td>\n",
       "      <td>385.725</td>\n",
       "      <td>346.569494</td>\n",
       "      <td>1394.942213</td>\n",
       "      <td>False</td>\n",
       "      <td>0</td>\n",
       "      <td>0.000000e+00</td>\n",
       "    </tr>\n",
       "    <tr>\n",
       "      <th>274</th>\n",
       "      <td>HRYR</td>\n",
       "      <td>0</td>\n",
       "      <td>HRYR</td>\n",
       "      <td>0.606079</td>\n",
       "      <td>A332</td>\n",
       "      <td>26776.622897</td>\n",
       "      <td>84587.351733</td>\n",
       "      <td>374.152490</td>\n",
       "      <td>2.358692</td>\n",
       "      <td>0.535532</td>\n",
       "      <td>...</td>\n",
       "      <td>-1.968630</td>\n",
       "      <td>30.139500</td>\n",
       "      <td>4058.000000</td>\n",
       "      <td>175</td>\n",
       "      <td>211.300</td>\n",
       "      <td>400.318749</td>\n",
       "      <td>1611.282966</td>\n",
       "      <td>False</td>\n",
       "      <td>233</td>\n",
       "      <td>2.252440e+05</td>\n",
       "    </tr>\n",
       "    <tr>\n",
       "      <th>275</th>\n",
       "      <td>RKSI</td>\n",
       "      <td>0</td>\n",
       "      <td>RKSI</td>\n",
       "      <td>0.637657</td>\n",
       "      <td>B77W</td>\n",
       "      <td>72795.955755</td>\n",
       "      <td>229962.424229</td>\n",
       "      <td>1581.179032</td>\n",
       "      <td>7.253965</td>\n",
       "      <td>1.455919</td>\n",
       "      <td>...</td>\n",
       "      <td>37.469101</td>\n",
       "      <td>126.450996</td>\n",
       "      <td>6741.000000</td>\n",
       "      <td>272</td>\n",
       "      <td>353.675</td>\n",
       "      <td>650.208311</td>\n",
       "      <td>2617.088450</td>\n",
       "      <td>False</td>\n",
       "      <td>133</td>\n",
       "      <td>2.248897e+05</td>\n",
       "    </tr>\n",
       "  </tbody>\n",
       "</table>\n",
       "<p>273 rows × 31 columns</p>\n",
       "</div>"
      ],
      "text/plain": [
       "    origin_airport  total_delegates destination_airport  assumed_load_factor  \\\n",
       "0             OMAA             8786                OMDB             0.529896   \n",
       "1             SBGR             3618                OMDB             0.787394   \n",
       "2             ZBAA             2640                OMDB             0.641342   \n",
       "3             WIII             1229                OMDB             0.637657   \n",
       "4             RJTT             1221                OMDB             0.645028   \n",
       "..             ...              ...                 ...                  ...   \n",
       "271           KMIA                0                KMIA             0.751742   \n",
       "272           KMIA                0                KMIA             0.751742   \n",
       "273           LEBL                0                LEBL             0.698774   \n",
       "274           HRYR                0                HRYR             0.606079   \n",
       "275           RKSI                0                RKSI             0.637657   \n",
       "\n",
       "    aircraft_type_icao  total_fuel_burn         co2_kg       nox_kg  \\\n",
       "0                 DH8D       466.979806    1475.189208     7.070074   \n",
       "1                 B77W    117028.001705  369691.457386  2653.651550   \n",
       "2                 B77L     52082.273957  164527.903430   961.016159   \n",
       "3                 B77W     52290.480217  165185.627004  1076.737713   \n",
       "4                 B77L     72779.497786  229910.433506  1418.160959   \n",
       "..                 ...              ...            ...          ...   \n",
       "271               B77W    114219.191624  360818.426340  2563.752966   \n",
       "272               B77W    114219.191624  360818.426340  2563.752966   \n",
       "273               B77W     42317.352958  133680.517994   869.466243   \n",
       "274               A332     26776.622897   84587.351733   374.152490   \n",
       "275               B77W     72795.955755  229962.424229  1581.179032   \n",
       "\n",
       "         hc_kg     oc_kg  ...   dest_lat    dest_lon   distance_km  \\\n",
       "0     0.242829  0.009340  ...  25.252800   55.364399    115.950338   \n",
       "1    11.064843  2.340560  ...  25.252800   55.364399  12217.959202   \n",
       "2     6.623664  1.041645  ...  25.252800   55.364399   5855.097793   \n",
       "3     7.272460  1.045810  ...  25.252800   55.364399   6543.696070   \n",
       "4     7.370945  1.455590  ...  25.252800   55.364399   7949.313707   \n",
       "..         ...       ...  ...        ...         ...           ...   \n",
       "271   9.649549  2.284384  ...  25.795361  -80.290116  12625.000000   \n",
       "272   9.649549  2.284384  ...  25.795361  -80.290116  12625.000000   \n",
       "273   6.217029  0.846347  ...  41.297100    2.078460   5183.000000   \n",
       "274   2.358692  0.535532  ...  -1.968630   30.139500   4058.000000   \n",
       "275   7.253965  1.455919  ...  37.469101  126.450996   6741.000000   \n",
       "\n",
       "     total_seats  total_seats_factor_business  economy_co2_pp  \\\n",
       "0             41                       56.125       26.283995   \n",
       "1            336                      435.825      848.256657   \n",
       "2            153                      237.700      692.166190   \n",
       "3            272                      353.675      467.054858   \n",
       "4            154                      238.700      963.177350   \n",
       "..           ...                          ...             ...   \n",
       "271          321                      417.800      863.615190   \n",
       "272          321                      417.800      863.615190   \n",
       "273          298                      385.725      346.569494   \n",
       "274          175                      211.300      400.318749   \n",
       "275          272                      353.675      650.208311   \n",
       "\n",
       "     business_co2_pp  is_short_haul  total_delegats_inc_hub     total_co2  \n",
       "0         105.793079           True                    8786  6.322445e+05  \n",
       "1        3414.233043          False                    3618  7.961570e+06  \n",
       "2        2785.968916          False                    2640  5.677826e+06  \n",
       "3        1879.895805          False                    1229  1.492744e+06  \n",
       "4        3876.788835          False                    1221  3.645723e+06  \n",
       "..               ...            ...                     ...           ...  \n",
       "271      3476.051139          False                      74  1.663587e+05  \n",
       "272      3476.051139          False                       0  0.000000e+00  \n",
       "273      1394.942213          False                       0  0.000000e+00  \n",
       "274      1611.282966          False                     233  2.252440e+05  \n",
       "275      2617.088450          False                     133  2.248897e+05  \n",
       "\n",
       "[273 rows x 31 columns]"
      ]
     },
     "execution_count": 67,
     "metadata": {},
     "output_type": "execute_result"
    }
   ],
   "source": [
    "data_all"
   ]
  },
  {
   "cell_type": "markdown",
   "metadata": {},
   "source": [
    "## 1.2 Long and short haul flights"
   ]
  },
  {
   "cell_type": "code",
   "execution_count": 69,
   "metadata": {},
   "outputs": [
    {
     "data": {
      "text/plain": [
       "array(['A20N', 'A310', 'A319', 'A320', 'A333', 'AT72', 'AT75', 'AT76',\n",
       "       'B735', 'B737', 'B752', 'B762', 'CRJ2', 'D228', 'DC87', 'DH8D',\n",
       "       'E145', 'E170', 'E190'], dtype=object)"
      ]
     },
     "execution_count": 69,
     "metadata": {},
     "output_type": "execute_result"
    }
   ],
   "source": [
    "short_haul_mask = grouped_data['duration_hours'].apply(is_short_haul)\n",
    "\n",
    "# Get the array of aircraft_type_icao where the condition is True\n",
    "short_haul_aircraft = grouped_data.loc[short_haul_mask, 'aircraft_type_icao'].values\n",
    "# short_haul_aircraft"
   ]
  },
  {
   "cell_type": "code",
   "execution_count": 72,
   "metadata": {},
   "outputs": [
    {
     "data": {
      "image/png": "[encoded data removed]",
      "text/plain": [
       "<Figure size 2000x800 with 4 Axes>"
      ]
     },
     "metadata": {},
     "output_type": "display_data"
    }
   ],
   "source": [
    "\n",
    "# Create a figure with subplots\n",
    "fig, axs = plt.subplots(4, 1, figsize=(20, 8), sharex=True)\n",
    "\n",
    "# Plotting duration_hours\n",
    "for index, row in grouped_data.iterrows():\n",
    "    color = 'lightcoral' if row['aircraft_type_icao'] not in short_haul_aircraft else 'red'\n",
    "    axs[0].bar(row['aircraft_type_icao'], row['duration_hours'], color=color)\n",
    "\n",
    "axs[0].set_title('Average Duration by Aircraft Type')\n",
    "axs[0].set_ylabel('Duration (hours)')\n",
    "axs[0].axhline(y=3, color='red', linestyle='--', linewidth=1)  # Adding the limit line at 8 hours\n",
    "\n",
    "# Plotting total seats\n",
    "for index, row in grouped_data.iterrows():\n",
    "    color = 'lightblue' if row['aircraft_type_icao'] not in short_haul_aircraft else 'blue'\n",
    "    axs[1].bar(row['aircraft_type_icao'], row['total_seats'], color=color)\n",
    "\n",
    "axs[1].set_title('Average Total Seats by Aircraft Type')\n",
    "axs[1].set_ylabel('Total Seats')\n",
    "axs[1].axhline(y=200, color='red', linestyle='--', linewidth=1)  # Adding the limit line at 200\n",
    "\n",
    "# Plotting distance\n",
    "for index, row in grouped_data.iterrows():\n",
    "    color = 'lightgreen' if row['aircraft_type_icao'] not in short_haul_aircraft else 'green'\n",
    "    axs[2].bar(row['aircraft_type_icao'], row['distance_km'], color=color)\n",
    "\n",
    "axs[2].set_title('Average Distance by Aircraft Type')\n",
    "axs[2].set_ylabel('Distance (km)')\n",
    "axs[2].axhline(y=3000, color='red', linestyle='--', linewidth=1)  # Adding the limit line at 3000\n",
    "\n",
    "# Plotting total delegates\n",
    "for aircraft_type in total_delegates_sum.index:\n",
    "    color = 'peachpuff' if aircraft_type not in short_haul_aircraft else 'orange'\n",
    "    axs[3].bar(aircraft_type, total_delegates_sum[aircraft_type], color=color)\n",
    "\n",
    "axs[3].set_title('Sum of Total Delegates by Aircraft Type')\n",
    "axs[3].set_xlabel('Aircraft Type')\n",
    "axs[3].set_ylabel('Sum of Total Delegates')\n",
    "\n",
    "# Calculate the sum of total delegates for each aircraft type\n",
    "total_delegates_sum = data_all.groupby('aircraft_type_icao')['total_delegates'].sum()\n",
    "\n",
    "# Rotate x-axis labels for better readability if necessary\n",
    "# plt.setp(axs[3].xaxis.get_majorticklabels(), rotation=45)\n",
    "\n",
    "# Adjust layout to prevent overlap\n",
    "plt.tight_layout()\n",
    "\n",
    "# Show the plot\n",
    "plt.show()"
   ]
  },
  {
   "cell_type": "code",
   "execution_count": 250,
   "metadata": {},
   "outputs": [
    {
     "data": {
      "image/png": "[encoded data removed]",
      "text/plain": [
       "<Figure size 2000x600 with 3 Axes>"
      ]
     },
     "metadata": {},
     "output_type": "display_data"
    }
   ],
   "source": [
    "# Create a figure with subplots\n",
    "fig, axs = plt.subplots(3, 1, figsize=(20, 6),sharex=True)\n",
    "\n",
    "\n",
    "# # Plotting total seats\n",
    "# for index, row in grouped_data.iterrows():\n",
    "#     color = 'lightblue' if row['aircraft_type_icao'] not in short_haul_aircraft else 'blue'\n",
    "#     axs[0].bar(row['aircraft_type_icao'], row['total_seats'], color=color)\n",
    "\n",
    "# axs[0].set_title('Average Total Seats by Aircraft Type')\n",
    "# # axs[0].set_xlabel('Aircraft Type')\n",
    "# axs[0].set_ylabel('Total Seats')\n",
    "# axs[0].axhline(y=200, color='red', linestyle='--', linewidth=1)  # Adding the limit line at 200\n",
    "# Plotting duration_hours\n",
    "for index, row in grouped_data.iterrows():\n",
    "    color = 'lightblue' if row['aircraft_type_icao'] not in short_haul_aircraft else 'lightblue'\n",
    "    axs[0].bar(row['aircraft_type_icao'], row['duration_hours'], color=color)\n",
    "\n",
    "axs[0].set_title('Average Duration by Aircraft Type')\n",
    "axs[0].set_ylabel('Duration (hours)')\n",
    "axs[0].axhline(y=3, color='red', linestyle='--', linewidth=1)  # Adding the limit line at 8 hours\n",
    "\n",
    "\n",
    "\n",
    "# Plotting distance\n",
    "for index, row in grouped_data.iterrows():\n",
    "    color = 'lightgreen' if row['aircraft_type_icao'] not in short_haul_aircraft else 'green'\n",
    "    axs[1].bar(row['aircraft_type_icao'], row['distance_km'], color=color)\n",
    "\n",
    "axs[1].set_title('Average Distance by Aircraft Type')\n",
    "# axs[1].set_xlabel('Aircraft Type')\n",
    "axs[1].set_ylabel('Distance (km)')\n",
    "# axs[1].axhline(y=3000, color='red', linestyle='--', linewidth=1)  # Adding the limit line at 3000\n",
    "\n",
    "\n",
    "for aircraft_type in total_delegates_sum.index:\n",
    "    color = 'peachpuff' if aircraft_type not in short_haul_aircraft else 'orange'  # Using lightsalmon for short haul\n",
    "    axs[2].bar(aircraft_type, total_delegates_sum[aircraft_type], color=color)\n",
    "\n",
    "axs[2].set_title('Sum of Total Delegates by Aircraft Type')\n",
    "axs[2].set_xlabel('Aircraft Type')\n",
    "axs[2].set_ylabel('Sum of Transported Delegates')\n",
    "#axs[2].tick_params(axis='x', which='both', bottom=True, top=False)  # Show x-axis ticks only for axs[3]\n",
    "\n",
    "# Calculate the sum of total delegates for each aircraft type\n",
    "total_delegates_sum = data_all.groupby('aircraft_type_icao')['total_delegates'].sum()\n",
    "\n",
    "\n",
    "\n",
    "\n",
    "\n",
    "\n",
    "# Rotate x-axis labels for better readability if necessary\n",
    "# plt.setp(axs[3].xaxis.get_majorticklabels(), rotation=45)\n",
    "\n",
    "# Adjust layout to prevent overlap\n",
    "plt.tight_layout()\n",
    "\n",
    "# Show the plot\n",
    "plt.show()\n"
   ]
  },
  {
   "cell_type": "code",
   "execution_count": 254,
   "metadata": {},
   "outputs": [
    {
     "data": {
      "image/png": "[encoded data removed]",
      "text/plain": [
       "<Figure size 2000x400 with 1 Axes>"
      ]
     },
     "metadata": {},
     "output_type": "display_data"
    }
   ],
   "source": [
    "import matplotlib.pyplot as plt\n",
    "\n",
    "# Create a figure with subplots\n",
    "fig, axs = plt.subplots(1, 1, figsize=(20, 4), sharex=True)\n",
    "\n",
    "# Plotting duration_hours\n",
    "for index, row in grouped_data.iterrows():\n",
    "    color = 'lightblue' if row['aircraft_type_icao'] not in short_haul_aircraft else 'blue'\n",
    "    axs.bar(row['aircraft_type_icao'], row['duration_hours'], color=color)\n",
    "\n",
    "axs.set_title('Average Duration by Aircraft Type')\n",
    "axs.set_ylabel('Duration (hours)')\n",
    "axs.axhline(y=3, color='red', linestyle='--', linewidth=1)  # Adding the limit line at 8 hours\n",
    "\n",
    "# Adjust layout to prevent overlap\n",
    "plt.tight_layout()\n",
    "\n",
    "# Show the plot\n",
    "plt.show()\n"
   ]
  },
  {
   "cell_type": "code",
   "execution_count": 88,
   "metadata": {},
   "outputs": [
    {
     "data": {
      "text/plain": [
       "26"
      ]
     },
     "execution_count": 88,
     "metadata": {},
     "output_type": "execute_result"
    }
   ],
   "source": [
    "grouped_data.loc[data_all['is_short_haul'] == False,'aircraft_type_icao'].count()"
   ]
  },
  {
   "cell_type": "code",
   "execution_count": null,
   "metadata": {},
   "outputs": [
    {
     "data": {
      "application/vnd.plotly.v1+json": {
       "config": {
        "plotlyServerURL": "https://plot.ly"
       },
       "data": [
        {
         "marker": {
          "color": "blue"
         },
         "name": "Business Short Haul",
         "type": "bar",
         "x": [
          0,
          1,
          2
         ],
         "y": [
          3325301.632500158,
          2836533.0542286206,
          2588485.8589966847
         ]
        },
        {
         "marker": {
          "color": "lightblue"
         },
         "name": "Economy Short Haul",
         "type": "bar",
         "x": [
          0,
          1,
          2
         ],
         "y": [
          7084481.117078481,
          6819261.807432879,
          6564650.410720055
         ]
        },
        {
         "marker": {
          "color": "green"
         },
         "name": "Business Long Haul",
         "type": "bar",
         "x": [
          0,
          1,
          2
         ],
         "y": [
          27897169.787907157,
          25323379.27774872,
          24377979.644637886
         ]
        },
        {
         "marker": {
          "color": "lightgreen"
         },
         "name": "Economy Long Haul",
         "type": "bar",
         "x": [
          0,
          1,
          2
         ],
         "y": [
          59434299.32813806,
          60879513.77349636,
          61824913.40660719
         ]
        }
       ],
       "layout": {
        "barmode": "stack",
        "height": 500,
        "legend": {
         "x": 1.02,
         "y": 1
        },
        "template": {
         "data": {
          "bar": [
           {
            "error_x": {
             "color": "#2a3f5f"
            },
            "error_y": {
             "color": "#2a3f5f"
            },
            "marker": {
             "line": {
              "color": "#E5ECF6",
              "width": 0.5
             },
             "pattern": {
              "fillmode": "overlay",
              "size": 10,
              "solidity": 0.2
             }
            },
            "type": "bar"
           }
          ],
          "barpolar": [
           {
            "marker": {
             "line": {
              "color": "#E5ECF6",
              "width": 0.5
             },
             "pattern": {
              "fillmode": "overlay",
              "size": 10,
              "solidity": 0.2
             }
            },
            "type": "barpolar"
           }
          ],
          "carpet": [
           {
            "aaxis": {
             "endlinecolor": "#2a3f5f",
             "gridcolor": "white",
             "linecolor": "white",
             "minorgridcolor": "white",
             "startlinecolor": "#2a3f5f"
            },
            "baxis": {
             "endlinecolor": "#2a3f5f",
             "gridcolor": "white",
             "linecolor": "white",
             "minorgridcolor": "white",
             "startlinecolor": "#2a3f5f"
            },
            "type": "carpet"
           }
          ],
          "choropleth": [
           {
            "colorbar": {
             "outlinewidth": 0,
             "ticks": ""
            },
            "type": "choropleth"
           }
          ],
          "contour": [
           {
            "colorbar": {
             "outlinewidth": 0,
             "ticks": ""
            },
            "colorscale": [
             [
              0,
              "#0d0887"
             ],
             [
              0.1111111111111111,
              "#46039f"
             ],
             [
              0.2222222222222222,
              "#7201a8"
             ],
             [
              0.3333333333333333,
              "#9c179e"
             ],
             [
              0.4444444444444444,
              "#bd3786"
             ],
             [
              0.5555555555555556,
              "#d8576b"
             ],
             [
              0.6666666666666666,
              "#ed7953"
             ],
             [
              0.7777777777777778,
              "#fb9f3a"
             ],
             [
              0.8888888888888888,
              "#fdca26"
             ],
             [
              1,
              "#f0f921"
             ]
            ],
            "type": "contour"
           }
          ],
          "contourcarpet": [
           {
            "colorbar": {
             "outlinewidth": 0,
             "ticks": ""
            },
            "type": "contourcarpet"
           }
          ],
          "heatmap": [
           {
            "colorbar": {
             "outlinewidth": 0,
             "ticks": ""
            },
            "colorscale": [
             [
              0,
              "#0d0887"
             ],
             [
              0.1111111111111111,
              "#46039f"
             ],
             [
              0.2222222222222222,
              "#7201a8"
             ],
             [
              0.3333333333333333,
              "#9c179e"
             ],
             [
              0.4444444444444444,
              "#bd3786"
             ],
             [
              0.5555555555555556,
              "#d8576b"
             ],
             [
              0.6666666666666666,
              "#ed7953"
             ],
             [
              0.7777777777777778,
              "#fb9f3a"
             ],
             [
              0.8888888888888888,
              "#fdca26"
             ],
             [
              1,
              "#f0f921"
             ]
            ],
            "type": "heatmap"
           }
          ],
          "heatmapgl": [
           {
            "colorbar": {
             "outlinewidth": 0,
             "ticks": ""
            },
            "colorscale": [
             [
              0,
              "#0d0887"
             ],
             [
              0.1111111111111111,
              "#46039f"
             ],
             [
              0.2222222222222222,
              "#7201a8"
             ],
             [
              0.3333333333333333,
              "#9c179e"
             ],
             [
              0.4444444444444444,
              "#bd3786"
             ],
             [
              0.5555555555555556,
              "#d8576b"
             ],
             [
              0.6666666666666666,
              "#ed7953"
             ],
             [
              0.7777777777777778,
              "#fb9f3a"
             ],
             [
              0.8888888888888888,
              "#fdca26"
             ],
             [
              1,
              "#f0f921"
             ]
            ],
            "type": "heatmapgl"
           }
          ],
          "histogram": [
           {
            "marker": {
             "pattern": {
              "fillmode": "overlay",
              "size": 10,
              "solidity": 0.2
             }
            },
            "type": "histogram"
           }
          ],
          "histogram2d": [
           {
            "colorbar": {
             "outlinewidth": 0,
             "ticks": ""
            },
            "colorscale": [
             [
              0,
              "#0d0887"
             ],
             [
              0.1111111111111111,
              "#46039f"
             ],
             [
              0.2222222222222222,
              "#7201a8"
             ],
             [
              0.3333333333333333,
              "#9c179e"
             ],
             [
              0.4444444444444444,
              "#bd3786"
             ],
             [
              0.5555555555555556,
              "#d8576b"
             ],
             [
              0.6666666666666666,
              "#ed7953"
             ],
             [
              0.7777777777777778,
              "#fb9f3a"
             ],
             [
              0.8888888888888888,
              "#fdca26"
             ],
             [
              1,
              "#f0f921"
             ]
            ],
            "type": "histogram2d"
           }
          ],
          "histogram2dcontour": [
           {
            "colorbar": {
             "outlinewidth": 0,
             "ticks": ""
            },
            "colorscale": [
             [
              0,
              "#0d0887"
             ],
             [
              0.1111111111111111,
              "#46039f"
             ],
             [
              0.2222222222222222,
              "#7201a8"
             ],
             [
              0.3333333333333333,
              "#9c179e"
             ],
             [
              0.4444444444444444,
              "#bd3786"
             ],
             [
              0.5555555555555556,
              "#d8576b"
             ],
             [
              0.6666666666666666,
              "#ed7953"
             ],
             [
              0.7777777777777778,
              "#fb9f3a"
             ],
             [
              0.8888888888888888,
              "#fdca26"
             ],
             [
              1,
              "#f0f921"
             ]
            ],
            "type": "histogram2dcontour"
           }
          ],
          "mesh3d": [
           {
            "colorbar": {
             "outlinewidth": 0,
             "ticks": ""
            },
            "type": "mesh3d"
           }
          ],
          "parcoords": [
           {
            "line": {
             "colorbar": {
              "outlinewidth": 0,
              "ticks": ""
             }
            },
            "type": "parcoords"
           }
          ],
          "pie": [
           {
            "automargin": true,
            "type": "pie"
           }
          ],
          "scatter": [
           {
            "fillpattern": {
             "fillmode": "overlay",
             "size": 10,
             "solidity": 0.2
            },
            "type": "scatter"
           }
          ],
          "scatter3d": [
           {
            "line": {
             "colorbar": {
              "outlinewidth": 0,
              "ticks": ""
             }
            },
            "marker": {
             "colorbar": {
              "outlinewidth": 0,
              "ticks": ""
             }
            },
            "type": "scatter3d"
           }
          ],
          "scattercarpet": [
           {
            "marker": {
             "colorbar": {
              "outlinewidth": 0,
              "ticks": ""
             }
            },
            "type": "scattercarpet"
           }
          ],
          "scattergeo": [
           {
            "marker": {
             "colorbar": {
              "outlinewidth": 0,
              "ticks": ""
             }
            },
            "type": "scattergeo"
           }
          ],
          "scattergl": [
           {
            "marker": {
             "colorbar": {
              "outlinewidth": 0,
              "ticks": ""
             }
            },
            "type": "scattergl"
           }
          ],
          "scattermapbox": [
           {
            "marker": {
             "colorbar": {
              "outlinewidth": 0,
              "ticks": ""
             }
            },
            "type": "scattermapbox"
           }
          ],
          "scatterpolar": [
           {
            "marker": {
             "colorbar": {
              "outlinewidth": 0,
              "ticks": ""
             }
            },
            "type": "scatterpolar"
           }
          ],
          "scatterpolargl": [
           {
            "marker": {
             "colorbar": {
              "outlinewidth": 0,
              "ticks": ""
             }
            },
            "type": "scatterpolargl"
           }
          ],
          "scatterternary": [
           {
            "marker": {
             "colorbar": {
              "outlinewidth": 0,
              "ticks": ""
             }
            },
            "type": "scatterternary"
           }
          ],
          "surface": [
           {
            "colorbar": {
             "outlinewidth": 0,
             "ticks": ""
            },
            "colorscale": [
             [
              0,
              "#0d0887"
             ],
             [
              0.1111111111111111,
              "#46039f"
             ],
             [
              0.2222222222222222,
              "#7201a8"
             ],
             [
              0.3333333333333333,
              "#9c179e"
             ],
             [
              0.4444444444444444,
              "#bd3786"
             ],
             [
              0.5555555555555556,
              "#d8576b"
             ],
             [
              0.6666666666666666,
              "#ed7953"
             ],
             [
              0.7777777777777778,
              "#fb9f3a"
             ],
             [
              0.8888888888888888,
              "#fdca26"
             ],
             [
              1,
              "#f0f921"
             ]
            ],
            "type": "surface"
           }
          ],
          "table": [
           {
            "cells": {
             "fill": {
              "color": "#EBF0F8"
             },
             "line": {
              "color": "white"
             }
            },
            "header": {
             "fill": {
              "color": "#C8D4E3"
             },
             "line": {
              "color": "white"
             }
            },
            "type": "table"
           }
          ]
         },
         "layout": {
          "annotationdefaults": {
           "arrowcolor": "#2a3f5f",
           "arrowhead": 0,
           "arrowwidth": 1
          },
          "autotypenumbers": "strict",
          "coloraxis": {
           "colorbar": {
            "outlinewidth": 0,
            "ticks": ""
           }
          },
          "colorscale": {
           "diverging": [
            [
             0,
             "#8e0152"
            ],
            [
             0.1,
             "#c51b7d"
            ],
            [
             0.2,
             "#de77ae"
            ],
            [
             0.3,
             "#f1b6da"
            ],
            [
             0.4,
             "#fde0ef"
            ],
            [
             0.5,
             "#f7f7f7"
            ],
            [
             0.6,
             "#e6f5d0"
            ],
            [
             0.7,
             "#b8e186"
            ],
            [
             0.8,
             "#7fbc41"
            ],
            [
             0.9,
             "#4d9221"
            ],
            [
             1,
             "#276419"
            ]
           ],
           "sequential": [
            [
             0,
             "#0d0887"
            ],
            [
             0.1111111111111111,
             "#46039f"
            ],
            [
             0.2222222222222222,
             "#7201a8"
            ],
            [
             0.3333333333333333,
             "#9c179e"
            ],
            [
             0.4444444444444444,
             "#bd3786"
            ],
            [
             0.5555555555555556,
             "#d8576b"
            ],
            [
             0.6666666666666666,
             "#ed7953"
            ],
            [
             0.7777777777777778,
             "#fb9f3a"
            ],
            [
             0.8888888888888888,
             "#fdca26"
            ],
            [
             1,
             "#f0f921"
            ]
           ],
           "sequentialminus": [
            [
             0,
             "#0d0887"
            ],
            [
             0.1111111111111111,
             "#46039f"
            ],
            [
             0.2222222222222222,
             "#7201a8"
            ],
            [
             0.3333333333333333,
             "#9c179e"
            ],
            [
             0.4444444444444444,
             "#bd3786"
            ],
            [
             0.5555555555555556,
             "#d8576b"
            ],
            [
             0.6666666666666666,
             "#ed7953"
            ],
            [
             0.7777777777777778,
             "#fb9f3a"
            ],
            [
             0.8888888888888888,
             "#fdca26"
            ],
            [
             1,
             "#f0f921"
            ]
           ]
          },
          "colorway": [
           "#636efa",
           "#EF553B",
           "#00cc96",
           "#ab63fa",
           "#FFA15A",
           "#19d3f3",
           "#FF6692",
           "#B6E880",
           "#FF97FF",
           "#FECB52"
          ],
          "font": {
           "color": "#2a3f5f"
          },
          "geo": {
           "bgcolor": "white",
           "lakecolor": "white",
           "landcolor": "#E5ECF6",
           "showlakes": true,
           "showland": true,
           "subunitcolor": "white"
          },
          "hoverlabel": {
           "align": "left"
          },
          "hovermode": "closest",
          "mapbox": {
           "style": "light"
          },
          "paper_bgcolor": "white",
          "plot_bgcolor": "#E5ECF6",
          "polar": {
           "angularaxis": {
            "gridcolor": "white",
            "linecolor": "white",
            "ticks": ""
           },
           "bgcolor": "#E5ECF6",
           "radialaxis": {
            "gridcolor": "white",
            "linecolor": "white",
            "ticks": ""
           }
          },
          "scene": {
           "xaxis": {
            "backgroundcolor": "#E5ECF6",
            "gridcolor": "white",
            "gridwidth": 2,
            "linecolor": "white",
            "showbackground": true,
            "ticks": "",
            "zerolinecolor": "white"
           },
           "yaxis": {
            "backgroundcolor": "#E5ECF6",
            "gridcolor": "white",
            "gridwidth": 2,
            "linecolor": "white",
            "showbackground": true,
            "ticks": "",
            "zerolinecolor": "white"
           },
           "zaxis": {
            "backgroundcolor": "#E5ECF6",
            "gridcolor": "white",
            "gridwidth": 2,
            "linecolor": "white",
            "showbackground": true,
            "ticks": "",
            "zerolinecolor": "white"
           }
          },
          "shapedefaults": {
           "line": {
            "color": "#2a3f5f"
           }
          },
          "ternary": {
           "aaxis": {
            "gridcolor": "white",
            "linecolor": "white",
            "ticks": ""
           },
           "baxis": {
            "gridcolor": "white",
            "linecolor": "white",
            "ticks": ""
           },
           "bgcolor": "#E5ECF6",
           "caxis": {
            "gridcolor": "white",
            "linecolor": "white",
            "ticks": ""
           }
          },
          "title": {
           "x": 0.05
          },
          "xaxis": {
           "automargin": true,
           "gridcolor": "white",
           "linecolor": "white",
           "ticks": "",
           "title": {
            "standoff": 15
           },
           "zerolinecolor": "white",
           "zerolinewidth": 2
          },
          "yaxis": {
           "automargin": true,
           "gridcolor": "white",
           "linecolor": "white",
           "ticks": "",
           "title": {
            "standoff": 15
           },
           "zerolinecolor": "white",
           "zerolinewidth": 2
          }
         }
        },
        "title": {
         "text": "Stacked Flight Occurrences for Different Scenarios"
        },
        "width": 800,
        "xaxis": {
         "tickmode": "array",
         "ticktext": [
          "Baseline",
          "Short",
          "Medium"
         ],
         "tickvals": [
          0,
          1,
          2
         ]
        },
        "yaxis": {
         "title": {
          "text": "Total CO2 emission [kg]"
         }
        }
       }
      }
     },
     "metadata": {},
     "output_type": "display_data"
    }
   ],
   "source": [
    "# Define offset for annotation\n",
    "annotation_offset = 10\n",
    "\n",
    "# Example data\n",
    "business_short_haul = [baseline_short_business, change_short_business, change_short_business_new]  # Occurrences for BSH: Baseline, Short, Medium\n",
    "economy_short_haul = [baseline_short_economy, change_short_economy, change_short_economy_new]  # Occurrences for ESH: Baseline, Short, Medium\n",
    "business_long_haul = [baseline_long_business, change_long_business, change_long_business_new]  # Occurrences for BSH: Baseline, Short, Medium\n",
    "economy_long_haul = [baseline_long_economy, change_long_economy, change_long_economy_new]  # Occurrences for ESH: Baseline, Short, Medium\n",
    "scenarios = ['Baseline', 'Short', 'Medium']\n",
    "\n",
    "# Calculate total at the top of each column\n",
    "total_baseline = baseline_short_business + baseline_short_economy + baseline_long_business + baseline_long_economy\n",
    "total_short = change_short_business + change_short_economy + change_long_business + change_long_economy\n",
    "total_medium = change_short_business_new + change_short_economy_new + change_long_business_new + change_long_economy_new\n",
    "\n",
    "# Calculate total CO2 reduction\n",
    "total_reduction_short = total_baseline - total_short\n",
    "total_reduction_medium = total_short - total_medium\n",
    "\n",
    "# Define the width of the bars\n",
    "bar_width = 0.35\n",
    "\n",
    "# Set the positions of the bars on the x-axis\n",
    "x = np.arange(len(scenarios))\n",
    "\n",
    "# Plotting\n",
    "fig = go.Figure()\n",
    "\n",
    "fig.add_trace(go.Bar(x=x, y=business_short_haul, name='Business Short Haul', marker_color='blue'))\n",
    "fig.add_trace(go.Bar(x=x, y=economy_short_haul, name='Economy Short Haul', marker_color='lightblue'))\n",
    "fig.add_trace(go.Bar(x=x, y=business_long_haul, name='Business Long Haul', marker_color='green'))\n",
    "fig.add_trace(go.Bar(x=x, y=economy_long_haul, name='Economy Long Haul', marker_color='lightgreen'))\n",
    "\n",
    "# # Displaying reduction as total CO2 reduction\n",
    "# for i in range(1, len(scenarios)):\n",
    "#     reduction_percentage = (total_reduction_short / total_baseline) * 100 if scenarios[i] == 'Short' else (total_reduction_medium / total_short) * 100\n",
    "#     rounded_percentage = round(reduction_percentage, 2)\n",
    "#     fig.add_annotation(x=x[i], y=sum([business_short_haul[i], economy_short_haul[i], business_long_haul[i], economy_long_haul[i]]) + 5,\n",
    "#                        text=f\"Total reduction: {rounded_percentage}%\",\n",
    "#                        showarrow=False, xanchor='center', yanchor='bottom')\n",
    "\n",
    "# # Displaying reduction as total CO2 reduction\n",
    "# for i in range(1, len(scenarios)):\n",
    "#     reduction_percentage_short = (1 - total_reduction_short / total_baseline) * 100 if scenarios[i] == 'Short' else (1 - total_reduction_medium / total_short) * 100\n",
    "#     rounded_percentage_short = round(reduction_percentage_short, 2)\n",
    "    \n",
    "#     reduction_percentage_long = (1 - total_reduction_long / total_baseline) * 100 if scenarios[i] == 'Medium' else (1 - total_reduction_medium / total_medium) * 100\n",
    "#     rounded_percentage_long = round(reduction_percentage_long, 2)\n",
    "    \n",
    "#     fig.add_annotation(x=i, y=sum([business_short_haul[i], economy_short_haul[i], business_long_haul[i], economy_long_haul[i]]) + annotation_offset,\n",
    "#                        text=f\"Total reduction: {rounded_percentage_short}% (Short), {rounded_percentage_long}% (Long)\",\n",
    "#                        showarrow=False, xanchor='center', yanchor='bottom')\n",
    "\n",
    "\n",
    "# Adding labels and title\n",
    "fig.update_layout(\n",
    "    xaxis=dict(tickmode='array', tickvals=x, ticktext=scenarios),\n",
    "    yaxis=dict(title='Total CO2 emission [kg]'),\n",
    "    title='Stacked Flight Occurrences for Different Scenarios',\n",
    "    barmode='stack',\n",
    "    legend=dict(x=1.02, y=1),\n",
    "    width=800,  # Adjust plot width\n",
    "    height=500  # Adjust plot height\n",
    ")\n",
    "\n",
    "fig.show()\n"
   ]
  },
  {
   "cell_type": "code",
   "execution_count": 96,
   "metadata": {},
   "outputs": [
    {
     "data": {
      "text/plain": [
       "202216.61552421094"
      ]
     },
     "execution_count": 96,
     "metadata": {},
     "output_type": "execute_result"
    }
   ],
   "source": [
    "data_all.loc[data_all['is_short_haul'] == True,'distance_km'].sum()"
   ]
  },
  {
   "cell_type": "code",
   "execution_count": 84,
   "metadata": {},
   "outputs": [
    {
     "data": {
      "text/plain": [
       "47620"
      ]
     },
     "execution_count": 84,
     "metadata": {},
     "output_type": "execute_result"
    }
   ],
   "source": [
    "data_all.loc[data_all['is_short_haul'] == False,'total_delegates'].sum()"
   ]
  },
  {
   "cell_type": "code",
   "execution_count": 94,
   "metadata": {},
   "outputs": [
    {
     "data": {
      "text/plain": [
       "1301060.4271685062"
      ]
     },
     "execution_count": 94,
     "metadata": {},
     "output_type": "execute_result"
    }
   ],
   "source": [
    "data_all['distance_km'].sum()"
   ]
  },
  {
   "cell_type": "code",
   "execution_count": 97,
   "metadata": {},
   "outputs": [
    {
     "data": {
      "text/plain": [
       "0.8445758416797393"
      ]
     },
     "execution_count": 97,
     "metadata": {},
     "output_type": "execute_result"
    }
   ],
   "source": [
    "1098843/(202216 + 1098843)"
   ]
  },
  {
   "cell_type": "markdown",
   "metadata": {},
   "source": [
    "# 2. Data Analysis\n",
    "## 2.1 General"
   ]
  },
  {
   "cell_type": "code",
   "execution_count": 98,
   "metadata": {},
   "outputs": [
    {
     "data": {
      "image/png": "[encoded data removed]",
      "text/plain": [
       "<Figure size 2000x600 with 1 Axes>"
      ]
     },
     "metadata": {},
     "output_type": "display_data"
    }
   ],
   "source": [
    "# Boxplot for total_fuel_burn\n",
    "plt.figure(figsize=(20, 6))\n",
    "sns.boxplot(x='aircraft_type_icao', y='pp_kg_co2', data=data_all)\n",
    "# plt.title('Total kg of CO2 per person')\n",
    "plt.xlabel('Aircraft Type')\n",
    "plt.ylabel('Total kg CO2 per person')\n",
    "plt.show()\n",
    "\n",
    "# # Boxplot for total_fuel_burn\n",
    "# plt.figure(figsize=(15, 6))\n",
    "# sns.boxplot(x='aircraft_type_icao', y='pp_g_co2_km', data=data_all)\n",
    "# # plt.title('Total kg of CO2 per person')\n",
    "# plt.xlabel('Aircraft Type')\n",
    "# plt.ylabel('Total g CO2 per km')\n",
    "# plt.show()"
   ]
  },
  {
   "cell_type": "code",
   "execution_count": 99,
   "metadata": {},
   "outputs": [],
   "source": [
    "# plt.figure(figsize=(15, 6))\n",
    "\n",
    "# # Barplot for average value\n",
    "# sns.barplot(x='aircraft_type_icao', y='pp_g_co2_km', data=data_direct, estimator=lambda x: sum(x) / len(x), color='lightblue')\n",
    "\n",
    "# # Add values to the top of the bars\n",
    "# for p in plt.gca().patches:\n",
    "#     plt.gca().annotate('{:.2f}'.format(p.get_height()), (p.get_x() + p.get_width() / 2., p.get_height()),\n",
    "#                 ha='center', va='center', fontsize=11, color='black', xytext=(0, 5),\n",
    "#                 textcoords='offset points')\n",
    "\n",
    "# plt.xlabel('Aircraft Type')\n",
    "# plt.ylabel('Total g CO2 per km')\n",
    "\n",
    "# plt.show()\n"
   ]
  },
  {
   "cell_type": "markdown",
   "metadata": {},
   "source": [
    "## 2.2 Split Economy/Business Class"
   ]
  },
  {
   "cell_type": "code",
   "execution_count": 100,
   "metadata": {},
   "outputs": [
    {
     "data": {
      "image/png": "[encoded data removed]",
      "text/plain": [
       "<Figure size 1000x1000 with 1 Axes>"
      ]
     },
     "metadata": {},
     "output_type": "display_data"
    }
   ],
   "source": [
    "\n",
    "# Plot\n",
    "plt.figure(figsize=(10, 10))\n",
    "\n",
    "# Stacked bar plot\n",
    "plt.barh(data_all['aircraft_type_icao'], data_all['Seats Economy'], label='Economy')\n",
    "plt.barh(data_all['aircraft_type_icao'], data_all['Seats Business'],  label='Business') # left=data_all['Seats Economy'],\n",
    "\n",
    "# Labels and title\n",
    "plt.xlabel('Number of Seats')\n",
    "plt.ylabel('Aircraft Type ICAO')\n",
    "plt.title('Stacked Plot of Economy and Business Seats by Aircraft Type')\n",
    "plt.legend()\n",
    "\n",
    "# Show plot\n",
    "plt.show()\n"
   ]
  },
  {
   "cell_type": "markdown",
   "metadata": {},
   "source": [
    "### 2.2.1 CO2 Emission Visualisation"
   ]
  },
  {
   "cell_type": "code",
   "execution_count": 101,
   "metadata": {},
   "outputs": [
    {
     "data": {
      "image/png": "[encoded data removed]",
      "text/plain": [
       "<Figure size 800x1500 with 2 Axes>"
      ]
     },
     "metadata": {},
     "output_type": "display_data"
    }
   ],
   "source": [
    "# Calculate mean CO2 emissions for business and economy\n",
    "mean_business_co2 = data_all.groupby('aircraft_type_icao')['business_co2_pp'].mean()\n",
    "mean_economy_co2 = data_all.groupby('aircraft_type_icao')['economy_co2_pp'].mean()\n",
    "\n",
    "# Plot\n",
    "fig, ax1 = plt.subplots(figsize=(8, 15))\n",
    "\n",
    "# Stacked bar plot for seats\n",
    "ax1.barh(data_all['aircraft_type_icao'], data_all['Seats Economy'], label='Economy')\n",
    "ax1.barh(data_all['aircraft_type_icao'], data_all['Seats Business'], label='Business')\n",
    "\n",
    "# Labels and title for seats\n",
    "ax1.set_xlabel('Number of Seats', fontsize=14)\n",
    "ax1.set_ylabel('Aircraft Type ICAO', fontsize=14)\n",
    "# ax1.set_title('Stacked Plot of Economy and Business Seats by Aircraft Type', fontsize=16)\n",
    "\n",
    "# Create a second x-axis for CO2 emissions\n",
    "ax2 = ax1.twiny()\n",
    "ax2.set_xlabel('CO2 Emissions (kg)', fontsize=14)\n",
    "\n",
    "ax2.set_xlim(0, data_all[['business_co2_pp', 'economy_co2_pp']].max().max() + 100)\n",
    "\n",
    "# Plot mean CO2 emissions as points with darker shades\n",
    "ax2.scatter(mean_economy_co2, mean_economy_co2.index, color='navy', label='Mean Economy CO2', alpha=0.7)\n",
    "ax2.scatter(mean_business_co2, mean_business_co2.index, color='darkorange', label='Mean Business CO2', alpha=0.7)\n",
    "\n",
    "# Add legend\n",
    "# fig.legend(loc='upper right', bbox_to_anchor=(1, 1))\n",
    "# ax1.legend(loc='upper right', bbox_to_anchor=(1, 1.2))\n",
    "fig.legend(loc='upper right', bbox_to_anchor=(0.875, 0.85))\n",
    "\n",
    "# Show plot\n",
    "plt.show()\n"
   ]
  },
  {
   "cell_type": "markdown",
   "metadata": {},
   "source": [
    "# 3 Calculating total emissions"
   ]
  },
  {
   "cell_type": "code",
   "execution_count": 103,
   "metadata": {},
   "outputs": [
    {
     "data": {
      "text/html": [
       "<div>\n",
       "<style scoped>\n",
       "    .dataframe tbody tr th:only-of-type {\n",
       "        vertical-align: middle;\n",
       "    }\n",
       "\n",
       "    .dataframe tbody tr th {\n",
       "        vertical-align: top;\n",
       "    }\n",
       "\n",
       "    .dataframe thead th {\n",
       "        text-align: right;\n",
       "    }\n",
       "</style>\n",
       "<table border=\"1\" class=\"dataframe\">\n",
       "  <thead>\n",
       "    <tr style=\"text-align: right;\">\n",
       "      <th></th>\n",
       "      <th>origin_airport</th>\n",
       "      <th>destination_airport</th>\n",
       "      <th>total_delegats_inc_hub</th>\n",
       "      <th>aircraft_type_icao</th>\n",
       "      <th>co2_kg</th>\n",
       "      <th>Split Econ/Busi</th>\n",
       "      <th>Seats Economy</th>\n",
       "      <th>Seats Business</th>\n",
       "      <th>economy_co2_pp</th>\n",
       "      <th>business_co2_pp</th>\n",
       "      <th>is_short_haul</th>\n",
       "      <th>total_delegats_inc_hub</th>\n",
       "      <th>total_co2</th>\n",
       "    </tr>\n",
       "  </thead>\n",
       "  <tbody>\n",
       "    <tr>\n",
       "      <th>0</th>\n",
       "      <td>OMAA</td>\n",
       "      <td>OMDB</td>\n",
       "      <td>8786</td>\n",
       "      <td>DH8D</td>\n",
       "      <td>1475.189208</td>\n",
       "      <td>0.128205</td>\n",
       "      <td>36</td>\n",
       "      <td>5</td>\n",
       "      <td>26.283995</td>\n",
       "      <td>105.793079</td>\n",
       "      <td>True</td>\n",
       "      <td>8786</td>\n",
       "      <td>6.322445e+05</td>\n",
       "    </tr>\n",
       "    <tr>\n",
       "      <th>1</th>\n",
       "      <td>SBGR</td>\n",
       "      <td>OMDB</td>\n",
       "      <td>3618</td>\n",
       "      <td>B77W</td>\n",
       "      <td>369691.457386</td>\n",
       "      <td>0.098361</td>\n",
       "      <td>303</td>\n",
       "      <td>33</td>\n",
       "      <td>848.256657</td>\n",
       "      <td>3414.233043</td>\n",
       "      <td>False</td>\n",
       "      <td>3618</td>\n",
       "      <td>7.961570e+06</td>\n",
       "    </tr>\n",
       "    <tr>\n",
       "      <th>2</th>\n",
       "      <td>ZBAA</td>\n",
       "      <td>OMDB</td>\n",
       "      <td>2640</td>\n",
       "      <td>B77L</td>\n",
       "      <td>164527.903430</td>\n",
       "      <td>0.180672</td>\n",
       "      <td>125</td>\n",
       "      <td>28</td>\n",
       "      <td>692.166190</td>\n",
       "      <td>2785.968916</td>\n",
       "      <td>False</td>\n",
       "      <td>2640</td>\n",
       "      <td>5.677826e+06</td>\n",
       "    </tr>\n",
       "  </tbody>\n",
       "</table>\n",
       "</div>"
      ],
      "text/plain": [
       "  origin_airport destination_airport  total_delegats_inc_hub  \\\n",
       "0           OMAA                OMDB                    8786   \n",
       "1           SBGR                OMDB                    3618   \n",
       "2           ZBAA                OMDB                    2640   \n",
       "\n",
       "  aircraft_type_icao         co2_kg  Split Econ/Busi  Seats Economy  \\\n",
       "0               DH8D    1475.189208         0.128205             36   \n",
       "1               B77W  369691.457386         0.098361            303   \n",
       "2               B77L  164527.903430         0.180672            125   \n",
       "\n",
       "   Seats Business  economy_co2_pp  business_co2_pp  is_short_haul  \\\n",
       "0               5       26.283995       105.793079           True   \n",
       "1              33      848.256657      3414.233043          False   \n",
       "2              28      692.166190      2785.968916          False   \n",
       "\n",
       "   total_delegats_inc_hub     total_co2  \n",
       "0                    8786  6.322445e+05  \n",
       "1                    3618  7.961570e+06  \n",
       "2                    2640  5.677826e+06  "
      ]
     },
     "execution_count": 103,
     "metadata": {},
     "output_type": "execute_result"
    }
   ],
   "source": [
    "data_all[['origin_airport','destination_airport','total_delegats_inc_hub','aircraft_type_icao','co2_kg',\n",
    "          'Split Econ/Busi','Seats Economy','Seats Business','economy_co2_pp', 'business_co2_pp', \n",
    "          'is_short_haul','total_delegats_inc_hub', 'total_co2']].iloc[:3]"
   ]
  },
  {
   "cell_type": "code",
   "execution_count": 113,
   "metadata": {},
   "outputs": [
    {
     "data": {
      "text/plain": [
       "95858687.91290657"
      ]
     },
     "execution_count": 113,
     "metadata": {},
     "output_type": "execute_result"
    }
   ],
   "source": [
    "data_all['economy_new'] = 0.0\n",
    "data_all['business_new'] = 0.0\n",
    "\n",
    "\n",
    "# LONG FLIGHTS\n",
    "condition_short = data_all['is_short_haul'] == False\n",
    "sensitivity_value = 0.05 # Assumption that 5% change to economy for medium to long haul flights (>3 hours)\n",
    "\n",
    "data_all.loc[condition_short,'economy_new'] = data_all.loc[condition_short,'Seats Economy'] + data_all.loc[condition_short,'Seats Business'] * sensitivity_value\n",
    "data_all.loc[condition_short,'business_new'] = data_all.loc[condition_short,'Seats Business'] * (1 - sensitivity_value)\n",
    "\n",
    "\n",
    "# SHORT FLIGHTS\n",
    "condition_long = data_all['is_short_haul'] == True\n",
    "sensitivity_value_short = 0.3 # Assumption that 30% change to economy for short flights (<3 hours)\n",
    "\n",
    "data_all.loc[condition_long,'economy_new'] = data_all.loc[condition_long,'Seats Economy'] + data_all.loc[condition_long,'Seats Business'] * sensitivity_value_short\n",
    "data_all.loc[condition_long,'business_new'] = data_all.loc[condition_long,'Seats Business'] * (1 - sensitivity_value_short)\n",
    "\n",
    "\n",
    "new_co2_economy = data_all['economy_new'] * data_all['economy_co2_pp']\n",
    "new_co2_business = data_all['business_new'] * data_all['business_co2_pp']\n",
    "\n",
    "# new emission for whole flight\n",
    "data_all['flight_co2_reduced'] = new_co2_economy + new_co2_business\n",
    "\n",
    "# Some values were 0, if business class was 0\n",
    "missing_rows = data_all['flight_co2_reduced'].isnull() | (data_all['flight_co2_reduced'] == 0)\n",
    "data_all.loc[missing_rows, 'flight_co2_reduced'] = data_all.loc[missing_rows, 'co2_kg']\n",
    "\n",
    "data_all['total_co2_new'] = (data_all['total_delegats_inc_hub'] / (data_all['Seats Business'] + data_all['Seats Economy'])) * data_all['flight_co2_reduced'] * 2\n",
    "data_all['total_co2_new'].sum()"
   ]
  },
  {
   "cell_type": "markdown",
   "metadata": {},
   "source": [
    "Calculate the effect of short and medium/long flights alone "
   ]
  },
  {
   "cell_type": "code",
   "execution_count": 105,
   "metadata": {},
   "outputs": [
    {
     "data": {
      "text/plain": [
       "96987263.97770672"
      ]
     },
     "execution_count": 105,
     "metadata": {},
     "output_type": "execute_result"
    }
   ],
   "source": [
    "data_all.loc[data_all['is_short_haul'] == True,'economy_short'] = data_all.loc[data_all['is_short_haul'] == True,'Seats Economy'] + data_all.loc[data_all['is_short_haul'] == True,'Seats Business'] * sensitivity_value_short\n",
    "data_all.loc[data_all['is_short_haul'] == True,'business_short'] = data_all.loc[data_all['is_short_haul'] == True,'Seats Business'] * (1 - sensitivity_value_short)\n",
    "\n",
    "new_co2_economy = data_all['economy_short'] * data_all['economy_co2_pp']# / (data_all['business_new'] + data_all['economy_new'])\n",
    "new_co2_business = data_all['business_short'] * data_all['business_co2_pp']# /  (data_all['business_new'] + data_all['economy_new'])\n",
    "\n",
    "\n",
    "data_all['flight_co2_reduced_long'] = new_co2_economy + new_co2_business\n",
    "\n",
    "# Some values were 0, if business class was 0\n",
    "missing_rows = data_all['flight_co2_reduced_long'].isnull() | (data_all['flight_co2_reduced_long'] == 0)\n",
    "data_all.loc[missing_rows, 'flight_co2_reduced_long'] = data_all.loc[missing_rows, 'co2_kg']\n",
    "\n",
    "data_all['total_co2_long'] = (data_all['total_delegats_inc_hub'] / (data_all['Seats Business'] + data_all['Seats Economy'])) * data_all['flight_co2_reduced_long'] * 2\n",
    "data_all['total_co2_long'].sum()"
   ]
  },
  {
   "cell_type": "code",
   "execution_count": 106,
   "metadata": {},
   "outputs": [
    {
     "data": {
      "text/plain": [
       "96612675.80082372"
      ]
     },
     "execution_count": 106,
     "metadata": {},
     "output_type": "execute_result"
    }
   ],
   "source": [
    "data_all.loc[data_all['is_short_haul'] == False,'economy_long'] = data_all.loc[data_all['is_short_haul'] == False,'Seats Economy'] + data_all.loc[data_all['is_short_haul'] == False,'Seats Business'] * sensitivity_value\n",
    "data_all.loc[data_all['is_short_haul'] == False,'business_long'] = data_all.loc[data_all['is_short_haul'] == False,'Seats Business'] * (1 - sensitivity_value)\n",
    "\n",
    "new_co2_economy = data_all['economy_long'] * data_all['economy_co2_pp']# / (data_all['business_new'] + data_all['economy_new'])\n",
    "new_co2_business = data_all['business_long'] * data_all['business_co2_pp']# /  (data_all['business_new'] + data_all['economy_new'])\n",
    "\n",
    "\n",
    "data_all['flight_co2_reduced_short'] = new_co2_economy + new_co2_business\n",
    "\n",
    "# Some values were 0, if business class was 0\n",
    "missing_rows = data_all['flight_co2_reduced_short'].isnull() | (data_all['flight_co2_reduced_short'] == 0)\n",
    "data_all.loc[missing_rows, 'flight_co2_reduced_short'] = data_all.loc[missing_rows, 'co2_kg']\n",
    "\n",
    "data_all['total_co2_short'] = (data_all['total_delegats_inc_hub'] / (data_all['Seats Business'] + data_all['Seats Economy'])) * data_all['flight_co2_reduced_short'] * 2\n",
    "data_all['total_co2_short'].sum()"
   ]
  },
  {
   "cell_type": "code",
   "execution_count": 107,
   "metadata": {},
   "outputs": [
    {
     "data": {
      "text/plain": [
       "0.9888027869861936"
      ]
     },
     "execution_count": 107,
     "metadata": {},
     "output_type": "execute_result"
    }
   ],
   "source": [
    "data_all['flight_co2_reduced_short'].mean() / data_all['co2_kg'].mean()"
   ]
  },
  {
   "cell_type": "code",
   "execution_count": 108,
   "metadata": {},
   "outputs": [
    {
     "data": {
      "text/plain": [
       "1882563.9527172893"
      ]
     },
     "execution_count": 108,
     "metadata": {},
     "output_type": "execute_result"
    }
   ],
   "source": [
    "(data_all['total_co2'].sum() - data_all['total_co2_short'].sum()) + (data_all['total_co2'].sum() - data_all['total_co2_long'].sum())"
   ]
  },
  {
   "cell_type": "markdown",
   "metadata": {},
   "source": [
    "## Visualisation"
   ]
  },
  {
   "cell_type": "code",
   "execution_count": 109,
   "metadata": {},
   "outputs": [
    {
     "data": {
      "text/plain": [
       "97741251.86562386"
      ]
     },
     "execution_count": 109,
     "metadata": {},
     "output_type": "execute_result"
    }
   ],
   "source": [
    "data_all['total_co2'].sum()"
   ]
  },
  {
   "cell_type": "code",
   "execution_count": 110,
   "metadata": {},
   "outputs": [
    {
     "data": {
      "application/vnd.plotly.v1+json": {
       "config": {
        "plotlyServerURL": "https://plot.ly"
       },
       "data": [
        {
         "connector": {
          "line": {
           "color": "rgb(63, 63, 63)"
          }
         },
         "decreasing": {
          "marker": {
           "color": "green"
          }
         },
         "increasing": {
          "marker": {
           "color": "red"
          }
         },
         "measure": [
          "relative",
          "relative",
          "relative"
         ],
         "name": "Change in Total CO2",
         "orientation": "v",
         "type": "waterfall",
         "x": [
          "Current Status",
          "Long haul \n(-5%)",
          "Short haul\n(-30%)"
         ],
         "y": [
          97741251.86562386,
          -753987.8879171461,
          -1128576.0648001432
         ]
        }
       ],
       "layout": {
        "annotations": [
         {
          "font": {
           "color": "black",
           "family": "Aharoni",
           "size": 18
          },
          "showarrow": false,
          "text": "-0.77%",
          "x": 1,
          "y": 92741251.86562386
         },
         {
          "font": {
           "color": "black",
           "family": "Aharoni",
           "size": 18
          },
          "showarrow": false,
          "text": "-1.15%",
          "x": 2,
          "y": 90741251.86562386
         },
         {
          "font": {
           "color": "black",
           "family": "Aharoni",
           "size": 18
          },
          "showarrow": false,
          "text": "Total % Reduction: -1.93%",
          "x": 1.5,
          "y": 50000000
         }
        ],
        "height": 600,
        "showlegend": false,
        "template": {
         "data": {
          "bar": [
           {
            "error_x": {
             "color": "#2a3f5f"
            },
            "error_y": {
             "color": "#2a3f5f"
            },
            "marker": {
             "line": {
              "color": "#E5ECF6",
              "width": 0.5
             },
             "pattern": {
              "fillmode": "overlay",
              "size": 10,
              "solidity": 0.2
             }
            },
            "type": "bar"
           }
          ],
          "barpolar": [
           {
            "marker": {
             "line": {
              "color": "#E5ECF6",
              "width": 0.5
             },
             "pattern": {
              "fillmode": "overlay",
              "size": 10,
              "solidity": 0.2
             }
            },
            "type": "barpolar"
           }
          ],
          "carpet": [
           {
            "aaxis": {
             "endlinecolor": "#2a3f5f",
             "gridcolor": "white",
             "linecolor": "white",
             "minorgridcolor": "white",
             "startlinecolor": "#2a3f5f"
            },
            "baxis": {
             "endlinecolor": "#2a3f5f",
             "gridcolor": "white",
             "linecolor": "white",
             "minorgridcolor": "white",
             "startlinecolor": "#2a3f5f"
            },
            "type": "carpet"
           }
          ],
          "choropleth": [
           {
            "colorbar": {
             "outlinewidth": 0,
             "ticks": ""
            },
            "type": "choropleth"
           }
          ],
          "contour": [
           {
            "colorbar": {
             "outlinewidth": 0,
             "ticks": ""
            },
            "colorscale": [
             [
              0,
              "#0d0887"
             ],
             [
              0.1111111111111111,
              "#46039f"
             ],
             [
              0.2222222222222222,
              "#7201a8"
             ],
             [
              0.3333333333333333,
              "#9c179e"
             ],
             [
              0.4444444444444444,
              "#bd3786"
             ],
             [
              0.5555555555555556,
              "#d8576b"
             ],
             [
              0.6666666666666666,
              "#ed7953"
             ],
             [
              0.7777777777777778,
              "#fb9f3a"
             ],
             [
              0.8888888888888888,
              "#fdca26"
             ],
             [
              1,
              "#f0f921"
             ]
            ],
            "type": "contour"
           }
          ],
          "contourcarpet": [
           {
            "colorbar": {
             "outlinewidth": 0,
             "ticks": ""
            },
            "type": "contourcarpet"
           }
          ],
          "heatmap": [
           {
            "colorbar": {
             "outlinewidth": 0,
             "ticks": ""
            },
            "colorscale": [
             [
              0,
              "#0d0887"
             ],
             [
              0.1111111111111111,
              "#46039f"
             ],
             [
              0.2222222222222222,
              "#7201a8"
             ],
             [
              0.3333333333333333,
              "#9c179e"
             ],
             [
              0.4444444444444444,
              "#bd3786"
             ],
             [
              0.5555555555555556,
              "#d8576b"
             ],
             [
              0.6666666666666666,
              "#ed7953"
             ],
             [
              0.7777777777777778,
              "#fb9f3a"
             ],
             [
              0.8888888888888888,
              "#fdca26"
             ],
             [
              1,
              "#f0f921"
             ]
            ],
            "type": "heatmap"
           }
          ],
          "heatmapgl": [
           {
            "colorbar": {
             "outlinewidth": 0,
             "ticks": ""
            },
            "colorscale": [
             [
              0,
              "#0d0887"
             ],
             [
              0.1111111111111111,
              "#46039f"
             ],
             [
              0.2222222222222222,
              "#7201a8"
             ],
             [
              0.3333333333333333,
              "#9c179e"
             ],
             [
              0.4444444444444444,
              "#bd3786"
             ],
             [
              0.5555555555555556,
              "#d8576b"
             ],
             [
              0.6666666666666666,
              "#ed7953"
             ],
             [
              0.7777777777777778,
              "#fb9f3a"
             ],
             [
              0.8888888888888888,
              "#fdca26"
             ],
             [
              1,
              "#f0f921"
             ]
            ],
            "type": "heatmapgl"
           }
          ],
          "histogram": [
           {
            "marker": {
             "pattern": {
              "fillmode": "overlay",
              "size": 10,
              "solidity": 0.2
             }
            },
            "type": "histogram"
           }
          ],
          "histogram2d": [
           {
            "colorbar": {
             "outlinewidth": 0,
             "ticks": ""
            },
            "colorscale": [
             [
              0,
              "#0d0887"
             ],
             [
              0.1111111111111111,
              "#46039f"
             ],
             [
              0.2222222222222222,
              "#7201a8"
             ],
             [
              0.3333333333333333,
              "#9c179e"
             ],
             [
              0.4444444444444444,
              "#bd3786"
             ],
             [
              0.5555555555555556,
              "#d8576b"
             ],
             [
              0.6666666666666666,
              "#ed7953"
             ],
             [
              0.7777777777777778,
              "#fb9f3a"
             ],
             [
              0.8888888888888888,
              "#fdca26"
             ],
             [
              1,
              "#f0f921"
             ]
            ],
            "type": "histogram2d"
           }
          ],
          "histogram2dcontour": [
           {
            "colorbar": {
             "outlinewidth": 0,
             "ticks": ""
            },
            "colorscale": [
             [
              0,
              "#0d0887"
             ],
             [
              0.1111111111111111,
              "#46039f"
             ],
             [
              0.2222222222222222,
              "#7201a8"
             ],
             [
              0.3333333333333333,
              "#9c179e"
             ],
             [
              0.4444444444444444,
              "#bd3786"
             ],
             [
              0.5555555555555556,
              "#d8576b"
             ],
             [
              0.6666666666666666,
              "#ed7953"
             ],
             [
              0.7777777777777778,
              "#fb9f3a"
             ],
             [
              0.8888888888888888,
              "#fdca26"
             ],
             [
              1,
              "#f0f921"
             ]
            ],
            "type": "histogram2dcontour"
           }
          ],
          "mesh3d": [
           {
            "colorbar": {
             "outlinewidth": 0,
             "ticks": ""
            },
            "type": "mesh3d"
           }
          ],
          "parcoords": [
           {
            "line": {
             "colorbar": {
              "outlinewidth": 0,
              "ticks": ""
             }
            },
            "type": "parcoords"
           }
          ],
          "pie": [
           {
            "automargin": true,
            "type": "pie"
           }
          ],
          "scatter": [
           {
            "fillpattern": {
             "fillmode": "overlay",
             "size": 10,
             "solidity": 0.2
            },
            "type": "scatter"
           }
          ],
          "scatter3d": [
           {
            "line": {
             "colorbar": {
              "outlinewidth": 0,
              "ticks": ""
             }
            },
            "marker": {
             "colorbar": {
              "outlinewidth": 0,
              "ticks": ""
             }
            },
            "type": "scatter3d"
           }
          ],
          "scattercarpet": [
           {
            "marker": {
             "colorbar": {
              "outlinewidth": 0,
              "ticks": ""
             }
            },
            "type": "scattercarpet"
           }
          ],
          "scattergeo": [
           {
            "marker": {
             "colorbar": {
              "outlinewidth": 0,
              "ticks": ""
             }
            },
            "type": "scattergeo"
           }
          ],
          "scattergl": [
           {
            "marker": {
             "colorbar": {
              "outlinewidth": 0,
              "ticks": ""
             }
            },
            "type": "scattergl"
           }
          ],
          "scattermapbox": [
           {
            "marker": {
             "colorbar": {
              "outlinewidth": 0,
              "ticks": ""
             }
            },
            "type": "scattermapbox"
           }
          ],
          "scatterpolar": [
           {
            "marker": {
             "colorbar": {
              "outlinewidth": 0,
              "ticks": ""
             }
            },
            "type": "scatterpolar"
           }
          ],
          "scatterpolargl": [
           {
            "marker": {
             "colorbar": {
              "outlinewidth": 0,
              "ticks": ""
             }
            },
            "type": "scatterpolargl"
           }
          ],
          "scatterternary": [
           {
            "marker": {
             "colorbar": {
              "outlinewidth": 0,
              "ticks": ""
             }
            },
            "type": "scatterternary"
           }
          ],
          "surface": [
           {
            "colorbar": {
             "outlinewidth": 0,
             "ticks": ""
            },
            "colorscale": [
             [
              0,
              "#0d0887"
             ],
             [
              0.1111111111111111,
              "#46039f"
             ],
             [
              0.2222222222222222,
              "#7201a8"
             ],
             [
              0.3333333333333333,
              "#9c179e"
             ],
             [
              0.4444444444444444,
              "#bd3786"
             ],
             [
              0.5555555555555556,
              "#d8576b"
             ],
             [
              0.6666666666666666,
              "#ed7953"
             ],
             [
              0.7777777777777778,
              "#fb9f3a"
             ],
             [
              0.8888888888888888,
              "#fdca26"
             ],
             [
              1,
              "#f0f921"
             ]
            ],
            "type": "surface"
           }
          ],
          "table": [
           {
            "cells": {
             "fill": {
              "color": "#EBF0F8"
             },
             "line": {
              "color": "white"
             }
            },
            "header": {
             "fill": {
              "color": "#C8D4E3"
             },
             "line": {
              "color": "white"
             }
            },
            "type": "table"
           }
          ]
         },
         "layout": {
          "annotationdefaults": {
           "arrowcolor": "#2a3f5f",
           "arrowhead": 0,
           "arrowwidth": 1
          },
          "autotypenumbers": "strict",
          "coloraxis": {
           "colorbar": {
            "outlinewidth": 0,
            "ticks": ""
           }
          },
          "colorscale": {
           "diverging": [
            [
             0,
             "#8e0152"
            ],
            [
             0.1,
             "#c51b7d"
            ],
            [
             0.2,
             "#de77ae"
            ],
            [
             0.3,
             "#f1b6da"
            ],
            [
             0.4,
             "#fde0ef"
            ],
            [
             0.5,
             "#f7f7f7"
            ],
            [
             0.6,
             "#e6f5d0"
            ],
            [
             0.7,
             "#b8e186"
            ],
            [
             0.8,
             "#7fbc41"
            ],
            [
             0.9,
             "#4d9221"
            ],
            [
             1,
             "#276419"
            ]
           ],
           "sequential": [
            [
             0,
             "#0d0887"
            ],
            [
             0.1111111111111111,
             "#46039f"
            ],
            [
             0.2222222222222222,
             "#7201a8"
            ],
            [
             0.3333333333333333,
             "#9c179e"
            ],
            [
             0.4444444444444444,
             "#bd3786"
            ],
            [
             0.5555555555555556,
             "#d8576b"
            ],
            [
             0.6666666666666666,
             "#ed7953"
            ],
            [
             0.7777777777777778,
             "#fb9f3a"
            ],
            [
             0.8888888888888888,
             "#fdca26"
            ],
            [
             1,
             "#f0f921"
            ]
           ],
           "sequentialminus": [
            [
             0,
             "#0d0887"
            ],
            [
             0.1111111111111111,
             "#46039f"
            ],
            [
             0.2222222222222222,
             "#7201a8"
            ],
            [
             0.3333333333333333,
             "#9c179e"
            ],
            [
             0.4444444444444444,
             "#bd3786"
            ],
            [
             0.5555555555555556,
             "#d8576b"
            ],
            [
             0.6666666666666666,
             "#ed7953"
            ],
            [
             0.7777777777777778,
             "#fb9f3a"
            ],
            [
             0.8888888888888888,
             "#fdca26"
            ],
            [
             1,
             "#f0f921"
            ]
           ]
          },
          "colorway": [
           "#636efa",
           "#EF553B",
           "#00cc96",
           "#ab63fa",
           "#FFA15A",
           "#19d3f3",
           "#FF6692",
           "#B6E880",
           "#FF97FF",
           "#FECB52"
          ],
          "font": {
           "color": "#2a3f5f"
          },
          "geo": {
           "bgcolor": "white",
           "lakecolor": "white",
           "landcolor": "#E5ECF6",
           "showlakes": true,
           "showland": true,
           "subunitcolor": "white"
          },
          "hoverlabel": {
           "align": "left"
          },
          "hovermode": "closest",
          "mapbox": {
           "style": "light"
          },
          "paper_bgcolor": "white",
          "plot_bgcolor": "#E5ECF6",
          "polar": {
           "angularaxis": {
            "gridcolor": "white",
            "linecolor": "white",
            "ticks": ""
           },
           "bgcolor": "#E5ECF6",
           "radialaxis": {
            "gridcolor": "white",
            "linecolor": "white",
            "ticks": ""
           }
          },
          "scene": {
           "xaxis": {
            "backgroundcolor": "#E5ECF6",
            "gridcolor": "white",
            "gridwidth": 2,
            "linecolor": "white",
            "showbackground": true,
            "ticks": "",
            "zerolinecolor": "white"
           },
           "yaxis": {
            "backgroundcolor": "#E5ECF6",
            "gridcolor": "white",
            "gridwidth": 2,
            "linecolor": "white",
            "showbackground": true,
            "ticks": "",
            "zerolinecolor": "white"
           },
           "zaxis": {
            "backgroundcolor": "#E5ECF6",
            "gridcolor": "white",
            "gridwidth": 2,
            "linecolor": "white",
            "showbackground": true,
            "ticks": "",
            "zerolinecolor": "white"
           }
          },
          "shapedefaults": {
           "line": {
            "color": "#2a3f5f"
           }
          },
          "ternary": {
           "aaxis": {
            "gridcolor": "white",
            "linecolor": "white",
            "ticks": ""
           },
           "baxis": {
            "gridcolor": "white",
            "linecolor": "white",
            "ticks": ""
           },
           "bgcolor": "#E5ECF6",
           "caxis": {
            "gridcolor": "white",
            "linecolor": "white",
            "ticks": ""
           }
          },
          "title": {
           "x": 0.05
          },
          "xaxis": {
           "automargin": true,
           "gridcolor": "white",
           "linecolor": "white",
           "ticks": "",
           "title": {
            "standoff": 15
           },
           "zerolinecolor": "white",
           "zerolinewidth": 2
          },
          "yaxis": {
           "automargin": true,
           "gridcolor": "white",
           "linecolor": "white",
           "ticks": "",
           "title": {
            "standoff": 15
           },
           "zerolinecolor": "white",
           "zerolinewidth": 2
          }
         }
        },
        "width": 500,
        "yaxis": {
         "range": [
          0,
          100741251.86562386
         ]
        }
       }
      }
     },
     "metadata": {},
     "output_type": "display_data"
    }
   ],
   "source": [
    "import plotly.graph_objects as go\n",
    "\n",
    "# Calculate the sum of total_co2\n",
    "current_status = data_all['total_co2'].sum()\n",
    "\n",
    "# Calculate the reductions\n",
    "reduction_long = data_all['total_co2_long'].sum() - current_status \n",
    "reduction_short = data_all['total_co2_short'].sum() - current_status\n",
    "\n",
    "# Calculate percentage reductions\n",
    "percentage_reduction_long = (reduction_long / current_status) * 100\n",
    "percentage_reduction_short = (reduction_short / current_status) * 100\n",
    "\n",
    "total_percentage_reduction = percentage_reduction_long + percentage_reduction_short\n",
    "\n",
    "\n",
    "# Create the waterfall chart\n",
    "fig = go.Figure(go.Waterfall(\n",
    "    name=\"Change in Total CO2\",\n",
    "    orientation=\"v\",\n",
    "    measure=[\"relative\", \"relative\", \"relative\"],\n",
    "    x=[\"Current Status\", \"Long haul \\n(-5%)\", \"Short haul\\n(-30%)\"],\n",
    "    y=[current_status, reduction_long, reduction_short],\n",
    "    connector={\"line\": {\"color\": \"rgb(63, 63, 63)\"}},\n",
    "    increasing={\"marker\": {\"color\": \"red\"}},  # Change color for increases (reductions)\n",
    "    decreasing={\"marker\": {\"color\": \"green\"}},    # Change color for decreases (total_co2)\n",
    "))\n",
    "\n",
    "# Add annotations for percentage reductions\n",
    "annotations = [\n",
    "    dict(\n",
    "        x=1,  # x-coordinate of the annotation\n",
    "        y=current_status - 5000000,  # y-coordinate of the annotation\n",
    "        text=f\"{percentage_reduction_long:.2f}%\",  # Text of the annotation\n",
    "        showarrow=False,  # Hide arrow\n",
    "        font=dict(color=\"black\", size=18, family=\"Aharoni\")  # Font settings with Aharoni font\n",
    "    ),\n",
    "    dict(\n",
    "        x=2,  # x-coordinate of the annotation\n",
    "        y= current_status - 7000000,  # y-coordinate of the annotation\n",
    "        text=f\"{percentage_reduction_short:.2f}%\",  # Text of the annotation\n",
    "        showarrow=False,  # Hide arrow\n",
    "        font=dict(color=\"black\", size=18, family=\"Aharoni\")  # Font settings with Aharoni font\n",
    "    ),\n",
    "    dict(\n",
    "        x=1.5,  # x-coordinate of the annotation\n",
    "        y= 50000000,  # y-coordinate of the annotation\n",
    "        # y=current_status + reduction_long + reduction_short - 500000,  # y-coordinate of the annotation\n",
    "        text=f\"Total % Reduction: {total_percentage_reduction:.2f}%\",  # Text of the annotation\n",
    "        showarrow=False,  # Do not show arrow\n",
    "        font=dict(color=\"black\", size=18, family=\"Aharoni\")  # Font settings with Aharoni font  # Font settings\n",
    "    )\n",
    "]\n",
    "\n",
    "adjust = 3000000\n",
    "# Update layout with annotations\n",
    "fig.update_layout(\n",
    "    width=500, height=600,\n",
    "    # title=\"Waterfall Diagram of Total CO2\",\n",
    "    showlegend=False,\n",
    "    annotations=annotations,  # Add annotations\n",
    "    yaxis=dict(range=[0, current_status + adjust])  # Adjust range as needed\n",
    "    # yaxis=dict(range=[current_status - adjust, current_status + adjust/2])  # Adjust range as needed\n",
    ")\n",
    "\n",
    "# Show the plot\n",
    "fig.show()\n"
   ]
  },
  {
   "cell_type": "code",
   "execution_count": null,
   "metadata": {},
   "outputs": [],
   "source": [
    "# Calculate the sum of total_co2\n",
    "current_status = data_all['total_co2'].sum()\n",
    "\n",
    "# Calculate the reductions\n",
    "reduction_long = data_all['total_co2_long'].sum() - current_status \n",
    "reduction_short = data_all['total_co2_short'].sum() - current_status\n",
    "\n",
    "# Calculate percentage reductions\n",
    "percentage_reduction_long = (reduction_long / current_status) * 100\n",
    "percentage_reduction_short = (reduction_short / current_status) * 100\n",
    "\n",
    "total_percentage_reduction = percentage_reduction_long + percentage_reduction_short\n",
    "\n",
    "\n",
    "# Create the waterfall chart\n",
    "fig = go.Figure(go.Waterfall(\n",
    "    name=\"Change in Total CO2\",\n",
    "    orientation=\"v\",\n",
    "    measure=[\"relative\", \"relative\", \"relative\"],\n",
    "    x=[\"Current Status\", \"Long haul \\n(-5%)\", \"Short haul\\n(-30%)\"],\n",
    "    y=[current_status, reduction_long, reduction_short],\n",
    "    connector={\"line\": {\"color\": \"rgb(63, 63, 63)\"}},\n",
    "    increasing={\"marker\": {\"color\": \"red\"}},  # Change color for increases (reductions)\n",
    "    decreasing={\"marker\": {\"color\": \"green\"}},    # Change color for decreases (total_co2)\n",
    "))\n",
    "\n",
    "# Add annotations for percentage reductions\n",
    "annotations = [\n",
    "    dict(\n",
    "        x=1,  # x-coordinate of the annotation\n",
    "        y=current_status + reduction_long / 2,  # y-coordinate of the annotation\n",
    "        text=f\"{percentage_reduction_long:.2f}%\",  # Text of the annotation\n",
    "        showarrow=False,  # Hide arrow\n",
    "        font=dict(color=\"white\", size=18, family=\"Aharoni\")  # Font settings with Aharoni font\n",
    "    ),\n",
    "    dict(\n",
    "        x=2,  # x-coordinate of the annotation\n",
    "        y= current_status + reduction_long + reduction_short/ 2,  # y-coordinate of the annotation\n",
    "        text=f\"{percentage_reduction_short:.2f}%\",  # Text of the annotation\n",
    "        showarrow=False,  # Hide arrow\n",
    "        font=dict(color=\"white\", size=18, family=\"Aharoni\")  # Font settings with Aharoni font\n",
    "    ),\n",
    "    dict(\n",
    "        x=1.5,  # x-coordinate of the annotation\n",
    "        y=current_status + reduction_long + reduction_short - 500000,  # y-coordinate of the annotation\n",
    "        text=f\"Total % Reduction: {total_percentage_reduction:.2f}%\",  # Text of the annotation\n",
    "        showarrow=False,  # Do not show arrow\n",
    "        font=dict(color=\"black\", size=18, family=\"Aharoni\")  # Font settings with Aharoni font  # Font settings\n",
    "    )\n",
    "]\n",
    "\n",
    "adjust = 3000000\n",
    "# Update layout with annotations\n",
    "fig.update_layout(\n",
    "    width=500, height=600,\n",
    "    # title=\"Waterfall Diagram of Total CO2\",\n",
    "    showlegend=False,\n",
    "    annotations=annotations,  # Add annotations\n",
    "    yaxis=dict(range=[current_status - adjust, current_status + adjust/2])  # Adjust range as needed\n",
    ")\n",
    "\n",
    "# Show the plot\n",
    "fig.show()\n"
   ]
  },
  {
   "cell_type": "markdown",
   "metadata": {},
   "source": [
    "### Finishing Visualisation for Strategy 4"
   ]
  },
  {
   "cell_type": "code",
   "execution_count": 309,
   "metadata": {},
   "outputs": [],
   "source": [
    "baseline = data_all['total_co2'].sum()\n",
    "reduction_combined = data_all['total_co2_new'].sum()\n",
    "\n",
    "\n",
    "total_reduction_long =  data_all['total_co2_long'].sum()\n",
    "total_reduction_short = data_all['total_co2_short'].sum()\n",
    "\n",
    "diff_long = baseline - reduction_long\n",
    "diff_short = baseline - reduction_short"
   ]
  },
  {
   "cell_type": "code",
   "execution_count": 310,
   "metadata": {},
   "outputs": [],
   "source": [
    "cond_long = (data_all['is_short_haul'] == False)\n",
    "cond_short = (data_all['is_short_haul'] == True)\n",
    "cond_econ = (data_all['is_short_haul'] == False)"
   ]
  },
  {
   "cell_type": "code",
   "execution_count": 311,
   "metadata": {},
   "outputs": [],
   "source": [
    "baseline_long = data_all.loc[(data_all['is_short_haul'] == False),'total_co2'].sum()\n",
    "baseline_short = data_all.loc[data_all['is_short_haul'] == True,'total_co2'].sum()\n",
    "\n",
    "reduction_long = data_all.loc[data_all['is_short_haul'] == False,'total_co2_new'].sum()\n",
    "reduction_short = data_all.loc[data_all['is_short_haul'] == True,'total_co2_new'].sum()"
   ]
  },
  {
   "cell_type": "code",
   "execution_count": 312,
   "metadata": {},
   "outputs": [
    {
     "data": {
      "text/plain": [
       "0.7062351577609499"
      ]
     },
     "execution_count": 312,
     "metadata": {},
     "output_type": "execute_result"
    }
   ],
   "source": [
    "# data_all['total_seats_factor_business'] = (data_all['Seats Economy'] + data_all['Seats Business'] * factor_business)\n",
    "mean_share_economy = data_all['Seats Economy'].mean() / data_all['total_seats_factor_business'].mean()\n",
    "# mean_share_business = data_all['Seats Business'].mean() * factor_business / data_all['total_seats_factor_business'].mean()\n",
    "\n",
    "data_all['total_seats_factor_business_new'] = data_all['economy_new'] + data_all['business_new'] * factor_business\n",
    "mean_share_economy_new = data_all['economy_new'].mean() / data_all['total_seats_factor_business_new'].mean()\n",
    "# mean_share_business_new = data_all['business_new'].mean() * factor_business / data_all['total_seats_factor_business_new'].mean()\n",
    "mean_share_economy_new"
   ]
  },
  {
   "cell_type": "markdown",
   "metadata": {},
   "source": [
    "Baseline and Short"
   ]
  },
  {
   "cell_type": "code",
   "execution_count": 313,
   "metadata": {},
   "outputs": [],
   "source": [
    "baseline_long_economy = baseline_long * mean_share_economy\n",
    "baseline_long_business = baseline_long * (1 - mean_share_economy)\n",
    "\n",
    "baseline_short_economy = baseline_short * mean_share_economy\n",
    "baseline_short_business = baseline_short * (1 - mean_share_economy)\n",
    "\n",
    "# SHORT TERM \n",
    "change_long_economy = reduction_long * mean_share_economy_new\n",
    "change_long_business = reduction_long * (1 - mean_share_economy_new)\n",
    "\n",
    "change_short_economy = reduction_short * mean_share_economy_new\n",
    "change_short_business =  reduction_short * (1 - mean_share_economy_new)"
   ]
  },
  {
   "cell_type": "markdown",
   "metadata": {},
   "source": [
    "LONG TERM"
   ]
  },
  {
   "cell_type": "code",
   "execution_count": 295,
   "metadata": {},
   "outputs": [
    {
     "data": {
      "text/plain": [
       "95356029.3209618"
      ]
     },
     "execution_count": 295,
     "metadata": {},
     "output_type": "execute_result"
    }
   ],
   "source": [
    "## LONG TERM \n",
    "data_all['economy_newnew'] = 0.0\n",
    "data_all['business_newnew'] = 0.0\n",
    "\n",
    "\n",
    "# LONG FLIGHTS\n",
    "condition_short = data_all['is_short_haul'] == False\n",
    "sensitivity_value = 0.05 # Assumption that 5% change to economy for medium to long haul flights (>3 hours)\n",
    "\n",
    "data_all.loc[condition_short,'economy_newnew'] = data_all.loc[condition_short,'Seats Economy'] + data_all.loc[condition_short,'Seats Business'] * sensitivity_value\n",
    "data_all.loc[condition_short,'business_newnew'] = data_all.loc[condition_short,'Seats Business'] * (1 - sensitivity_value)\n",
    "\n",
    "\n",
    "# SHORT FLIGHTS\n",
    "condition_long = data_all['is_short_haul'] == True\n",
    "sensitivity_value_short = 0.5 # Assumption that 30% change to economy for short flights (<3 hours)\n",
    "\n",
    "data_all.loc[condition_long,'economy_newnew'] = data_all.loc[condition_long,'Seats Economy'] + data_all.loc[condition_long,'Seats Business'] * sensitivity_value_short\n",
    "data_all.loc[condition_long,'business_newnew'] = data_all.loc[condition_long,'Seats Business'] * (1 - sensitivity_value_short)\n",
    "\n",
    "\n",
    "new_co2_economy = data_all['economy_newnew'] * data_all['economy_co2_pp']\n",
    "new_co2_business = data_all['business_newnew'] * data_all['business_co2_pp']\n",
    "\n",
    "# new emission for whole flight\n",
    "data_all['flight_co2_reduced_new'] = new_co2_economy + new_co2_business\n",
    "\n",
    "# Some values were 0, if business class was 0\n",
    "missing_rows = data_all['flight_co2_reduced_new'].isnull() | (data_all['flight_co2_reduced_new'] == 0)\n",
    "data_all.loc[missing_rows, 'flight_co2_reduced_new'] = data_all.loc[missing_rows, 'co2_kg']\n",
    "\n",
    "data_all['total_co2_newnew'] = (data_all['total_delegats_inc_hub'] / (data_all['Seats Business'] + data_all['Seats Economy'])) * data_all['flight_co2_reduced_new'] * 2\n",
    "data_all['total_co2_newnew'].sum()\n"
   ]
  },
  {
   "cell_type": "code",
   "execution_count": 296,
   "metadata": {},
   "outputs": [],
   "source": [
    "reduction_long_new = data_all.loc[data_all['is_short_haul'] == False,'total_co2_newnew'].sum()\n",
    "reduction_short_new = data_all.loc[data_all['is_short_haul'] == True,'total_co2_newnew'].sum()"
   ]
  },
  {
   "cell_type": "code",
   "execution_count": 297,
   "metadata": {},
   "outputs": [],
   "source": [
    "\n",
    "data_all['total_seats_factor_business_newnew'] = data_all['economy_newnew'] + data_all['business_newnew'] * factor_business\n",
    "mean_share_economy_newnew = data_all['economy_newnew'].mean() / data_all['total_seats_factor_business_newnew'].mean()\n",
    "\n",
    "change_long_economy_new = reduction_long_new * mean_share_economy_newnew\n",
    "change_long_business_new = reduction_long_new * (1 - mean_share_economy_newnew)\n",
    "\n",
    "change_short_economy_new = reduction_short_new * mean_share_economy_newnew\n",
    "change_short_business_new =  reduction_short_new * (1 - mean_share_economy_newnew)"
   ]
  },
  {
   "cell_type": "code",
   "execution_count": 298,
   "metadata": {},
   "outputs": [
    {
     "name": "stdout",
     "output_type": "stream",
     "text": [
      "Baseline to short %: -1.9260690003290226\n"
     ]
    }
   ],
   "source": [
    "print(\"Baseline to short %:\",((change_long_economy+change_long_business+change_short_economy+change_short_business)/baseline - 1) * 100)"
   ]
  },
  {
   "cell_type": "code",
   "execution_count": 299,
   "metadata": {},
   "outputs": [
    {
     "name": "stdout",
     "output_type": "stream",
     "text": [
      "Baseline to short %: -2.4403437639015313\n"
     ]
    }
   ],
   "source": [
    "print(\"Baseline to short %:\",((change_long_economy_new+change_long_business_new+change_short_economy_new+change_short_business_new)/baseline - 1) * 100)"
   ]
  },
  {
   "cell_type": "code",
   "execution_count": 300,
   "metadata": {},
   "outputs": [
    {
     "data": {
      "image/png": "[encoded data removed]",
      "text/plain": [
       "<Figure size 640x480 with 1 Axes>"
      ]
     },
     "metadata": {},
     "output_type": "display_data"
    }
   ],
   "source": [
    "# Example data\n",
    "business_short_haul = [baseline_short_business, change_short_business, change_short_business_new]  # Occurrences for BSH: Baseline, Short, Medium\n",
    "economy_short_haul = [baseline_short_economy, change_short_economy, change_short_economy_new]  # Occurrences for ESH: Baseline, Short, Medium\n",
    "business_long_haul = [baseline_long_business, change_long_business, change_long_business_new]  # Occurrences for BSH: Baseline, Short, Medium\n",
    "economy_long_haul = [baseline_long_economy, change_long_economy, change_long_economy_new]  # Occurrences for ESH: Baseline, Short, Medium\n",
    "scenarios = ['Baseline', 'Short', 'Medium']\n",
    "\n",
    "# Define the width of the bars\n",
    "bar_width = 0.35\n",
    "\n",
    "# Set the positions of the bars on the x-axis\n",
    "x = np.arange(len(scenarios))\n",
    "\n",
    "# Plotting\n",
    "plt.bar(x, business_short_haul, width=bar_width, label='Business Short Haul')\n",
    "plt.bar(x, economy_short_haul, bottom=business_short_haul, width=bar_width, label='Economy Short Haul')\n",
    "plt.bar(x, business_long_haul, bottom=np.array(business_short_haul) + np.array(economy_short_haul), width=bar_width, label='Business Long Haul')\n",
    "plt.bar(x, economy_long_haul, bottom=np.array(business_short_haul) + np.array(economy_short_haul) + np.array(business_long_haul), width=bar_width, label='Economy Long Haul')\n",
    "\n",
    "# Adding labels\n",
    "plt.xlabel('Flight Scenarios')\n",
    "plt.ylabel('Flight Occurrences')\n",
    "plt.title('Stacked Flight Occurrences for Different Scenarios')\n",
    "plt.xticks(x, scenarios)\n",
    "plt.legend()\n",
    "\n",
    "# Show plot\n",
    "plt.show()\n"
   ]
  },
  {
   "cell_type": "code",
   "execution_count": 315,
   "metadata": {},
   "outputs": [
    {
     "data": {
      "image/png": "[encoded data removed]",
      "text/plain": [
       "<Figure size 2000x300 with 1 Axes>"
      ]
     },
     "metadata": {},
     "output_type": "display_data"
    }
   ],
   "source": [
    "import matplotlib.pyplot as plt\n",
    "import numpy as np\n",
    "\n",
    "# Example data\n",
    "baseline_short = [baseline_short_business, baseline_short_economy]\n",
    "baseline_long = [baseline_long_business, baseline_long_economy]\n",
    "scenarios = ['Business', 'Economy']\n",
    "\n",
    "# Convert the data to million tons\n",
    "baseline_short = [value / 1e6 for value in baseline_short]\n",
    "baseline_long = [value / 1e6 for value in baseline_long]\n",
    "\n",
    "# Define the width of the bars\n",
    "bar_width = 0.35\n",
    "\n",
    "# Set the positions of the bars on the y-axis\n",
    "y = np.arange(len(scenarios))\n",
    "\n",
    "plt.figure(figsize=(20, 3))\n",
    "# Plotting\n",
    "plt.barh(y + bar_width/2, baseline_short, height=bar_width, label='Short Haul', color='blue')\n",
    "plt.barh(y - bar_width/2, baseline_long, height=bar_width, label='Long Haul', color='lightblue')\n",
    "\n",
    "# Adding labels\n",
    "plt.xlabel('CO2 Emission (Million tons)')\n",
    "# plt.ylabel('Flight Scenarios')\n",
    "# plt.title('Baseline Flight Occurrences for Different Scenarios')\n",
    "plt.yticks(y, scenarios)\n",
    "plt.legend()\n",
    "\n",
    "# Show plot\n",
    "plt.show()\n"
   ]
  },
  {
   "cell_type": "code",
   "execution_count": 314,
   "metadata": {},
   "outputs": [
    {
     "data": {
      "image/png": "[encoded data removed]",
      "text/plain": [
       "<Figure size 640x480 with 1 Axes>"
      ]
     },
     "metadata": {},
     "output_type": "display_data"
    }
   ],
   "source": [
    "\n",
    "scenarios = ['Business', 'Economy']\n",
    "\n",
    "# Calculate the reduction due to the short-term scenario\n",
    "reduction_business_short = baseline_short_business - change_short_business\n",
    "reduction_economy_short = baseline_short_economy - change_short_economy\n",
    "\n",
    "# Define the width of the bars\n",
    "bar_width = 0.35\n",
    "\n",
    "# Set the positions of the bars on the y-axis\n",
    "y = np.arange(len(scenarios))\n",
    "\n",
    "# Plotting\n",
    "plt.barh(y + bar_width/2, baseline_short_business, height=bar_width, label='Baseline Business Short Haul', color='blue')\n",
    "plt.barh(y - bar_width/2, baseline_short_economy, height=bar_width, label='Baseline Economy Short Haul', color='green')\n",
    "plt.barh(y + bar_width/2, change_short_business, height=bar_width, label='Reduction Business Short Haul', color='red', left=baseline_short_business)\n",
    "plt.barh(y - bar_width/2, change_short_economy, height=bar_width, label='Reduction Economy Short Haul', color='orange', left=baseline_short_economy)\n",
    "\n",
    "# Adding labels\n",
    "plt.xlabel('Flight Occurrences')\n",
    "plt.ylabel('Flight Scenarios')\n",
    "plt.title('Reduction Due to Short-Term Scenario (Short Haul)')\n",
    "plt.yticks(y, scenarios)\n",
    "plt.legend()\n",
    "\n",
    "# Show plot\n",
    "plt.show()"
   ]
  },
  {
   "cell_type": "code",
   "execution_count": null,
   "metadata": {},
   "outputs": [
    {
     "data": {
      "application/vnd.plotly.v1+json": {
       "config": {
        "plotlyServerURL": "https://plot.ly"
       },
       "data": [
        {
         "marker": {
          "color": "blue"
         },
         "name": "Business Short Haul",
         "type": "bar",
         "x": [
          0,
          1,
          2
         ],
         "y": [
          3325301.632500158,
          2836533.0542286206,
          2588485.8589966847
         ]
        },
        {
         "marker": {
          "color": "lightblue"
         },
         "name": "Economy Short Haul",
         "type": "bar",
         "x": [
          0,
          1,
          2
         ],
         "y": [
          7084481.117078481,
          6819261.807432879,
          6564650.410720055
         ]
        },
        {
         "marker": {
          "color": "green"
         },
         "name": "Business Long Haul",
         "type": "bar",
         "x": [
          0,
          1,
          2
         ],
         "y": [
          27897169.787907157,
          25323379.27774872,
          24377979.644637886
         ]
        },
        {
         "marker": {
          "color": "lightgreen"
         },
         "name": "Economy Long Haul",
         "type": "bar",
         "x": [
          0,
          1,
          2
         ],
         "y": [
          59434299.32813806,
          60879513.77349636,
          61824913.40660719
         ]
        }
       ],
       "layout": {
        "barmode": "stack",
        "height": 500,
        "legend": {
         "x": 1.02,
         "y": 1
        },
        "template": {
         "data": {
          "bar": [
           {
            "error_x": {
             "color": "#2a3f5f"
            },
            "error_y": {
             "color": "#2a3f5f"
            },
            "marker": {
             "line": {
              "color": "#E5ECF6",
              "width": 0.5
             },
             "pattern": {
              "fillmode": "overlay",
              "size": 10,
              "solidity": 0.2
             }
            },
            "type": "bar"
           }
          ],
          "barpolar": [
           {
            "marker": {
             "line": {
              "color": "#E5ECF6",
              "width": 0.5
             },
             "pattern": {
              "fillmode": "overlay",
              "size": 10,
              "solidity": 0.2
             }
            },
            "type": "barpolar"
           }
          ],
          "carpet": [
           {
            "aaxis": {
             "endlinecolor": "#2a3f5f",
             "gridcolor": "white",
             "linecolor": "white",
             "minorgridcolor": "white",
             "startlinecolor": "#2a3f5f"
            },
            "baxis": {
             "endlinecolor": "#2a3f5f",
             "gridcolor": "white",
             "linecolor": "white",
             "minorgridcolor": "white",
             "startlinecolor": "#2a3f5f"
            },
            "type": "carpet"
           }
          ],
          "choropleth": [
           {
            "colorbar": {
             "outlinewidth": 0,
             "ticks": ""
            },
            "type": "choropleth"
           }
          ],
          "contour": [
           {
            "colorbar": {
             "outlinewidth": 0,
             "ticks": ""
            },
            "colorscale": [
             [
              0,
              "#0d0887"
             ],
             [
              0.1111111111111111,
              "#46039f"
             ],
             [
              0.2222222222222222,
              "#7201a8"
             ],
             [
              0.3333333333333333,
              "#9c179e"
             ],
             [
              0.4444444444444444,
              "#bd3786"
             ],
             [
              0.5555555555555556,
              "#d8576b"
             ],
             [
              0.6666666666666666,
              "#ed7953"
             ],
             [
              0.7777777777777778,
              "#fb9f3a"
             ],
             [
              0.8888888888888888,
              "#fdca26"
             ],
             [
              1,
              "#f0f921"
             ]
            ],
            "type": "contour"
           }
          ],
          "contourcarpet": [
           {
            "colorbar": {
             "outlinewidth": 0,
             "ticks": ""
            },
            "type": "contourcarpet"
           }
          ],
          "heatmap": [
           {
            "colorbar": {
             "outlinewidth": 0,
             "ticks": ""
            },
            "colorscale": [
             [
              0,
              "#0d0887"
             ],
             [
              0.1111111111111111,
              "#46039f"
             ],
             [
              0.2222222222222222,
              "#7201a8"
             ],
             [
              0.3333333333333333,
              "#9c179e"
             ],
             [
              0.4444444444444444,
              "#bd3786"
             ],
             [
              0.5555555555555556,
              "#d8576b"
             ],
             [
              0.6666666666666666,
              "#ed7953"
             ],
             [
              0.7777777777777778,
              "#fb9f3a"
             ],
             [
              0.8888888888888888,
              "#fdca26"
             ],
             [
              1,
              "#f0f921"
             ]
            ],
            "type": "heatmap"
           }
          ],
          "heatmapgl": [
           {
            "colorbar": {
             "outlinewidth": 0,
             "ticks": ""
            },
            "colorscale": [
             [
              0,
              "#0d0887"
             ],
             [
              0.1111111111111111,
              "#46039f"
             ],
             [
              0.2222222222222222,
              "#7201a8"
             ],
             [
              0.3333333333333333,
              "#9c179e"
             ],
             [
              0.4444444444444444,
              "#bd3786"
             ],
             [
              0.5555555555555556,
              "#d8576b"
             ],
             [
              0.6666666666666666,
              "#ed7953"
             ],
             [
              0.7777777777777778,
              "#fb9f3a"
             ],
             [
              0.8888888888888888,
              "#fdca26"
             ],
             [
              1,
              "#f0f921"
             ]
            ],
            "type": "heatmapgl"
           }
          ],
          "histogram": [
           {
            "marker": {
             "pattern": {
              "fillmode": "overlay",
              "size": 10,
              "solidity": 0.2
             }
            },
            "type": "histogram"
           }
          ],
          "histogram2d": [
           {
            "colorbar": {
             "outlinewidth": 0,
             "ticks": ""
            },
            "colorscale": [
             [
              0,
              "#0d0887"
             ],
             [
              0.1111111111111111,
              "#46039f"
             ],
             [
              0.2222222222222222,
              "#7201a8"
             ],
             [
              0.3333333333333333,
              "#9c179e"
             ],
             [
              0.4444444444444444,
              "#bd3786"
             ],
             [
              0.5555555555555556,
              "#d8576b"
             ],
             [
              0.6666666666666666,
              "#ed7953"
             ],
             [
              0.7777777777777778,
              "#fb9f3a"
             ],
             [
              0.8888888888888888,
              "#fdca26"
             ],
             [
              1,
              "#f0f921"
             ]
            ],
            "type": "histogram2d"
           }
          ],
          "histogram2dcontour": [
           {
            "colorbar": {
             "outlinewidth": 0,
             "ticks": ""
            },
            "colorscale": [
             [
              0,
              "#0d0887"
             ],
             [
              0.1111111111111111,
              "#46039f"
             ],
             [
              0.2222222222222222,
              "#7201a8"
             ],
             [
              0.3333333333333333,
              "#9c179e"
             ],
             [
              0.4444444444444444,
              "#bd3786"
             ],
             [
              0.5555555555555556,
              "#d8576b"
             ],
             [
              0.6666666666666666,
              "#ed7953"
             ],
             [
              0.7777777777777778,
              "#fb9f3a"
             ],
             [
              0.8888888888888888,
              "#fdca26"
             ],
             [
              1,
              "#f0f921"
             ]
            ],
            "type": "histogram2dcontour"
           }
          ],
          "mesh3d": [
           {
            "colorbar": {
             "outlinewidth": 0,
             "ticks": ""
            },
            "type": "mesh3d"
           }
          ],
          "parcoords": [
           {
            "line": {
             "colorbar": {
              "outlinewidth": 0,
              "ticks": ""
             }
            },
            "type": "parcoords"
           }
          ],
          "pie": [
           {
            "automargin": true,
            "type": "pie"
           }
          ],
          "scatter": [
           {
            "fillpattern": {
             "fillmode": "overlay",
             "size": 10,
             "solidity": 0.2
            },
            "type": "scatter"
           }
          ],
          "scatter3d": [
           {
            "line": {
             "colorbar": {
              "outlinewidth": 0,
              "ticks": ""
             }
            },
            "marker": {
             "colorbar": {
              "outlinewidth": 0,
              "ticks": ""
             }
            },
            "type": "scatter3d"
           }
          ],
          "scattercarpet": [
           {
            "marker": {
             "colorbar": {
              "outlinewidth": 0,
              "ticks": ""
             }
            },
            "type": "scattercarpet"
           }
          ],
          "scattergeo": [
           {
            "marker": {
             "colorbar": {
              "outlinewidth": 0,
              "ticks": ""
             }
            },
            "type": "scattergeo"
           }
          ],
          "scattergl": [
           {
            "marker": {
             "colorbar": {
              "outlinewidth": 0,
              "ticks": ""
             }
            },
            "type": "scattergl"
           }
          ],
          "scattermapbox": [
           {
            "marker": {
             "colorbar": {
              "outlinewidth": 0,
              "ticks": ""
             }
            },
            "type": "scattermapbox"
           }
          ],
          "scatterpolar": [
           {
            "marker": {
             "colorbar": {
              "outlinewidth": 0,
              "ticks": ""
             }
            },
            "type": "scatterpolar"
           }
          ],
          "scatterpolargl": [
           {
            "marker": {
             "colorbar": {
              "outlinewidth": 0,
              "ticks": ""
             }
            },
            "type": "scatterpolargl"
           }
          ],
          "scatterternary": [
           {
            "marker": {
             "colorbar": {
              "outlinewidth": 0,
              "ticks": ""
             }
            },
            "type": "scatterternary"
           }
          ],
          "surface": [
           {
            "colorbar": {
             "outlinewidth": 0,
             "ticks": ""
            },
            "colorscale": [
             [
              0,
              "#0d0887"
             ],
             [
              0.1111111111111111,
              "#46039f"
             ],
             [
              0.2222222222222222,
              "#7201a8"
             ],
             [
              0.3333333333333333,
              "#9c179e"
             ],
             [
              0.4444444444444444,
              "#bd3786"
             ],
             [
              0.5555555555555556,
              "#d8576b"
             ],
             [
              0.6666666666666666,
              "#ed7953"
             ],
             [
              0.7777777777777778,
              "#fb9f3a"
             ],
             [
              0.8888888888888888,
              "#fdca26"
             ],
             [
              1,
              "#f0f921"
             ]
            ],
            "type": "surface"
           }
          ],
          "table": [
           {
            "cells": {
             "fill": {
              "color": "#EBF0F8"
             },
             "line": {
              "color": "white"
             }
            },
            "header": {
             "fill": {
              "color": "#C8D4E3"
             },
             "line": {
              "color": "white"
             }
            },
            "type": "table"
           }
          ]
         },
         "layout": {
          "annotationdefaults": {
           "arrowcolor": "#2a3f5f",
           "arrowhead": 0,
           "arrowwidth": 1
          },
          "autotypenumbers": "strict",
          "coloraxis": {
           "colorbar": {
            "outlinewidth": 0,
            "ticks": ""
           }
          },
          "colorscale": {
           "diverging": [
            [
             0,
             "#8e0152"
            ],
            [
             0.1,
             "#c51b7d"
            ],
            [
             0.2,
             "#de77ae"
            ],
            [
             0.3,
             "#f1b6da"
            ],
            [
             0.4,
             "#fde0ef"
            ],
            [
             0.5,
             "#f7f7f7"
            ],
            [
             0.6,
             "#e6f5d0"
            ],
            [
             0.7,
             "#b8e186"
            ],
            [
             0.8,
             "#7fbc41"
            ],
            [
             0.9,
             "#4d9221"
            ],
            [
             1,
             "#276419"
            ]
           ],
           "sequential": [
            [
             0,
             "#0d0887"
            ],
            [
             0.1111111111111111,
             "#46039f"
            ],
            [
             0.2222222222222222,
             "#7201a8"
            ],
            [
             0.3333333333333333,
             "#9c179e"
            ],
            [
             0.4444444444444444,
             "#bd3786"
            ],
            [
             0.5555555555555556,
             "#d8576b"
            ],
            [
             0.6666666666666666,
             "#ed7953"
            ],
            [
             0.7777777777777778,
             "#fb9f3a"
            ],
            [
             0.8888888888888888,
             "#fdca26"
            ],
            [
             1,
             "#f0f921"
            ]
           ],
           "sequentialminus": [
            [
             0,
             "#0d0887"
            ],
            [
             0.1111111111111111,
             "#46039f"
            ],
            [
             0.2222222222222222,
             "#7201a8"
            ],
            [
             0.3333333333333333,
             "#9c179e"
            ],
            [
             0.4444444444444444,
             "#bd3786"
            ],
            [
             0.5555555555555556,
             "#d8576b"
            ],
            [
             0.6666666666666666,
             "#ed7953"
            ],
            [
             0.7777777777777778,
             "#fb9f3a"
            ],
            [
             0.8888888888888888,
             "#fdca26"
            ],
            [
             1,
             "#f0f921"
            ]
           ]
          },
          "colorway": [
           "#636efa",
           "#EF553B",
           "#00cc96",
           "#ab63fa",
           "#FFA15A",
           "#19d3f3",
           "#FF6692",
           "#B6E880",
           "#FF97FF",
           "#FECB52"
          ],
          "font": {
           "color": "#2a3f5f"
          },
          "geo": {
           "bgcolor": "white",
           "lakecolor": "white",
           "landcolor": "#E5ECF6",
           "showlakes": true,
           "showland": true,
           "subunitcolor": "white"
          },
          "hoverlabel": {
           "align": "left"
          },
          "hovermode": "closest",
          "mapbox": {
           "style": "light"
          },
          "paper_bgcolor": "white",
          "plot_bgcolor": "#E5ECF6",
          "polar": {
           "angularaxis": {
            "gridcolor": "white",
            "linecolor": "white",
            "ticks": ""
           },
           "bgcolor": "#E5ECF6",
           "radialaxis": {
            "gridcolor": "white",
            "linecolor": "white",
            "ticks": ""
           }
          },
          "scene": {
           "xaxis": {
            "backgroundcolor": "#E5ECF6",
            "gridcolor": "white",
            "gridwidth": 2,
            "linecolor": "white",
            "showbackground": true,
            "ticks": "",
            "zerolinecolor": "white"
           },
           "yaxis": {
            "backgroundcolor": "#E5ECF6",
            "gridcolor": "white",
            "gridwidth": 2,
            "linecolor": "white",
            "showbackground": true,
            "ticks": "",
            "zerolinecolor": "white"
           },
           "zaxis": {
            "backgroundcolor": "#E5ECF6",
            "gridcolor": "white",
            "gridwidth": 2,
            "linecolor": "white",
            "showbackground": true,
            "ticks": "",
            "zerolinecolor": "white"
           }
          },
          "shapedefaults": {
           "line": {
            "color": "#2a3f5f"
           }
          },
          "ternary": {
           "aaxis": {
            "gridcolor": "white",
            "linecolor": "white",
            "ticks": ""
           },
           "baxis": {
            "gridcolor": "white",
            "linecolor": "white",
            "ticks": ""
           },
           "bgcolor": "#E5ECF6",
           "caxis": {
            "gridcolor": "white",
            "linecolor": "white",
            "ticks": ""
           }
          },
          "title": {
           "x": 0.05
          },
          "xaxis": {
           "automargin": true,
           "gridcolor": "white",
           "linecolor": "white",
           "ticks": "",
           "title": {
            "standoff": 15
           },
           "zerolinecolor": "white",
           "zerolinewidth": 2
          },
          "yaxis": {
           "automargin": true,
           "gridcolor": "white",
           "linecolor": "white",
           "ticks": "",
           "title": {
            "standoff": 15
           },
           "zerolinecolor": "white",
           "zerolinewidth": 2
          }
         }
        },
        "title": {
         "text": "Stacked Flight Occurrences for Different Scenarios"
        },
        "width": 800,
        "xaxis": {
         "tickmode": "array",
         "ticktext": [
          "Baseline",
          "Short",
          "Medium"
         ],
         "tickvals": [
          0,
          1,
          2
         ]
        },
        "yaxis": {
         "title": {
          "text": "Total CO2 emission [kg]"
         }
        }
       }
      }
     },
     "metadata": {},
     "output_type": "display_data"
    }
   ],
   "source": [
    "# Define offset for annotation\n",
    "annotation_offset = 10\n",
    "\n",
    "# Example data\n",
    "business_short_haul = [baseline_short_business, change_short_business, change_short_business_new]  # Occurrences for BSH: Baseline, Short, Medium\n",
    "economy_short_haul = [baseline_short_economy, change_short_economy, change_short_economy_new]  # Occurrences for ESH: Baseline, Short, Medium\n",
    "business_long_haul = [baseline_long_business, change_long_business, change_long_business_new]  # Occurrences for BSH: Baseline, Short, Medium\n",
    "economy_long_haul = [baseline_long_economy, change_long_economy, change_long_economy_new]  # Occurrences for ESH: Baseline, Short, Medium\n",
    "scenarios = ['Baseline', 'Short', 'Medium']\n",
    "\n",
    "# Calculate total at the top of each column\n",
    "total_baseline = baseline_short_business + baseline_short_economy + baseline_long_business + baseline_long_economy\n",
    "total_short = change_short_business + change_short_economy + change_long_business + change_long_economy\n",
    "total_medium = change_short_business_new + change_short_economy_new + change_long_business_new + change_long_economy_new\n",
    "\n",
    "# Calculate total CO2 reduction\n",
    "total_reduction_short = total_baseline - total_short\n",
    "total_reduction_medium = total_short - total_medium\n",
    "\n",
    "# Define the width of the bars\n",
    "bar_width = 0.35\n",
    "\n",
    "# Set the positions of the bars on the x-axis\n",
    "x = np.arange(len(scenarios))\n",
    "\n",
    "# Plotting\n",
    "fig = go.Figure()\n",
    "\n",
    "fig.add_trace(go.Bar(x=x, y=business_short_haul, name='Business Short Haul', marker_color='blue'))\n",
    "fig.add_trace(go.Bar(x=x, y=economy_short_haul, name='Economy Short Haul', marker_color='lightblue'))\n",
    "fig.add_trace(go.Bar(x=x, y=business_long_haul, name='Business Long Haul', marker_color='green'))\n",
    "fig.add_trace(go.Bar(x=x, y=economy_long_haul, name='Economy Long Haul', marker_color='lightgreen'))\n",
    "\n",
    "# # Displaying reduction as total CO2 reduction\n",
    "# for i in range(1, len(scenarios)):\n",
    "#     reduction_percentage = (total_reduction_short / total_baseline) * 100 if scenarios[i] == 'Short' else (total_reduction_medium / total_short) * 100\n",
    "#     rounded_percentage = round(reduction_percentage, 2)\n",
    "#     fig.add_annotation(x=x[i], y=sum([business_short_haul[i], economy_short_haul[i], business_long_haul[i], economy_long_haul[i]]) + 5,\n",
    "#                        text=f\"Total reduction: {rounded_percentage}%\",\n",
    "#                        showarrow=False, xanchor='center', yanchor='bottom')\n",
    "\n",
    "# # Displaying reduction as total CO2 reduction\n",
    "# for i in range(1, len(scenarios)):\n",
    "#     reduction_percentage_short = (1 - total_reduction_short / total_baseline) * 100 if scenarios[i] == 'Short' else (1 - total_reduction_medium / total_short) * 100\n",
    "#     rounded_percentage_short = round(reduction_percentage_short, 2)\n",
    "    \n",
    "#     reduction_percentage_long = (1 - total_reduction_long / total_baseline) * 100 if scenarios[i] == 'Medium' else (1 - total_reduction_medium / total_medium) * 100\n",
    "#     rounded_percentage_long = round(reduction_percentage_long, 2)\n",
    "    \n",
    "#     fig.add_annotation(x=i, y=sum([business_short_haul[i], economy_short_haul[i], business_long_haul[i], economy_long_haul[i]]) + annotation_offset,\n",
    "#                        text=f\"Total reduction: {rounded_percentage_short}% (Short), {rounded_percentage_long}% (Long)\",\n",
    "#                        showarrow=False, xanchor='center', yanchor='bottom')\n",
    "\n",
    "\n",
    "# Adding labels and title\n",
    "fig.update_layout(\n",
    "    xaxis=dict(tickmode='array', tickvals=x, ticktext=scenarios),\n",
    "    yaxis=dict(title='Total CO2 emission [kg]'),\n",
    "    title='Stacked Flight Occurrences for Different Scenarios',\n",
    "    barmode='stack',\n",
    "    legend=dict(x=1.02, y=1),\n",
    "    width=800,  # Adjust plot width\n",
    "    height=500  # Adjust plot height\n",
    ")\n",
    "\n",
    "fig.show()\n"
   ]
  },
  {
   "cell_type": "code",
   "execution_count": 286,
   "metadata": {},
   "outputs": [
    {
     "name": "stderr",
     "output_type": "stream",
     "text": [
      "C:\\Users\\lukas\\AppData\\Local\\Temp\\ipykernel_13604\\2417586240.py:33: UserWarning:\n",
      "\n",
      "set_ticklabels() should only be used with a fixed number of ticks, i.e. after set_ticks() or using a FixedLocator.\n",
      "\n"
     ]
    },
    {
     "data": {
      "image/png": "[encoded data removed]",
      "text/plain": [
       "<Figure size 1000x600 with 1 Axes>"
      ]
     },
     "metadata": {},
     "output_type": "display_data"
    }
   ],
   "source": [
    "\n",
    "# Example data\n",
    "business_short_haul = [baseline_short_business, change_short_business, change_short_business_new]  # Occurrences for BSH: Baseline, Short, Medium\n",
    "economy_short_haul = [baseline_short_economy, change_short_economy, change_short_economy_new]  # Occurrences for ESH: Baseline, Short, Medium\n",
    "business_long_haul = [baseline_long_business, change_long_business, change_long_business_new]  # Occurrences for BSH: Baseline, Short, Medium\n",
    "economy_long_haul = [baseline_long_economy, change_long_economy, change_long_economy_new]  # Occurrences for ESH: Baseline, Short, Medium\n",
    "scenarios = ['Baseline', 'Short', 'Medium']\n",
    "\n",
    "# Calculate total at the top of each column\n",
    "total_business_short = [baseline_short_business + change_short_business + change_short_business_new]\n",
    "total_economy_short = [baseline_short_economy + change_short_economy + change_short_economy_new]\n",
    "total_business_long = [baseline_long_business + change_long_business + change_long_business_new]\n",
    "total_economy_long = [baseline_long_economy + change_long_economy + change_long_economy_new]\n",
    "\n",
    "# Define the width of the bars\n",
    "bar_width = 0.2\n",
    "\n",
    "# Set the positions of the bars on the x-axis\n",
    "x = np.arange(len(scenarios))\n",
    "\n",
    "# Plotting\n",
    "plt.figure(figsize=(10, 6))  # Adjust the figure size as needed\n",
    "plt.bar(x, business_short_haul, width=bar_width, label='Business Short Haul', color='blue')\n",
    "plt.bar(x, economy_short_haul, bottom=business_short_haul, width=bar_width, label='Economy Short Haul', color='lightblue')\n",
    "plt.bar(x, business_long_haul, bottom=np.array(business_short_haul) + np.array(economy_short_haul), width=bar_width, label='Business Long Haul', color='green')\n",
    "plt.bar(x, economy_long_haul, bottom=np.array(business_short_haul) + np.array(economy_short_haul) + np.array(business_long_haul), width=bar_width, label='Economy Long Haul', color='lightgreen')\n",
    "\n",
    "# Adding labels\n",
    "plt.ylabel('Total Flight CO2 emission [kg]')\n",
    "plt.xticks(x, scenarios)\n",
    "plt.legend(loc='upper left', bbox_to_anchor=(1, 1))  # Move legend outside of the plot area\n",
    "\n",
    "# Manually setting y-axis tick labels in units of 100m\n",
    "plt.gca().set_yticklabels(['{:.0f}m'.format(tick /1000000) for tick in plt.gca().get_yticks()])\n",
    "\n",
    "# Show plot\n",
    "plt.show()"
   ]
  },
  {
   "cell_type": "code",
   "execution_count": null,
   "metadata": {},
   "outputs": [],
   "source": []
  },
  {
   "cell_type": "code",
   "execution_count": 264,
   "metadata": {},
   "outputs": [
    {
     "name": "stderr",
     "output_type": "stream",
     "text": [
      "C:\\Users\\lukas\\AppData\\Local\\Temp\\ipykernel_13604\\2421421148.py:56: UserWarning:\n",
      "\n",
      "set_ticklabels() should only be used with a fixed number of ticks, i.e. after set_ticks() or using a FixedLocator.\n",
      "\n"
     ]
    },
    {
     "data": {
      "image/png": "[encoded data removed]",
      "text/plain": [
       "<Figure size 1000x600 with 1 Axes>"
      ]
     },
     "metadata": {},
     "output_type": "display_data"
    }
   ],
   "source": [
    "    import matplotlib.pyplot as plt\n",
    "import numpy as np\n",
    "\n",
    "# Example data\n",
    "business_short_haul = [baseline_short_business, change_short_business, change_short_business_new]  # Occurrences for BSH: Baseline, Short, Medium\n",
    "economy_short_haul = [baseline_short_economy, change_short_economy, change_short_economy_new]  # Occurrences for ESH: Baseline, Short, Medium\n",
    "business_long_haul = [baseline_long_business, change_long_business, change_long_business_new]  # Occurrences for BSH: Baseline, Short, Medium\n",
    "economy_long_haul = [baseline_long_economy, change_long_economy, change_long_economy_new]  # Occurrences for ESH: Baseline, Short, Medium\n",
    "scenarios = ['Baseline', 'Short', 'Medium']\n",
    "\n",
    "# Calculate total at the top of each column\n",
    "total_business_short = [baseline_short_business + change_short_business + change_short_business_new]\n",
    "total_economy_short = [baseline_short_economy + change_short_economy + change_short_economy_new]\n",
    "total_business_long = [baseline_long_business + change_long_business + change_long_business_new]\n",
    "total_economy_long = [baseline_long_economy + change_long_economy + change_long_economy_new]\n",
    "\n",
    "# Calculate the changes for each category\n",
    "changes_business_short = [baseline_short_business - change_short_business, change_short_business - change_short_business_new]\n",
    "changes_economy_short = [baseline_short_economy - change_short_economy, change_short_economy - change_short_economy_new]\n",
    "changes_business_long = [baseline_long_business - change_long_business, change_long_business - change_long_business_new]\n",
    "changes_economy_long = [baseline_long_economy - change_long_economy, change_long_economy - change_long_economy_new]\n",
    "\n",
    "# Define the width of the bars\n",
    "bar_width = 0.4\n",
    "\n",
    "# Set the positions of the bars on the x-axis\n",
    "x = np.arange(len(scenarios))\n",
    "\n",
    "# Plotting\n",
    "plt.figure(figsize=(10, 6))  # Adjust the figure size as needed\n",
    "\n",
    "# Plotting business short haul\n",
    "plt.bar(x, business_short_haul, width=bar_width, label='Business Short Haul', color='blue')\n",
    "\n",
    "# Plotting economy short haul\n",
    "plt.bar(x, economy_short_haul, bottom=business_short_haul, width=bar_width, label='Economy Short Haul', color='lightblue')\n",
    "\n",
    "# Plotting business long haul\n",
    "plt.bar(x, business_long_haul, bottom=np.array(business_short_haul) + np.array(economy_short_haul), width=bar_width, label='Business Long Haul', color='green')\n",
    "\n",
    "# Plotting economy long haul\n",
    "plt.bar(x, economy_long_haul, bottom=np.array(business_short_haul) + np.array(economy_short_haul) + np.array(business_long_haul), width=bar_width, label='Economy Long Haul', color='lightgreen')\n",
    "\n",
    "# Plotting changes as waterfall bars\n",
    "plt.bar(x[1:], changes_business_short, bottom=[0, 0], width=bar_width, color='blue', alpha=0.5, hatch='//', label='Change Business Short Haul')\n",
    "plt.bar(x[1:], changes_economy_short, bottom=[0, 0], width=bar_width, color='lightblue', alpha=0.5, hatch='//', label='Change Economy Short Haul')\n",
    "plt.bar(x[1:], changes_business_long, bottom=[0, 0], width=bar_width, color='green', alpha=0.5, hatch='//', label='Change Business Long Haul')\n",
    "plt.bar(x[1:], changes_economy_long, bottom=[0, 0], width=bar_width, color='lightgreen', alpha=0.5, hatch='//', label='Change Economy Long Haul')\n",
    "\n",
    "# Adding labels\n",
    "plt.ylabel('Total Flight CO2 emission [kg]')\n",
    "plt.xticks(x, scenarios)\n",
    "plt.legend(loc='upper left', bbox_to_anchor=(1, 1))  # Move legend outside of the plot area\n",
    "\n",
    "# Manually setting y-axis tick labels in units of 100m\n",
    "plt.gca().set_yticklabels(['{:.0f}m'.format(tick / 1000000) for tick in plt.gca().get_yticks()])\n",
    "\n",
    "# Show plot\n",
    "plt.show()\n"
   ]
  },
  {
   "cell_type": "code",
   "execution_count": 248,
   "metadata": {},
   "outputs": [
    {
     "data": {
      "application/vnd.plotly.v1+json": {
       "config": {
        "plotlyServerURL": "https://plot.ly"
       },
       "data": [
        {
         "marker": {
          "color": "blue"
         },
         "name": "Business Short Haul",
         "type": "bar",
         "x": [
          0,
          1,
          2
         ],
         "y": [
          3325301.632500158,
          2836533.0542286206,
          2588485.8589966847
         ]
        },
        {
         "marker": {
          "color": "lightblue"
         },
         "name": "Economy Short Haul",
         "type": "bar",
         "x": [
          0,
          1,
          2
         ],
         "y": [
          7084481.117078481,
          6819261.807432879,
          6564650.410720055
         ]
        },
        {
         "marker": {
          "color": "green"
         },
         "name": "Business Long Haul",
         "type": "bar",
         "x": [
          0,
          1,
          2
         ],
         "y": [
          27897169.787907157,
          25323379.27774872,
          24377979.644637886
         ]
        },
        {
         "marker": {
          "color": "lightgreen"
         },
         "name": "Economy Long Haul",
         "type": "bar",
         "x": [
          0,
          1,
          2
         ],
         "y": [
          59434299.32813806,
          60879513.77349636,
          61824913.40660719
         ]
        }
       ],
       "layout": {
        "barmode": "stack",
        "height": 500,
        "legend": {
         "x": 1.02,
         "y": 1
        },
        "template": {
         "data": {
          "bar": [
           {
            "error_x": {
             "color": "#2a3f5f"
            },
            "error_y": {
             "color": "#2a3f5f"
            },
            "marker": {
             "line": {
              "color": "#E5ECF6",
              "width": 0.5
             },
             "pattern": {
              "fillmode": "overlay",
              "size": 10,
              "solidity": 0.2
             }
            },
            "type": "bar"
           }
          ],
          "barpolar": [
           {
            "marker": {
             "line": {
              "color": "#E5ECF6",
              "width": 0.5
             },
             "pattern": {
              "fillmode": "overlay",
              "size": 10,
              "solidity": 0.2
             }
            },
            "type": "barpolar"
           }
          ],
          "carpet": [
           {
            "aaxis": {
             "endlinecolor": "#2a3f5f",
             "gridcolor": "white",
             "linecolor": "white",
             "minorgridcolor": "white",
             "startlinecolor": "#2a3f5f"
            },
            "baxis": {
             "endlinecolor": "#2a3f5f",
             "gridcolor": "white",
             "linecolor": "white",
             "minorgridcolor": "white",
             "startlinecolor": "#2a3f5f"
            },
            "type": "carpet"
           }
          ],
          "choropleth": [
           {
            "colorbar": {
             "outlinewidth": 0,
             "ticks": ""
            },
            "type": "choropleth"
           }
          ],
          "contour": [
           {
            "colorbar": {
             "outlinewidth": 0,
             "ticks": ""
            },
            "colorscale": [
             [
              0,
              "#0d0887"
             ],
             [
              0.1111111111111111,
              "#46039f"
             ],
             [
              0.2222222222222222,
              "#7201a8"
             ],
             [
              0.3333333333333333,
              "#9c179e"
             ],
             [
              0.4444444444444444,
              "#bd3786"
             ],
             [
              0.5555555555555556,
              "#d8576b"
             ],
             [
              0.6666666666666666,
              "#ed7953"
             ],
             [
              0.7777777777777778,
              "#fb9f3a"
             ],
             [
              0.8888888888888888,
              "#fdca26"
             ],
             [
              1,
              "#f0f921"
             ]
            ],
            "type": "contour"
           }
          ],
          "contourcarpet": [
           {
            "colorbar": {
             "outlinewidth": 0,
             "ticks": ""
            },
            "type": "contourcarpet"
           }
          ],
          "heatmap": [
           {
            "colorbar": {
             "outlinewidth": 0,
             "ticks": ""
            },
            "colorscale": [
             [
              0,
              "#0d0887"
             ],
             [
              0.1111111111111111,
              "#46039f"
             ],
             [
              0.2222222222222222,
              "#7201a8"
             ],
             [
              0.3333333333333333,
              "#9c179e"
             ],
             [
              0.4444444444444444,
              "#bd3786"
             ],
             [
              0.5555555555555556,
              "#d8576b"
             ],
             [
              0.6666666666666666,
              "#ed7953"
             ],
             [
              0.7777777777777778,
              "#fb9f3a"
             ],
             [
              0.8888888888888888,
              "#fdca26"
             ],
             [
              1,
              "#f0f921"
             ]
            ],
            "type": "heatmap"
           }
          ],
          "heatmapgl": [
           {
            "colorbar": {
             "outlinewidth": 0,
             "ticks": ""
            },
            "colorscale": [
             [
              0,
              "#0d0887"
             ],
             [
              0.1111111111111111,
              "#46039f"
             ],
             [
              0.2222222222222222,
              "#7201a8"
             ],
             [
              0.3333333333333333,
              "#9c179e"
             ],
             [
              0.4444444444444444,
              "#bd3786"
             ],
             [
              0.5555555555555556,
              "#d8576b"
             ],
             [
              0.6666666666666666,
              "#ed7953"
             ],
             [
              0.7777777777777778,
              "#fb9f3a"
             ],
             [
              0.8888888888888888,
              "#fdca26"
             ],
             [
              1,
              "#f0f921"
             ]
            ],
            "type": "heatmapgl"
           }
          ],
          "histogram": [
           {
            "marker": {
             "pattern": {
              "fillmode": "overlay",
              "size": 10,
              "solidity": 0.2
             }
            },
            "type": "histogram"
           }
          ],
          "histogram2d": [
           {
            "colorbar": {
             "outlinewidth": 0,
             "ticks": ""
            },
            "colorscale": [
             [
              0,
              "#0d0887"
             ],
             [
              0.1111111111111111,
              "#46039f"
             ],
             [
              0.2222222222222222,
              "#7201a8"
             ],
             [
              0.3333333333333333,
              "#9c179e"
             ],
             [
              0.4444444444444444,
              "#bd3786"
             ],
             [
              0.5555555555555556,
              "#d8576b"
             ],
             [
              0.6666666666666666,
              "#ed7953"
             ],
             [
              0.7777777777777778,
              "#fb9f3a"
             ],
             [
              0.8888888888888888,
              "#fdca26"
             ],
             [
              1,
              "#f0f921"
             ]
            ],
            "type": "histogram2d"
           }
          ],
          "histogram2dcontour": [
           {
            "colorbar": {
             "outlinewidth": 0,
             "ticks": ""
            },
            "colorscale": [
             [
              0,
              "#0d0887"
             ],
             [
              0.1111111111111111,
              "#46039f"
             ],
             [
              0.2222222222222222,
              "#7201a8"
             ],
             [
              0.3333333333333333,
              "#9c179e"
             ],
             [
              0.4444444444444444,
              "#bd3786"
             ],
             [
              0.5555555555555556,
              "#d8576b"
             ],
             [
              0.6666666666666666,
              "#ed7953"
             ],
             [
              0.7777777777777778,
              "#fb9f3a"
             ],
             [
              0.8888888888888888,
              "#fdca26"
             ],
             [
              1,
              "#f0f921"
             ]
            ],
            "type": "histogram2dcontour"
           }
          ],
          "mesh3d": [
           {
            "colorbar": {
             "outlinewidth": 0,
             "ticks": ""
            },
            "type": "mesh3d"
           }
          ],
          "parcoords": [
           {
            "line": {
             "colorbar": {
              "outlinewidth": 0,
              "ticks": ""
             }
            },
            "type": "parcoords"
           }
          ],
          "pie": [
           {
            "automargin": true,
            "type": "pie"
           }
          ],
          "scatter": [
           {
            "fillpattern": {
             "fillmode": "overlay",
             "size": 10,
             "solidity": 0.2
            },
            "type": "scatter"
           }
          ],
          "scatter3d": [
           {
            "line": {
             "colorbar": {
              "outlinewidth": 0,
              "ticks": ""
             }
            },
            "marker": {
             "colorbar": {
              "outlinewidth": 0,
              "ticks": ""
             }
            },
            "type": "scatter3d"
           }
          ],
          "scattercarpet": [
           {
            "marker": {
             "colorbar": {
              "outlinewidth": 0,
              "ticks": ""
             }
            },
            "type": "scattercarpet"
           }
          ],
          "scattergeo": [
           {
            "marker": {
             "colorbar": {
              "outlinewidth": 0,
              "ticks": ""
             }
            },
            "type": "scattergeo"
           }
          ],
          "scattergl": [
           {
            "marker": {
             "colorbar": {
              "outlinewidth": 0,
              "ticks": ""
             }
            },
            "type": "scattergl"
           }
          ],
          "scattermapbox": [
           {
            "marker": {
             "colorbar": {
              "outlinewidth": 0,
              "ticks": ""
             }
            },
            "type": "scattermapbox"
           }
          ],
          "scatterpolar": [
           {
            "marker": {
             "colorbar": {
              "outlinewidth": 0,
              "ticks": ""
             }
            },
            "type": "scatterpolar"
           }
          ],
          "scatterpolargl": [
           {
            "marker": {
             "colorbar": {
              "outlinewidth": 0,
              "ticks": ""
             }
            },
            "type": "scatterpolargl"
           }
          ],
          "scatterternary": [
           {
            "marker": {
             "colorbar": {
              "outlinewidth": 0,
              "ticks": ""
             }
            },
            "type": "scatterternary"
           }
          ],
          "surface": [
           {
            "colorbar": {
             "outlinewidth": 0,
             "ticks": ""
            },
            "colorscale": [
             [
              0,
              "#0d0887"
             ],
             [
              0.1111111111111111,
              "#46039f"
             ],
             [
              0.2222222222222222,
              "#7201a8"
             ],
             [
              0.3333333333333333,
              "#9c179e"
             ],
             [
              0.4444444444444444,
              "#bd3786"
             ],
             [
              0.5555555555555556,
              "#d8576b"
             ],
             [
              0.6666666666666666,
              "#ed7953"
             ],
             [
              0.7777777777777778,
              "#fb9f3a"
             ],
             [
              0.8888888888888888,
              "#fdca26"
             ],
             [
              1,
              "#f0f921"
             ]
            ],
            "type": "surface"
           }
          ],
          "table": [
           {
            "cells": {
             "fill": {
              "color": "#EBF0F8"
             },
             "line": {
              "color": "white"
             }
            },
            "header": {
             "fill": {
              "color": "#C8D4E3"
             },
             "line": {
              "color": "white"
             }
            },
            "type": "table"
           }
          ]
         },
         "layout": {
          "annotationdefaults": {
           "arrowcolor": "#2a3f5f",
           "arrowhead": 0,
           "arrowwidth": 1
          },
          "autotypenumbers": "strict",
          "coloraxis": {
           "colorbar": {
            "outlinewidth": 0,
            "ticks": ""
           }
          },
          "colorscale": {
           "diverging": [
            [
             0,
             "#8e0152"
            ],
            [
             0.1,
             "#c51b7d"
            ],
            [
             0.2,
             "#de77ae"
            ],
            [
             0.3,
             "#f1b6da"
            ],
            [
             0.4,
             "#fde0ef"
            ],
            [
             0.5,
             "#f7f7f7"
            ],
            [
             0.6,
             "#e6f5d0"
            ],
            [
             0.7,
             "#b8e186"
            ],
            [
             0.8,
             "#7fbc41"
            ],
            [
             0.9,
             "#4d9221"
            ],
            [
             1,
             "#276419"
            ]
           ],
           "sequential": [
            [
             0,
             "#0d0887"
            ],
            [
             0.1111111111111111,
             "#46039f"
            ],
            [
             0.2222222222222222,
             "#7201a8"
            ],
            [
             0.3333333333333333,
             "#9c179e"
            ],
            [
             0.4444444444444444,
             "#bd3786"
            ],
            [
             0.5555555555555556,
             "#d8576b"
            ],
            [
             0.6666666666666666,
             "#ed7953"
            ],
            [
             0.7777777777777778,
             "#fb9f3a"
            ],
            [
             0.8888888888888888,
             "#fdca26"
            ],
            [
             1,
             "#f0f921"
            ]
           ],
           "sequentialminus": [
            [
             0,
             "#0d0887"
            ],
            [
             0.1111111111111111,
             "#46039f"
            ],
            [
             0.2222222222222222,
             "#7201a8"
            ],
            [
             0.3333333333333333,
             "#9c179e"
            ],
            [
             0.4444444444444444,
             "#bd3786"
            ],
            [
             0.5555555555555556,
             "#d8576b"
            ],
            [
             0.6666666666666666,
             "#ed7953"
            ],
            [
             0.7777777777777778,
             "#fb9f3a"
            ],
            [
             0.8888888888888888,
             "#fdca26"
            ],
            [
             1,
             "#f0f921"
            ]
           ]
          },
          "colorway": [
           "#636efa",
           "#EF553B",
           "#00cc96",
           "#ab63fa",
           "#FFA15A",
           "#19d3f3",
           "#FF6692",
           "#B6E880",
           "#FF97FF",
           "#FECB52"
          ],
          "font": {
           "color": "#2a3f5f"
          },
          "geo": {
           "bgcolor": "white",
           "lakecolor": "white",
           "landcolor": "#E5ECF6",
           "showlakes": true,
           "showland": true,
           "subunitcolor": "white"
          },
          "hoverlabel": {
           "align": "left"
          },
          "hovermode": "closest",
          "mapbox": {
           "style": "light"
          },
          "paper_bgcolor": "white",
          "plot_bgcolor": "#E5ECF6",
          "polar": {
           "angularaxis": {
            "gridcolor": "white",
            "linecolor": "white",
            "ticks": ""
           },
           "bgcolor": "#E5ECF6",
           "radialaxis": {
            "gridcolor": "white",
            "linecolor": "white",
            "ticks": ""
           }
          },
          "scene": {
           "xaxis": {
            "backgroundcolor": "#E5ECF6",
            "gridcolor": "white",
            "gridwidth": 2,
            "linecolor": "white",
            "showbackground": true,
            "ticks": "",
            "zerolinecolor": "white"
           },
           "yaxis": {
            "backgroundcolor": "#E5ECF6",
            "gridcolor": "white",
            "gridwidth": 2,
            "linecolor": "white",
            "showbackground": true,
            "ticks": "",
            "zerolinecolor": "white"
           },
           "zaxis": {
            "backgroundcolor": "#E5ECF6",
            "gridcolor": "white",
            "gridwidth": 2,
            "linecolor": "white",
            "showbackground": true,
            "ticks": "",
            "zerolinecolor": "white"
           }
          },
          "shapedefaults": {
           "line": {
            "color": "#2a3f5f"
           }
          },
          "ternary": {
           "aaxis": {
            "gridcolor": "white",
            "linecolor": "white",
            "ticks": ""
           },
           "baxis": {
            "gridcolor": "white",
            "linecolor": "white",
            "ticks": ""
           },
           "bgcolor": "#E5ECF6",
           "caxis": {
            "gridcolor": "white",
            "linecolor": "white",
            "ticks": ""
           }
          },
          "title": {
           "x": 0.05
          },
          "xaxis": {
           "automargin": true,
           "gridcolor": "white",
           "linecolor": "white",
           "ticks": "",
           "title": {
            "standoff": 15
           },
           "zerolinecolor": "white",
           "zerolinewidth": 2
          },
          "yaxis": {
           "automargin": true,
           "gridcolor": "white",
           "linecolor": "white",
           "ticks": "",
           "title": {
            "standoff": 15
           },
           "zerolinecolor": "white",
           "zerolinewidth": 2
          }
         }
        },
        "title": {
         "text": "Stacked Flight Occurrences for Different Scenarios"
        },
        "width": 800,
        "xaxis": {
         "tickmode": "array",
         "ticktext": [
          "Baseline",
          "Short",
          "Medium"
         ],
         "tickvals": [
          0,
          1,
          2
         ]
        },
        "yaxis": {
         "title": {
          "text": "Total CO2 emission [kg]"
         }
        }
       }
      }
     },
     "metadata": {},
     "output_type": "display_data"
    }
   ],
   "source": [
    "# Define offset for annotation\n",
    "annotation_offset = 10\n",
    "\n",
    "# Example data\n",
    "business_short_haul = [baseline_short_business, change_short_business, change_short_business_new]  # Occurrences for BSH: Baseline, Short, Medium\n",
    "economy_short_haul = [baseline_short_economy, change_short_economy, change_short_economy_new]  # Occurrences for ESH: Baseline, Short, Medium\n",
    "business_long_haul = [baseline_long_business, change_long_business, change_long_business_new]  # Occurrences for BSH: Baseline, Short, Medium\n",
    "economy_long_haul = [baseline_long_economy, change_long_economy, change_long_economy_new]  # Occurrences for ESH: Baseline, Short, Medium\n",
    "scenarios = ['Baseline', 'Short', 'Medium']\n",
    "\n",
    "# Calculate total at the top of each column\n",
    "total_baseline = baseline_short_business + baseline_short_economy + baseline_long_business + baseline_long_economy\n",
    "total_short = change_short_business + change_short_economy + change_long_business + change_long_economy\n",
    "total_medium = change_short_business_new + change_short_economy_new + change_long_business_new + change_long_economy_new\n",
    "\n",
    "# Calculate total CO2 reduction\n",
    "total_reduction_short = total_baseline - total_short\n",
    "total_reduction_medium = total_short - total_medium\n",
    "\n",
    "# Define the width of the bars\n",
    "bar_width = 0.35\n",
    "\n",
    "# Set the positions of the bars on the x-axis\n",
    "x = np.arange(len(scenarios))\n",
    "\n",
    "# Plotting\n",
    "fig = go.Figure()\n",
    "\n",
    "fig.add_trace(go.Bar(x=x, y=business_short_haul, name='Business Short Haul', marker_color='blue'))\n",
    "fig.add_trace(go.Bar(x=x, y=economy_short_haul, name='Economy Short Haul', marker_color='lightblue'))\n",
    "fig.add_trace(go.Bar(x=x, y=business_long_haul, name='Business Long Haul', marker_color='green'))\n",
    "fig.add_trace(go.Bar(x=x, y=economy_long_haul, name='Economy Long Haul', marker_color='lightgreen'))\n",
    "\n",
    "# # Displaying reduction as total CO2 reduction\n",
    "# for i in range(1, len(scenarios)):\n",
    "#     reduction_percentage = (total_reduction_short / total_baseline) * 100 if scenarios[i] == 'Short' else (total_reduction_medium / total_short) * 100\n",
    "#     rounded_percentage = round(reduction_percentage, 2)\n",
    "#     fig.add_annotation(x=x[i], y=sum([business_short_haul[i], economy_short_haul[i], business_long_haul[i], economy_long_haul[i]]) + 5,\n",
    "#                        text=f\"Total reduction: {rounded_percentage}%\",\n",
    "#                        showarrow=False, xanchor='center', yanchor='bottom')\n",
    "\n",
    "# # Displaying reduction as total CO2 reduction\n",
    "# for i in range(1, len(scenarios)):\n",
    "#     reduction_percentage_short = (1 - total_reduction_short / total_baseline) * 100 if scenarios[i] == 'Short' else (1 - total_reduction_medium / total_short) * 100\n",
    "#     rounded_percentage_short = round(reduction_percentage_short, 2)\n",
    "    \n",
    "#     reduction_percentage_long = (1 - total_reduction_long / total_baseline) * 100 if scenarios[i] == 'Medium' else (1 - total_reduction_medium / total_medium) * 100\n",
    "#     rounded_percentage_long = round(reduction_percentage_long, 2)\n",
    "    \n",
    "#     fig.add_annotation(x=i, y=sum([business_short_haul[i], economy_short_haul[i], business_long_haul[i], economy_long_haul[i]]) + annotation_offset,\n",
    "#                        text=f\"Total reduction: {rounded_percentage_short}% (Short), {rounded_percentage_long}% (Long)\",\n",
    "#                        showarrow=False, xanchor='center', yanchor='bottom')\n",
    "\n",
    "\n",
    "# Adding labels and title\n",
    "fig.update_layout(\n",
    "    xaxis=dict(tickmode='array', tickvals=x, ticktext=scenarios),\n",
    "    yaxis=dict(title='Total CO2 emission [kg]'),\n",
    "    title='Stacked Flight Occurrences for Different Scenarios',\n",
    "    barmode='stack',\n",
    "    legend=dict(x=1.02, y=1),\n",
    "    width=800,  # Adjust plot width\n",
    "    height=500  # Adjust plot height\n",
    ")\n",
    "\n",
    "fig.show()\n"
   ]
  },
  {
   "cell_type": "code",
   "execution_count": 242,
   "metadata": {},
   "outputs": [
    {
     "data": {
      "application/vnd.plotly.v1+json": {
       "config": {
        "plotlyServerURL": "https://plot.ly"
       },
       "data": [
        {
         "marker": {
          "color": "blue"
         },
         "name": "Business Short Haul",
         "type": "bar",
         "x": [
          "Baseline",
          "Short",
          "Medium"
         ],
         "y": [
          3325301.632500158,
          2836533.0542286206,
          2588485.8589966847
         ]
        },
        {
         "marker": {
          "color": "lightblue"
         },
         "name": "Economy Short Haul",
         "type": "bar",
         "x": [
          "Baseline",
          "Short",
          "Medium"
         ],
         "y": [
          7084481.117078481,
          6819261.807432879,
          6564650.410720055
         ]
        },
        {
         "marker": {
          "color": "green"
         },
         "name": "Business Long Haul",
         "type": "bar",
         "x": [
          "Baseline",
          "Short",
          "Medium"
         ],
         "y": [
          27897169.787907157,
          25323379.27774872,
          24377979.644637886
         ]
        },
        {
         "marker": {
          "color": "lightgreen"
         },
         "name": "Economy Long Haul",
         "type": "bar",
         "x": [
          "Baseline",
          "Short",
          "Medium"
         ],
         "y": [
          59434299.32813806,
          60879513.77349636,
          61824913.40660719
         ]
        }
       ],
       "layout": {
        "annotations": [
         {
          "showarrow": false,
          "text": "Total reduction: 1.93% (Short), 0.53% (Long)",
          "x": 1,
          "xanchor": "center",
          "y": 95858697.91290659,
          "yanchor": "bottom"
         },
         {
          "showarrow": false,
          "text": "Total reduction: 0.52% (Short), 99.23% (Long)",
          "x": 2,
          "xanchor": "center",
          "y": 95356039.32096182,
          "yanchor": "bottom"
         }
        ],
        "barmode": "stack",
        "legend": {
         "bgcolor": "rgba(255, 255, 255, 0)",
         "bordercolor": "rgba(255, 255, 255, 0)",
         "x": 1.02,
         "y": 1
        },
        "plot_bgcolor": "rgba(0, 0, 0, 0)",
        "template": {
         "data": {
          "bar": [
           {
            "error_x": {
             "color": "#2a3f5f"
            },
            "error_y": {
             "color": "#2a3f5f"
            },
            "marker": {
             "line": {
              "color": "#E5ECF6",
              "width": 0.5
             },
             "pattern": {
              "fillmode": "overlay",
              "size": 10,
              "solidity": 0.2
             }
            },
            "type": "bar"
           }
          ],
          "barpolar": [
           {
            "marker": {
             "line": {
              "color": "#E5ECF6",
              "width": 0.5
             },
             "pattern": {
              "fillmode": "overlay",
              "size": 10,
              "solidity": 0.2
             }
            },
            "type": "barpolar"
           }
          ],
          "carpet": [
           {
            "aaxis": {
             "endlinecolor": "#2a3f5f",
             "gridcolor": "white",
             "linecolor": "white",
             "minorgridcolor": "white",
             "startlinecolor": "#2a3f5f"
            },
            "baxis": {
             "endlinecolor": "#2a3f5f",
             "gridcolor": "white",
             "linecolor": "white",
             "minorgridcolor": "white",
             "startlinecolor": "#2a3f5f"
            },
            "type": "carpet"
           }
          ],
          "choropleth": [
           {
            "colorbar": {
             "outlinewidth": 0,
             "ticks": ""
            },
            "type": "choropleth"
           }
          ],
          "contour": [
           {
            "colorbar": {
             "outlinewidth": 0,
             "ticks": ""
            },
            "colorscale": [
             [
              0,
              "#0d0887"
             ],
             [
              0.1111111111111111,
              "#46039f"
             ],
             [
              0.2222222222222222,
              "#7201a8"
             ],
             [
              0.3333333333333333,
              "#9c179e"
             ],
             [
              0.4444444444444444,
              "#bd3786"
             ],
             [
              0.5555555555555556,
              "#d8576b"
             ],
             [
              0.6666666666666666,
              "#ed7953"
             ],
             [
              0.7777777777777778,
              "#fb9f3a"
             ],
             [
              0.8888888888888888,
              "#fdca26"
             ],
             [
              1,
              "#f0f921"
             ]
            ],
            "type": "contour"
           }
          ],
          "contourcarpet": [
           {
            "colorbar": {
             "outlinewidth": 0,
             "ticks": ""
            },
            "type": "contourcarpet"
           }
          ],
          "heatmap": [
           {
            "colorbar": {
             "outlinewidth": 0,
             "ticks": ""
            },
            "colorscale": [
             [
              0,
              "#0d0887"
             ],
             [
              0.1111111111111111,
              "#46039f"
             ],
             [
              0.2222222222222222,
              "#7201a8"
             ],
             [
              0.3333333333333333,
              "#9c179e"
             ],
             [
              0.4444444444444444,
              "#bd3786"
             ],
             [
              0.5555555555555556,
              "#d8576b"
             ],
             [
              0.6666666666666666,
              "#ed7953"
             ],
             [
              0.7777777777777778,
              "#fb9f3a"
             ],
             [
              0.8888888888888888,
              "#fdca26"
             ],
             [
              1,
              "#f0f921"
             ]
            ],
            "type": "heatmap"
           }
          ],
          "heatmapgl": [
           {
            "colorbar": {
             "outlinewidth": 0,
             "ticks": ""
            },
            "colorscale": [
             [
              0,
              "#0d0887"
             ],
             [
              0.1111111111111111,
              "#46039f"
             ],
             [
              0.2222222222222222,
              "#7201a8"
             ],
             [
              0.3333333333333333,
              "#9c179e"
             ],
             [
              0.4444444444444444,
              "#bd3786"
             ],
             [
              0.5555555555555556,
              "#d8576b"
             ],
             [
              0.6666666666666666,
              "#ed7953"
             ],
             [
              0.7777777777777778,
              "#fb9f3a"
             ],
             [
              0.8888888888888888,
              "#fdca26"
             ],
             [
              1,
              "#f0f921"
             ]
            ],
            "type": "heatmapgl"
           }
          ],
          "histogram": [
           {
            "marker": {
             "pattern": {
              "fillmode": "overlay",
              "size": 10,
              "solidity": 0.2
             }
            },
            "type": "histogram"
           }
          ],
          "histogram2d": [
           {
            "colorbar": {
             "outlinewidth": 0,
             "ticks": ""
            },
            "colorscale": [
             [
              0,
              "#0d0887"
             ],
             [
              0.1111111111111111,
              "#46039f"
             ],
             [
              0.2222222222222222,
              "#7201a8"
             ],
             [
              0.3333333333333333,
              "#9c179e"
             ],
             [
              0.4444444444444444,
              "#bd3786"
             ],
             [
              0.5555555555555556,
              "#d8576b"
             ],
             [
              0.6666666666666666,
              "#ed7953"
             ],
             [
              0.7777777777777778,
              "#fb9f3a"
             ],
             [
              0.8888888888888888,
              "#fdca26"
             ],
             [
              1,
              "#f0f921"
             ]
            ],
            "type": "histogram2d"
           }
          ],
          "histogram2dcontour": [
           {
            "colorbar": {
             "outlinewidth": 0,
             "ticks": ""
            },
            "colorscale": [
             [
              0,
              "#0d0887"
             ],
             [
              0.1111111111111111,
              "#46039f"
             ],
             [
              0.2222222222222222,
              "#7201a8"
             ],
             [
              0.3333333333333333,
              "#9c179e"
             ],
             [
              0.4444444444444444,
              "#bd3786"
             ],
             [
              0.5555555555555556,
              "#d8576b"
             ],
             [
              0.6666666666666666,
              "#ed7953"
             ],
             [
              0.7777777777777778,
              "#fb9f3a"
             ],
             [
              0.8888888888888888,
              "#fdca26"
             ],
             [
              1,
              "#f0f921"
             ]
            ],
            "type": "histogram2dcontour"
           }
          ],
          "mesh3d": [
           {
            "colorbar": {
             "outlinewidth": 0,
             "ticks": ""
            },
            "type": "mesh3d"
           }
          ],
          "parcoords": [
           {
            "line": {
             "colorbar": {
              "outlinewidth": 0,
              "ticks": ""
             }
            },
            "type": "parcoords"
           }
          ],
          "pie": [
           {
            "automargin": true,
            "type": "pie"
           }
          ],
          "scatter": [
           {
            "fillpattern": {
             "fillmode": "overlay",
             "size": 10,
             "solidity": 0.2
            },
            "type": "scatter"
           }
          ],
          "scatter3d": [
           {
            "line": {
             "colorbar": {
              "outlinewidth": 0,
              "ticks": ""
             }
            },
            "marker": {
             "colorbar": {
              "outlinewidth": 0,
              "ticks": ""
             }
            },
            "type": "scatter3d"
           }
          ],
          "scattercarpet": [
           {
            "marker": {
             "colorbar": {
              "outlinewidth": 0,
              "ticks": ""
             }
            },
            "type": "scattercarpet"
           }
          ],
          "scattergeo": [
           {
            "marker": {
             "colorbar": {
              "outlinewidth": 0,
              "ticks": ""
             }
            },
            "type": "scattergeo"
           }
          ],
          "scattergl": [
           {
            "marker": {
             "colorbar": {
              "outlinewidth": 0,
              "ticks": ""
             }
            },
            "type": "scattergl"
           }
          ],
          "scattermapbox": [
           {
            "marker": {
             "colorbar": {
              "outlinewidth": 0,
              "ticks": ""
             }
            },
            "type": "scattermapbox"
           }
          ],
          "scatterpolar": [
           {
            "marker": {
             "colorbar": {
              "outlinewidth": 0,
              "ticks": ""
             }
            },
            "type": "scatterpolar"
           }
          ],
          "scatterpolargl": [
           {
            "marker": {
             "colorbar": {
              "outlinewidth": 0,
              "ticks": ""
             }
            },
            "type": "scatterpolargl"
           }
          ],
          "scatterternary": [
           {
            "marker": {
             "colorbar": {
              "outlinewidth": 0,
              "ticks": ""
             }
            },
            "type": "scatterternary"
           }
          ],
          "surface": [
           {
            "colorbar": {
             "outlinewidth": 0,
             "ticks": ""
            },
            "colorscale": [
             [
              0,
              "#0d0887"
             ],
             [
              0.1111111111111111,
              "#46039f"
             ],
             [
              0.2222222222222222,
              "#7201a8"
             ],
             [
              0.3333333333333333,
              "#9c179e"
             ],
             [
              0.4444444444444444,
              "#bd3786"
             ],
             [
              0.5555555555555556,
              "#d8576b"
             ],
             [
              0.6666666666666666,
              "#ed7953"
             ],
             [
              0.7777777777777778,
              "#fb9f3a"
             ],
             [
              0.8888888888888888,
              "#fdca26"
             ],
             [
              1,
              "#f0f921"
             ]
            ],
            "type": "surface"
           }
          ],
          "table": [
           {
            "cells": {
             "fill": {
              "color": "#EBF0F8"
             },
             "line": {
              "color": "white"
             }
            },
            "header": {
             "fill": {
              "color": "#C8D4E3"
             },
             "line": {
              "color": "white"
             }
            },
            "type": "table"
           }
          ]
         },
         "layout": {
          "annotationdefaults": {
           "arrowcolor": "#2a3f5f",
           "arrowhead": 0,
           "arrowwidth": 1
          },
          "autotypenumbers": "strict",
          "coloraxis": {
           "colorbar": {
            "outlinewidth": 0,
            "ticks": ""
           }
          },
          "colorscale": {
           "diverging": [
            [
             0,
             "#8e0152"
            ],
            [
             0.1,
             "#c51b7d"
            ],
            [
             0.2,
             "#de77ae"
            ],
            [
             0.3,
             "#f1b6da"
            ],
            [
             0.4,
             "#fde0ef"
            ],
            [
             0.5,
             "#f7f7f7"
            ],
            [
             0.6,
             "#e6f5d0"
            ],
            [
             0.7,
             "#b8e186"
            ],
            [
             0.8,
             "#7fbc41"
            ],
            [
             0.9,
             "#4d9221"
            ],
            [
             1,
             "#276419"
            ]
           ],
           "sequential": [
            [
             0,
             "#0d0887"
            ],
            [
             0.1111111111111111,
             "#46039f"
            ],
            [
             0.2222222222222222,
             "#7201a8"
            ],
            [
             0.3333333333333333,
             "#9c179e"
            ],
            [
             0.4444444444444444,
             "#bd3786"
            ],
            [
             0.5555555555555556,
             "#d8576b"
            ],
            [
             0.6666666666666666,
             "#ed7953"
            ],
            [
             0.7777777777777778,
             "#fb9f3a"
            ],
            [
             0.8888888888888888,
             "#fdca26"
            ],
            [
             1,
             "#f0f921"
            ]
           ],
           "sequentialminus": [
            [
             0,
             "#0d0887"
            ],
            [
             0.1111111111111111,
             "#46039f"
            ],
            [
             0.2222222222222222,
             "#7201a8"
            ],
            [
             0.3333333333333333,
             "#9c179e"
            ],
            [
             0.4444444444444444,
             "#bd3786"
            ],
            [
             0.5555555555555556,
             "#d8576b"
            ],
            [
             0.6666666666666666,
             "#ed7953"
            ],
            [
             0.7777777777777778,
             "#fb9f3a"
            ],
            [
             0.8888888888888888,
             "#fdca26"
            ],
            [
             1,
             "#f0f921"
            ]
           ]
          },
          "colorway": [
           "#636efa",
           "#EF553B",
           "#00cc96",
           "#ab63fa",
           "#FFA15A",
           "#19d3f3",
           "#FF6692",
           "#B6E880",
           "#FF97FF",
           "#FECB52"
          ],
          "font": {
           "color": "#2a3f5f"
          },
          "geo": {
           "bgcolor": "white",
           "lakecolor": "white",
           "landcolor": "#E5ECF6",
           "showlakes": true,
           "showland": true,
           "subunitcolor": "white"
          },
          "hoverlabel": {
           "align": "left"
          },
          "hovermode": "closest",
          "mapbox": {
           "style": "light"
          },
          "paper_bgcolor": "white",
          "plot_bgcolor": "#E5ECF6",
          "polar": {
           "angularaxis": {
            "gridcolor": "white",
            "linecolor": "white",
            "ticks": ""
           },
           "bgcolor": "#E5ECF6",
           "radialaxis": {
            "gridcolor": "white",
            "linecolor": "white",
            "ticks": ""
           }
          },
          "scene": {
           "xaxis": {
            "backgroundcolor": "#E5ECF6",
            "gridcolor": "white",
            "gridwidth": 2,
            "linecolor": "white",
            "showbackground": true,
            "ticks": "",
            "zerolinecolor": "white"
           },
           "yaxis": {
            "backgroundcolor": "#E5ECF6",
            "gridcolor": "white",
            "gridwidth": 2,
            "linecolor": "white",
            "showbackground": true,
            "ticks": "",
            "zerolinecolor": "white"
           },
           "zaxis": {
            "backgroundcolor": "#E5ECF6",
            "gridcolor": "white",
            "gridwidth": 2,
            "linecolor": "white",
            "showbackground": true,
            "ticks": "",
            "zerolinecolor": "white"
           }
          },
          "shapedefaults": {
           "line": {
            "color": "#2a3f5f"
           }
          },
          "ternary": {
           "aaxis": {
            "gridcolor": "white",
            "linecolor": "white",
            "ticks": ""
           },
           "baxis": {
            "gridcolor": "white",
            "linecolor": "white",
            "ticks": ""
           },
           "bgcolor": "#E5ECF6",
           "caxis": {
            "gridcolor": "white",
            "linecolor": "white",
            "ticks": ""
           }
          },
          "title": {
           "x": 0.05
          },
          "xaxis": {
           "automargin": true,
           "gridcolor": "white",
           "linecolor": "white",
           "ticks": "",
           "title": {
            "standoff": 15
           },
           "zerolinecolor": "white",
           "zerolinewidth": 2
          },
          "yaxis": {
           "automargin": true,
           "gridcolor": "white",
           "linecolor": "white",
           "ticks": "",
           "title": {
            "standoff": 15
           },
           "zerolinecolor": "white",
           "zerolinewidth": 2
          }
         }
        },
        "title": {
         "text": "Stacked Flight Occurrences for Different Scenarios"
        },
        "xaxis": {
         "title": {
          "text": "Flight Scenarios"
         }
        },
        "yaxis": {
         "title": {
          "text": "Flight Occurrences"
         }
        }
       }
      }
     },
     "metadata": {},
     "output_type": "display_data"
    }
   ],
   "source": [
    "business_short_haul = [baseline_short_business, change_short_business, change_short_business_new]  # Occurrences for BSH: Baseline, Short, Medium\n",
    "economy_short_haul = [baseline_short_economy, change_short_economy, change_short_economy_new]  # Occurrences for ESH: Baseline, Short, Medium\n",
    "business_long_haul = [baseline_long_business, change_long_business, change_long_business_new]  # Occurrences for BSH: Baseline, Short, Medium\n",
    "economy_long_haul = [baseline_long_economy, change_long_economy, change_long_economy_new]  # Occurrences for ESH: Baseline, Short, Medium\n",
    "scenarios = ['Baseline', 'Short', 'Medium']\n",
    "\n",
    "# Calculate total at the top of each column\n",
    "total_business_short = sum(business_short_haul)\n",
    "total_economy_short = sum(economy_short_haul)\n",
    "total_business_long = sum(business_long_haul)\n",
    "total_economy_long = sum(economy_long_haul)\n",
    "\n",
    "# Calculate total CO2 reduction\n",
    "total_reduction_short = total_baseline - total_short\n",
    "total_reduction_medium = total_short - total_medium\n",
    "\n",
    "# Define offset for annotation\n",
    "annotation_offset = 10\n",
    "\n",
    "# Plotly setup\n",
    "fig = go.Figure()\n",
    "\n",
    "# Adding bars for each scenario\n",
    "fig.add_trace(go.Bar(x=scenarios, y=business_short_haul, name='Business Short Haul', marker_color='blue'))\n",
    "fig.add_trace(go.Bar(x=scenarios, y=economy_short_haul, name='Economy Short Haul', marker_color='lightblue'))\n",
    "fig.add_trace(go.Bar(x=scenarios, y=business_long_haul, name='Business Long Haul', marker_color='green'))\n",
    "fig.add_trace(go.Bar(x=scenarios, y=economy_long_haul, name='Economy Long Haul', marker_color='lightgreen'))\n",
    "\n",
    "# Displaying reduction as total CO2 reduction\n",
    "for i in range(1, len(scenarios)):\n",
    "    reduction_percentage_short = (total_reduction_short / total_baseline) * 100 if scenarios[i] == 'Short' else (total_reduction_medium / total_short) * 100\n",
    "    rounded_percentage_short = round(reduction_percentage_short, 2)\n",
    "    \n",
    "    reduction_percentage_long = (total_reduction_long / total_baseline) * 100 if scenarios[i] == 'Medium' else (total_reduction_medium / total_medium) * 100\n",
    "    rounded_percentage_long = round(reduction_percentage_long, 2)\n",
    "    \n",
    "    fig.add_annotation(x=i, y=sum([business_short_haul[i], economy_short_haul[i], business_long_haul[i], economy_long_haul[i]]) + annotation_offset,\n",
    "                       text=f\"Total reduction: {rounded_percentage_short}% (Short), {rounded_percentage_long}% (Long)\",\n",
    "                       showarrow=False, xanchor='center', yanchor='bottom')\n",
    "\n",
    "# Update layout\n",
    "fig.update_layout(barmode='stack', \n",
    "                  title='Stacked Flight Occurrences for Different Scenarios', \n",
    "                  xaxis_title='Flight Scenarios', \n",
    "                  yaxis_title='Flight Occurrences', \n",
    "                  legend=dict(x=1.02, y=1, bgcolor='rgba(255, 255, 255, 0)', bordercolor='rgba(255, 255, 255, 0)'), plot_bgcolor='rgba(0, 0, 0, 0)')\n",
    "fig.show()"
   ]
  },
  {
   "cell_type": "code",
   "execution_count": null,
   "metadata": {},
   "outputs": [],
   "source": []
  }
 ],
 "metadata": {
  "kernelspec": {
   "display_name": "Python 3",
   "language": "python",
   "name": "python3"
  },
  "language_info": {
   "codemirror_mode": {
    "name": "ipython",
    "version": 3
   },
   "file_extension": ".py",
   "mimetype": "text/x-python",
   "name": "python",
   "nbconvert_exporter": "python",
   "pygments_lexer": "ipython3",
   "version": "3.11.8"
  }
 },
 "nbformat": 4,
 "nbformat_minor": 2
}

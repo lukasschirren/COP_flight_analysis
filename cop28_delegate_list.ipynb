{
 "cells": [
  {
   "cell_type": "code",
   "execution_count": 1,
   "metadata": {},
   "outputs": [],
   "source": [
    "import pandas as pd\n",
    "import pyarrow.parquet as pq\n",
    "import os\n",
    "import airportsdata \n",
    "from geopy.distance import geodesic\n",
    "\n",
    "import pandas as pd\n",
    "import matplotlib.pyplot as plt\n",
    "import plotly.graph_objects as go\n",
    "import pycountry\n",
    "import pycountry_convert as pc\n",
    "import plotly.io as pio\n",
    "\n",
    "import folium\n",
    "from folium.plugins import FastMarkerCluster\n",
    "from folium.plugins import HeatMap\n",
    "\n",
    "# from math import radians, sin, cos, sqrt, atan2\n",
    "# import heapq"
   ]
  },
  {
   "cell_type": "markdown",
   "metadata": {},
   "source": [
    "# 1. Data preparation"
   ]
  },
  {
   "cell_type": "code",
   "execution_count": 117,
   "metadata": {},
   "outputs": [],
   "source": [
    "# Load airport data to get latitude and longitude\n",
    "airports = airportsdata.load()\n",
    "\n",
    "# Load provided air data from 2021\n",
    "dataset = pq.ParquetDataset('c:\\\\Users\\\\lukas\\\\OneDrive - Imperial College London\\\\0_Sustainable Transport\\\\2021_COP26',\n",
    "                            ) # filters=[('columnName', 'in', filterList)]\n",
    "df = dataset.read(use_threads=True).to_pandas()"
   ]
  },
  {
   "cell_type": "code",
   "execution_count": 118,
   "metadata": {},
   "outputs": [],
   "source": [
    "# Exclude private jets\n",
    "private_jet = ['CL60','P180','GLF5','GLEX','GLF6','F2TH','C17','LJ60','F900','GLF4','E35L','CL35','C30J',\n",
    "               'GL5T','ASTR','C130','BE20','H25B','L410','F100','CL30','LJ35','PC24','C56X','E55P','PAY3']\n",
    "df = df[~df['aircraft_type_icao'].isin(private_jet)]"
   ]
  },
  {
   "cell_type": "code",
   "execution_count": 119,
   "metadata": {},
   "outputs": [],
   "source": [
    "# Select flights to dubai\n",
    "df_dubai = df[df['destination_airport']== 'OMDB']\n",
    "\n",
    "# Group by 'origin_airport' and select the first occurrence of each group\n",
    "unique_origins = df_dubai.groupby('origin_airport').first().reset_index()\n",
    "unique_origins = unique_origins[['origin_airport','longitude_first_waypoint','latitude_first_waypoint']]\n",
    "\n",
    "file_path = os.path.join('output', 'unique_destinations_globally.xlsx')\n",
    "unique_origins.to_excel(file_path, index=False)\n"
   ]
  },
  {
   "cell_type": "code",
   "execution_count": 127,
   "metadata": {},
   "outputs": [],
   "source": [
    "# Load data with delegates\n",
    "delegates_path = os.getcwd() + '/data/origin_airports_delegates.csv'\n",
    "data_delegates = pd.read_csv(delegates_path)\n",
    "\n",
    "iata_icao_path = os.getcwd() + '/data/iata-icao.csv'\n",
    "data_iata_icao = pd.read_csv(iata_icao_path)"
   ]
  },
  {
   "cell_type": "code",
   "execution_count": 128,
   "metadata": {},
   "outputs": [],
   "source": [
    "airport_location = data_delegates.merge(data_iata_icao, on='iata', how='left')[['iata','icao','total_delegates_GDP','country_code','airport','latitude','longitude']]\n",
    "\n",
    "# Check for NAN values \n",
    "# airport_location.isna()\n",
    "# airport_location = airport_location.dropna()#isna().sum()#.any(axis=1).count\n",
    "# airport_location[airport_location.isna().any(axis=1)]\n",
    "airport_location[\"country_code\"][77] =  \"NA\""
   ]
  },
  {
   "cell_type": "markdown",
   "metadata": {},
   "source": [
    "# 2. Calculation Distance to Dubai"
   ]
  },
  {
   "cell_type": "code",
   "execution_count": 129,
   "metadata": {},
   "outputs": [
    {
     "data": {
      "text/html": [
       "<div>\n",
       "<style scoped>\n",
       "    .dataframe tbody tr th:only-of-type {\n",
       "        vertical-align: middle;\n",
       "    }\n",
       "\n",
       "    .dataframe tbody tr th {\n",
       "        vertical-align: top;\n",
       "    }\n",
       "\n",
       "    .dataframe thead th {\n",
       "        text-align: right;\n",
       "    }\n",
       "</style>\n",
       "<table border=\"1\" class=\"dataframe\">\n",
       "  <thead>\n",
       "    <tr style=\"text-align: right;\">\n",
       "      <th></th>\n",
       "      <th>iata</th>\n",
       "      <th>icao</th>\n",
       "      <th>total_delegates_GDP</th>\n",
       "      <th>country_code</th>\n",
       "      <th>airport</th>\n",
       "      <th>latitude</th>\n",
       "      <th>longitude</th>\n",
       "      <th>distance_to_dubai</th>\n",
       "    </tr>\n",
       "  </thead>\n",
       "  <tbody>\n",
       "    <tr>\n",
       "      <th>0</th>\n",
       "      <td>AUH</td>\n",
       "      <td>OMAA</td>\n",
       "      <td>4557</td>\n",
       "      <td>AE</td>\n",
       "      <td>Abu Dhabi International Airport</td>\n",
       "      <td>24.4330</td>\n",
       "      <td>54.6511</td>\n",
       "      <td>115.950398</td>\n",
       "    </tr>\n",
       "    <tr>\n",
       "      <th>1</th>\n",
       "      <td>GRU</td>\n",
       "      <td>SBGR</td>\n",
       "      <td>3643</td>\n",
       "      <td>BR</td>\n",
       "      <td>Sao Paulo/Guarulhos International Airport</td>\n",
       "      <td>-23.4262</td>\n",
       "      <td>-46.4800</td>\n",
       "      <td>12218.280093</td>\n",
       "    </tr>\n",
       "    <tr>\n",
       "      <th>2</th>\n",
       "      <td>PEK</td>\n",
       "      <td>ZBAA</td>\n",
       "      <td>6672</td>\n",
       "      <td>CN</td>\n",
       "      <td>Beijing Capital International Airport</td>\n",
       "      <td>40.0725</td>\n",
       "      <td>116.5980</td>\n",
       "      <td>5856.254969</td>\n",
       "    </tr>\n",
       "  </tbody>\n",
       "</table>\n",
       "</div>"
      ],
      "text/plain": [
       "  iata  icao  total_delegates_GDP country_code  \\\n",
       "0  AUH  OMAA                 4557           AE   \n",
       "1  GRU  SBGR                 3643           BR   \n",
       "2  PEK  ZBAA                 6672           CN   \n",
       "\n",
       "                                     airport  latitude  longitude  \\\n",
       "0            Abu Dhabi International Airport   24.4330    54.6511   \n",
       "1  Sao Paulo/Guarulhos International Airport  -23.4262   -46.4800   \n",
       "2      Beijing Capital International Airport   40.0725   116.5980   \n",
       "\n",
       "   distance_to_dubai  \n",
       "0         115.950398  \n",
       "1       12218.280093  \n",
       "2        5856.254969  "
      ]
     },
     "execution_count": 129,
     "metadata": {},
     "output_type": "execute_result"
    }
   ],
   "source": [
    "dubai_airport = pd.DataFrame({'latitude_A': [airports.get('OMDB')['lat']],\n",
    "                     'longitude_A': [airports.get('OMDB')['lon']]})\n",
    "\n",
    "delegate_airports = airport_location[['latitude','longitude']]\n",
    "\n",
    "# Function to calculate distance using geopy.distance\n",
    "def calculate_distance(row):\n",
    "    coord_A = (dubai_airport['latitude_A'].iloc[0], dubai_airport['longitude_A'].iloc[0])\n",
    "    coord_B = (row['latitude'], row['longitude'])\n",
    "    return geodesic(coord_A, coord_B).kilometers\n",
    "\n",
    "airport_location['distance_to_dubai'] = delegate_airports.apply(calculate_distance,axis=1)\n",
    "# airport_location[airport_location['distance_to_dubai'] >= 10000]\n",
    "airport_location.iloc[:3]"
   ]
  },
  {
   "cell_type": "code",
   "execution_count": 130,
   "metadata": {},
   "outputs": [
    {
     "name": "stdout",
     "output_type": "stream",
     "text": [
      "55 flights with over 10,000 km\n"
     ]
    }
   ],
   "source": [
    "print(airport_location[airport_location['distance_to_dubai'] >= 10000]['distance_to_dubai'].count(),\"flights with over 10,000 km\")"
   ]
  },
  {
   "cell_type": "code",
   "execution_count": 135,
   "metadata": {},
   "outputs": [
    {
     "name": "stdout",
     "output_type": "stream",
     "text": [
      "Total km flown to COP28: 1401384.0\n",
      "Total Delegates:           81708\n"
     ]
    }
   ],
   "source": [
    "print(\"Total km flown to COP28:\",round(sum(airport_location['distance_to_dubai']),0))\n",
    "print(\"Total Delegates:          \",sum(airport_location.total_delegates_GDP))"
   ]
  },
  {
   "cell_type": "markdown",
   "metadata": {},
   "source": [
    "# 3. Analysis \n",
    "## Participants from each Country"
   ]
  },
  {
   "cell_type": "code",
   "execution_count": 136,
   "metadata": {},
   "outputs": [],
   "source": [
    "def country_code_to_name(country_code):\n",
    "    try:\n",
    "        return pycountry.countries.get(alpha_2=country_code).name\n",
    "    except AttributeError:\n",
    "        return None\n",
    "\n",
    "plot_data = airport_location[:][:40]\n",
    "plot_data\n",
    "plot_data['country_name'] = plot_data['country_code'].apply(country_code_to_name)"
   ]
  },
  {
   "cell_type": "code",
   "execution_count": 137,
   "metadata": {},
   "outputs": [],
   "source": [
    "# Rename due to length of name\n",
    "plot_data.loc[0,\"country_name\"] = 'UAE'\n",
    "plot_data.loc[12,\"country_name\"] = 'Tanzania'\n",
    "plot_data.loc[17,\"country_name\"] = 'Korea'\n",
    "plot_data.loc[20,\"country_name\"] = 'Congo'\n",
    "plot_data.loc[21,\"country_name\"] = 'Russia'"
   ]
  },
  {
   "cell_type": "code",
   "execution_count": 140,
   "metadata": {},
   "outputs": [
    {
     "data": {
      "application/vnd.plotly.v1+json": {
       "config": {
        "plotlyServerURL": "https://plot.ly"
       },
       "data": [
        {
         "orientation": "h",
         "type": "bar",
         "x": [
          0,
          369,
          414,
          422,
          454,
          458,
          469,
          479,
          497,
          519,
          529,
          558,
          568,
          609,
          619,
          640,
          705,
          751,
          785,
          798,
          819,
          861,
          872,
          900,
          1133,
          1179,
          1246,
          1311,
          1368,
          1549,
          1602,
          1614,
          1615,
          1664,
          1949,
          2306,
          3643,
          4557,
          6672,
          8220
         ],
         "y": [
          "Belgium",
          "Somalia",
          "Oman",
          "Côte d'Ivoire",
          "Zambia",
          "Jordan",
          "Kazakhstan",
          "Colombia",
          "Viet Nam",
          "Iraq",
          "South Africa",
          "Chad",
          "Senegal",
          "Congo",
          "Uganda",
          "Ghana",
          "Egypt",
          "Saudi Arabia",
          "Tanzania",
          "Kenya",
          "Malaysia",
          "Morocco",
          "Israel",
          "Australia",
          "Italy",
          "Korea",
          "Russia",
          "Türkiye",
          "Canada",
          "Nigeria",
          "United Kingdom",
          "France",
          "Indonesia",
          "Germany",
          "India",
          "Japan",
          "Brazil",
          "UAE",
          "China",
          "United States"
         ]
        }
       ],
       "layout": {
        "height": 800,
        "template": {
         "data": {
          "bar": [
           {
            "error_x": {
             "color": "#2a3f5f"
            },
            "error_y": {
             "color": "#2a3f5f"
            },
            "marker": {
             "line": {
              "color": "#E5ECF6",
              "width": 0.5
             },
             "pattern": {
              "fillmode": "overlay",
              "size": 10,
              "solidity": 0.2
             }
            },
            "type": "bar"
           }
          ],
          "barpolar": [
           {
            "marker": {
             "line": {
              "color": "#E5ECF6",
              "width": 0.5
             },
             "pattern": {
              "fillmode": "overlay",
              "size": 10,
              "solidity": 0.2
             }
            },
            "type": "barpolar"
           }
          ],
          "carpet": [
           {
            "aaxis": {
             "endlinecolor": "#2a3f5f",
             "gridcolor": "white",
             "linecolor": "white",
             "minorgridcolor": "white",
             "startlinecolor": "#2a3f5f"
            },
            "baxis": {
             "endlinecolor": "#2a3f5f",
             "gridcolor": "white",
             "linecolor": "white",
             "minorgridcolor": "white",
             "startlinecolor": "#2a3f5f"
            },
            "type": "carpet"
           }
          ],
          "choropleth": [
           {
            "colorbar": {
             "outlinewidth": 0,
             "ticks": ""
            },
            "type": "choropleth"
           }
          ],
          "contour": [
           {
            "colorbar": {
             "outlinewidth": 0,
             "ticks": ""
            },
            "colorscale": [
             [
              0,
              "#0d0887"
             ],
             [
              0.1111111111111111,
              "#46039f"
             ],
             [
              0.2222222222222222,
              "#7201a8"
             ],
             [
              0.3333333333333333,
              "#9c179e"
             ],
             [
              0.4444444444444444,
              "#bd3786"
             ],
             [
              0.5555555555555556,
              "#d8576b"
             ],
             [
              0.6666666666666666,
              "#ed7953"
             ],
             [
              0.7777777777777778,
              "#fb9f3a"
             ],
             [
              0.8888888888888888,
              "#fdca26"
             ],
             [
              1,
              "#f0f921"
             ]
            ],
            "type": "contour"
           }
          ],
          "contourcarpet": [
           {
            "colorbar": {
             "outlinewidth": 0,
             "ticks": ""
            },
            "type": "contourcarpet"
           }
          ],
          "heatmap": [
           {
            "colorbar": {
             "outlinewidth": 0,
             "ticks": ""
            },
            "colorscale": [
             [
              0,
              "#0d0887"
             ],
             [
              0.1111111111111111,
              "#46039f"
             ],
             [
              0.2222222222222222,
              "#7201a8"
             ],
             [
              0.3333333333333333,
              "#9c179e"
             ],
             [
              0.4444444444444444,
              "#bd3786"
             ],
             [
              0.5555555555555556,
              "#d8576b"
             ],
             [
              0.6666666666666666,
              "#ed7953"
             ],
             [
              0.7777777777777778,
              "#fb9f3a"
             ],
             [
              0.8888888888888888,
              "#fdca26"
             ],
             [
              1,
              "#f0f921"
             ]
            ],
            "type": "heatmap"
           }
          ],
          "heatmapgl": [
           {
            "colorbar": {
             "outlinewidth": 0,
             "ticks": ""
            },
            "colorscale": [
             [
              0,
              "#0d0887"
             ],
             [
              0.1111111111111111,
              "#46039f"
             ],
             [
              0.2222222222222222,
              "#7201a8"
             ],
             [
              0.3333333333333333,
              "#9c179e"
             ],
             [
              0.4444444444444444,
              "#bd3786"
             ],
             [
              0.5555555555555556,
              "#d8576b"
             ],
             [
              0.6666666666666666,
              "#ed7953"
             ],
             [
              0.7777777777777778,
              "#fb9f3a"
             ],
             [
              0.8888888888888888,
              "#fdca26"
             ],
             [
              1,
              "#f0f921"
             ]
            ],
            "type": "heatmapgl"
           }
          ],
          "histogram": [
           {
            "marker": {
             "pattern": {
              "fillmode": "overlay",
              "size": 10,
              "solidity": 0.2
             }
            },
            "type": "histogram"
           }
          ],
          "histogram2d": [
           {
            "colorbar": {
             "outlinewidth": 0,
             "ticks": ""
            },
            "colorscale": [
             [
              0,
              "#0d0887"
             ],
             [
              0.1111111111111111,
              "#46039f"
             ],
             [
              0.2222222222222222,
              "#7201a8"
             ],
             [
              0.3333333333333333,
              "#9c179e"
             ],
             [
              0.4444444444444444,
              "#bd3786"
             ],
             [
              0.5555555555555556,
              "#d8576b"
             ],
             [
              0.6666666666666666,
              "#ed7953"
             ],
             [
              0.7777777777777778,
              "#fb9f3a"
             ],
             [
              0.8888888888888888,
              "#fdca26"
             ],
             [
              1,
              "#f0f921"
             ]
            ],
            "type": "histogram2d"
           }
          ],
          "histogram2dcontour": [
           {
            "colorbar": {
             "outlinewidth": 0,
             "ticks": ""
            },
            "colorscale": [
             [
              0,
              "#0d0887"
             ],
             [
              0.1111111111111111,
              "#46039f"
             ],
             [
              0.2222222222222222,
              "#7201a8"
             ],
             [
              0.3333333333333333,
              "#9c179e"
             ],
             [
              0.4444444444444444,
              "#bd3786"
             ],
             [
              0.5555555555555556,
              "#d8576b"
             ],
             [
              0.6666666666666666,
              "#ed7953"
             ],
             [
              0.7777777777777778,
              "#fb9f3a"
             ],
             [
              0.8888888888888888,
              "#fdca26"
             ],
             [
              1,
              "#f0f921"
             ]
            ],
            "type": "histogram2dcontour"
           }
          ],
          "mesh3d": [
           {
            "colorbar": {
             "outlinewidth": 0,
             "ticks": ""
            },
            "type": "mesh3d"
           }
          ],
          "parcoords": [
           {
            "line": {
             "colorbar": {
              "outlinewidth": 0,
              "ticks": ""
             }
            },
            "type": "parcoords"
           }
          ],
          "pie": [
           {
            "automargin": true,
            "type": "pie"
           }
          ],
          "scatter": [
           {
            "fillpattern": {
             "fillmode": "overlay",
             "size": 10,
             "solidity": 0.2
            },
            "type": "scatter"
           }
          ],
          "scatter3d": [
           {
            "line": {
             "colorbar": {
              "outlinewidth": 0,
              "ticks": ""
             }
            },
            "marker": {
             "colorbar": {
              "outlinewidth": 0,
              "ticks": ""
             }
            },
            "type": "scatter3d"
           }
          ],
          "scattercarpet": [
           {
            "marker": {
             "colorbar": {
              "outlinewidth": 0,
              "ticks": ""
             }
            },
            "type": "scattercarpet"
           }
          ],
          "scattergeo": [
           {
            "marker": {
             "colorbar": {
              "outlinewidth": 0,
              "ticks": ""
             }
            },
            "type": "scattergeo"
           }
          ],
          "scattergl": [
           {
            "marker": {
             "colorbar": {
              "outlinewidth": 0,
              "ticks": ""
             }
            },
            "type": "scattergl"
           }
          ],
          "scattermapbox": [
           {
            "marker": {
             "colorbar": {
              "outlinewidth": 0,
              "ticks": ""
             }
            },
            "type": "scattermapbox"
           }
          ],
          "scatterpolar": [
           {
            "marker": {
             "colorbar": {
              "outlinewidth": 0,
              "ticks": ""
             }
            },
            "type": "scatterpolar"
           }
          ],
          "scatterpolargl": [
           {
            "marker": {
             "colorbar": {
              "outlinewidth": 0,
              "ticks": ""
             }
            },
            "type": "scatterpolargl"
           }
          ],
          "scatterternary": [
           {
            "marker": {
             "colorbar": {
              "outlinewidth": 0,
              "ticks": ""
             }
            },
            "type": "scatterternary"
           }
          ],
          "surface": [
           {
            "colorbar": {
             "outlinewidth": 0,
             "ticks": ""
            },
            "colorscale": [
             [
              0,
              "#0d0887"
             ],
             [
              0.1111111111111111,
              "#46039f"
             ],
             [
              0.2222222222222222,
              "#7201a8"
             ],
             [
              0.3333333333333333,
              "#9c179e"
             ],
             [
              0.4444444444444444,
              "#bd3786"
             ],
             [
              0.5555555555555556,
              "#d8576b"
             ],
             [
              0.6666666666666666,
              "#ed7953"
             ],
             [
              0.7777777777777778,
              "#fb9f3a"
             ],
             [
              0.8888888888888888,
              "#fdca26"
             ],
             [
              1,
              "#f0f921"
             ]
            ],
            "type": "surface"
           }
          ],
          "table": [
           {
            "cells": {
             "fill": {
              "color": "#EBF0F8"
             },
             "line": {
              "color": "white"
             }
            },
            "header": {
             "fill": {
              "color": "#C8D4E3"
             },
             "line": {
              "color": "white"
             }
            },
            "type": "table"
           }
          ]
         },
         "layout": {
          "annotationdefaults": {
           "arrowcolor": "#2a3f5f",
           "arrowhead": 0,
           "arrowwidth": 1
          },
          "autotypenumbers": "strict",
          "coloraxis": {
           "colorbar": {
            "outlinewidth": 0,
            "ticks": ""
           }
          },
          "colorscale": {
           "diverging": [
            [
             0,
             "#8e0152"
            ],
            [
             0.1,
             "#c51b7d"
            ],
            [
             0.2,
             "#de77ae"
            ],
            [
             0.3,
             "#f1b6da"
            ],
            [
             0.4,
             "#fde0ef"
            ],
            [
             0.5,
             "#f7f7f7"
            ],
            [
             0.6,
             "#e6f5d0"
            ],
            [
             0.7,
             "#b8e186"
            ],
            [
             0.8,
             "#7fbc41"
            ],
            [
             0.9,
             "#4d9221"
            ],
            [
             1,
             "#276419"
            ]
           ],
           "sequential": [
            [
             0,
             "#0d0887"
            ],
            [
             0.1111111111111111,
             "#46039f"
            ],
            [
             0.2222222222222222,
             "#7201a8"
            ],
            [
             0.3333333333333333,
             "#9c179e"
            ],
            [
             0.4444444444444444,
             "#bd3786"
            ],
            [
             0.5555555555555556,
             "#d8576b"
            ],
            [
             0.6666666666666666,
             "#ed7953"
            ],
            [
             0.7777777777777778,
             "#fb9f3a"
            ],
            [
             0.8888888888888888,
             "#fdca26"
            ],
            [
             1,
             "#f0f921"
            ]
           ],
           "sequentialminus": [
            [
             0,
             "#0d0887"
            ],
            [
             0.1111111111111111,
             "#46039f"
            ],
            [
             0.2222222222222222,
             "#7201a8"
            ],
            [
             0.3333333333333333,
             "#9c179e"
            ],
            [
             0.4444444444444444,
             "#bd3786"
            ],
            [
             0.5555555555555556,
             "#d8576b"
            ],
            [
             0.6666666666666666,
             "#ed7953"
            ],
            [
             0.7777777777777778,
             "#fb9f3a"
            ],
            [
             0.8888888888888888,
             "#fdca26"
            ],
            [
             1,
             "#f0f921"
            ]
           ]
          },
          "colorway": [
           "#636efa",
           "#EF553B",
           "#00cc96",
           "#ab63fa",
           "#FFA15A",
           "#19d3f3",
           "#FF6692",
           "#B6E880",
           "#FF97FF",
           "#FECB52"
          ],
          "font": {
           "color": "#2a3f5f"
          },
          "geo": {
           "bgcolor": "white",
           "lakecolor": "white",
           "landcolor": "#E5ECF6",
           "showlakes": true,
           "showland": true,
           "subunitcolor": "white"
          },
          "hoverlabel": {
           "align": "left"
          },
          "hovermode": "closest",
          "mapbox": {
           "style": "light"
          },
          "paper_bgcolor": "white",
          "plot_bgcolor": "#E5ECF6",
          "polar": {
           "angularaxis": {
            "gridcolor": "white",
            "linecolor": "white",
            "ticks": ""
           },
           "bgcolor": "#E5ECF6",
           "radialaxis": {
            "gridcolor": "white",
            "linecolor": "white",
            "ticks": ""
           }
          },
          "scene": {
           "xaxis": {
            "backgroundcolor": "#E5ECF6",
            "gridcolor": "white",
            "gridwidth": 2,
            "linecolor": "white",
            "showbackground": true,
            "ticks": "",
            "zerolinecolor": "white"
           },
           "yaxis": {
            "backgroundcolor": "#E5ECF6",
            "gridcolor": "white",
            "gridwidth": 2,
            "linecolor": "white",
            "showbackground": true,
            "ticks": "",
            "zerolinecolor": "white"
           },
           "zaxis": {
            "backgroundcolor": "#E5ECF6",
            "gridcolor": "white",
            "gridwidth": 2,
            "linecolor": "white",
            "showbackground": true,
            "ticks": "",
            "zerolinecolor": "white"
           }
          },
          "shapedefaults": {
           "line": {
            "color": "#2a3f5f"
           }
          },
          "ternary": {
           "aaxis": {
            "gridcolor": "white",
            "linecolor": "white",
            "ticks": ""
           },
           "baxis": {
            "gridcolor": "white",
            "linecolor": "white",
            "ticks": ""
           },
           "bgcolor": "#E5ECF6",
           "caxis": {
            "gridcolor": "white",
            "linecolor": "white",
            "ticks": ""
           }
          },
          "title": {
           "x": 0.05
          },
          "xaxis": {
           "automargin": true,
           "gridcolor": "white",
           "linecolor": "white",
           "ticks": "",
           "title": {
            "standoff": 15
           },
           "zerolinecolor": "white",
           "zerolinewidth": 2
          },
          "yaxis": {
           "automargin": true,
           "gridcolor": "white",
           "linecolor": "white",
           "ticks": "",
           "title": {
            "standoff": 15
           },
           "zerolinecolor": "white",
           "zerolinewidth": 2
          }
         }
        },
        "title": {
         "text": "Participants from each country (Top 40)"
        },
        "width": 400,
        "xaxis": {
         "title": {
          "text": "# participants"
         }
        },
        "yaxis": {
         "title": {
          "text": "Countries"
         }
        }
       }
      }
     },
     "metadata": {},
     "output_type": "display_data"
    }
   ],
   "source": [
    "sorted_indices = sorted(range(len(plot_data['total_delegates_GDP'])), key=lambda i: plot_data['total_delegates_GDP'][i])\n",
    "sorted_categories = [plot_data['country_name'][i] for i in sorted_indices]\n",
    "sorted_values = [plot_data['total_delegates_GDP'][i] for i in sorted_indices]\n",
    "\n",
    "fig = go.Figure(data=[go.Bar(\n",
    "    y=sorted_categories,  # y-axis categories\n",
    "    x=sorted_values,      # x-axis values\n",
    "    orientation='h'  # horizontal orientation\n",
    ")])\n",
    "\n",
    "# Add title and labels\n",
    "fig.update_layout(\n",
    "    title='Participants from each country (Top 40)',\n",
    "    yaxis=dict(title='Countries'),\n",
    "    xaxis=dict(title='# participants'),\n",
    "    width=400,\n",
    "    height=800\n",
    ")\n",
    "\n",
    "# Show the chart\n",
    "#fig.write_image(\"participants_country.png\")\n",
    "fig.show()\n",
    "# file_path = os.path.join('output', 'participants_country_GDP.png')\n",
    "# non_direct.to_excel(file_path, index=False)\n",
    "\n",
    "pio.write_image(fig, 'participants_country_GDP.png')\n"
   ]
  },
  {
   "cell_type": "markdown",
   "metadata": {},
   "source": [
    "# 4. Find Flight Connections from Origin to Dubai\n",
    "## 4.1 Direct Flight"
   ]
  },
  {
   "cell_type": "code",
   "execution_count": 107,
   "metadata": {},
   "outputs": [
    {
     "name": "stdout",
     "output_type": "stream",
     "text": [
      "23328\n"
     ]
    },
    {
     "data": {
      "text/html": [
       "<div>\n",
       "<style scoped>\n",
       "    .dataframe tbody tr th:only-of-type {\n",
       "        vertical-align: middle;\n",
       "    }\n",
       "\n",
       "    .dataframe tbody tr th {\n",
       "        vertical-align: top;\n",
       "    }\n",
       "\n",
       "    .dataframe thead th {\n",
       "        text-align: right;\n",
       "    }\n",
       "</style>\n",
       "<table border=\"1\" class=\"dataframe\">\n",
       "  <thead>\n",
       "    <tr style=\"text-align: right;\">\n",
       "      <th></th>\n",
       "      <th>callsign</th>\n",
       "      <th>icao_address</th>\n",
       "      <th>flight_number</th>\n",
       "      <th>tail_number</th>\n",
       "      <th>aircraft_type_icao</th>\n",
       "      <th>aircraft_engine_type</th>\n",
       "      <th>origin_airport</th>\n",
       "      <th>origin_airport_name</th>\n",
       "      <th>origin_country</th>\n",
       "      <th>destination_airport</th>\n",
       "      <th>...</th>\n",
       "      <th>so2_kg</th>\n",
       "      <th>sulphates_kg</th>\n",
       "      <th>nvpm_data_source</th>\n",
       "      <th>nvpm_mass_kg</th>\n",
       "      <th>nvpm_number</th>\n",
       "      <th>nvpm_ei_n_mean</th>\n",
       "      <th>sdr_mean</th>\n",
       "      <th>night_flight</th>\n",
       "      <th>night_segments</th>\n",
       "      <th>pct_night_dist</th>\n",
       "    </tr>\n",
       "  </thead>\n",
       "  <tbody>\n",
       "    <tr>\n",
       "      <th>93</th>\n",
       "      <td>FDB1916</td>\n",
       "      <td>8963B5</td>\n",
       "      <td>FZ1916</td>\n",
       "      <td>A6-FES</td>\n",
       "      <td>B738</td>\n",
       "      <td>Jet</td>\n",
       "      <td>URML</td>\n",
       "      <td>Makhachkala Uytash International Airport</td>\n",
       "      <td>RU</td>\n",
       "      <td>OMDB</td>\n",
       "      <td>...</td>\n",
       "      <td>8.002414</td>\n",
       "      <td>0.163315</td>\n",
       "      <td>ICAO EDB</td>\n",
       "      <td>0.363317</td>\n",
       "      <td>7.447394e+18</td>\n",
       "      <td>1.116772e+15</td>\n",
       "      <td>14.200313</td>\n",
       "      <td>False</td>\n",
       "      <td>True</td>\n",
       "      <td>74.495262</td>\n",
       "    </tr>\n",
       "    <tr>\n",
       "      <th>213</th>\n",
       "      <td>FDB1462</td>\n",
       "      <td>8963B1</td>\n",
       "      <td>FZ1462</td>\n",
       "      <td>A6-FEO</td>\n",
       "      <td>B738</td>\n",
       "      <td>Jet</td>\n",
       "      <td>UCFM</td>\n",
       "      <td>Manas International Airport</td>\n",
       "      <td>KG</td>\n",
       "      <td>OMDB</td>\n",
       "      <td>...</td>\n",
       "      <td>11.051537</td>\n",
       "      <td>0.225542</td>\n",
       "      <td>ICAO EDB</td>\n",
       "      <td>0.491998</td>\n",
       "      <td>1.079065e+19</td>\n",
       "      <td>1.171672e+15</td>\n",
       "      <td>90.088696</td>\n",
       "      <td>False</td>\n",
       "      <td>True</td>\n",
       "      <td>23.943959</td>\n",
       "    </tr>\n",
       "    <tr>\n",
       "      <th>1194</th>\n",
       "      <td>FDB448</td>\n",
       "      <td>896331</td>\n",
       "      <td>FZ448</td>\n",
       "      <td>A6-FDZ</td>\n",
       "      <td>B738</td>\n",
       "      <td>Jet</td>\n",
       "      <td>VOMM</td>\n",
       "      <td>Chennai International Airport</td>\n",
       "      <td>IN</td>\n",
       "      <td>OMDB</td>\n",
       "      <td>...</td>\n",
       "      <td>10.664273</td>\n",
       "      <td>0.217638</td>\n",
       "      <td>ICAO EDB</td>\n",
       "      <td>0.453730</td>\n",
       "      <td>9.797427e+18</td>\n",
       "      <td>1.102458e+15</td>\n",
       "      <td>122.496717</td>\n",
       "      <td>False</td>\n",
       "      <td>False</td>\n",
       "      <td>0.000000</td>\n",
       "    </tr>\n",
       "  </tbody>\n",
       "</table>\n",
       "<p>3 rows × 77 columns</p>\n",
       "</div>"
      ],
      "text/plain": [
       "     callsign icao_address flight_number tail_number aircraft_type_icao  \\\n",
       "93    FDB1916       8963B5        FZ1916      A6-FES               B738   \n",
       "213   FDB1462       8963B1        FZ1462      A6-FEO               B738   \n",
       "1194   FDB448       896331         FZ448      A6-FDZ               B738   \n",
       "\n",
       "     aircraft_engine_type origin_airport  \\\n",
       "93                    Jet           URML   \n",
       "213                   Jet           UCFM   \n",
       "1194                  Jet           VOMM   \n",
       "\n",
       "                           origin_airport_name origin_country  \\\n",
       "93    Makhachkala Uytash International Airport             RU   \n",
       "213                Manas International Airport             KG   \n",
       "1194             Chennai International Airport             IN   \n",
       "\n",
       "     destination_airport  ...     so2_kg sulphates_kg nvpm_data_source  \\\n",
       "93                  OMDB  ...   8.002414     0.163315         ICAO EDB   \n",
       "213                 OMDB  ...  11.051537     0.225542         ICAO EDB   \n",
       "1194                OMDB  ...  10.664273     0.217638         ICAO EDB   \n",
       "\n",
       "     nvpm_mass_kg   nvpm_number nvpm_ei_n_mean    sdr_mean  night_flight  \\\n",
       "93       0.363317  7.447394e+18   1.116772e+15   14.200313         False   \n",
       "213      0.491998  1.079065e+19   1.171672e+15   90.088696         False   \n",
       "1194     0.453730  9.797427e+18   1.102458e+15  122.496717         False   \n",
       "\n",
       "      night_segments  pct_night_dist  \n",
       "93              True       74.495262  \n",
       "213             True       23.943959  \n",
       "1194           False        0.000000  \n",
       "\n",
       "[3 rows x 77 columns]"
      ]
     },
     "execution_count": 107,
     "metadata": {},
     "output_type": "execute_result"
    }
   ],
   "source": [
    "destination_dubai = df[df['destination_airport'] == 'OMDB']\n",
    "# destination_dubai[destination_dubai['origin_airport'] == 'DNMM'] #[['origin_airport_name','destination_airport_name']]\n",
    "# destination_dubai['origin_airport'] = destination_dubai['origin_airport'].astype('str')#.dtypes\n",
    "print(len(destination_dubai))\n",
    "destination_dubai.iloc[:3]\n"
   ]
  },
  {
   "cell_type": "code",
   "execution_count": 108,
   "metadata": {},
   "outputs": [
    {
     "name": "stdout",
     "output_type": "stream",
     "text": [
      "Flights who have a direct flight to Dubai: 87\n"
     ]
    }
   ],
   "source": [
    "# # Alternative \n",
    "# def inner_merge_on_columns(df1, df2, column1, column2):\n",
    "#     merged_data = []\n",
    "#     for value1 in df1[column1]:\n",
    "#         for value2 in df2[column2]:\n",
    "#             if value1 == value2:\n",
    "#                 row1 = df1[df1[column1] == value1].iloc[0].to_dict()\n",
    "#                 row2 = df2[df2[column2] == value2].iloc[0].to_dict()\n",
    "#                 merged_data.append({**row1, **row2})\n",
    "#     return pd.DataFrame(merged_data)\n",
    "\n",
    "# merged_df = inner_merge_on_columns(airport_location,destination_dubai,\"icao\",\"origin_airport\")\n",
    "# merged_df['icao'].unique()\n",
    "\n",
    "\n",
    "# Merging airport origin with the existing flights from 2021\n",
    "merged_df = airport_location.merge(destination_dubai, left_on='icao', right_on='origin_airport', how='inner')\n",
    "test = merged_df['icao'].unique()\n",
    "print(\"Flights who have a direct flight to Dubai:\",test.size)"
   ]
  },
  {
   "cell_type": "markdown",
   "metadata": {},
   "source": [
    "### Select unique flights from origin to destination airport"
   ]
  },
  {
   "cell_type": "code",
   "execution_count": 109,
   "metadata": {},
   "outputs": [
    {
     "data": {
      "text/html": [
       "<div>\n",
       "<style scoped>\n",
       "    .dataframe tbody tr th:only-of-type {\n",
       "        vertical-align: middle;\n",
       "    }\n",
       "\n",
       "    .dataframe tbody tr th {\n",
       "        vertical-align: top;\n",
       "    }\n",
       "\n",
       "    .dataframe thead th {\n",
       "        text-align: right;\n",
       "    }\n",
       "</style>\n",
       "<table border=\"1\" class=\"dataframe\">\n",
       "  <thead>\n",
       "    <tr style=\"text-align: right;\">\n",
       "      <th></th>\n",
       "      <th>icao</th>\n",
       "      <th>total_delegates</th>\n",
       "      <th>country_code</th>\n",
       "      <th>origin_airport</th>\n",
       "      <th>destination_airport</th>\n",
       "      <th>distance_to_dubai</th>\n",
       "      <th>assumed_load_factor</th>\n",
       "      <th>aircraft_type_icao</th>\n",
       "      <th>total_fuel_burn</th>\n",
       "      <th>co2_kg</th>\n",
       "      <th>nox_kg</th>\n",
       "      <th>hc_kg</th>\n",
       "      <th>oc_kg</th>\n",
       "      <th>h2o_kg</th>\n",
       "      <th>so2_kg</th>\n",
       "      <th>sulphates_kg</th>\n",
       "      <th>latitude</th>\n",
       "      <th>longitude</th>\n",
       "    </tr>\n",
       "  </thead>\n",
       "  <tbody>\n",
       "    <tr>\n",
       "      <th>0</th>\n",
       "      <td>DAAG</td>\n",
       "      <td>33</td>\n",
       "      <td>DZ</td>\n",
       "      <td>DAAG</td>\n",
       "      <td>OMDB</td>\n",
       "      <td>5076.841504</td>\n",
       "      <td>0.625348</td>\n",
       "      <td>A332</td>\n",
       "      <td>28026.934111</td>\n",
       "      <td>88537.084858</td>\n",
       "      <td>377.908845</td>\n",
       "      <td>2.433629</td>\n",
       "      <td>0.560539</td>\n",
       "      <td>34473.128957</td>\n",
       "      <td>33.632321</td>\n",
       "      <td>0.686374</td>\n",
       "      <td>36.69100</td>\n",
       "      <td>3.215410</td>\n",
       "    </tr>\n",
       "    <tr>\n",
       "      <th>1</th>\n",
       "      <td>DGAA</td>\n",
       "      <td>618</td>\n",
       "      <td>GH</td>\n",
       "      <td>DGAA</td>\n",
       "      <td>OMDB</td>\n",
       "      <td>6292.961752</td>\n",
       "      <td>0.623285</td>\n",
       "      <td>B737</td>\n",
       "      <td>16668.516582</td>\n",
       "      <td>52655.843883</td>\n",
       "      <td>181.799396</td>\n",
       "      <td>1.341575</td>\n",
       "      <td>0.333370</td>\n",
       "      <td>20502.275396</td>\n",
       "      <td>20.002220</td>\n",
       "      <td>0.408209</td>\n",
       "      <td>5.60519</td>\n",
       "      <td>-0.166786</td>\n",
       "    </tr>\n",
       "    <tr>\n",
       "      <th>2</th>\n",
       "      <td>DTTA</td>\n",
       "      <td>221</td>\n",
       "      <td>TN</td>\n",
       "      <td>DTTA</td>\n",
       "      <td>OMDB</td>\n",
       "      <td>4451.568920</td>\n",
       "      <td>0.619923</td>\n",
       "      <td>B77L</td>\n",
       "      <td>30416.465762</td>\n",
       "      <td>96085.615343</td>\n",
       "      <td>554.819782</td>\n",
       "      <td>6.042459</td>\n",
       "      <td>0.608329</td>\n",
       "      <td>37412.252888</td>\n",
       "      <td>36.499759</td>\n",
       "      <td>0.744893</td>\n",
       "      <td>36.85100</td>\n",
       "      <td>10.227200</td>\n",
       "    </tr>\n",
       "  </tbody>\n",
       "</table>\n",
       "</div>"
      ],
      "text/plain": [
       "   icao  total_delegates country_code origin_airport destination_airport  \\\n",
       "0  DAAG               33           DZ           DAAG                OMDB   \n",
       "1  DGAA              618           GH           DGAA                OMDB   \n",
       "2  DTTA              221           TN           DTTA                OMDB   \n",
       "\n",
       "   distance_to_dubai  assumed_load_factor aircraft_type_icao  total_fuel_burn  \\\n",
       "0        5076.841504             0.625348               A332     28026.934111   \n",
       "1        6292.961752             0.623285               B737     16668.516582   \n",
       "2        4451.568920             0.619923               B77L     30416.465762   \n",
       "\n",
       "         co2_kg      nox_kg     hc_kg     oc_kg        h2o_kg     so2_kg  \\\n",
       "0  88537.084858  377.908845  2.433629  0.560539  34473.128957  33.632321   \n",
       "1  52655.843883  181.799396  1.341575  0.333370  20502.275396  20.002220   \n",
       "2  96085.615343  554.819782  6.042459  0.608329  37412.252888  36.499759   \n",
       "\n",
       "   sulphates_kg  latitude  longitude  \n",
       "0      0.686374  36.69100   3.215410  \n",
       "1      0.408209   5.60519  -0.166786  \n",
       "2      0.744893  36.85100  10.227200  "
      ]
     },
     "execution_count": 109,
     "metadata": {},
     "output_type": "execute_result"
    }
   ],
   "source": [
    "merged_df = merged_df.sort_values(by=['icao', 'co2_kg'])\n",
    "unique_flights_df = merged_df.drop_duplicates(subset=['icao'])\n",
    "unique_flights_df.reset_index(inplace=True)\n",
    "\n",
    "# Relevant columns\n",
    "unique_flights_df = unique_flights_df[['icao', 'total_delegates', 'country_code', 'origin_airport','destination_airport',\n",
    "       'distance_to_dubai', 'assumed_load_factor', 'aircraft_type_icao', 'total_fuel_burn','co2_kg', \n",
    "       'nox_kg','hc_kg', 'oc_kg', 'h2o_kg', 'so2_kg', 'sulphates_kg', 'latitude','longitude'\n",
    "       ]]\n",
    "\n",
    "file_path = os.path.join('output', 'flights_without_transit.xlsx')\n",
    "unique_flights_df.to_excel(file_path, index=False)\n",
    "unique_flights_df.iloc[:3]"
   ]
  },
  {
   "cell_type": "code",
   "execution_count": 110,
   "metadata": {},
   "outputs": [
    {
     "data": {
      "text/plain": [
       "array(['A332', 'B737', 'B77L', 'B38M', 'A319', 'B738', 'A20N', 'B77W',\n",
       "       'BCS3', 'B733', 'B734', 'B39M', 'A333', 'A388', 'B789', 'FA7X',\n",
       "       'CRJ2', 'A19N', 'A320', 'E75S', 'A21N', 'DH8D', 'G280', 'A359'],\n",
       "      dtype=object)"
      ]
     },
     "execution_count": 110,
     "metadata": {},
     "output_type": "execute_result"
    }
   ],
   "source": [
    "unique_flights_df['aircraft_type_icao'].unique()"
   ]
  },
  {
   "cell_type": "markdown",
   "metadata": {},
   "source": [
    "### Export flights without direct connection"
   ]
  },
  {
   "cell_type": "code",
   "execution_count": 111,
   "metadata": {},
   "outputs": [
    {
     "data": {
      "text/html": [
       "<div>\n",
       "<style scoped>\n",
       "    .dataframe tbody tr th:only-of-type {\n",
       "        vertical-align: middle;\n",
       "    }\n",
       "\n",
       "    .dataframe tbody tr th {\n",
       "        vertical-align: top;\n",
       "    }\n",
       "\n",
       "    .dataframe thead th {\n",
       "        text-align: right;\n",
       "    }\n",
       "</style>\n",
       "<table border=\"1\" class=\"dataframe\">\n",
       "  <thead>\n",
       "    <tr style=\"text-align: right;\">\n",
       "      <th></th>\n",
       "      <th>iata</th>\n",
       "      <th>icao</th>\n",
       "      <th>total_delegates</th>\n",
       "      <th>country_code</th>\n",
       "      <th>airport</th>\n",
       "      <th>latitude</th>\n",
       "      <th>longitude</th>\n",
       "      <th>distance_to_dubai</th>\n",
       "      <th>existing_flight</th>\n",
       "    </tr>\n",
       "  </thead>\n",
       "  <tbody>\n",
       "    <tr>\n",
       "      <th>0</th>\n",
       "      <td>LOS</td>\n",
       "      <td>DNMM</td>\n",
       "      <td>1411</td>\n",
       "      <td>NG</td>\n",
       "      <td>Murtala Muhammed International Airport</td>\n",
       "      <td>6.57737</td>\n",
       "      <td>3.32116</td>\n",
       "      <td>5899.623220</td>\n",
       "      <td>False</td>\n",
       "    </tr>\n",
       "    <tr>\n",
       "      <th>1</th>\n",
       "      <td>RBA</td>\n",
       "      <td>GMME</td>\n",
       "      <td>823</td>\n",
       "      <td>MA</td>\n",
       "      <td>Rabat-Sale Airport</td>\n",
       "      <td>34.05150</td>\n",
       "      <td>-6.75152</td>\n",
       "      <td>6003.076078</td>\n",
       "      <td>False</td>\n",
       "    </tr>\n",
       "    <tr>\n",
       "      <th>2</th>\n",
       "      <td>YOW</td>\n",
       "      <td>CYOW</td>\n",
       "      <td>1830</td>\n",
       "      <td>CA</td>\n",
       "      <td>Ottawa Macdonald-Cartier International Airport</td>\n",
       "      <td>45.32250</td>\n",
       "      <td>-75.66920</td>\n",
       "      <td>10756.579780</td>\n",
       "      <td>False</td>\n",
       "    </tr>\n",
       "  </tbody>\n",
       "</table>\n",
       "</div>"
      ],
      "text/plain": [
       "  iata  icao  total_delegates country_code  \\\n",
       "0  LOS  DNMM             1411           NG   \n",
       "1  RBA  GMME              823           MA   \n",
       "2  YOW  CYOW             1830           CA   \n",
       "\n",
       "                                          airport  latitude  longitude  \\\n",
       "0          Murtala Muhammed International Airport   6.57737    3.32116   \n",
       "1                              Rabat-Sale Airport  34.05150   -6.75152   \n",
       "2  Ottawa Macdonald-Cartier International Airport  45.32250  -75.66920   \n",
       "\n",
       "   distance_to_dubai  existing_flight  \n",
       "0        5899.623220            False  \n",
       "1        6003.076078            False  \n",
       "2       10756.579780            False  "
      ]
     },
     "execution_count": 111,
     "metadata": {},
     "output_type": "execute_result"
    }
   ],
   "source": [
    "# All origins who \n",
    "airport_location['existing_flight'] = airport_location['icao'].isin(merged_df['origin_airport'])\n",
    "# airport_location[airport_location['existing_flight'] == False]\n",
    "\n",
    "non_direct = airport_location[airport_location['existing_flight'] == False]\n",
    "# test = pd.merge(export, data_iata_icao, on='icao', how='left')\n",
    "# test.drop_duplicates(subset=['icao'])\n",
    "\n",
    "\n",
    "\n",
    "file_path = os.path.join('output', 'non_existing_flights.xlsx')\n",
    "non_direct.to_excel(file_path, index=False)\n",
    "\n",
    "non_direct.reset_index(inplace=True)\n",
    "non_direct = non_direct[['iata','icao','total_delegates','country_code','airport','latitude','longitude','distance_to_dubai','existing_flight']]\n",
    "non_direct.iloc[:3]"
   ]
  },
  {
   "cell_type": "markdown",
   "metadata": {},
   "source": [
    "## 4.2 Non-direct Flight (hub-airport required)"
   ]
  },
  {
   "cell_type": "code",
   "execution_count": 112,
   "metadata": {},
   "outputs": [
    {
     "name": "stdout",
     "output_type": "stream",
     "text": [
      "114\n"
     ]
    },
    {
     "data": {
      "text/html": [
       "<div>\n",
       "<style scoped>\n",
       "    .dataframe tbody tr th:only-of-type {\n",
       "        vertical-align: middle;\n",
       "    }\n",
       "\n",
       "    .dataframe tbody tr th {\n",
       "        vertical-align: top;\n",
       "    }\n",
       "\n",
       "    .dataframe thead th {\n",
       "        text-align: right;\n",
       "    }\n",
       "</style>\n",
       "<table border=\"1\" class=\"dataframe\">\n",
       "  <thead>\n",
       "    <tr style=\"text-align: right;\">\n",
       "      <th></th>\n",
       "      <th>iata</th>\n",
       "      <th>icao</th>\n",
       "      <th>total_delegates</th>\n",
       "      <th>country_code</th>\n",
       "      <th>latitude</th>\n",
       "      <th>longitude</th>\n",
       "      <th>closest</th>\n",
       "      <th>second_c</th>\n",
       "      <th>third_c</th>\n",
       "      <th>fourth_c</th>\n",
       "      <th>fifth_c</th>\n",
       "      <th>sixth_c</th>\n",
       "      <th>seventh_c</th>\n",
       "      <th>eigth_c</th>\n",
       "      <th>nineth_c</th>\n",
       "      <th>tenth_c</th>\n",
       "      <th>to_dubai</th>\n",
       "    </tr>\n",
       "  </thead>\n",
       "  <tbody>\n",
       "    <tr>\n",
       "      <th>0</th>\n",
       "      <td>LOS</td>\n",
       "      <td>DNMM</td>\n",
       "      <td>1411</td>\n",
       "      <td>NG</td>\n",
       "      <td>6.57737</td>\n",
       "      <td>3.32116</td>\n",
       "      <td>DGAA</td>\n",
       "      <td>FNLU</td>\n",
       "      <td>GOBD</td>\n",
       "      <td>HRYR</td>\n",
       "      <td>HJJJ</td>\n",
       "      <td>GMMN</td>\n",
       "      <td>HUEN</td>\n",
       "      <td>DAAG</td>\n",
       "      <td>DTTA</td>\n",
       "      <td>LICC</td>\n",
       "      <td>OMDB</td>\n",
       "    </tr>\n",
       "    <tr>\n",
       "      <th>1</th>\n",
       "      <td>RBA</td>\n",
       "      <td>GMMN</td>\n",
       "      <td>823</td>\n",
       "      <td>MA</td>\n",
       "      <td>34.05150</td>\n",
       "      <td>-6.75152</td>\n",
       "      <td>GMMN</td>\n",
       "      <td>LPPT</td>\n",
       "      <td>LEMD</td>\n",
       "      <td>LEZG</td>\n",
       "      <td>DAAG</td>\n",
       "      <td>LEBL</td>\n",
       "      <td>LFBO</td>\n",
       "      <td>LFLL</td>\n",
       "      <td>LFMN</td>\n",
       "      <td>DTTA</td>\n",
       "      <td>OMDB</td>\n",
       "    </tr>\n",
       "    <tr>\n",
       "      <th>2</th>\n",
       "      <td>YOW</td>\n",
       "      <td>CYOW</td>\n",
       "      <td>1830</td>\n",
       "      <td>CA</td>\n",
       "      <td>45.32250</td>\n",
       "      <td>-75.66920</td>\n",
       "      <td>CYYZ</td>\n",
       "      <td>KEWR</td>\n",
       "      <td>KJFK</td>\n",
       "      <td>KPHL</td>\n",
       "      <td>KBOS</td>\n",
       "      <td>KIAD</td>\n",
       "      <td>KBGR</td>\n",
       "      <td>KLCK</td>\n",
       "      <td>KSDF</td>\n",
       "      <td>KORD</td>\n",
       "      <td>OMDB</td>\n",
       "    </tr>\n",
       "  </tbody>\n",
       "</table>\n",
       "</div>"
      ],
      "text/plain": [
       "  iata  icao  total_delegates country_code  latitude  longitude closest  \\\n",
       "0  LOS  DNMM             1411           NG   6.57737    3.32116    DGAA   \n",
       "1  RBA  GMMN              823           MA  34.05150   -6.75152    GMMN   \n",
       "2  YOW  CYOW             1830           CA  45.32250  -75.66920    CYYZ   \n",
       "\n",
       "  second_c third_c fourth_c fifth_c sixth_c seventh_c eigth_c nineth_c  \\\n",
       "0     FNLU    GOBD     HRYR    HJJJ    GMMN      HUEN    DAAG     DTTA   \n",
       "1     LPPT    LEMD     LEZG    DAAG    LEBL      LFBO    LFLL     LFMN   \n",
       "2     KEWR    KJFK     KPHL    KBOS    KIAD      KBGR    KLCK     KSDF   \n",
       "\n",
       "  tenth_c to_dubai  \n",
       "0    LICC     OMDB  \n",
       "1    DTTA     OMDB  \n",
       "2    KORD     OMDB  "
      ]
     },
     "execution_count": 112,
     "metadata": {},
     "output_type": "execute_result"
    }
   ],
   "source": [
    "def is_defined(obj):\n",
    "    if obj is not None:\n",
    "        return True\n",
    "    else:\n",
    "        return False\n",
    "    \n",
    "all_flights_non_direct = None\n",
    "\n",
    "path_transit = os.getcwd() + '/data/transit_flight_stopover.csv'\n",
    "df_stopover = pd.read_csv(path_transit)\n",
    "print(len(df_stopover))\n",
    "df_stopover.iloc[:3]\n"
   ]
  },
  {
   "cell_type": "code",
   "execution_count": 113,
   "metadata": {},
   "outputs": [
    {
     "data": {
      "text/plain": [
       "Index(['latitude', 'longitude', 'closest', 'second_c', 'third_c', 'fourth_c',\n",
       "       'fifth_c', 'sixth_c', 'seventh_c', 'eigth_c'],\n",
       "      dtype='object')"
      ]
     },
     "execution_count": 113,
     "metadata": {},
     "output_type": "execute_result"
    }
   ],
   "source": [
    "df_stopover.iloc[:,4:14].columns"
   ]
  },
  {
   "cell_type": "code",
   "execution_count": 114,
   "metadata": {},
   "outputs": [
    {
     "name": "stdout",
     "output_type": "stream",
     "text": [
      "Flights without direct flight to dubai (hub_airport required):  114 \n",
      "\n",
      "-----------------------------------------------------------\n",
      "\n",
      "closest \n",
      " Flights found:  56\n"
     ]
    },
    {
     "name": "stdout",
     "output_type": "stream",
     "text": [
      " Total flights found:  112\n",
      " Remaining flights:  58  \n",
      "\n",
      "-----------------------------------------------------------\n",
      "\n",
      "second_c \n",
      " Flights found:  9\n",
      " Total flights found:  130\n",
      " Remaining flights:  49  \n",
      "\n",
      "-----------------------------------------------------------\n",
      "\n",
      "third_c \n",
      " Flights found:  9\n",
      " Total flights found:  148\n",
      " Remaining flights:  40  \n",
      "\n",
      "-----------------------------------------------------------\n",
      "\n",
      "fourth_c \n",
      " Flights found:  2\n",
      " Total flights found:  152\n",
      " Remaining flights:  38  \n",
      "\n",
      "-----------------------------------------------------------\n",
      "\n",
      "fifth_c \n",
      " Flights found:  3\n",
      " Total flights found:  158\n",
      " Remaining flights:  35  \n",
      "\n",
      "-----------------------------------------------------------\n",
      "\n",
      "sixth_c \n",
      " Flights found:  1\n",
      " Total flights found:  160\n",
      " Remaining flights:  34  \n",
      "\n",
      "-----------------------------------------------------------\n",
      "\n",
      "seventh_c \n",
      " Flights found:  2\n",
      " Total flights found:  164\n",
      " Remaining flights:  32  \n",
      "\n",
      "-----------------------------------------------------------\n",
      "\n",
      "eigth_c \n",
      " Flights found:  0\n",
      " Total flights found:  164\n",
      " Remaining flights:  32  \n",
      "\n",
      "-----------------------------------------------------------\n",
      "\n",
      "nineth_c \n",
      " Flights found:  2\n",
      " Total flights found:  168\n",
      " Remaining flights:  30  \n",
      "\n",
      "-----------------------------------------------------------\n",
      "\n",
      "tenth_c \n",
      " Flights found:  0\n",
      " Total flights found:  168\n",
      " Remaining flights:  30  \n",
      "\n"
     ]
    }
   ],
   "source": [
    "print('Flights without direct flight to dubai (hub_airport required): ',len(df_stopover), '\\n')\n",
    "\n",
    "for i_closeness in df_stopover.iloc[:,6:16].columns:\n",
    "    print('-----------------------------------------------------------\\n')\n",
    "    merged_df = pd.merge(df_stopover, df, left_on=['icao', i_closeness], right_on=['origin_airport', 'destination_airport'], how='inner')\n",
    "    merged_df = merged_df.drop_duplicates(subset=['icao'], keep='first')\n",
    "    merged_df.reset_index(inplace=True)\n",
    "    merged_df = merged_df.rename(columns={'destination_airport':'hub_airport'})\n",
    "    merged_df = merged_df[['origin_airport','hub_airport',\n",
    "        'assumed_load_factor', 'aircraft_type_icao', 'total_fuel_burn','co2_kg', \n",
    "        'nox_kg','hc_kg', 'oc_kg', 'h2o_kg', 'so2_kg', 'sulphates_kg','to_dubai'\n",
    "        ]]\n",
    "    #print(len(merged_df))\n",
    "    merged_df.iloc[:3]\n",
    "    print(i_closeness,'\\n Flights found: ', len(merged_df))\n",
    "    #############################\n",
    "    ##### Hub --> Dubai\n",
    "    #############################\n",
    "    # Remaining flights to be found! \n",
    "    occurrences_count = merged_df['origin_airport'].value_counts().to_dict()\n",
    "\n",
    "    # Delete the same number of occurrences from df_stopover['icao'] for each value in final_merged_df['origin_airport']\n",
    "    for value, count in occurrences_count.items():\n",
    "        df_stopover = df_stopover.drop(df_stopover[df_stopover['icao'] == value].head(count).index)\n",
    "\n",
    "    len(df_stopover)\n",
    "\n",
    "    results_closest = merged_df[['hub_airport','to_dubai']]\n",
    "    destination_dubai = pd.merge(results_closest, df, left_on=['hub_airport', 'to_dubai'], right_on=['origin_airport', 'destination_airport'], how='inner')\n",
    "    destination_dubai = destination_dubai.drop_duplicates(subset=['hub_airport'], keep='first')\n",
    "    destination_dubai.reset_index(inplace=True)\n",
    "    #print(len(destination_dubai))\n",
    "    destination_dubai = destination_dubai[['origin_airport','hub_airport',\n",
    "        'assumed_load_factor', 'aircraft_type_icao', 'total_fuel_burn','co2_kg', \n",
    "        'nox_kg','hc_kg', 'oc_kg', 'h2o_kg', 'so2_kg', 'sulphates_kg','to_dubai'\n",
    "        ]]\n",
    "    destination_dubai.iloc[:3]\n",
    "\n",
    "    combined_dfs = []\n",
    "    \n",
    "    # Iterate over unique hub_airport values\n",
    "    for hub_airport in merged_df['hub_airport'].unique():\n",
    "        # Filter the row from destination_dubai\n",
    "        row = destination_dubai[destination_dubai['origin_airport'] == hub_airport].iloc[0]\n",
    "\n",
    "        # Number of times to add the row\n",
    "        num_columns_to_add = (merged_df['hub_airport'] == hub_airport).sum()\n",
    "\n",
    "        # Create a list of copies of row\n",
    "        copies_of_row = [row] * num_columns_to_add\n",
    "\n",
    "        # Concatenate the copies along the columns axis\n",
    "        combined_df = pd.concat(copies_of_row, axis=1)\n",
    "\n",
    "        # Transpose the DataFrame to have the rows and columns swapped\n",
    "        combined_df = combined_df.T\n",
    "\n",
    "        # Append the combined_df to the list\n",
    "        combined_dfs.append(combined_df)\n",
    "\n",
    "    if is_defined(all_flights_non_direct):\n",
    "        all_flights_non_direct = pd.concat([all_flights_non_direct] + [merged_df] + combined_dfs, ignore_index=True)\n",
    "    else:\n",
    "        all_flights_non_direct = pd.concat([merged_df] + combined_dfs, ignore_index=True)\n",
    "    \n",
    "    print(' Total flights found: ', len(all_flights_non_direct))\n",
    "    print(' Remaining flights: ',len(df_stopover),' \\n')\n",
    "    \n",
    "\n",
    "# all_flights_non_direct.iloc[:3]"
   ]
  },
  {
   "cell_type": "code",
   "execution_count": 115,
   "metadata": {},
   "outputs": [],
   "source": [
    "file_path = os.path.join('output', 'flights_non_direct_missing30.xlsx')\n",
    "all_flights_non_direct.to_excel(file_path, index=False)"
   ]
  },
  {
   "cell_type": "code",
   "execution_count": null,
   "metadata": {},
   "outputs": [],
   "source": []
  },
  {
   "cell_type": "code",
   "execution_count": 116,
   "metadata": {},
   "outputs": [
    {
     "data": {
      "text/plain": [
       "array(['A332', 'E190', 'A320', 'A333', 'B350', 'B77W', 'B788', 'E75L',\n",
       "       'B737', 'B738', 'A359', 'AT76', 'A124', 'CRJ2', 'AT75', 'A319',\n",
       "       'B763', 'B38M', 'B734', 'B752', 'A20N', 'B735', 'E170', 'B762',\n",
       "       'BCS3', 'A21N', 'A321', 'B733', 'DC87', 'B789', 'A388', 'B77L',\n",
       "       'E145', 'PC12', 'AT72', 'B748', 'B744'], dtype=object)"
      ]
     },
     "execution_count": 116,
     "metadata": {},
     "output_type": "execute_result"
    }
   ],
   "source": [
    "all_flights_non_direct['aircraft_type_icao'].unique()"
   ]
  },
  {
   "cell_type": "markdown",
   "metadata": {},
   "source": [
    "##### Analysis of results"
   ]
  },
  {
   "cell_type": "code",
   "execution_count": null,
   "metadata": {},
   "outputs": [],
   "source": []
  },
  {
   "cell_type": "code",
   "execution_count": null,
   "metadata": {},
   "outputs": [],
   "source": [
    "# plot_data.loc[0,\"country_name\"] = 'UAE'\n",
    "# plot_data.loc[12,\"country_name\"] = 'Tanzania'\n",
    "# plot_data.loc[17,\"country_name\"] = 'Korea'\n",
    "# plot_data.loc[20,\"country_name\"] = 'Congo'\n",
    "# plot_data.loc[21,\"country_name\"] = 'Russia'\n",
    "sorted_indices = sorted(range(len(plot_data['total_delegates'])), key=lambda i: plot_data['total_delegates'][i])\n",
    "sorted_categories = [plot_data['country_name'][i] for i in sorted_indices]\n",
    "sorted_values = [plot_data['total_delegates'][i] for i in sorted_indices]\n",
    "\n",
    "fig = go.Figure(data=[go.Bar(\n",
    "    y=sorted_categories,  # y-axis categories\n",
    "    x=sorted_values,      # x-axis values\n",
    "    orientation='h'  # horizontal orientation\n",
    ")])\n",
    "\n",
    "# Add title and labels\n",
    "fig.update_layout(\n",
    "    title='Participants from each country (Top 40)',\n",
    "    yaxis=dict(title='Countries'),\n",
    "    xaxis=dict(title='# participants'),\n",
    "    width=400,\n",
    "    height=800\n",
    ")\n",
    "\n",
    "# Show the chart\n",
    "#fig.write_image(\"participants_country.png\")\n",
    "fig.show()\n",
    "#pio.write_image(fig, \"participants_country.png\")"
   ]
  },
  {
   "cell_type": "markdown",
   "metadata": {},
   "source": [
    "## Old \n",
    "#### First_closest // Single iteration with further split"
   ]
  },
  {
   "cell_type": "code",
   "execution_count": null,
   "metadata": {},
   "outputs": [
    {
     "name": "stdout",
     "output_type": "stream",
     "text": [
      "0\n"
     ]
    },
    {
     "data": {
      "text/html": [
       "<div>\n",
       "<style scoped>\n",
       "    .dataframe tbody tr th:only-of-type {\n",
       "        vertical-align: middle;\n",
       "    }\n",
       "\n",
       "    .dataframe tbody tr th {\n",
       "        vertical-align: top;\n",
       "    }\n",
       "\n",
       "    .dataframe thead th {\n",
       "        text-align: right;\n",
       "    }\n",
       "</style>\n",
       "<table border=\"1\" class=\"dataframe\">\n",
       "  <thead>\n",
       "    <tr style=\"text-align: right;\">\n",
       "      <th></th>\n",
       "      <th>origin_airport</th>\n",
       "      <th>hub_airport</th>\n",
       "      <th>assumed_load_factor</th>\n",
       "      <th>aircraft_type_icao</th>\n",
       "      <th>total_fuel_burn</th>\n",
       "      <th>co2_kg</th>\n",
       "      <th>nox_kg</th>\n",
       "      <th>hc_kg</th>\n",
       "      <th>oc_kg</th>\n",
       "      <th>h2o_kg</th>\n",
       "      <th>so2_kg</th>\n",
       "      <th>sulphates_kg</th>\n",
       "      <th>to_dubai</th>\n",
       "    </tr>\n",
       "  </thead>\n",
       "  <tbody>\n",
       "  </tbody>\n",
       "</table>\n",
       "</div>"
      ],
      "text/plain": [
       "Empty DataFrame\n",
       "Columns: [origin_airport, hub_airport, assumed_load_factor, aircraft_type_icao, total_fuel_burn, co2_kg, nox_kg, hc_kg, oc_kg, h2o_kg, so2_kg, sulphates_kg, to_dubai]\n",
       "Index: []"
      ]
     },
     "execution_count": 47,
     "metadata": {},
     "output_type": "execute_result"
    }
   ],
   "source": [
    "merged_df = pd.merge(df_stopover, df, left_on=['icao', 'closest'], right_on=['origin_airport', 'destination_airport'], how='inner')\n",
    "merged_df = merged_df.drop_duplicates(subset=['icao'], keep='first')\n",
    "merged_df.reset_index(inplace=True)\n",
    "merged_df = merged_df.rename(columns={'destination_airport':'hub_airport'})\n",
    "merged_df = merged_df[['origin_airport','hub_airport',\n",
    "       'assumed_load_factor', 'aircraft_type_icao', 'total_fuel_burn','co2_kg', \n",
    "       'nox_kg','hc_kg', 'oc_kg', 'h2o_kg', 'so2_kg', 'sulphates_kg','to_dubai'\n",
    "       ]]\n",
    "print(len(merged_df))\n",
    "merged_df.iloc[:3]"
   ]
  },
  {
   "cell_type": "markdown",
   "metadata": {},
   "source": [
    "##### Hub -> Dubai (First_closest)"
   ]
  },
  {
   "cell_type": "code",
   "execution_count": null,
   "metadata": {},
   "outputs": [
    {
     "data": {
      "text/plain": [
       "30"
      ]
     },
     "execution_count": 48,
     "metadata": {},
     "output_type": "execute_result"
    }
   ],
   "source": [
    "# Remaining flights to be found! \n",
    "occurrences_count = merged_df['origin_airport'].value_counts().to_dict()\n",
    "\n",
    "# Delete the same number of occurrences from df_stopover['icao'] for each value in final_merged_df['origin_airport']\n",
    "for value, count in occurrences_count.items():\n",
    "    df_stopover = df_stopover.drop(df_stopover[df_stopover['icao'] == value].head(count).index)\n",
    "\n",
    "len(df_stopover)"
   ]
  },
  {
   "cell_type": "code",
   "execution_count": null,
   "metadata": {},
   "outputs": [
    {
     "name": "stdout",
     "output_type": "stream",
     "text": [
      "0\n"
     ]
    },
    {
     "data": {
      "text/html": [
       "<div>\n",
       "<style scoped>\n",
       "    .dataframe tbody tr th:only-of-type {\n",
       "        vertical-align: middle;\n",
       "    }\n",
       "\n",
       "    .dataframe tbody tr th {\n",
       "        vertical-align: top;\n",
       "    }\n",
       "\n",
       "    .dataframe thead th {\n",
       "        text-align: right;\n",
       "    }\n",
       "</style>\n",
       "<table border=\"1\" class=\"dataframe\">\n",
       "  <thead>\n",
       "    <tr style=\"text-align: right;\">\n",
       "      <th></th>\n",
       "      <th>origin_airport</th>\n",
       "      <th>hub_airport</th>\n",
       "      <th>assumed_load_factor</th>\n",
       "      <th>aircraft_type_icao</th>\n",
       "      <th>total_fuel_burn</th>\n",
       "      <th>co2_kg</th>\n",
       "      <th>nox_kg</th>\n",
       "      <th>hc_kg</th>\n",
       "      <th>oc_kg</th>\n",
       "      <th>h2o_kg</th>\n",
       "      <th>so2_kg</th>\n",
       "      <th>sulphates_kg</th>\n",
       "      <th>to_dubai</th>\n",
       "    </tr>\n",
       "  </thead>\n",
       "  <tbody>\n",
       "  </tbody>\n",
       "</table>\n",
       "</div>"
      ],
      "text/plain": [
       "Empty DataFrame\n",
       "Columns: [origin_airport, hub_airport, assumed_load_factor, aircraft_type_icao, total_fuel_burn, co2_kg, nox_kg, hc_kg, oc_kg, h2o_kg, so2_kg, sulphates_kg, to_dubai]\n",
       "Index: []"
      ]
     },
     "execution_count": 49,
     "metadata": {},
     "output_type": "execute_result"
    }
   ],
   "source": [
    "results_closest = merged_df[['hub_airport','to_dubai']]\n",
    "destination_dubai = pd.merge(results_closest, df, left_on=['hub_airport', 'to_dubai'], right_on=['origin_airport', 'destination_airport'], how='inner')\n",
    "destination_dubai = destination_dubai.drop_duplicates(subset=['hub_airport'], keep='first')\n",
    "destination_dubai.reset_index(inplace=True)\n",
    "# destination_dubai = destination_dubai[['icao','first_closest','origin_airport','destination_airport',\n",
    "#        'assumed_load_factor', 'aircraft_type_icao', 'total_fuel_burn','co2_kg', \n",
    "#        'nox_kg','hc_kg', 'oc_kg', 'h2o_kg', 'so2_kg', 'sulphates_kg','to_dubai'\n",
    "#        ]]\n",
    "print(len(destination_dubai))\n",
    "destination_dubai = destination_dubai[['origin_airport','hub_airport',\n",
    "       'assumed_load_factor', 'aircraft_type_icao', 'total_fuel_burn','co2_kg', \n",
    "       'nox_kg','hc_kg', 'oc_kg', 'h2o_kg', 'so2_kg', 'sulphates_kg','to_dubai'\n",
    "       ]]\n",
    "destination_dubai.iloc[:3]\n",
    "# destination_dubai['hub_airport'].unique()\n",
    "# destination_dubai['aircraft_type_icao'].unique()"
   ]
  },
  {
   "cell_type": "code",
   "execution_count": null,
   "metadata": {},
   "outputs": [
    {
     "name": "stdout",
     "output_type": "stream",
     "text": [
      "0\n"
     ]
    },
    {
     "data": {
      "text/html": [
       "<div>\n",
       "<style scoped>\n",
       "    .dataframe tbody tr th:only-of-type {\n",
       "        vertical-align: middle;\n",
       "    }\n",
       "\n",
       "    .dataframe tbody tr th {\n",
       "        vertical-align: top;\n",
       "    }\n",
       "\n",
       "    .dataframe thead th {\n",
       "        text-align: right;\n",
       "    }\n",
       "</style>\n",
       "<table border=\"1\" class=\"dataframe\">\n",
       "  <thead>\n",
       "    <tr style=\"text-align: right;\">\n",
       "      <th></th>\n",
       "      <th>origin_airport</th>\n",
       "      <th>hub_airport</th>\n",
       "      <th>assumed_load_factor</th>\n",
       "      <th>aircraft_type_icao</th>\n",
       "      <th>total_fuel_burn</th>\n",
       "      <th>co2_kg</th>\n",
       "      <th>nox_kg</th>\n",
       "      <th>hc_kg</th>\n",
       "      <th>oc_kg</th>\n",
       "      <th>h2o_kg</th>\n",
       "      <th>so2_kg</th>\n",
       "      <th>sulphates_kg</th>\n",
       "      <th>to_dubai</th>\n",
       "    </tr>\n",
       "  </thead>\n",
       "  <tbody>\n",
       "  </tbody>\n",
       "</table>\n",
       "</div>"
      ],
      "text/plain": [
       "Empty DataFrame\n",
       "Columns: [origin_airport, hub_airport, assumed_load_factor, aircraft_type_icao, total_fuel_burn, co2_kg, nox_kg, hc_kg, oc_kg, h2o_kg, so2_kg, sulphates_kg, to_dubai]\n",
       "Index: []"
      ]
     },
     "execution_count": 50,
     "metadata": {},
     "output_type": "execute_result"
    }
   ],
   "source": [
    "combined_dfs = []\n",
    "# Iterate over unique hub_airport values\n",
    "for hub_airport in merged_df['hub_airport'].unique():\n",
    "    # Filter the row from destination_dubai\n",
    "    row = destination_dubai[destination_dubai['origin_airport'] == hub_airport].iloc[0]\n",
    "\n",
    "    # Number of times to add the row\n",
    "    num_columns_to_add = (merged_df['hub_airport'] == hub_airport).sum()\n",
    "\n",
    "    # Create a list of copies of row\n",
    "    copies_of_row = [row] * num_columns_to_add\n",
    "\n",
    "    # Concatenate the copies along the columns axis\n",
    "    combined_df = pd.concat(copies_of_row, axis=1)\n",
    "\n",
    "    # Transpose the DataFrame to have the rows and columns swapped\n",
    "    combined_df = combined_df.T\n",
    "\n",
    "    # Append the combined_df to the list\n",
    "    combined_dfs.append(combined_df)\n",
    "\n",
    "all_flights_non_direct = pd.concat([merged_df] + combined_dfs, ignore_index=True)\n",
    "print(len(all_flights_non_direct))\n",
    "all_flights_non_direct.iloc[:3]"
   ]
  },
  {
   "cell_type": "markdown",
   "metadata": {},
   "source": [
    "## Heatmap"
   ]
  },
  {
   "cell_type": "code",
   "execution_count": 73,
   "metadata": {},
   "outputs": [
    {
     "data": {
      "application/vnd.plotly.v1+json": {
       "config": {
        "plotlyServerURL": "https://plot.ly"
       },
       "data": [
        {
         "lat": [
          -4.25167,
          -22.4799,
          -12.0219,
          3.83604,
          15.4763,
          15.4764,
          -18.0433,
          43.0613,
          47.8431,
          -17.6993,
          -21.2412,
          1.98616,
          -26.529,
          -8.525,
          -13.83,
          -29.4623,
          -16.5133,
          15.5895,
          46.9744,
          14.0202,
          10.6012,
          10.6012,
          15.547,
          24.0633,
          6.9851,
          -19.079,
          -21.2027,
          42.3386,
          42.3386,
          39.2241
         ],
         "locationmode": "USA-states",
         "lon": [
          15.2531,
          17.4709,
          -77.1143,
          11.5235,
          44.2197,
          44.2197,
          178.559,
          74.4776,
          106.767,
          168.32,
          -175.15,
          -157.35,
          31.3075,
          179.196,
          -172.008,
          27.5525,
          -68.1923,
          32.5532,
          8.39694,
          -60.9929,
          -66.9912,
          -66.9912,
          -61.3,
          -74.524,
          158.209,
          -169.926,
          -159.806,
          1.40917,
          1.40917,
          125.67
         ],
         "marker": {
          "line": {
           "width": 0.5
          },
          "size": [
           2.84,
           2.12,
           1.95,
           1.56,
           1.53,
           1.53,
           1.34,
           1.33,
           1.33,
           0.99,
           0.79,
           0.71,
           0.61,
           0.54,
           0.53,
           0.48,
           0.46,
           0.46,
           0.43,
           0.37,
           0.34,
           0.31,
           0.29,
           0.28,
           0.26,
           0.24,
           0.21,
           0.11,
           0.11,
           0.02
          ]
         },
         "mode": "markers",
         "type": "scattergeo"
        }
       ],
       "layout": {
        "geo": {
         "landcolor": "rgb(217, 217, 217)",
         "projection": {
          "type": "mercator"
         },
         "scope": "world",
         "showframe": false,
         "showland": true
        },
        "height": 800,
        "template": {
         "data": {
          "bar": [
           {
            "error_x": {
             "color": "#2a3f5f"
            },
            "error_y": {
             "color": "#2a3f5f"
            },
            "marker": {
             "line": {
              "color": "#E5ECF6",
              "width": 0.5
             },
             "pattern": {
              "fillmode": "overlay",
              "size": 10,
              "solidity": 0.2
             }
            },
            "type": "bar"
           }
          ],
          "barpolar": [
           {
            "marker": {
             "line": {
              "color": "#E5ECF6",
              "width": 0.5
             },
             "pattern": {
              "fillmode": "overlay",
              "size": 10,
              "solidity": 0.2
             }
            },
            "type": "barpolar"
           }
          ],
          "carpet": [
           {
            "aaxis": {
             "endlinecolor": "#2a3f5f",
             "gridcolor": "white",
             "linecolor": "white",
             "minorgridcolor": "white",
             "startlinecolor": "#2a3f5f"
            },
            "baxis": {
             "endlinecolor": "#2a3f5f",
             "gridcolor": "white",
             "linecolor": "white",
             "minorgridcolor": "white",
             "startlinecolor": "#2a3f5f"
            },
            "type": "carpet"
           }
          ],
          "choropleth": [
           {
            "colorbar": {
             "outlinewidth": 0,
             "ticks": ""
            },
            "type": "choropleth"
           }
          ],
          "contour": [
           {
            "colorbar": {
             "outlinewidth": 0,
             "ticks": ""
            },
            "colorscale": [
             [
              0,
              "#0d0887"
             ],
             [
              0.1111111111111111,
              "#46039f"
             ],
             [
              0.2222222222222222,
              "#7201a8"
             ],
             [
              0.3333333333333333,
              "#9c179e"
             ],
             [
              0.4444444444444444,
              "#bd3786"
             ],
             [
              0.5555555555555556,
              "#d8576b"
             ],
             [
              0.6666666666666666,
              "#ed7953"
             ],
             [
              0.7777777777777778,
              "#fb9f3a"
             ],
             [
              0.8888888888888888,
              "#fdca26"
             ],
             [
              1,
              "#f0f921"
             ]
            ],
            "type": "contour"
           }
          ],
          "contourcarpet": [
           {
            "colorbar": {
             "outlinewidth": 0,
             "ticks": ""
            },
            "type": "contourcarpet"
           }
          ],
          "heatmap": [
           {
            "colorbar": {
             "outlinewidth": 0,
             "ticks": ""
            },
            "colorscale": [
             [
              0,
              "#0d0887"
             ],
             [
              0.1111111111111111,
              "#46039f"
             ],
             [
              0.2222222222222222,
              "#7201a8"
             ],
             [
              0.3333333333333333,
              "#9c179e"
             ],
             [
              0.4444444444444444,
              "#bd3786"
             ],
             [
              0.5555555555555556,
              "#d8576b"
             ],
             [
              0.6666666666666666,
              "#ed7953"
             ],
             [
              0.7777777777777778,
              "#fb9f3a"
             ],
             [
              0.8888888888888888,
              "#fdca26"
             ],
             [
              1,
              "#f0f921"
             ]
            ],
            "type": "heatmap"
           }
          ],
          "heatmapgl": [
           {
            "colorbar": {
             "outlinewidth": 0,
             "ticks": ""
            },
            "colorscale": [
             [
              0,
              "#0d0887"
             ],
             [
              0.1111111111111111,
              "#46039f"
             ],
             [
              0.2222222222222222,
              "#7201a8"
             ],
             [
              0.3333333333333333,
              "#9c179e"
             ],
             [
              0.4444444444444444,
              "#bd3786"
             ],
             [
              0.5555555555555556,
              "#d8576b"
             ],
             [
              0.6666666666666666,
              "#ed7953"
             ],
             [
              0.7777777777777778,
              "#fb9f3a"
             ],
             [
              0.8888888888888888,
              "#fdca26"
             ],
             [
              1,
              "#f0f921"
             ]
            ],
            "type": "heatmapgl"
           }
          ],
          "histogram": [
           {
            "marker": {
             "pattern": {
              "fillmode": "overlay",
              "size": 10,
              "solidity": 0.2
             }
            },
            "type": "histogram"
           }
          ],
          "histogram2d": [
           {
            "colorbar": {
             "outlinewidth": 0,
             "ticks": ""
            },
            "colorscale": [
             [
              0,
              "#0d0887"
             ],
             [
              0.1111111111111111,
              "#46039f"
             ],
             [
              0.2222222222222222,
              "#7201a8"
             ],
             [
              0.3333333333333333,
              "#9c179e"
             ],
             [
              0.4444444444444444,
              "#bd3786"
             ],
             [
              0.5555555555555556,
              "#d8576b"
             ],
             [
              0.6666666666666666,
              "#ed7953"
             ],
             [
              0.7777777777777778,
              "#fb9f3a"
             ],
             [
              0.8888888888888888,
              "#fdca26"
             ],
             [
              1,
              "#f0f921"
             ]
            ],
            "type": "histogram2d"
           }
          ],
          "histogram2dcontour": [
           {
            "colorbar": {
             "outlinewidth": 0,
             "ticks": ""
            },
            "colorscale": [
             [
              0,
              "#0d0887"
             ],
             [
              0.1111111111111111,
              "#46039f"
             ],
             [
              0.2222222222222222,
              "#7201a8"
             ],
             [
              0.3333333333333333,
              "#9c179e"
             ],
             [
              0.4444444444444444,
              "#bd3786"
             ],
             [
              0.5555555555555556,
              "#d8576b"
             ],
             [
              0.6666666666666666,
              "#ed7953"
             ],
             [
              0.7777777777777778,
              "#fb9f3a"
             ],
             [
              0.8888888888888888,
              "#fdca26"
             ],
             [
              1,
              "#f0f921"
             ]
            ],
            "type": "histogram2dcontour"
           }
          ],
          "mesh3d": [
           {
            "colorbar": {
             "outlinewidth": 0,
             "ticks": ""
            },
            "type": "mesh3d"
           }
          ],
          "parcoords": [
           {
            "line": {
             "colorbar": {
              "outlinewidth": 0,
              "ticks": ""
             }
            },
            "type": "parcoords"
           }
          ],
          "pie": [
           {
            "automargin": true,
            "type": "pie"
           }
          ],
          "scatter": [
           {
            "fillpattern": {
             "fillmode": "overlay",
             "size": 10,
             "solidity": 0.2
            },
            "type": "scatter"
           }
          ],
          "scatter3d": [
           {
            "line": {
             "colorbar": {
              "outlinewidth": 0,
              "ticks": ""
             }
            },
            "marker": {
             "colorbar": {
              "outlinewidth": 0,
              "ticks": ""
             }
            },
            "type": "scatter3d"
           }
          ],
          "scattercarpet": [
           {
            "marker": {
             "colorbar": {
              "outlinewidth": 0,
              "ticks": ""
             }
            },
            "type": "scattercarpet"
           }
          ],
          "scattergeo": [
           {
            "marker": {
             "colorbar": {
              "outlinewidth": 0,
              "ticks": ""
             }
            },
            "type": "scattergeo"
           }
          ],
          "scattergl": [
           {
            "marker": {
             "colorbar": {
              "outlinewidth": 0,
              "ticks": ""
             }
            },
            "type": "scattergl"
           }
          ],
          "scattermapbox": [
           {
            "marker": {
             "colorbar": {
              "outlinewidth": 0,
              "ticks": ""
             }
            },
            "type": "scattermapbox"
           }
          ],
          "scatterpolar": [
           {
            "marker": {
             "colorbar": {
              "outlinewidth": 0,
              "ticks": ""
             }
            },
            "type": "scatterpolar"
           }
          ],
          "scatterpolargl": [
           {
            "marker": {
             "colorbar": {
              "outlinewidth": 0,
              "ticks": ""
             }
            },
            "type": "scatterpolargl"
           }
          ],
          "scatterternary": [
           {
            "marker": {
             "colorbar": {
              "outlinewidth": 0,
              "ticks": ""
             }
            },
            "type": "scatterternary"
           }
          ],
          "surface": [
           {
            "colorbar": {
             "outlinewidth": 0,
             "ticks": ""
            },
            "colorscale": [
             [
              0,
              "#0d0887"
             ],
             [
              0.1111111111111111,
              "#46039f"
             ],
             [
              0.2222222222222222,
              "#7201a8"
             ],
             [
              0.3333333333333333,
              "#9c179e"
             ],
             [
              0.4444444444444444,
              "#bd3786"
             ],
             [
              0.5555555555555556,
              "#d8576b"
             ],
             [
              0.6666666666666666,
              "#ed7953"
             ],
             [
              0.7777777777777778,
              "#fb9f3a"
             ],
             [
              0.8888888888888888,
              "#fdca26"
             ],
             [
              1,
              "#f0f921"
             ]
            ],
            "type": "surface"
           }
          ],
          "table": [
           {
            "cells": {
             "fill": {
              "color": "#EBF0F8"
             },
             "line": {
              "color": "white"
             }
            },
            "header": {
             "fill": {
              "color": "#C8D4E3"
             },
             "line": {
              "color": "white"
             }
            },
            "type": "table"
           }
          ]
         },
         "layout": {
          "annotationdefaults": {
           "arrowcolor": "#2a3f5f",
           "arrowhead": 0,
           "arrowwidth": 1
          },
          "autotypenumbers": "strict",
          "coloraxis": {
           "colorbar": {
            "outlinewidth": 0,
            "ticks": ""
           }
          },
          "colorscale": {
           "diverging": [
            [
             0,
             "#8e0152"
            ],
            [
             0.1,
             "#c51b7d"
            ],
            [
             0.2,
             "#de77ae"
            ],
            [
             0.3,
             "#f1b6da"
            ],
            [
             0.4,
             "#fde0ef"
            ],
            [
             0.5,
             "#f7f7f7"
            ],
            [
             0.6,
             "#e6f5d0"
            ],
            [
             0.7,
             "#b8e186"
            ],
            [
             0.8,
             "#7fbc41"
            ],
            [
             0.9,
             "#4d9221"
            ],
            [
             1,
             "#276419"
            ]
           ],
           "sequential": [
            [
             0,
             "#0d0887"
            ],
            [
             0.1111111111111111,
             "#46039f"
            ],
            [
             0.2222222222222222,
             "#7201a8"
            ],
            [
             0.3333333333333333,
             "#9c179e"
            ],
            [
             0.4444444444444444,
             "#bd3786"
            ],
            [
             0.5555555555555556,
             "#d8576b"
            ],
            [
             0.6666666666666666,
             "#ed7953"
            ],
            [
             0.7777777777777778,
             "#fb9f3a"
            ],
            [
             0.8888888888888888,
             "#fdca26"
            ],
            [
             1,
             "#f0f921"
            ]
           ],
           "sequentialminus": [
            [
             0,
             "#0d0887"
            ],
            [
             0.1111111111111111,
             "#46039f"
            ],
            [
             0.2222222222222222,
             "#7201a8"
            ],
            [
             0.3333333333333333,
             "#9c179e"
            ],
            [
             0.4444444444444444,
             "#bd3786"
            ],
            [
             0.5555555555555556,
             "#d8576b"
            ],
            [
             0.6666666666666666,
             "#ed7953"
            ],
            [
             0.7777777777777778,
             "#fb9f3a"
            ],
            [
             0.8888888888888888,
             "#fdca26"
            ],
            [
             1,
             "#f0f921"
            ]
           ]
          },
          "colorway": [
           "#636efa",
           "#EF553B",
           "#00cc96",
           "#ab63fa",
           "#FFA15A",
           "#19d3f3",
           "#FF6692",
           "#B6E880",
           "#FF97FF",
           "#FECB52"
          ],
          "font": {
           "color": "#2a3f5f"
          },
          "geo": {
           "bgcolor": "white",
           "lakecolor": "white",
           "landcolor": "#E5ECF6",
           "showlakes": true,
           "showland": true,
           "subunitcolor": "white"
          },
          "hoverlabel": {
           "align": "left"
          },
          "hovermode": "closest",
          "mapbox": {
           "style": "light"
          },
          "paper_bgcolor": "white",
          "plot_bgcolor": "#E5ECF6",
          "polar": {
           "angularaxis": {
            "gridcolor": "white",
            "linecolor": "white",
            "ticks": ""
           },
           "bgcolor": "#E5ECF6",
           "radialaxis": {
            "gridcolor": "white",
            "linecolor": "white",
            "ticks": ""
           }
          },
          "scene": {
           "xaxis": {
            "backgroundcolor": "#E5ECF6",
            "gridcolor": "white",
            "gridwidth": 2,
            "linecolor": "white",
            "showbackground": true,
            "ticks": "",
            "zerolinecolor": "white"
           },
           "yaxis": {
            "backgroundcolor": "#E5ECF6",
            "gridcolor": "white",
            "gridwidth": 2,
            "linecolor": "white",
            "showbackground": true,
            "ticks": "",
            "zerolinecolor": "white"
           },
           "zaxis": {
            "backgroundcolor": "#E5ECF6",
            "gridcolor": "white",
            "gridwidth": 2,
            "linecolor": "white",
            "showbackground": true,
            "ticks": "",
            "zerolinecolor": "white"
           }
          },
          "shapedefaults": {
           "line": {
            "color": "#2a3f5f"
           }
          },
          "ternary": {
           "aaxis": {
            "gridcolor": "white",
            "linecolor": "white",
            "ticks": ""
           },
           "baxis": {
            "gridcolor": "white",
            "linecolor": "white",
            "ticks": ""
           },
           "bgcolor": "#E5ECF6",
           "caxis": {
            "gridcolor": "white",
            "linecolor": "white",
            "ticks": ""
           }
          },
          "title": {
           "x": 0.05
          },
          "xaxis": {
           "automargin": true,
           "gridcolor": "white",
           "linecolor": "white",
           "ticks": "",
           "title": {
            "standoff": 15
           },
           "zerolinecolor": "white",
           "zerolinewidth": 2
          },
          "yaxis": {
           "automargin": true,
           "gridcolor": "white",
           "linecolor": "white",
           "ticks": "",
           "title": {
            "standoff": 15
           },
           "zerolinecolor": "white",
           "zerolinewidth": 2
          }
         }
        },
        "title": {
         "text": "Global Heatmap with Locations and Size Factor"
        }
       }
      }
     },
     "metadata": {},
     "output_type": "display_data"
    }
   ],
   "source": [
    "scatter_geo = go.Scattergeo(\n",
    "    locationmode='USA-states',  # Set location mode\n",
    "    lon=df_stopover['longitude'],\n",
    "    lat=df_stopover['latitude'],\n",
    "    # text=df_stopover[''],\n",
    "    mode='markers',\n",
    "    marker=dict(\n",
    "        size=df_stopover['total_delegates']/100,\n",
    "        # #color=df_stopover['total_delegates']/100,\n",
    "        # colorscale='Viridis',  # Choose a color scale\n",
    "        # colorbar=dict(title='Values'),  # Add color bar\n",
    "        line_width=0.5\n",
    "    )\n",
    ")\n",
    "\n",
    "# Create the layout for the figure\n",
    "layout = go.Layout(\n",
    "    title='Global Heatmap with Locations and Size Factor',\n",
    "    geo=dict(\n",
    "        scope='world',\n",
    "        showland=True,\n",
    "        landcolor='rgb(217, 217, 217)',  # Set the color of land areas\n",
    "        showframe=False,  # Hide the frame\n",
    "        projection_type='mercator'  # Choose projection type\n",
    "    ),\n",
    "    height=800,  # Increase the height of the plot\n",
    ")\n",
    "\n",
    "# Create the figure object\n",
    "fig = go.Figure(data=[scatter_geo], layout=layout)\n",
    "\n",
    "# Show the figure\n",
    "fig.show()"
   ]
  },
  {
   "cell_type": "code",
   "execution_count": 74,
   "metadata": {},
   "outputs": [],
   "source": [
    "# Sample data\n",
    "locations = df_stopover['country_code']\n",
    "latitudes = df_stopover['latitude']\n",
    "longitudes = df_stopover['longitude']\n",
    "sizes = df_stopover['total_delegates']/10\n",
    "#values = [20, 30, 25, 40]  # Values for the color scale\n",
    "\n",
    "# Initialize the map centered around the first location\n",
    "mymap = folium.Map()\n",
    "\n",
    "# Iterate over locations\n",
    "for lat, lon, size, location in zip(latitudes, longitudes, sizes, locations):\n",
    "    # Add circle marker with varying sizes\n",
    "    folium.CircleMarker(\n",
    "        location=[lat, lon],\n",
    "        radius=size / 10,  # Normalize size for better visualization\n",
    "        color='blue',\n",
    "        fill=True,\n",
    "        fill_color='blue',\n",
    "        fill_opacity=0.6,\n",
    "        popup=location\n",
    "    ).add_to(mymap)\n",
    "\n",
    "# Save the map to an HTML file\n",
    "mymap.save(\"origin_participants_remainings.html\")"
   ]
  },
  {
   "cell_type": "code",
   "execution_count": null,
   "metadata": {},
   "outputs": [
    {
     "name": "stderr",
     "output_type": "stream",
     "text": [
      "C:\\Users\\lukas\\AppData\\Local\\Temp\\ipykernel_14380\\2891524790.py:9: UserWarning:\n",
      "\n",
      "The `max_val` parameter is no longer necessary. The largest intensity is calculated automatically.\n",
      "\n"
     ]
    },
    {
     "data": {
      "text/html": [
       "<div style=\"width:100%;\"><div style=\"position:relative;width:100%;height:0;padding-bottom:60%;\"><span style=\"color:#565656\">Make this Notebook Trusted to load map: File -> Trust Notebook</span><iframe srcdoc=\"&lt;!DOCTYPE html&gt;\n",
       "&lt;html&gt;\n",
       "&lt;head&gt;\n",
       "    \n",
       "    &lt;meta http-equiv=&quot;content-type&quot; content=&quot;text/html; charset=UTF-8&quot; /&gt;\n",
       "    \n",
       "        &lt;script&gt;\n",
       "            L_NO_TOUCH = false;\n",
       "            L_DISABLE_3D = false;\n",
       "        &lt;/script&gt;\n",
       "    \n",
       "    &lt;style&gt;html, body {width: 100%;height: 100%;margin: 0;padding: 0;}&lt;/style&gt;\n",
       "    &lt;style&gt;#map {position:absolute;top:0;bottom:0;right:0;left:0;}&lt;/style&gt;\n",
       "    &lt;script src=&quot;https://cdn.jsdelivr.net/npm/leaflet@1.9.3/dist/leaflet.js&quot;&gt;&lt;/script&gt;\n",
       "    &lt;script src=&quot;https://code.jquery.com/jquery-3.7.1.min.js&quot;&gt;&lt;/script&gt;\n",
       "    &lt;script src=&quot;https://cdn.jsdelivr.net/npm/bootstrap@5.2.2/dist/js/bootstrap.bundle.min.js&quot;&gt;&lt;/script&gt;\n",
       "    &lt;script src=&quot;https://cdnjs.cloudflare.com/ajax/libs/Leaflet.awesome-markers/2.0.2/leaflet.awesome-markers.js&quot;&gt;&lt;/script&gt;\n",
       "    &lt;link rel=&quot;stylesheet&quot; href=&quot;https://cdn.jsdelivr.net/npm/leaflet@1.9.3/dist/leaflet.css&quot;/&gt;\n",
       "    &lt;link rel=&quot;stylesheet&quot; href=&quot;https://cdn.jsdelivr.net/npm/bootstrap@5.2.2/dist/css/bootstrap.min.css&quot;/&gt;\n",
       "    &lt;link rel=&quot;stylesheet&quot; href=&quot;https://netdna.bootstrapcdn.com/bootstrap/3.0.0/css/bootstrap.min.css&quot;/&gt;\n",
       "    &lt;link rel=&quot;stylesheet&quot; href=&quot;https://cdn.jsdelivr.net/npm/@fortawesome/fontawesome-free@6.2.0/css/all.min.css&quot;/&gt;\n",
       "    &lt;link rel=&quot;stylesheet&quot; href=&quot;https://cdnjs.cloudflare.com/ajax/libs/Leaflet.awesome-markers/2.0.2/leaflet.awesome-markers.css&quot;/&gt;\n",
       "    &lt;link rel=&quot;stylesheet&quot; href=&quot;https://cdn.jsdelivr.net/gh/python-visualization/folium/folium/templates/leaflet.awesome.rotate.min.css&quot;/&gt;\n",
       "    \n",
       "            &lt;meta name=&quot;viewport&quot; content=&quot;width=device-width,\n",
       "                initial-scale=1.0, maximum-scale=1.0, user-scalable=no&quot; /&gt;\n",
       "            &lt;style&gt;\n",
       "                #map_c84fba9ef6da9071b9d29ad2afa27931 {\n",
       "                    position: relative;\n",
       "                    width: 100.0%;\n",
       "                    height: 100.0%;\n",
       "                    left: 0.0%;\n",
       "                    top: 0.0%;\n",
       "                }\n",
       "                .leaflet-container { font-size: 1rem; }\n",
       "            &lt;/style&gt;\n",
       "        \n",
       "    &lt;script src=&quot;https://cdnjs.cloudflare.com/ajax/libs/leaflet.markercluster/1.1.0/leaflet.markercluster.js&quot;&gt;&lt;/script&gt;\n",
       "    &lt;link rel=&quot;stylesheet&quot; href=&quot;https://cdnjs.cloudflare.com/ajax/libs/leaflet.markercluster/1.1.0/MarkerCluster.css&quot;/&gt;\n",
       "    &lt;link rel=&quot;stylesheet&quot; href=&quot;https://cdnjs.cloudflare.com/ajax/libs/leaflet.markercluster/1.1.0/MarkerCluster.Default.css&quot;/&gt;\n",
       "    &lt;script src=&quot;https://cdn.jsdelivr.net/gh/python-visualization/folium@main/folium/templates/leaflet_heat.min.js&quot;&gt;&lt;/script&gt;\n",
       "&lt;/head&gt;\n",
       "&lt;body&gt;\n",
       "    \n",
       "    \n",
       "            &lt;div class=&quot;folium-map&quot; id=&quot;map_c84fba9ef6da9071b9d29ad2afa27931&quot; &gt;&lt;/div&gt;\n",
       "        \n",
       "&lt;/body&gt;\n",
       "&lt;script&gt;\n",
       "    \n",
       "    \n",
       "            var map_c84fba9ef6da9071b9d29ad2afa27931 = L.map(\n",
       "                &quot;map_c84fba9ef6da9071b9d29ad2afa27931&quot;,\n",
       "                {\n",
       "                    center: [0.0, 0.0],\n",
       "                    crs: L.CRS.EPSG3857,\n",
       "                    zoom: 1,\n",
       "                    zoomControl: true,\n",
       "                    preferCanvas: false,\n",
       "                }\n",
       "            );\n",
       "\n",
       "            \n",
       "\n",
       "        \n",
       "    \n",
       "            var tile_layer_a3d6c823e22c197513bfbe75ef38c2ce = L.tileLayer(\n",
       "                &quot;https://tile.openstreetmap.org/{z}/{x}/{y}.png&quot;,\n",
       "                {&quot;attribution&quot;: &quot;\\u0026copy; \\u003ca href=\\&quot;https://www.openstreetmap.org/copyright\\&quot;\\u003eOpenStreetMap\\u003c/a\\u003e contributors&quot;, &quot;detectRetina&quot;: false, &quot;maxNativeZoom&quot;: 19, &quot;maxZoom&quot;: 19, &quot;minZoom&quot;: 0, &quot;noWrap&quot;: false, &quot;opacity&quot;: 1, &quot;subdomains&quot;: &quot;abc&quot;, &quot;tms&quot;: false}\n",
       "            );\n",
       "        \n",
       "    \n",
       "            tile_layer_a3d6c823e22c197513bfbe75ef38c2ce.addTo(map_c84fba9ef6da9071b9d29ad2afa27931);\n",
       "        \n",
       "    \n",
       "            var fast_marker_cluster_de42b26fa87f96b7e7ca4827e624148f = (function(){\n",
       "                \n",
       "                var callback = function (row) {\n",
       "                    var icon = L.AwesomeMarkers.icon();\n",
       "                    var marker = L.marker(new L.LatLng(row[0], row[1]));\n",
       "                    marker.setIcon(icon);\n",
       "                    return marker;\n",
       "                };\n",
       "\n",
       "                var data = [[24.433, 54.6511], [-23.4262, -46.48], [40.0725, 116.598], [6.57737, 3.32116], [-6.12556, 106.656], [35.5533, 139.781], [41.2753, 28.7519], [28.5665, 77.1031], [34.0515, -6.75152], [49.0097, 2.54778], [40.6397, -73.7789], [-1.31924, 36.9278], [-6.87811, 39.2026], [45.3225, -75.6692], [32.0114, 34.8867], [2.74558, 101.71], [51.4775, -0.461389], [37.4633, 126.44], [5.60519, -0.166786], [0.042386, 32.4435], [-4.38575, 15.4446], [55.9728, 37.4147], [30.1219, 31.4056], [14.7397, -17.4902], [12.1337, 15.034], [41.8003, 12.2389], [52.3514, 13.4939], [-15.3308, 28.4526], [31.7226, 35.9932], [33.2625, 44.2346], [24.9578, 46.6989], [-26.1392, 28.246], [-33.9461, 151.177], [51.0222, 71.4669], [5.26139, -3.92629], [50.9014, 4.48444], [23.5933, 58.2844], [4.70159, -74.1469], [21.2212, 105.807], [2.01444, 45.3047], [1.35019, 103.994], [14.5086, 121.02], [-17.9318, 31.0928], [40.4675, 50.0467], [-13.7894, 33.781], [-33.393, -70.7858], [-33.3928, -70.7856], [41.2579, 69.2812], [6.35723, 2.38435], [13.6811, 100.747], [-8.85837, 13.2312], [37.9364, 23.9445], [18.31, -15.9697], [-4.2517, 15.253], [-4.25167, 15.2531], [29.2266, 47.9689], [8.97778, 38.7994], [8.97789, 38.7993], [55.6179, 12.656], [25.2731, 51.6081], [59.6519, 17.9186], [6.16561, 1.25451], [40.4719, -3.56264], [27.6966, 85.3591], [60.3172, 24.9633], [13.338, -16.6522], [33.5607, 72.8516], [42.6967, 23.4114], [7.18076, 79.8841], [-1.96863, 30.1395], [36.851, 10.2272], [36.8511, 10.2272], [26.2708, 50.6336], [52.3086, 4.76389], [-22.4799, 17.4709], [38.7813, -9.13592], [9.57689, -13.612], [9.57689, -13.612], [12.3532, -1.51242], [6.23379, -10.3623], [-12.0219, -77.1143], [-18.7969, 47.4788], [8.61644, -13.1955], [-24.5552, 25.9182], [0.458611, 9.41222], [0.4586, 9.41228], [60.1939, 11.1004], [50.9014, 4.48444], [3.75527, 8.70872], [50.4019, 30.4519], [-34.5589, -58.4164], [-3.32402, 29.3185], [-25.9208, 32.5726], [7.36731, 134.544], [33.8209, 35.4884], [4.87201, 31.6011], [3.83604, 11.5235], [15.4763, 44.2197], [15.4764, 44.2197], [32.6635, 13.159], [52.1657, 20.9671], [23.8433, 90.3978], [59.4133, 24.8328], [12.5335, -7.94994], [41.8003, 12.2389], [14.0609, -87.2172], [14.0617, -87.2169], [19.4363, -99.0721], [53.4213, -6.27007], [13.4815, 2.18361], [-18.0433, 178.559], [-41.3272, 174.805], [43.0613, 74.4776], [47.8431, 106.767], [-4.67434, 55.5218], [38.5433, 68.825], [4.39848, 18.5188], [-9.44338, 147.22], [-0.129167, -78.3575], [48.1103, 16.5697], [49.6233, 6.20444], [18.4297, -69.6689], [11.5466, 104.844], [22.9892, -82.4091], [44.5711, 26.085], [27.4032, 89.4246], [-11.5337, 43.2719], [37.9868, 58.361], [-17.6993, 168.32], [-25.24, -57.52], [9.07136, -79.3835], [14.5833, -90.5275], [14.5817, -90.5267], [63.985, -22.6056], [40.1473, 44.3959], [4.9442, 114.928], [32.0114, 34.8867], [13.0746, -59.4925], [47.4298, 19.2611], [-21.2412, -175.15], [11.5473, 43.1595], [25.039, -77.4662], [35.6892, 51.3134], [1.98616, -157.35], [4.19183, 73.5291], [-8.5464, 125.526], [44.0203, 12.6117], [50.1008, 14.26], [-26.529, 31.3075], [41.6692, 44.9547], [17.5391, -88.3082], [-20.4302, 57.6836], [46.2237, 14.4576], [-9.428, 160.055], [-8.525, 179.196], [-13.83, -172.008], [47.4647, 8.54917], [48.1702, 17.2127], [53.8825, 28.0307], [-29.4623, 27.5525], [17.3112, -62.7187], [17.3114, -62.7186], [35.8575, 14.4775], [-16.5133, -68.1923], [43.8246, 18.3315], [35.1547, 33.4961], [15.5895, 32.5532], [56.9236, 23.9711], [44.8184, 20.3091], [9.99386, -84.2088], [46.9744, 8.39694], [41.4147, 19.7206], [18.58, -72.2925], [18.58, -72.2925], [17.9357, -76.7875], [17.9883, 102.563], [17.1367, -61.7927], [12.0042, -61.7862], [54.6341, 25.2858], [0.378175, 6.71215], [14.0202, -60.9929], [-34.8384, -56.0308], [10.6012, -66.9912], [36.691, 3.21541], [10.6012, -66.9912], [5.45283, -55.1878], [15.547, -61.3], [24.0633, -74.524], [43.6584, 7.21587], [41.9616, 21.6214], [45.7429, 16.0688], [14.9245, -23.4935], [6.9851, 158.209], [-19.079, -169.926], [42.3594, 19.2519], [-21.2027, -159.806], [-0.547458, 166.919], [6.49855, -58.2541], [10.5954, -61.3372], [13.1443, -61.2109], [42.3386, 1.40917], [42.3386, 1.40917], [47.4647, 8.54917], [46.9277, 28.931], [15.2919, 38.9107], [12.1415, -86.1682], [39.2241, 125.67]];\n",
       "                var cluster = L.markerClusterGroup({});\n",
       "\n",
       "                for (var i = 0; i &lt; data.length; i++) {\n",
       "                    var row = data[i];\n",
       "                    var marker = callback(row);\n",
       "                    marker.addTo(cluster);\n",
       "                }\n",
       "\n",
       "                cluster.addTo(map_c84fba9ef6da9071b9d29ad2afa27931);\n",
       "                return cluster;\n",
       "            })();\n",
       "        \n",
       "    \n",
       "            fast_marker_cluster_de42b26fa87f96b7e7ca4827e624148f.addTo(map_c84fba9ef6da9071b9d29ad2afa27931);\n",
       "        \n",
       "    \n",
       "            var heat_map_3ff20822d6359261096fe641b7c89566 = L.heatLayer(\n",
       "                [[24.433, 54.6511, 4409.0], [-23.4262, -46.48, 7598.0], [40.0725, 116.598, 3480.0], [6.57737, 3.32116, 1411.0], [-6.12556, 106.656, 1229.0], [35.5533, 139.781, 2631.0], [41.2753, 28.7519, 2577.0], [28.5665, 77.1031, 2338.0], [34.0515, -6.75152, 823.0], [49.0097, 2.54778, 1973.0], [40.6397, -73.7789, 1899.0], [-1.31924, 36.9278, 765.0], [-6.87811, 39.2026, 763.0], [45.3225, -75.6692, 1830.0], [32.0114, 34.8867, 1771.0], [2.74558, 101.71, 700.0], [51.4775, -0.461389, 1719.0], [37.4633, 126.44, 1699.0], [5.60519, -0.166786, 618.0], [0.042386, 32.4435, 606.0], [-4.38575, 15.4446, 590.0], [55.9728, 37.4147, 1455.0], [30.1219, 31.4056, 565.0], [14.7397, -17.4902, 560.0], [12.1337, 15.034, 554.0], [41.8003, 12.2389, 1314.0], [52.3514, 13.4939, 1154.0], [-15.3308, 28.4526, 445.0], [31.7226, 35.9932, 444.0], [33.2625, 44.2346, 442.0], [24.9578, 46.6989, 426.0], [-26.1392, 28.246, 1011.0], [-33.9461, 151.177, 996.0], [51.0222, 71.4669, 403.0], [5.26139, -3.92629, 401.0], [50.9014, 4.48444, 977.0], [23.5933, 58.2844, 380.0], [4.70159, -74.1469, 932.0], [21.2212, 105.807, 377.0], [2.01444, 45.3047, 366.0], [1.35019, 103.994, 360.0], [14.5086, 121.02, 342.0], [-17.9318, 31.0928, 337.0], [40.4675, 50.0467, 312.0], [-13.7894, 33.781, 305.0], [-33.393, -70.7858, 742.0], [-33.3928, -70.7856, 742.0], [41.2579, 69.2812, 298.0], [6.35723, 2.38435, 297.0], [13.6811, 100.747, 293.0], [-8.85837, 13.2312, 290.0], [37.9364, 23.9445, 710.0], [18.31, -15.9697, 285.0], [-4.2517, 15.253, 284.0], [-4.25167, 15.2531, 284.0], [29.2266, 47.9689, 283.0], [8.97778, 38.7994, 275.0], [8.97789, 38.7993, 275.0], [55.6179, 12.656, 668.0], [25.2731, 51.6081, 264.0], [59.6519, 17.9186, 626.0], [6.16561, 1.25451, 250.0], [40.4719, -3.56264, 607.0], [27.6966, 85.3591, 241.0], [60.3172, 24.9633, 587.0], [13.338, -16.6522, 238.0], [33.5607, 72.8516, 238.0], [42.6967, 23.4114, 234.0], [7.18076, 79.8841, 234.0], [-1.96863, 30.1395, 223.0], [36.851, 10.2272, 221.0], [36.8511, 10.2272, 221.0], [26.2708, 50.6336, 218.0], [52.3086, 4.76389, 528.0], [-22.4799, 17.4709, 212.0], [38.7813, -9.13592, 520.0], [9.57689, -13.612, 208.0], [9.57689, -13.612, 208.0], [12.3532, -1.51242, 206.0], [6.23379, -10.3623, 197.0], [-12.0219, -77.1143, 195.0], [-18.7969, 47.4788, 189.0], [8.61644, -13.1955, 189.0], [-24.5552, 25.9182, 186.0], [0.458611, 9.41222, 186.0], [0.4586, 9.41228, 186.0], [60.1939, 11.1004, 451.0], [50.9014, 4.48444, 446.0], [3.75527, 8.70872, 180.0], [50.4019, 30.4519, 180.0], [-34.5589, -58.4164, 179.0], [-3.32402, 29.3185, 172.0], [-25.9208, 32.5726, 171.0], [7.36731, 134.544, 162.0], [33.8209, 35.4884, 160.0], [4.87201, 31.6011, 158.0], [3.83604, 11.5235, 156.0], [15.4763, 44.2197, 153.0], [15.4764, 44.2197, 153.0], [32.6635, 13.159, 150.0], [52.1657, 20.9671, 367.0], [23.8433, 90.3978, 148.0], [59.4133, 24.8328, 363.0], [12.5335, -7.94994, 146.0], [41.8003, 12.2389, 142.0], [14.0609, -87.2172, 139.0], [14.0617, -87.2169, 139.0], [19.4363, -99.0721, 338.0], [53.4213, -6.27007, 333.0], [13.4815, 2.18361, 135.0], [-18.0433, 178.559, 134.0], [-41.3272, 174.805, 330.0], [43.0613, 74.4776, 133.0], [47.8431, 106.767, 133.0], [-4.67434, 55.5218, 133.0], [38.5433, 68.825, 130.0], [4.39848, 18.5188, 129.0], [-9.44338, 147.22, 126.0], [-0.129167, -78.3575, 124.0], [48.1103, 16.5697, 301.0], [49.6233, 6.20444, 284.0], [18.4297, -69.6689, 114.0], [11.5466, 104.844, 112.0], [22.9892, -82.4091, 110.0], [44.5711, 26.085, 110.0], [27.4032, 89.4246, 105.0], [-11.5337, 43.2719, 105.0], [37.9868, 58.361, 100.0], [-17.6993, 168.32, 99.0], [-25.24, -57.52, 98.0], [9.07136, -79.3835, 92.0], [14.5833, -90.5275, 91.0], [14.5817, -90.5267, 91.0], [63.985, -22.6056, 224.0], [40.1473, 44.3959, 84.0], [4.9442, 114.928, 84.0], [32.0114, 34.8867, 81.0], [13.0746, -59.4925, 80.0], [47.4298, 19.2611, 195.0], [-21.2412, -175.15, 79.0], [11.5473, 43.1595, 78.0], [25.039, -77.4662, 74.0], [35.6892, 51.3134, 73.0], [1.98616, -157.35, 71.0], [4.19183, 73.5291, 69.0], [-8.5464, 125.526, 69.0], [44.0203, 12.6117, 65.0], [50.1008, 14.26, 150.0], [-26.529, 31.3075, 61.0], [41.6692, 44.9547, 60.0], [17.5391, -88.3082, 58.0], [-20.4302, 57.6836, 56.0], [46.2237, 14.4576, 138.0], [-9.428, 160.055, 56.0], [-8.525, 179.196, 54.0], [-13.83, -172.008, 53.0], [47.4647, 8.54917, 131.0], [48.1702, 17.2127, 128.0], [53.8825, 28.0307, 48.0], [-29.4623, 27.5525, 48.0], [17.3112, -62.7187, 48.0], [17.3114, -62.7186, 48.0], [35.8575, 14.4775, 47.0], [-16.5133, -68.1923, 46.0], [43.8246, 18.3315, 46.0], [35.1547, 33.4961, 46.0], [15.5895, 32.5532, 46.0], [56.9236, 23.9711, 111.0], [44.8184, 20.3091, 45.0], [9.99386, -84.2088, 109.0], [46.9744, 8.39694, 43.0], [41.4147, 19.7206, 42.0], [18.58, -72.2925, 42.0], [18.58, -72.2925, 42.0], [17.9357, -76.7875, 41.0], [17.9883, 102.563, 40.0], [17.1367, -61.7927, 39.0], [12.0042, -61.7862, 39.0], [54.6341, 25.2858, 96.0], [0.378175, 6.71215, 39.0], [14.0202, -60.9929, 37.0], [-34.8384, -56.0308, 34.0], [10.6012, -66.9912, 34.0], [36.691, 3.21541, 33.0], [10.6012, -66.9912, 31.0], [5.45283, -55.1878, 30.0], [15.547, -61.3, 29.0], [24.0633, -74.524, 28.0], [43.6584, 7.21587, 28.0], [41.9616, 21.6214, 28.0], [45.7429, 16.0688, 27.0], [14.9245, -23.4935, 26.0], [6.9851, 158.209, 26.0], [-19.079, -169.926, 24.0], [42.3594, 19.2519, 22.0], [-21.2027, -159.806, 21.0], [-0.547458, 166.919, 21.0], [6.49855, -58.2541, 20.0], [10.5954, -61.3372, 20.0], [13.1443, -61.2109, 15.0], [42.3386, 1.40917, 11.0], [42.3386, 1.40917, 11.0], [47.4647, 8.54917, 8.0], [46.9277, 28.931, 8.0], [15.2919, 38.9107, 7.0], [12.1415, -86.1682, 6.0], [39.2241, 125.67, 2.0]],\n",
       "                {&quot;blur&quot;: 15, &quot;maxZoom&quot;: 18, &quot;minOpacity&quot;: 0.5, &quot;radius&quot;: 25}\n",
       "            );\n",
       "        \n",
       "    \n",
       "            heat_map_3ff20822d6359261096fe641b7c89566.addTo(map_c84fba9ef6da9071b9d29ad2afa27931);\n",
       "        \n",
       "&lt;/script&gt;\n",
       "&lt;/html&gt;\" style=\"position:absolute;width:100%;height:100%;left:0;top:0;border:none !important;\" allowfullscreen webkitallowfullscreen mozallowfullscreen></iframe></div></div>"
      ],
      "text/plain": [
       "<folium.folium.Map at 0x1aaa7b02610>"
      ]
     },
     "execution_count": 111,
     "metadata": {},
     "output_type": "execute_result"
    }
   ],
   "source": [
    "# basemap = folium.Map()\n",
    "# FastMarkerCluster(airport_location[['latitude', 'longitude']]).add_to(basemap)\n",
    "# HeatMap(airport_location[['latitude', 'longitude','total_delegates']],\n",
    "#         ).add_to(basemap)\n",
    "# basemap\n",
    "\n",
    "basemap = folium.Map()\n",
    "FastMarkerCluster(airport_location[['latitude', 'longitude']]).add_to(basemap)\n",
    "HeatMap(airport_location[['latitude', 'longitude','total_delegates']],\n",
    "        max_val=max(airport_location['total_delegates'])).add_to(basemap)\n",
    "basemap"
   ]
  },
  {
   "cell_type": "code",
   "execution_count": null,
   "metadata": {},
   "outputs": [],
   "source": []
  },
  {
   "cell_type": "code",
   "execution_count": null,
   "metadata": {},
   "outputs": [],
   "source": []
  }
 ],
 "metadata": {
  "kernelspec": {
   "display_name": "Python 3",
   "language": "python",
   "name": "python3"
  },
  "language_info": {
   "codemirror_mode": {
    "name": "ipython",
    "version": 3
   },
   "file_extension": ".py",
   "mimetype": "text/x-python",
   "name": "python",
   "nbconvert_exporter": "python",
   "pygments_lexer": "ipython3",
   "version": "3.11.8"
  }
 },
 "nbformat": 4,
 "nbformat_minor": 2
}

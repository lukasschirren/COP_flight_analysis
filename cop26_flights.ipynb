{
 "cells": [
  {
   "cell_type": "code",
   "execution_count": 3,
   "metadata": {},
   "outputs": [],
   "source": [
    "import pandas as pd\n",
    "import pyarrow.parquet as pq\n",
    "import os  "
   ]
  },
  {
   "cell_type": "code",
   "execution_count": 7,
   "metadata": {},
   "outputs": [
    {
     "name": "stderr",
     "output_type": "stream",
     "text": [
      "C:\\Users\\lukas\\AppData\\Local\\Temp\\ipykernel_42704\\2038353210.py:1: FutureWarning: Passing 'use_legacy_dataset' is deprecated as of pyarrow 15.0.0 and will be removed in a future version.\n",
      "  dataset = pq.ParquetDataset('c:\\\\Users\\\\lukas\\\\OneDrive - Imperial College London\\\\0_Sustainable Transport\\\\2021_COP26',\n"
     ]
    }
   ],
   "source": [
    "dataset = pq.ParquetDataset('c:\\\\Users\\\\lukas\\\\OneDrive - Imperial College London\\\\0_Sustainable Transport\\\\2021_COP26',\n",
    "                            use_legacy_dataset=False,\n",
    "                            ) # filters=[('columnName', 'in', filterList)]\n",
    "df = dataset.read(use_threads=True).to_pandas()"
   ]
  },
  {
   "cell_type": "code",
   "execution_count": 9,
   "metadata": {},
   "outputs": [
    {
     "data": {
      "text/plain": [
       "Index(['callsign', 'icao_address', 'flight_number', 'tail_number',\n",
       "       'aircraft_type_icao', 'aircraft_engine_type', 'origin_airport',\n",
       "       'origin_airport_name', 'origin_country', 'destination_airport',\n",
       "       'destination_airport_name', 'destination_country',\n",
       "       'scheduled_departure_time_utc', 'scheduled_arrival_time_utc',\n",
       "       'first_waypoint_time', 'last_waypoint_time', 'duration_hours',\n",
       "       'total_distance_km', 'great_circle_distance_km',\n",
       "       'longitude_first_waypoint', 'longitude_last_waypoint', 'longitude_min',\n",
       "       'longitude_max', 'latitude_first_waypoint', 'latitude_last_waypoint',\n",
       "       'latitude_min', 'latitude_max', 'altitude_first_waypoint',\n",
       "       'altitude_last_waypoint', 'altitude_min', 'altitude_max', 'n_wypts',\n",
       "       'n_terrestrial', 'n_satellites', 'n_interpolate', 'n_extrapolate',\n",
       "       'n_great_circle', 'extrap_trajectory_start', 'extrap_trajectory_end',\n",
       "       'trajectory_complete', 'great_circle_trajectory', 'est_origin_airport',\n",
       "       'est_destination_airport', 'flight_id', 'cirium_availability',\n",
       "       'aircraft_type_cirium', 'aircraft_usage', 'market_class',\n",
       "       'aircraft_age', 'fuel_data_source', 'aircraft_type_bada',\n",
       "       'engine_type_bada', 'engine_type_edb', 'engine_uid', 'n_engine',\n",
       "       'assumed_load_factor', 'aircraft_mass_initial_kg',\n",
       "       'aircraft_mass_mean_kg', 'total_fuel_burn',\n",
       "       'propulsion_efficiency_mean', 'co2_kg', 'gaseous_data_source', 'nox_kg',\n",
       "       'co_kg', 'hc_kg', 'oc_kg', 'h2o_kg', 'so2_kg', 'sulphates_kg',\n",
       "       'nvpm_data_source', 'nvpm_mass_kg', 'nvpm_number', 'nvpm_ei_n_mean',\n",
       "       'sdr_mean', 'night_flight', 'night_segments', 'pct_night_dist'],\n",
       "      dtype='object')"
      ]
     },
     "execution_count": 9,
     "metadata": {},
     "output_type": "execute_result"
    }
   ],
   "source": [
    "df.columns"
   ]
  },
  {
   "cell_type": "code",
   "execution_count": 12,
   "metadata": {},
   "outputs": [
    {
     "data": {
      "text/plain": [
       "<bound method Series.unique of 0                         NaT\n",
       "1                         NaT\n",
       "2                         NaT\n",
       "3         2021-10-01 00:53:00\n",
       "4                         NaT\n",
       "                  ...        \n",
       "6299248   2021-12-01 01:45:00\n",
       "6299249                   NaT\n",
       "6299250                   NaT\n",
       "6299251   2021-12-01 02:40:00\n",
       "6299252                   NaT\n",
       "Name: scheduled_arrival_time_utc, Length: 6299253, dtype: datetime64[us]>"
      ]
     },
     "execution_count": 12,
     "metadata": {},
     "output_type": "execute_result"
    }
   ],
   "source": [
    "df['scheduled_arrival_time_utc']"
   ]
  },
  {
   "cell_type": "code",
   "execution_count": null,
   "metadata": {},
   "outputs": [],
   "source": []
  }
 ],
 "metadata": {
  "kernelspec": {
   "display_name": "Python 3",
   "language": "python",
   "name": "python3"
  },
  "language_info": {
   "codemirror_mode": {
    "name": "ipython",
    "version": 3
   },
   "file_extension": ".py",
   "mimetype": "text/x-python",
   "name": "python",
   "nbconvert_exporter": "python",
   "pygments_lexer": "ipython3",
   "version": "3.11.8"
  }
 },
 "nbformat": 4,
 "nbformat_minor": 2
}

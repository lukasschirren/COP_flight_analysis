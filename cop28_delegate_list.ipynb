{
 "cells": [
  {
   "cell_type": "code",
   "execution_count": 71,
   "metadata": {},
   "outputs": [],
   "source": [
    "import pandas as pd\n",
    "import pyarrow.parquet as pq\n",
    "import os\n",
    "import airportsdata \n",
    "from geopy.distance import geodesic"
   ]
  },
  {
   "cell_type": "code",
   "execution_count": 123,
   "metadata": {},
   "outputs": [],
   "source": [
    "airports = airportsdata.load()\n",
    "\n",
    "dataset = pq.ParquetDataset('c:\\\\Users\\\\lukas\\\\OneDrive - Imperial College London\\\\0_Sustainable Transport\\\\2021_COP26',\n",
    "                            ) # filters=[('columnName', 'in', filterList)]\n",
    "df = dataset.read(use_threads=True).to_pandas()"
   ]
  },
  {
   "cell_type": "code",
   "execution_count": 127,
   "metadata": {},
   "outputs": [
    {
     "data": {
      "text/html": [
       "<div>\n",
       "<style scoped>\n",
       "    .dataframe tbody tr th:only-of-type {\n",
       "        vertical-align: middle;\n",
       "    }\n",
       "\n",
       "    .dataframe tbody tr th {\n",
       "        vertical-align: top;\n",
       "    }\n",
       "\n",
       "    .dataframe thead th {\n",
       "        text-align: right;\n",
       "    }\n",
       "</style>\n",
       "<table border=\"1\" class=\"dataframe\">\n",
       "  <thead>\n",
       "    <tr style=\"text-align: right;\">\n",
       "      <th></th>\n",
       "      <th>callsign</th>\n",
       "      <th>icao_address</th>\n",
       "      <th>flight_number</th>\n",
       "      <th>tail_number</th>\n",
       "      <th>aircraft_type_icao</th>\n",
       "      <th>aircraft_engine_type</th>\n",
       "      <th>origin_airport</th>\n",
       "      <th>origin_airport_name</th>\n",
       "      <th>origin_country</th>\n",
       "      <th>destination_airport</th>\n",
       "      <th>...</th>\n",
       "      <th>so2_kg</th>\n",
       "      <th>sulphates_kg</th>\n",
       "      <th>nvpm_data_source</th>\n",
       "      <th>nvpm_mass_kg</th>\n",
       "      <th>nvpm_number</th>\n",
       "      <th>nvpm_ei_n_mean</th>\n",
       "      <th>sdr_mean</th>\n",
       "      <th>night_flight</th>\n",
       "      <th>night_segments</th>\n",
       "      <th>pct_night_dist</th>\n",
       "    </tr>\n",
       "  </thead>\n",
       "  <tbody>\n",
       "    <tr>\n",
       "      <th>0</th>\n",
       "      <td>N831KB</td>\n",
       "      <td>AB5CF4</td>\n",
       "      <td></td>\n",
       "      <td>N831KB</td>\n",
       "      <td>BE40</td>\n",
       "      <td>Jet</td>\n",
       "      <td>KDTO</td>\n",
       "      <td>Denton Municipal Airport</td>\n",
       "      <td>US</td>\n",
       "      <td>KADS</td>\n",
       "      <td>...</td>\n",
       "      <td>0.072813</td>\n",
       "      <td>0.001486</td>\n",
       "      <td>FA Model</td>\n",
       "      <td>0.000592</td>\n",
       "      <td>4.953908e+16</td>\n",
       "      <td>8.164379e+14</td>\n",
       "      <td>175.329813</td>\n",
       "      <td>False</td>\n",
       "      <td>False</td>\n",
       "      <td>0.0</td>\n",
       "    </tr>\n",
       "    <tr>\n",
       "      <th>2</th>\n",
       "      <td>N736MP</td>\n",
       "      <td>A9E276</td>\n",
       "      <td></td>\n",
       "      <td>N736MP</td>\n",
       "      <td>C172</td>\n",
       "      <td>Piston</td>\n",
       "      <td></td>\n",
       "      <td></td>\n",
       "      <td></td>\n",
       "      <td></td>\n",
       "      <td>...</td>\n",
       "      <td>0.025976</td>\n",
       "      <td>0.000530</td>\n",
       "      <td>Constant</td>\n",
       "      <td>0.001905</td>\n",
       "      <td>2.164649e+16</td>\n",
       "      <td>1.000000e+15</td>\n",
       "      <td>18.714014</td>\n",
       "      <td>False</td>\n",
       "      <td>False</td>\n",
       "      <td>0.0</td>\n",
       "    </tr>\n",
       "    <tr>\n",
       "      <th>3</th>\n",
       "      <td>AVA9209</td>\n",
       "      <td>A4D7EB</td>\n",
       "      <td>AV9209</td>\n",
       "      <td>N411AV</td>\n",
       "      <td>A320</td>\n",
       "      <td>Jet</td>\n",
       "      <td>SKBO</td>\n",
       "      <td>El Dorado International Airport</td>\n",
       "      <td>CO</td>\n",
       "      <td>SKCL</td>\n",
       "      <td>...</td>\n",
       "      <td>1.660337</td>\n",
       "      <td>0.033884</td>\n",
       "      <td>ICAO EDB</td>\n",
       "      <td>0.069787</td>\n",
       "      <td>1.343395e+18</td>\n",
       "      <td>9.709314e+14</td>\n",
       "      <td>0.000000</td>\n",
       "      <td>True</td>\n",
       "      <td>True</td>\n",
       "      <td>100.0</td>\n",
       "    </tr>\n",
       "    <tr>\n",
       "      <th>4</th>\n",
       "      <td>N526ND</td>\n",
       "      <td>A6A068</td>\n",
       "      <td></td>\n",
       "      <td>N526ND</td>\n",
       "      <td>C172</td>\n",
       "      <td>Piston</td>\n",
       "      <td></td>\n",
       "      <td></td>\n",
       "      <td></td>\n",
       "      <td></td>\n",
       "      <td>...</td>\n",
       "      <td>0.025405</td>\n",
       "      <td>0.000518</td>\n",
       "      <td>Constant</td>\n",
       "      <td>0.001863</td>\n",
       "      <td>2.117047e+16</td>\n",
       "      <td>1.000000e+15</td>\n",
       "      <td>203.507661</td>\n",
       "      <td>False</td>\n",
       "      <td>False</td>\n",
       "      <td>0.0</td>\n",
       "    </tr>\n",
       "    <tr>\n",
       "      <th>5</th>\n",
       "      <td>RYR96</td>\n",
       "      <td>4CA645</td>\n",
       "      <td>FR5394</td>\n",
       "      <td>EI-DYC</td>\n",
       "      <td>B738</td>\n",
       "      <td>Jet</td>\n",
       "      <td></td>\n",
       "      <td></td>\n",
       "      <td></td>\n",
       "      <td>LIME</td>\n",
       "      <td>...</td>\n",
       "      <td>1.613571</td>\n",
       "      <td>0.032930</td>\n",
       "      <td>ICAO EDB</td>\n",
       "      <td>0.051059</td>\n",
       "      <td>1.184296e+18</td>\n",
       "      <td>8.807518e+14</td>\n",
       "      <td>0.000000</td>\n",
       "      <td>True</td>\n",
       "      <td>True</td>\n",
       "      <td>100.0</td>\n",
       "    </tr>\n",
       "    <tr>\n",
       "      <th>...</th>\n",
       "      <td>...</td>\n",
       "      <td>...</td>\n",
       "      <td>...</td>\n",
       "      <td>...</td>\n",
       "      <td>...</td>\n",
       "      <td>...</td>\n",
       "      <td>...</td>\n",
       "      <td>...</td>\n",
       "      <td>...</td>\n",
       "      <td>...</td>\n",
       "      <td>...</td>\n",
       "      <td>...</td>\n",
       "      <td>...</td>\n",
       "      <td>...</td>\n",
       "      <td>...</td>\n",
       "      <td>...</td>\n",
       "      <td>...</td>\n",
       "      <td>...</td>\n",
       "      <td>...</td>\n",
       "      <td>...</td>\n",
       "      <td>...</td>\n",
       "    </tr>\n",
       "    <tr>\n",
       "      <th>6299248</th>\n",
       "      <td>CCA8221</td>\n",
       "      <td>781588</td>\n",
       "      <td>CA8221</td>\n",
       "      <td>B-304F</td>\n",
       "      <td>A320</td>\n",
       "      <td>Jet</td>\n",
       "      <td>ZHHH</td>\n",
       "      <td>Wuhan Tianhe International Airport</td>\n",
       "      <td>CN</td>\n",
       "      <td>ZUUU</td>\n",
       "      <td>...</td>\n",
       "      <td>4.517517</td>\n",
       "      <td>0.092194</td>\n",
       "      <td>ICAO EDB</td>\n",
       "      <td>0.178838</td>\n",
       "      <td>4.219963e+18</td>\n",
       "      <td>1.120960e+15</td>\n",
       "      <td>211.502269</td>\n",
       "      <td>False</td>\n",
       "      <td>False</td>\n",
       "      <td>0.0</td>\n",
       "    </tr>\n",
       "    <tr>\n",
       "      <th>6299249</th>\n",
       "      <td>DAL8845</td>\n",
       "      <td>A8BBFF</td>\n",
       "      <td>DL8845</td>\n",
       "      <td>N662DN</td>\n",
       "      <td>B752</td>\n",
       "      <td>Jet</td>\n",
       "      <td>KSNA</td>\n",
       "      <td>John Wayne Airport-Orange County Airport</td>\n",
       "      <td>US</td>\n",
       "      <td>KSMF</td>\n",
       "      <td>...</td>\n",
       "      <td>4.275811</td>\n",
       "      <td>0.087261</td>\n",
       "      <td>FA Model</td>\n",
       "      <td>0.570083</td>\n",
       "      <td>5.294014e+18</td>\n",
       "      <td>1.485757e+15</td>\n",
       "      <td>167.638766</td>\n",
       "      <td>False</td>\n",
       "      <td>False</td>\n",
       "      <td>0.0</td>\n",
       "    </tr>\n",
       "    <tr>\n",
       "      <th>6299250</th>\n",
       "      <td>N429MR</td>\n",
       "      <td>A51E31</td>\n",
       "      <td></td>\n",
       "      <td>N429MR</td>\n",
       "      <td>C25C</td>\n",
       "      <td>Jet</td>\n",
       "      <td>KSUX</td>\n",
       "      <td>Sioux Gateway Airport / Brigadier General Bud ...</td>\n",
       "      <td>US</td>\n",
       "      <td>KDBQ</td>\n",
       "      <td>...</td>\n",
       "      <td>0.461343</td>\n",
       "      <td>0.009415</td>\n",
       "      <td>Constant</td>\n",
       "      <td>0.033832</td>\n",
       "      <td>3.844525e+17</td>\n",
       "      <td>1.000000e+15</td>\n",
       "      <td>0.000852</td>\n",
       "      <td>True</td>\n",
       "      <td>True</td>\n",
       "      <td>100.0</td>\n",
       "    </tr>\n",
       "    <tr>\n",
       "      <th>6299251</th>\n",
       "      <td>CSH9511</td>\n",
       "      <td>780F8F</td>\n",
       "      <td>FM9511</td>\n",
       "      <td>B-7862</td>\n",
       "      <td>B738</td>\n",
       "      <td>Jet</td>\n",
       "      <td>ZHCC</td>\n",
       "      <td>Zhengzhou Xinzheng International Airport</td>\n",
       "      <td>CN</td>\n",
       "      <td>ZYCC</td>\n",
       "      <td>...</td>\n",
       "      <td>5.721083</td>\n",
       "      <td>0.116757</td>\n",
       "      <td>ICAO EDB</td>\n",
       "      <td>0.228237</td>\n",
       "      <td>5.338755e+18</td>\n",
       "      <td>1.119807e+15</td>\n",
       "      <td>258.416273</td>\n",
       "      <td>False</td>\n",
       "      <td>False</td>\n",
       "      <td>0.0</td>\n",
       "    </tr>\n",
       "    <tr>\n",
       "      <th>6299252</th>\n",
       "      <td>MVK19</td>\n",
       "      <td>A2ECD0</td>\n",
       "      <td></td>\n",
       "      <td>N288MK</td>\n",
       "      <td>P28A</td>\n",
       "      <td>Piston</td>\n",
       "      <td>KMKT</td>\n",
       "      <td>Mankato Regional Airport</td>\n",
       "      <td>US</td>\n",
       "      <td>KMKT</td>\n",
       "      <td>...</td>\n",
       "      <td>0.024717</td>\n",
       "      <td>0.000504</td>\n",
       "      <td>Constant</td>\n",
       "      <td>0.001813</td>\n",
       "      <td>2.059711e+16</td>\n",
       "      <td>1.000000e+15</td>\n",
       "      <td>0.000243</td>\n",
       "      <td>True</td>\n",
       "      <td>True</td>\n",
       "      <td>100.0</td>\n",
       "    </tr>\n",
       "  </tbody>\n",
       "</table>\n",
       "<p>6046023 rows × 77 columns</p>\n",
       "</div>"
      ],
      "text/plain": [
       "        callsign icao_address flight_number tail_number aircraft_type_icao  \\\n",
       "0         N831KB       AB5CF4                    N831KB               BE40   \n",
       "2         N736MP       A9E276                    N736MP               C172   \n",
       "3        AVA9209       A4D7EB        AV9209      N411AV               A320   \n",
       "4         N526ND       A6A068                    N526ND               C172   \n",
       "5          RYR96       4CA645        FR5394      EI-DYC               B738   \n",
       "...          ...          ...           ...         ...                ...   \n",
       "6299248  CCA8221       781588        CA8221      B-304F               A320   \n",
       "6299249  DAL8845       A8BBFF        DL8845      N662DN               B752   \n",
       "6299250   N429MR       A51E31                    N429MR               C25C   \n",
       "6299251  CSH9511       780F8F        FM9511      B-7862               B738   \n",
       "6299252    MVK19       A2ECD0                    N288MK               P28A   \n",
       "\n",
       "        aircraft_engine_type origin_airport  \\\n",
       "0                        Jet           KDTO   \n",
       "2                     Piston                  \n",
       "3                        Jet           SKBO   \n",
       "4                     Piston                  \n",
       "5                        Jet                  \n",
       "...                      ...            ...   \n",
       "6299248                  Jet           ZHHH   \n",
       "6299249                  Jet           KSNA   \n",
       "6299250                  Jet           KSUX   \n",
       "6299251                  Jet           ZHCC   \n",
       "6299252               Piston           KMKT   \n",
       "\n",
       "                                       origin_airport_name origin_country  \\\n",
       "0                                 Denton Municipal Airport             US   \n",
       "2                                                                           \n",
       "3                          El Dorado International Airport             CO   \n",
       "4                                                                           \n",
       "5                                                                           \n",
       "...                                                    ...            ...   \n",
       "6299248                 Wuhan Tianhe International Airport             CN   \n",
       "6299249           John Wayne Airport-Orange County Airport             US   \n",
       "6299250  Sioux Gateway Airport / Brigadier General Bud ...             US   \n",
       "6299251           Zhengzhou Xinzheng International Airport             CN   \n",
       "6299252                           Mankato Regional Airport             US   \n",
       "\n",
       "        destination_airport  ...    so2_kg sulphates_kg nvpm_data_source  \\\n",
       "0                      KADS  ...  0.072813     0.001486         FA Model   \n",
       "2                            ...  0.025976     0.000530         Constant   \n",
       "3                      SKCL  ...  1.660337     0.033884         ICAO EDB   \n",
       "4                            ...  0.025405     0.000518         Constant   \n",
       "5                      LIME  ...  1.613571     0.032930         ICAO EDB   \n",
       "...                     ...  ...       ...          ...              ...   \n",
       "6299248                ZUUU  ...  4.517517     0.092194         ICAO EDB   \n",
       "6299249                KSMF  ...  4.275811     0.087261         FA Model   \n",
       "6299250                KDBQ  ...  0.461343     0.009415         Constant   \n",
       "6299251                ZYCC  ...  5.721083     0.116757         ICAO EDB   \n",
       "6299252                KMKT  ...  0.024717     0.000504         Constant   \n",
       "\n",
       "        nvpm_mass_kg   nvpm_number nvpm_ei_n_mean    sdr_mean  night_flight  \\\n",
       "0           0.000592  4.953908e+16   8.164379e+14  175.329813         False   \n",
       "2           0.001905  2.164649e+16   1.000000e+15   18.714014         False   \n",
       "3           0.069787  1.343395e+18   9.709314e+14    0.000000          True   \n",
       "4           0.001863  2.117047e+16   1.000000e+15  203.507661         False   \n",
       "5           0.051059  1.184296e+18   8.807518e+14    0.000000          True   \n",
       "...              ...           ...            ...         ...           ...   \n",
       "6299248     0.178838  4.219963e+18   1.120960e+15  211.502269         False   \n",
       "6299249     0.570083  5.294014e+18   1.485757e+15  167.638766         False   \n",
       "6299250     0.033832  3.844525e+17   1.000000e+15    0.000852          True   \n",
       "6299251     0.228237  5.338755e+18   1.119807e+15  258.416273         False   \n",
       "6299252     0.001813  2.059711e+16   1.000000e+15    0.000243          True   \n",
       "\n",
       "         night_segments  pct_night_dist  \n",
       "0                 False             0.0  \n",
       "2                 False             0.0  \n",
       "3                  True           100.0  \n",
       "4                 False             0.0  \n",
       "5                  True           100.0  \n",
       "...                 ...             ...  \n",
       "6299248           False             0.0  \n",
       "6299249           False             0.0  \n",
       "6299250            True           100.0  \n",
       "6299251           False             0.0  \n",
       "6299252            True           100.0  \n",
       "\n",
       "[6046023 rows x 77 columns]"
      ]
     },
     "execution_count": 127,
     "metadata": {},
     "output_type": "execute_result"
    }
   ],
   "source": [
    "private_jet = ['CL60','P180','GLF5','GLEX','GLF6','F2TH','C17','LJ60','F900','GLF4','E35L','CL35','C30J','GL5T','ASTR','C130','BE20','H25B']\n",
    "df = df[~df['aircraft_type_icao'].isin(private_jet)]\n",
    "# df = df.drop(df[df['aircraft_type_icao'] == 'CL60'].index)\n",
    "# df['aircraft_type_icao'].unique()\n",
    "df"
   ]
  },
  {
   "cell_type": "code",
   "execution_count": 128,
   "metadata": {},
   "outputs": [],
   "source": [
    "delegates_path = os.getcwd() + '\\\\origin_airports_delegates.csv'\n",
    "data_delegates = pd.read_csv(delegates_path)\n",
    "\n",
    "iata_icao_path = os.getcwd() + '\\\\iata-icao.csv'\n",
    "data_iata_icao = pd.read_csv(iata_icao_path)"
   ]
  },
  {
   "cell_type": "code",
   "execution_count": 129,
   "metadata": {},
   "outputs": [],
   "source": [
    "airport_location = data_delegates.merge(data_iata_icao, on='iata', how='left')[['iata','icao','total_delegates','country_code','airport','latitude','longitude']]\n",
    "# airport_location\n"
   ]
  },
  {
   "cell_type": "code",
   "execution_count": 130,
   "metadata": {},
   "outputs": [],
   "source": [
    "# Check for NAN values \n",
    "# airport_location.isna()\n",
    "# airport_location = airport_location.dropna()#isna().sum()#.any(axis=1).count\n",
    "# airport_location[airport_location.isna().any(axis=1)]\n",
    "airport_location[\"country_code\"][77] =  \"NA\""
   ]
  },
  {
   "cell_type": "code",
   "execution_count": 131,
   "metadata": {},
   "outputs": [
    {
     "data": {
      "text/html": [
       "<div>\n",
       "<style scoped>\n",
       "    .dataframe tbody tr th:only-of-type {\n",
       "        vertical-align: middle;\n",
       "    }\n",
       "\n",
       "    .dataframe tbody tr th {\n",
       "        vertical-align: top;\n",
       "    }\n",
       "\n",
       "    .dataframe thead th {\n",
       "        text-align: right;\n",
       "    }\n",
       "</style>\n",
       "<table border=\"1\" class=\"dataframe\">\n",
       "  <thead>\n",
       "    <tr style=\"text-align: right;\">\n",
       "      <th></th>\n",
       "      <th>iata</th>\n",
       "      <th>icao</th>\n",
       "      <th>total_delegates</th>\n",
       "      <th>country_code</th>\n",
       "      <th>airport</th>\n",
       "      <th>latitude</th>\n",
       "      <th>longitude</th>\n",
       "      <th>distance_to_dubai</th>\n",
       "    </tr>\n",
       "  </thead>\n",
       "  <tbody>\n",
       "    <tr>\n",
       "      <th>0</th>\n",
       "      <td>AUH</td>\n",
       "      <td>OMAA</td>\n",
       "      <td>4409</td>\n",
       "      <td>AE</td>\n",
       "      <td>Abu Dhabi International Airport</td>\n",
       "      <td>24.43300</td>\n",
       "      <td>54.65110</td>\n",
       "      <td>115.950398</td>\n",
       "    </tr>\n",
       "    <tr>\n",
       "      <th>1</th>\n",
       "      <td>GRU</td>\n",
       "      <td>SBGR</td>\n",
       "      <td>7598</td>\n",
       "      <td>BR</td>\n",
       "      <td>Sao Paulo/Guarulhos International Airport</td>\n",
       "      <td>-23.42620</td>\n",
       "      <td>-46.48000</td>\n",
       "      <td>12218.280093</td>\n",
       "    </tr>\n",
       "    <tr>\n",
       "      <th>2</th>\n",
       "      <td>PEK</td>\n",
       "      <td>ZBAA</td>\n",
       "      <td>3480</td>\n",
       "      <td>CN</td>\n",
       "      <td>Beijing Capital International Airport</td>\n",
       "      <td>40.07250</td>\n",
       "      <td>116.59800</td>\n",
       "      <td>5856.254969</td>\n",
       "    </tr>\n",
       "    <tr>\n",
       "      <th>3</th>\n",
       "      <td>LOS</td>\n",
       "      <td>DNMM</td>\n",
       "      <td>1411</td>\n",
       "      <td>NG</td>\n",
       "      <td>Murtala Muhammed International Airport</td>\n",
       "      <td>6.57737</td>\n",
       "      <td>3.32116</td>\n",
       "      <td>5899.623220</td>\n",
       "    </tr>\n",
       "    <tr>\n",
       "      <th>4</th>\n",
       "      <td>CGK</td>\n",
       "      <td>WIII</td>\n",
       "      <td>1229</td>\n",
       "      <td>ID</td>\n",
       "      <td>Soekarno–Hatta International Airport</td>\n",
       "      <td>-6.12556</td>\n",
       "      <td>106.65600</td>\n",
       "      <td>6543.695620</td>\n",
       "    </tr>\n",
       "    <tr>\n",
       "      <th>...</th>\n",
       "      <td>...</td>\n",
       "      <td>...</td>\n",
       "      <td>...</td>\n",
       "      <td>...</td>\n",
       "      <td>...</td>\n",
       "      <td>...</td>\n",
       "      <td>...</td>\n",
       "      <td>...</td>\n",
       "    </tr>\n",
       "    <tr>\n",
       "      <th>202</th>\n",
       "      <td>ZRH</td>\n",
       "      <td>LSZH</td>\n",
       "      <td>8</td>\n",
       "      <td>CH</td>\n",
       "      <td>Zurich Airport</td>\n",
       "      <td>47.46470</td>\n",
       "      <td>8.54917</td>\n",
       "      <td>4773.283197</td>\n",
       "    </tr>\n",
       "    <tr>\n",
       "      <th>203</th>\n",
       "      <td>KIV</td>\n",
       "      <td>LUKK</td>\n",
       "      <td>8</td>\n",
       "      <td>MD</td>\n",
       "      <td>Chisinau International Airport</td>\n",
       "      <td>46.92770</td>\n",
       "      <td>28.93100</td>\n",
       "      <td>3352.541593</td>\n",
       "    </tr>\n",
       "    <tr>\n",
       "      <th>204</th>\n",
       "      <td>ASM</td>\n",
       "      <td>HHAS</td>\n",
       "      <td>7</td>\n",
       "      <td>ER</td>\n",
       "      <td>Asmara International Airport</td>\n",
       "      <td>15.29190</td>\n",
       "      <td>38.91070</td>\n",
       "      <td>2039.020269</td>\n",
       "    </tr>\n",
       "    <tr>\n",
       "      <th>205</th>\n",
       "      <td>MGA</td>\n",
       "      <td>MNMG</td>\n",
       "      <td>6</td>\n",
       "      <td>NI</td>\n",
       "      <td>Augusto C. Sandino International Airport</td>\n",
       "      <td>12.14150</td>\n",
       "      <td>-86.16820</td>\n",
       "      <td>14143.820362</td>\n",
       "    </tr>\n",
       "    <tr>\n",
       "      <th>206</th>\n",
       "      <td>FNJ</td>\n",
       "      <td>ZKPY</td>\n",
       "      <td>2</td>\n",
       "      <td>KP</td>\n",
       "      <td>Pyongyang Sunan International Airport</td>\n",
       "      <td>39.22410</td>\n",
       "      <td>125.67000</td>\n",
       "      <td>6640.198207</td>\n",
       "    </tr>\n",
       "  </tbody>\n",
       "</table>\n",
       "<p>207 rows × 8 columns</p>\n",
       "</div>"
      ],
      "text/plain": [
       "    iata  icao  total_delegates country_code  \\\n",
       "0    AUH  OMAA             4409           AE   \n",
       "1    GRU  SBGR             7598           BR   \n",
       "2    PEK  ZBAA             3480           CN   \n",
       "3    LOS  DNMM             1411           NG   \n",
       "4    CGK  WIII             1229           ID   \n",
       "..   ...   ...              ...          ...   \n",
       "202  ZRH  LSZH                8           CH   \n",
       "203  KIV  LUKK                8           MD   \n",
       "204  ASM  HHAS                7           ER   \n",
       "205  MGA  MNMG                6           NI   \n",
       "206  FNJ  ZKPY                2           KP   \n",
       "\n",
       "                                       airport  latitude  longitude  \\\n",
       "0              Abu Dhabi International Airport  24.43300   54.65110   \n",
       "1    Sao Paulo/Guarulhos International Airport -23.42620  -46.48000   \n",
       "2        Beijing Capital International Airport  40.07250  116.59800   \n",
       "3       Murtala Muhammed International Airport   6.57737    3.32116   \n",
       "4         Soekarno–Hatta International Airport  -6.12556  106.65600   \n",
       "..                                         ...       ...        ...   \n",
       "202                             Zurich Airport  47.46470    8.54917   \n",
       "203             Chisinau International Airport  46.92770   28.93100   \n",
       "204               Asmara International Airport  15.29190   38.91070   \n",
       "205   Augusto C. Sandino International Airport  12.14150  -86.16820   \n",
       "206      Pyongyang Sunan International Airport  39.22410  125.67000   \n",
       "\n",
       "     distance_to_dubai  \n",
       "0           115.950398  \n",
       "1         12218.280093  \n",
       "2          5856.254969  \n",
       "3          5899.623220  \n",
       "4          6543.695620  \n",
       "..                 ...  \n",
       "202        4773.283197  \n",
       "203        3352.541593  \n",
       "204        2039.020269  \n",
       "205       14143.820362  \n",
       "206        6640.198207  \n",
       "\n",
       "[207 rows x 8 columns]"
      ]
     },
     "execution_count": 131,
     "metadata": {},
     "output_type": "execute_result"
    }
   ],
   "source": [
    "dubai_airport = pd.DataFrame({'latitude_A': [airports.get('OMDB')['lat']],\n",
    "                     'longitude_A': [airports.get('OMDB')['lon']]})\n",
    "\n",
    "delegate_airports = airport_location[['latitude','longitude']]\n",
    "\n",
    "# Function to calculate distance using geopy.distance\n",
    "def calculate_distance(row):\n",
    "    coord_A = (dubai_airport['latitude_A'].iloc[0], dubai_airport['longitude_A'].iloc[0])\n",
    "    coord_B = (row['latitude'], row['longitude'])\n",
    "    return geodesic(coord_A, coord_B).kilometers\n",
    "\n",
    "airport_location['distance_to_dubai'] = delegate_airports.apply(calculate_distance,axis=1)\n",
    "\n",
    "airport_location"
   ]
  },
  {
   "cell_type": "code",
   "execution_count": 132,
   "metadata": {},
   "outputs": [
    {
     "data": {
      "text/html": [
       "<div>\n",
       "<style scoped>\n",
       "    .dataframe tbody tr th:only-of-type {\n",
       "        vertical-align: middle;\n",
       "    }\n",
       "\n",
       "    .dataframe tbody tr th {\n",
       "        vertical-align: top;\n",
       "    }\n",
       "\n",
       "    .dataframe thead th {\n",
       "        text-align: right;\n",
       "    }\n",
       "</style>\n",
       "<table border=\"1\" class=\"dataframe\">\n",
       "  <thead>\n",
       "    <tr style=\"text-align: right;\">\n",
       "      <th></th>\n",
       "      <th>iata</th>\n",
       "      <th>icao</th>\n",
       "      <th>total_delegates</th>\n",
       "      <th>country_code</th>\n",
       "      <th>airport</th>\n",
       "      <th>latitude</th>\n",
       "      <th>longitude</th>\n",
       "      <th>distance_to_dubai</th>\n",
       "    </tr>\n",
       "  </thead>\n",
       "  <tbody>\n",
       "    <tr>\n",
       "      <th>1</th>\n",
       "      <td>GRU</td>\n",
       "      <td>SBGR</td>\n",
       "      <td>7598</td>\n",
       "      <td>BR</td>\n",
       "      <td>Sao Paulo/Guarulhos International Airport</td>\n",
       "      <td>-23.426200</td>\n",
       "      <td>-46.4800</td>\n",
       "      <td>12218.280093</td>\n",
       "    </tr>\n",
       "    <tr>\n",
       "      <th>10</th>\n",
       "      <td>JFK</td>\n",
       "      <td>KJFK</td>\n",
       "      <td>1899</td>\n",
       "      <td>US</td>\n",
       "      <td>John F. Kennedy International Airport</td>\n",
       "      <td>40.639700</td>\n",
       "      <td>-73.7789</td>\n",
       "      <td>11021.839311</td>\n",
       "    </tr>\n",
       "    <tr>\n",
       "      <th>13</th>\n",
       "      <td>YOW</td>\n",
       "      <td>CYOW</td>\n",
       "      <td>1830</td>\n",
       "      <td>CA</td>\n",
       "      <td>Ottawa Macdonald-Cartier International Airport</td>\n",
       "      <td>45.322500</td>\n",
       "      <td>-75.6692</td>\n",
       "      <td>10756.579780</td>\n",
       "    </tr>\n",
       "    <tr>\n",
       "      <th>32</th>\n",
       "      <td>SYD</td>\n",
       "      <td>YSSY</td>\n",
       "      <td>996</td>\n",
       "      <td>AU</td>\n",
       "      <td>Sydney Airport (Kingsford Smith Airport)</td>\n",
       "      <td>-33.946100</td>\n",
       "      <td>151.1770</td>\n",
       "      <td>12038.861443</td>\n",
       "    </tr>\n",
       "    <tr>\n",
       "      <th>37</th>\n",
       "      <td>BOG</td>\n",
       "      <td>SKBO</td>\n",
       "      <td>932</td>\n",
       "      <td>CO</td>\n",
       "      <td>El Dorado International Airport</td>\n",
       "      <td>4.701590</td>\n",
       "      <td>-74.1469</td>\n",
       "      <td>13645.133727</td>\n",
       "    </tr>\n",
       "    <tr>\n",
       "      <th>45</th>\n",
       "      <td>SCL</td>\n",
       "      <td>SCEL</td>\n",
       "      <td>742</td>\n",
       "      <td>CL</td>\n",
       "      <td>Comodoro Arturo Merino Benitez International A...</td>\n",
       "      <td>-33.393000</td>\n",
       "      <td>-70.7858</td>\n",
       "      <td>14776.568263</td>\n",
       "    </tr>\n",
       "    <tr>\n",
       "      <th>46</th>\n",
       "      <td>SCL</td>\n",
       "      <td>SCEL</td>\n",
       "      <td>742</td>\n",
       "      <td>CL</td>\n",
       "      <td>Arturo Merino Benítez International Airport</td>\n",
       "      <td>-33.392800</td>\n",
       "      <td>-70.7856</td>\n",
       "      <td>14776.547899</td>\n",
       "    </tr>\n",
       "    <tr>\n",
       "      <th>80</th>\n",
       "      <td>LIM</td>\n",
       "      <td>SPIM</td>\n",
       "      <td>195</td>\n",
       "      <td>PE</td>\n",
       "      <td>Jorge Chavez International Airport</td>\n",
       "      <td>-12.021900</td>\n",
       "      <td>-77.1143</td>\n",
       "      <td>14836.731110</td>\n",
       "    </tr>\n",
       "    <tr>\n",
       "      <th>90</th>\n",
       "      <td>AEP</td>\n",
       "      <td>SABE</td>\n",
       "      <td>179</td>\n",
       "      <td>AR</td>\n",
       "      <td>Aeroparque Internacional Jorge Newbery</td>\n",
       "      <td>-34.558900</td>\n",
       "      <td>-58.4164</td>\n",
       "      <td>13659.050933</td>\n",
       "    </tr>\n",
       "    <tr>\n",
       "      <th>105</th>\n",
       "      <td>TGU</td>\n",
       "      <td>MHTG</td>\n",
       "      <td>139</td>\n",
       "      <td>HN</td>\n",
       "      <td>Toncontin International Airport</td>\n",
       "      <td>14.060900</td>\n",
       "      <td>-87.2172</td>\n",
       "      <td>14069.337152</td>\n",
       "    </tr>\n",
       "    <tr>\n",
       "      <th>106</th>\n",
       "      <td>TGU</td>\n",
       "      <td>MHTG</td>\n",
       "      <td>139</td>\n",
       "      <td>HN</td>\n",
       "      <td>Toncontín International Airport</td>\n",
       "      <td>14.061700</td>\n",
       "      <td>-87.2169</td>\n",
       "      <td>14069.250271</td>\n",
       "    </tr>\n",
       "    <tr>\n",
       "      <th>107</th>\n",
       "      <td>MEX</td>\n",
       "      <td>MMMX</td>\n",
       "      <td>338</td>\n",
       "      <td>MX</td>\n",
       "      <td>Mexico City International Airport</td>\n",
       "      <td>19.436300</td>\n",
       "      <td>-99.0721</td>\n",
       "      <td>14345.364025</td>\n",
       "    </tr>\n",
       "    <tr>\n",
       "      <th>110</th>\n",
       "      <td>SUV</td>\n",
       "      <td>NFNA</td>\n",
       "      <td>134</td>\n",
       "      <td>FJ</td>\n",
       "      <td>Nausori International Airport</td>\n",
       "      <td>-18.043300</td>\n",
       "      <td>178.5590</td>\n",
       "      <td>14138.376453</td>\n",
       "    </tr>\n",
       "    <tr>\n",
       "      <th>111</th>\n",
       "      <td>WLG</td>\n",
       "      <td>NZWN</td>\n",
       "      <td>330</td>\n",
       "      <td>NZ</td>\n",
       "      <td>Wellington International Airport</td>\n",
       "      <td>-41.327200</td>\n",
       "      <td>174.8050</td>\n",
       "      <td>14230.182065</td>\n",
       "    </tr>\n",
       "    <tr>\n",
       "      <th>117</th>\n",
       "      <td>POM</td>\n",
       "      <td>AYPY</td>\n",
       "      <td>126</td>\n",
       "      <td>PG</td>\n",
       "      <td>Jacksons International Airport</td>\n",
       "      <td>-9.443380</td>\n",
       "      <td>147.2200</td>\n",
       "      <td>10643.157864</td>\n",
       "    </tr>\n",
       "    <tr>\n",
       "      <th>118</th>\n",
       "      <td>UIO</td>\n",
       "      <td>SEQM</td>\n",
       "      <td>124</td>\n",
       "      <td>EC</td>\n",
       "      <td>Mariscal Sucre International Airport</td>\n",
       "      <td>-0.129167</td>\n",
       "      <td>-78.3575</td>\n",
       "      <td>14331.022056</td>\n",
       "    </tr>\n",
       "    <tr>\n",
       "      <th>121</th>\n",
       "      <td>SDQ</td>\n",
       "      <td>MDSD</td>\n",
       "      <td>114</td>\n",
       "      <td>DO</td>\n",
       "      <td>Las Americas International Airport</td>\n",
       "      <td>18.429700</td>\n",
       "      <td>-69.6689</td>\n",
       "      <td>12355.592401</td>\n",
       "    </tr>\n",
       "    <tr>\n",
       "      <th>123</th>\n",
       "      <td>HAV</td>\n",
       "      <td>MUHA</td>\n",
       "      <td>110</td>\n",
       "      <td>CU</td>\n",
       "      <td>Jose Marti International Airport</td>\n",
       "      <td>22.989200</td>\n",
       "      <td>-82.4091</td>\n",
       "      <td>12999.396842</td>\n",
       "    </tr>\n",
       "    <tr>\n",
       "      <th>128</th>\n",
       "      <td>VLI</td>\n",
       "      <td>NVVV</td>\n",
       "      <td>99</td>\n",
       "      <td>VU</td>\n",
       "      <td>Bauerfield International Airport</td>\n",
       "      <td>-17.699300</td>\n",
       "      <td>168.3200</td>\n",
       "      <td>13099.790633</td>\n",
       "    </tr>\n",
       "    <tr>\n",
       "      <th>129</th>\n",
       "      <td>ASU</td>\n",
       "      <td>SGAS</td>\n",
       "      <td>98</td>\n",
       "      <td>PY</td>\n",
       "      <td>Silvio Pettirossi International Airport</td>\n",
       "      <td>-25.240000</td>\n",
       "      <td>-57.5200</td>\n",
       "      <td>13346.550474</td>\n",
       "    </tr>\n",
       "    <tr>\n",
       "      <th>130</th>\n",
       "      <td>PTY</td>\n",
       "      <td>MPTO</td>\n",
       "      <td>92</td>\n",
       "      <td>PA</td>\n",
       "      <td>Tocumen International Airport</td>\n",
       "      <td>9.071360</td>\n",
       "      <td>-79.3835</td>\n",
       "      <td>13821.420183</td>\n",
       "    </tr>\n",
       "    <tr>\n",
       "      <th>131</th>\n",
       "      <td>GUA</td>\n",
       "      <td>MGGT</td>\n",
       "      <td>91</td>\n",
       "      <td>GT</td>\n",
       "      <td>La Aurora International Airport</td>\n",
       "      <td>14.583300</td>\n",
       "      <td>-90.5275</td>\n",
       "      <td>14262.571731</td>\n",
       "    </tr>\n",
       "    <tr>\n",
       "      <th>132</th>\n",
       "      <td>GUA</td>\n",
       "      <td>MGGT</td>\n",
       "      <td>91</td>\n",
       "      <td>GT</td>\n",
       "      <td>La Aurora International Airport</td>\n",
       "      <td>14.581700</td>\n",
       "      <td>-90.5267</td>\n",
       "      <td>14262.651913</td>\n",
       "    </tr>\n",
       "    <tr>\n",
       "      <th>137</th>\n",
       "      <td>BGI</td>\n",
       "      <td>TBPB</td>\n",
       "      <td>80</td>\n",
       "      <td>BB</td>\n",
       "      <td>Grantley Adams International Airport</td>\n",
       "      <td>13.074600</td>\n",
       "      <td>-59.4925</td>\n",
       "      <td>11790.247149</td>\n",
       "    </tr>\n",
       "    <tr>\n",
       "      <th>139</th>\n",
       "      <td>TBU</td>\n",
       "      <td>NFTF</td>\n",
       "      <td>79</td>\n",
       "      <td>TO</td>\n",
       "      <td>Fua'amotu International Airport</td>\n",
       "      <td>-21.241200</td>\n",
       "      <td>-175.1500</td>\n",
       "      <td>14872.127068</td>\n",
       "    </tr>\n",
       "    <tr>\n",
       "      <th>141</th>\n",
       "      <td>NAS</td>\n",
       "      <td>MYNN</td>\n",
       "      <td>74</td>\n",
       "      <td>BS</td>\n",
       "      <td>Lynden Pindling International Airport</td>\n",
       "      <td>25.039000</td>\n",
       "      <td>-77.4662</td>\n",
       "      <td>12486.036022</td>\n",
       "    </tr>\n",
       "    <tr>\n",
       "      <th>143</th>\n",
       "      <td>CXI</td>\n",
       "      <td>PLCH</td>\n",
       "      <td>71</td>\n",
       "      <td>KI</td>\n",
       "      <td>Cassidy International Airport</td>\n",
       "      <td>1.986160</td>\n",
       "      <td>-157.3500</td>\n",
       "      <td>15382.784975</td>\n",
       "    </tr>\n",
       "    <tr>\n",
       "      <th>150</th>\n",
       "      <td>BZE</td>\n",
       "      <td>MZBZ</td>\n",
       "      <td>58</td>\n",
       "      <td>BZ</td>\n",
       "      <td>Philip S. W. Goldson International Airport</td>\n",
       "      <td>17.539100</td>\n",
       "      <td>-88.3082</td>\n",
       "      <td>13859.489971</td>\n",
       "    </tr>\n",
       "    <tr>\n",
       "      <th>153</th>\n",
       "      <td>HIR</td>\n",
       "      <td>AGGH</td>\n",
       "      <td>56</td>\n",
       "      <td>SB</td>\n",
       "      <td>Honiara International Airport</td>\n",
       "      <td>-9.428000</td>\n",
       "      <td>160.0550</td>\n",
       "      <td>11930.129295</td>\n",
       "    </tr>\n",
       "    <tr>\n",
       "      <th>154</th>\n",
       "      <td>FUN</td>\n",
       "      <td>NGFU</td>\n",
       "      <td>54</td>\n",
       "      <td>TV</td>\n",
       "      <td>Funafuti International Airport</td>\n",
       "      <td>-8.525000</td>\n",
       "      <td>179.1960</td>\n",
       "      <td>13814.321990</td>\n",
       "    </tr>\n",
       "    <tr>\n",
       "      <th>155</th>\n",
       "      <td>APW</td>\n",
       "      <td>NSFA</td>\n",
       "      <td>53</td>\n",
       "      <td>WS</td>\n",
       "      <td>Faleolo International Airport</td>\n",
       "      <td>-13.830000</td>\n",
       "      <td>-172.0080</td>\n",
       "      <td>14928.854567</td>\n",
       "    </tr>\n",
       "    <tr>\n",
       "      <th>160</th>\n",
       "      <td>SKB</td>\n",
       "      <td>TKPK</td>\n",
       "      <td>48</td>\n",
       "      <td>KN</td>\n",
       "      <td>Robert L. Bradshaw International Airport</td>\n",
       "      <td>17.311200</td>\n",
       "      <td>-62.7187</td>\n",
       "      <td>11829.391026</td>\n",
       "    </tr>\n",
       "    <tr>\n",
       "      <th>161</th>\n",
       "      <td>SKB</td>\n",
       "      <td>TKPK</td>\n",
       "      <td>48</td>\n",
       "      <td>KN</td>\n",
       "      <td>Robert L. Bradshaw Airport</td>\n",
       "      <td>17.311400</td>\n",
       "      <td>-62.7186</td>\n",
       "      <td>11829.369871</td>\n",
       "    </tr>\n",
       "    <tr>\n",
       "      <th>163</th>\n",
       "      <td>LPB</td>\n",
       "      <td>SLLP</td>\n",
       "      <td>46</td>\n",
       "      <td>BO</td>\n",
       "      <td>El Alto International Airport</td>\n",
       "      <td>-16.513300</td>\n",
       "      <td>-68.1923</td>\n",
       "      <td>14119.983157</td>\n",
       "    </tr>\n",
       "    <tr>\n",
       "      <th>169</th>\n",
       "      <td>SJO</td>\n",
       "      <td>MROC</td>\n",
       "      <td>109</td>\n",
       "      <td>CR</td>\n",
       "      <td>Juan Santamaria International Airport</td>\n",
       "      <td>9.993860</td>\n",
       "      <td>-84.2088</td>\n",
       "      <td>14154.906620</td>\n",
       "    </tr>\n",
       "    <tr>\n",
       "      <th>172</th>\n",
       "      <td>PAP</td>\n",
       "      <td>MTPP</td>\n",
       "      <td>42</td>\n",
       "      <td>HT</td>\n",
       "      <td>Toussaint L'Ouverture International Airport</td>\n",
       "      <td>18.580000</td>\n",
       "      <td>-72.2925</td>\n",
       "      <td>12562.559283</td>\n",
       "    </tr>\n",
       "    <tr>\n",
       "      <th>173</th>\n",
       "      <td>PAP</td>\n",
       "      <td>MTPP</td>\n",
       "      <td>42</td>\n",
       "      <td>HT</td>\n",
       "      <td>Toussaint Louverture International Airport</td>\n",
       "      <td>18.580000</td>\n",
       "      <td>-72.2925</td>\n",
       "      <td>12562.559283</td>\n",
       "    </tr>\n",
       "    <tr>\n",
       "      <th>174</th>\n",
       "      <td>KIN</td>\n",
       "      <td>MKJP</td>\n",
       "      <td>41</td>\n",
       "      <td>JM</td>\n",
       "      <td>Norman Manley International Airport</td>\n",
       "      <td>17.935700</td>\n",
       "      <td>-76.7875</td>\n",
       "      <td>12971.097505</td>\n",
       "    </tr>\n",
       "    <tr>\n",
       "      <th>176</th>\n",
       "      <td>ANU</td>\n",
       "      <td>TAPA</td>\n",
       "      <td>39</td>\n",
       "      <td>AG</td>\n",
       "      <td>V. C. Bird International Airport</td>\n",
       "      <td>17.136700</td>\n",
       "      <td>-61.7927</td>\n",
       "      <td>11758.054721</td>\n",
       "    </tr>\n",
       "    <tr>\n",
       "      <th>177</th>\n",
       "      <td>GND</td>\n",
       "      <td>TGPY</td>\n",
       "      <td>39</td>\n",
       "      <td>GD</td>\n",
       "      <td>Maurice Bishop International Airport</td>\n",
       "      <td>12.004200</td>\n",
       "      <td>-61.7862</td>\n",
       "      <td>12064.529355</td>\n",
       "    </tr>\n",
       "    <tr>\n",
       "      <th>180</th>\n",
       "      <td>SLU</td>\n",
       "      <td>TLPC</td>\n",
       "      <td>37</td>\n",
       "      <td>LC</td>\n",
       "      <td>George F. L. Charles Airport</td>\n",
       "      <td>14.020200</td>\n",
       "      <td>-60.9929</td>\n",
       "      <td>11872.945991</td>\n",
       "    </tr>\n",
       "    <tr>\n",
       "      <th>181</th>\n",
       "      <td>MVD</td>\n",
       "      <td>SUMU</td>\n",
       "      <td>34</td>\n",
       "      <td>UY</td>\n",
       "      <td>Carrasco Gral. Cesareo L. Berisso Internationa...</td>\n",
       "      <td>-34.838400</td>\n",
       "      <td>-56.0308</td>\n",
       "      <td>13449.427922</td>\n",
       "    </tr>\n",
       "    <tr>\n",
       "      <th>182</th>\n",
       "      <td>CCS</td>\n",
       "      <td>SVMI</td>\n",
       "      <td>34</td>\n",
       "      <td>VE</td>\n",
       "      <td>Simon Bolivar International Airport</td>\n",
       "      <td>10.601200</td>\n",
       "      <td>-66.9912</td>\n",
       "      <td>12626.043650</td>\n",
       "    </tr>\n",
       "    <tr>\n",
       "      <th>184</th>\n",
       "      <td>CCS</td>\n",
       "      <td>SVMI</td>\n",
       "      <td>31</td>\n",
       "      <td>VE</td>\n",
       "      <td>Simon Bolivar International Airport</td>\n",
       "      <td>10.601200</td>\n",
       "      <td>-66.9912</td>\n",
       "      <td>12626.043650</td>\n",
       "    </tr>\n",
       "    <tr>\n",
       "      <th>185</th>\n",
       "      <td>PBM</td>\n",
       "      <td>SMJP</td>\n",
       "      <td>30</td>\n",
       "      <td>SR</td>\n",
       "      <td>Johan Adolf Pengel International Airport</td>\n",
       "      <td>5.452830</td>\n",
       "      <td>-55.1878</td>\n",
       "      <td>11799.083945</td>\n",
       "    </tr>\n",
       "    <tr>\n",
       "      <th>186</th>\n",
       "      <td>DOM</td>\n",
       "      <td>TDPD</td>\n",
       "      <td>29</td>\n",
       "      <td>DM</td>\n",
       "      <td>Douglas-Charles Airport</td>\n",
       "      <td>15.547000</td>\n",
       "      <td>-61.3000</td>\n",
       "      <td>11809.970384</td>\n",
       "    </tr>\n",
       "    <tr>\n",
       "      <th>187</th>\n",
       "      <td>ZSA</td>\n",
       "      <td>MYSM</td>\n",
       "      <td>28</td>\n",
       "      <td>BS</td>\n",
       "      <td>San Salvador Airport (Cockburn Town Airport)</td>\n",
       "      <td>24.063300</td>\n",
       "      <td>-74.5240</td>\n",
       "      <td>12342.926426</td>\n",
       "    </tr>\n",
       "    <tr>\n",
       "      <th>192</th>\n",
       "      <td>PNI</td>\n",
       "      <td>PTPN</td>\n",
       "      <td>26</td>\n",
       "      <td>FM</td>\n",
       "      <td>Pohnpei International Airport</td>\n",
       "      <td>6.985100</td>\n",
       "      <td>158.2090</td>\n",
       "      <td>10964.520503</td>\n",
       "    </tr>\n",
       "    <tr>\n",
       "      <th>193</th>\n",
       "      <td>IUE</td>\n",
       "      <td>NIUE</td>\n",
       "      <td>24</td>\n",
       "      <td>NU</td>\n",
       "      <td>Niue International Airport (Hanan Int'l)</td>\n",
       "      <td>-19.079000</td>\n",
       "      <td>-169.9260</td>\n",
       "      <td>15331.820404</td>\n",
       "    </tr>\n",
       "    <tr>\n",
       "      <th>195</th>\n",
       "      <td>RAR</td>\n",
       "      <td>NCRG</td>\n",
       "      <td>21</td>\n",
       "      <td>CK</td>\n",
       "      <td>Rarotonga International Airport</td>\n",
       "      <td>-21.202700</td>\n",
       "      <td>-159.8060</td>\n",
       "      <td>16414.079499</td>\n",
       "    </tr>\n",
       "    <tr>\n",
       "      <th>196</th>\n",
       "      <td>INU</td>\n",
       "      <td>ANYN</td>\n",
       "      <td>21</td>\n",
       "      <td>NR</td>\n",
       "      <td>Nauru International Airport</td>\n",
       "      <td>-0.547458</td>\n",
       "      <td>166.9190</td>\n",
       "      <td>12204.307483</td>\n",
       "    </tr>\n",
       "    <tr>\n",
       "      <th>197</th>\n",
       "      <td>GEO</td>\n",
       "      <td>SYCJ</td>\n",
       "      <td>20</td>\n",
       "      <td>GY</td>\n",
       "      <td>Cheddi Jagan International Airport</td>\n",
       "      <td>6.498550</td>\n",
       "      <td>-58.2541</td>\n",
       "      <td>12041.093259</td>\n",
       "    </tr>\n",
       "    <tr>\n",
       "      <th>198</th>\n",
       "      <td>POS</td>\n",
       "      <td>TTPP</td>\n",
       "      <td>20</td>\n",
       "      <td>TT</td>\n",
       "      <td>Piarco International Airport</td>\n",
       "      <td>10.595400</td>\n",
       "      <td>-61.3372</td>\n",
       "      <td>12104.873422</td>\n",
       "    </tr>\n",
       "    <tr>\n",
       "      <th>199</th>\n",
       "      <td>SVD</td>\n",
       "      <td>TVSA</td>\n",
       "      <td>15</td>\n",
       "      <td>VC</td>\n",
       "      <td>Argyle International Airport</td>\n",
       "      <td>13.144300</td>\n",
       "      <td>-61.2109</td>\n",
       "      <td>11944.558320</td>\n",
       "    </tr>\n",
       "    <tr>\n",
       "      <th>205</th>\n",
       "      <td>MGA</td>\n",
       "      <td>MNMG</td>\n",
       "      <td>6</td>\n",
       "      <td>NI</td>\n",
       "      <td>Augusto C. Sandino International Airport</td>\n",
       "      <td>12.141500</td>\n",
       "      <td>-86.1682</td>\n",
       "      <td>14143.820362</td>\n",
       "    </tr>\n",
       "  </tbody>\n",
       "</table>\n",
       "</div>"
      ],
      "text/plain": [
       "    iata  icao  total_delegates country_code  \\\n",
       "1    GRU  SBGR             7598           BR   \n",
       "10   JFK  KJFK             1899           US   \n",
       "13   YOW  CYOW             1830           CA   \n",
       "32   SYD  YSSY              996           AU   \n",
       "37   BOG  SKBO              932           CO   \n",
       "45   SCL  SCEL              742           CL   \n",
       "46   SCL  SCEL              742           CL   \n",
       "80   LIM  SPIM              195           PE   \n",
       "90   AEP  SABE              179           AR   \n",
       "105  TGU  MHTG              139           HN   \n",
       "106  TGU  MHTG              139           HN   \n",
       "107  MEX  MMMX              338           MX   \n",
       "110  SUV  NFNA              134           FJ   \n",
       "111  WLG  NZWN              330           NZ   \n",
       "117  POM  AYPY              126           PG   \n",
       "118  UIO  SEQM              124           EC   \n",
       "121  SDQ  MDSD              114           DO   \n",
       "123  HAV  MUHA              110           CU   \n",
       "128  VLI  NVVV               99           VU   \n",
       "129  ASU  SGAS               98           PY   \n",
       "130  PTY  MPTO               92           PA   \n",
       "131  GUA  MGGT               91           GT   \n",
       "132  GUA  MGGT               91           GT   \n",
       "137  BGI  TBPB               80           BB   \n",
       "139  TBU  NFTF               79           TO   \n",
       "141  NAS  MYNN               74           BS   \n",
       "143  CXI  PLCH               71           KI   \n",
       "150  BZE  MZBZ               58           BZ   \n",
       "153  HIR  AGGH               56           SB   \n",
       "154  FUN  NGFU               54           TV   \n",
       "155  APW  NSFA               53           WS   \n",
       "160  SKB  TKPK               48           KN   \n",
       "161  SKB  TKPK               48           KN   \n",
       "163  LPB  SLLP               46           BO   \n",
       "169  SJO  MROC              109           CR   \n",
       "172  PAP  MTPP               42           HT   \n",
       "173  PAP  MTPP               42           HT   \n",
       "174  KIN  MKJP               41           JM   \n",
       "176  ANU  TAPA               39           AG   \n",
       "177  GND  TGPY               39           GD   \n",
       "180  SLU  TLPC               37           LC   \n",
       "181  MVD  SUMU               34           UY   \n",
       "182  CCS  SVMI               34           VE   \n",
       "184  CCS  SVMI               31           VE   \n",
       "185  PBM  SMJP               30           SR   \n",
       "186  DOM  TDPD               29           DM   \n",
       "187  ZSA  MYSM               28           BS   \n",
       "192  PNI  PTPN               26           FM   \n",
       "193  IUE  NIUE               24           NU   \n",
       "195  RAR  NCRG               21           CK   \n",
       "196  INU  ANYN               21           NR   \n",
       "197  GEO  SYCJ               20           GY   \n",
       "198  POS  TTPP               20           TT   \n",
       "199  SVD  TVSA               15           VC   \n",
       "205  MGA  MNMG                6           NI   \n",
       "\n",
       "                                               airport   latitude  longitude  \\\n",
       "1            Sao Paulo/Guarulhos International Airport -23.426200   -46.4800   \n",
       "10               John F. Kennedy International Airport  40.639700   -73.7789   \n",
       "13      Ottawa Macdonald-Cartier International Airport  45.322500   -75.6692   \n",
       "32            Sydney Airport (Kingsford Smith Airport) -33.946100   151.1770   \n",
       "37                     El Dorado International Airport   4.701590   -74.1469   \n",
       "45   Comodoro Arturo Merino Benitez International A... -33.393000   -70.7858   \n",
       "46         Arturo Merino Benítez International Airport -33.392800   -70.7856   \n",
       "80                  Jorge Chavez International Airport -12.021900   -77.1143   \n",
       "90              Aeroparque Internacional Jorge Newbery -34.558900   -58.4164   \n",
       "105                    Toncontin International Airport  14.060900   -87.2172   \n",
       "106                    Toncontín International Airport  14.061700   -87.2169   \n",
       "107                  Mexico City International Airport  19.436300   -99.0721   \n",
       "110                      Nausori International Airport -18.043300   178.5590   \n",
       "111                   Wellington International Airport -41.327200   174.8050   \n",
       "117                     Jacksons International Airport  -9.443380   147.2200   \n",
       "118               Mariscal Sucre International Airport  -0.129167   -78.3575   \n",
       "121                 Las Americas International Airport  18.429700   -69.6689   \n",
       "123                   Jose Marti International Airport  22.989200   -82.4091   \n",
       "128                   Bauerfield International Airport -17.699300   168.3200   \n",
       "129            Silvio Pettirossi International Airport -25.240000   -57.5200   \n",
       "130                      Tocumen International Airport   9.071360   -79.3835   \n",
       "131                    La Aurora International Airport  14.583300   -90.5275   \n",
       "132                    La Aurora International Airport  14.581700   -90.5267   \n",
       "137               Grantley Adams International Airport  13.074600   -59.4925   \n",
       "139                    Fua'amotu International Airport -21.241200  -175.1500   \n",
       "141              Lynden Pindling International Airport  25.039000   -77.4662   \n",
       "143                      Cassidy International Airport   1.986160  -157.3500   \n",
       "150         Philip S. W. Goldson International Airport  17.539100   -88.3082   \n",
       "153                      Honiara International Airport  -9.428000   160.0550   \n",
       "154                     Funafuti International Airport  -8.525000   179.1960   \n",
       "155                      Faleolo International Airport -13.830000  -172.0080   \n",
       "160           Robert L. Bradshaw International Airport  17.311200   -62.7187   \n",
       "161                         Robert L. Bradshaw Airport  17.311400   -62.7186   \n",
       "163                      El Alto International Airport -16.513300   -68.1923   \n",
       "169              Juan Santamaria International Airport   9.993860   -84.2088   \n",
       "172        Toussaint L'Ouverture International Airport  18.580000   -72.2925   \n",
       "173         Toussaint Louverture International Airport  18.580000   -72.2925   \n",
       "174                Norman Manley International Airport  17.935700   -76.7875   \n",
       "176                   V. C. Bird International Airport  17.136700   -61.7927   \n",
       "177               Maurice Bishop International Airport  12.004200   -61.7862   \n",
       "180                       George F. L. Charles Airport  14.020200   -60.9929   \n",
       "181  Carrasco Gral. Cesareo L. Berisso Internationa... -34.838400   -56.0308   \n",
       "182                Simon Bolivar International Airport  10.601200   -66.9912   \n",
       "184                Simon Bolivar International Airport  10.601200   -66.9912   \n",
       "185           Johan Adolf Pengel International Airport   5.452830   -55.1878   \n",
       "186                            Douglas-Charles Airport  15.547000   -61.3000   \n",
       "187       San Salvador Airport (Cockburn Town Airport)  24.063300   -74.5240   \n",
       "192                      Pohnpei International Airport   6.985100   158.2090   \n",
       "193           Niue International Airport (Hanan Int'l) -19.079000  -169.9260   \n",
       "195                    Rarotonga International Airport -21.202700  -159.8060   \n",
       "196                        Nauru International Airport  -0.547458   166.9190   \n",
       "197                 Cheddi Jagan International Airport   6.498550   -58.2541   \n",
       "198                       Piarco International Airport  10.595400   -61.3372   \n",
       "199                       Argyle International Airport  13.144300   -61.2109   \n",
       "205           Augusto C. Sandino International Airport  12.141500   -86.1682   \n",
       "\n",
       "     distance_to_dubai  \n",
       "1         12218.280093  \n",
       "10        11021.839311  \n",
       "13        10756.579780  \n",
       "32        12038.861443  \n",
       "37        13645.133727  \n",
       "45        14776.568263  \n",
       "46        14776.547899  \n",
       "80        14836.731110  \n",
       "90        13659.050933  \n",
       "105       14069.337152  \n",
       "106       14069.250271  \n",
       "107       14345.364025  \n",
       "110       14138.376453  \n",
       "111       14230.182065  \n",
       "117       10643.157864  \n",
       "118       14331.022056  \n",
       "121       12355.592401  \n",
       "123       12999.396842  \n",
       "128       13099.790633  \n",
       "129       13346.550474  \n",
       "130       13821.420183  \n",
       "131       14262.571731  \n",
       "132       14262.651913  \n",
       "137       11790.247149  \n",
       "139       14872.127068  \n",
       "141       12486.036022  \n",
       "143       15382.784975  \n",
       "150       13859.489971  \n",
       "153       11930.129295  \n",
       "154       13814.321990  \n",
       "155       14928.854567  \n",
       "160       11829.391026  \n",
       "161       11829.369871  \n",
       "163       14119.983157  \n",
       "169       14154.906620  \n",
       "172       12562.559283  \n",
       "173       12562.559283  \n",
       "174       12971.097505  \n",
       "176       11758.054721  \n",
       "177       12064.529355  \n",
       "180       11872.945991  \n",
       "181       13449.427922  \n",
       "182       12626.043650  \n",
       "184       12626.043650  \n",
       "185       11799.083945  \n",
       "186       11809.970384  \n",
       "187       12342.926426  \n",
       "192       10964.520503  \n",
       "193       15331.820404  \n",
       "195       16414.079499  \n",
       "196       12204.307483  \n",
       "197       12041.093259  \n",
       "198       12104.873422  \n",
       "199       11944.558320  \n",
       "205       14143.820362  "
      ]
     },
     "execution_count": 132,
     "metadata": {},
     "output_type": "execute_result"
    }
   ],
   "source": [
    "airport_location[airport_location['distance_to_dubai'] >= 10000]"
   ]
  },
  {
   "cell_type": "code",
   "execution_count": 133,
   "metadata": {},
   "outputs": [
    {
     "name": "stdout",
     "output_type": "stream",
     "text": [
      "55 flights with over 10,000 km\n"
     ]
    }
   ],
   "source": [
    "print(airport_location[airport_location['distance_to_dubai'] >= 10000]['distance_to_dubai'].count(),\"flights with over 10,000 km\")"
   ]
  },
  {
   "cell_type": "code",
   "execution_count": 134,
   "metadata": {},
   "outputs": [
    {
     "name": "stdout",
     "output_type": "stream",
     "text": [
      "Total km flown to COP28: 1401384.0\n",
      "Total Delegates:           81939\n"
     ]
    }
   ],
   "source": [
    "print(\"Total km flown to COP28:\",round(sum(airport_location['distance_to_dubai']),0))\n",
    "print(\"Total Delegates:          \",sum(airport_location.total_delegates))"
   ]
  },
  {
   "cell_type": "markdown",
   "metadata": {},
   "source": [
    "# Calculating CO2 emissions with take-off and landing (non-transit)"
   ]
  },
  {
   "cell_type": "code",
   "execution_count": 135,
   "metadata": {},
   "outputs": [],
   "source": [
    "import pandas as pd\n",
    "import matplotlib.pyplot as plt\n",
    "import plotly.graph_objects as go\n",
    "import pycountry\n",
    "import pycountry_convert as pc"
   ]
  },
  {
   "cell_type": "code",
   "execution_count": 136,
   "metadata": {},
   "outputs": [],
   "source": [
    "def country_code_to_name(country_code):\n",
    "    try:\n",
    "        return pycountry.countries.get(alpha_2=country_code).name\n",
    "    except AttributeError:\n",
    "        return None\n",
    "\n",
    "plot_data = airport_location[:][:40]\n",
    "plot_data\n",
    "plot_data['country_name'] = plot_data['country_code'].apply(country_code_to_name)"
   ]
  },
  {
   "cell_type": "code",
   "execution_count": 137,
   "metadata": {},
   "outputs": [],
   "source": [
    "plot_data.loc[0,\"country_name\"] = 'UAE'\n",
    "plot_data.loc[12,\"country_name\"] = 'Tanzania'\n",
    "plot_data.loc[17,\"country_name\"] = 'Korea'\n",
    "plot_data.loc[20,\"country_name\"] = 'Congo'\n",
    "plot_data.loc[21,\"country_name\"] = 'Russia'"
   ]
  },
  {
   "cell_type": "code",
   "execution_count": 138,
   "metadata": {},
   "outputs": [
    {
     "data": {
      "image/png": "[encoded data removed]",
      "text/plain": [
       "<Figure size 2000x600 with 1 Axes>"
      ]
     },
     "metadata": {},
     "output_type": "display_data"
    }
   ],
   "source": [
    "\n",
    "# Plot the data\n",
    "plt.figure(figsize=(20, 6))  # Set the figure size\n",
    "plt.bar(plot_data['country_name'], plot_data.total_delegates)  # Plot a bar chart\n",
    "plt.title('Participants from each Country at COP28')  # Set the title\n",
    "plt.xlabel('Country')  # Set the x-axis label\n",
    "plt.ylabel('# participants')  # Set the y-axis label\n",
    "plt.xticks(rotation=45)  # Rotate x-axis labels for better readability\n",
    "plt.tight_layout()  # Adjust layout to prevent clipping of labels\n",
    "plt.savefig('participants_country.pdf')\n",
    "plt.show()  # Show the plot"
   ]
  },
  {
   "cell_type": "code",
   "execution_count": 139,
   "metadata": {},
   "outputs": [
    {
     "data": {
      "application/vnd.plotly.v1+json": {
       "config": {
        "plotlyServerURL": "https://plot.ly"
       },
       "data": [
        {
         "orientation": "h",
         "type": "bar",
         "x": [
          366,
          377,
          380,
          401,
          403,
          426,
          442,
          444,
          445,
          554,
          560,
          565,
          590,
          606,
          618,
          700,
          763,
          765,
          823,
          932,
          977,
          996,
          1011,
          1154,
          1229,
          1314,
          1411,
          1455,
          1699,
          1719,
          1771,
          1830,
          1899,
          1973,
          2338,
          2577,
          2631,
          3480,
          4409,
          7598
         ],
         "y": [
          "Somalia",
          "Viet Nam",
          "Oman",
          "Côte d'Ivoire",
          "Kazakhstan",
          "Saudi Arabia",
          "Iraq",
          "Jordan",
          "Zambia",
          "Chad",
          "Senegal",
          "Egypt",
          "Congo",
          "Uganda",
          "Ghana",
          "Malaysia",
          "Tanzania",
          "Kenya",
          "Morocco",
          "Colombia",
          "Belgium",
          "Australia",
          "South Africa",
          "Germany",
          "Indonesia",
          "Italy",
          "Nigeria",
          "Russia",
          "Korea",
          "United Kingdom",
          "Israel",
          "Canada",
          "United States",
          "France",
          "India",
          "Türkiye",
          "Japan",
          "China",
          "UAE",
          "Brazil"
         ]
        }
       ],
       "layout": {
        "height": 800,
        "template": {
         "data": {
          "bar": [
           {
            "error_x": {
             "color": "#2a3f5f"
            },
            "error_y": {
             "color": "#2a3f5f"
            },
            "marker": {
             "line": {
              "color": "#E5ECF6",
              "width": 0.5
             },
             "pattern": {
              "fillmode": "overlay",
              "size": 10,
              "solidity": 0.2
             }
            },
            "type": "bar"
           }
          ],
          "barpolar": [
           {
            "marker": {
             "line": {
              "color": "#E5ECF6",
              "width": 0.5
             },
             "pattern": {
              "fillmode": "overlay",
              "size": 10,
              "solidity": 0.2
             }
            },
            "type": "barpolar"
           }
          ],
          "carpet": [
           {
            "aaxis": {
             "endlinecolor": "#2a3f5f",
             "gridcolor": "white",
             "linecolor": "white",
             "minorgridcolor": "white",
             "startlinecolor": "#2a3f5f"
            },
            "baxis": {
             "endlinecolor": "#2a3f5f",
             "gridcolor": "white",
             "linecolor": "white",
             "minorgridcolor": "white",
             "startlinecolor": "#2a3f5f"
            },
            "type": "carpet"
           }
          ],
          "choropleth": [
           {
            "colorbar": {
             "outlinewidth": 0,
             "ticks": ""
            },
            "type": "choropleth"
           }
          ],
          "contour": [
           {
            "colorbar": {
             "outlinewidth": 0,
             "ticks": ""
            },
            "colorscale": [
             [
              0,
              "#0d0887"
             ],
             [
              0.1111111111111111,
              "#46039f"
             ],
             [
              0.2222222222222222,
              "#7201a8"
             ],
             [
              0.3333333333333333,
              "#9c179e"
             ],
             [
              0.4444444444444444,
              "#bd3786"
             ],
             [
              0.5555555555555556,
              "#d8576b"
             ],
             [
              0.6666666666666666,
              "#ed7953"
             ],
             [
              0.7777777777777778,
              "#fb9f3a"
             ],
             [
              0.8888888888888888,
              "#fdca26"
             ],
             [
              1,
              "#f0f921"
             ]
            ],
            "type": "contour"
           }
          ],
          "contourcarpet": [
           {
            "colorbar": {
             "outlinewidth": 0,
             "ticks": ""
            },
            "type": "contourcarpet"
           }
          ],
          "heatmap": [
           {
            "colorbar": {
             "outlinewidth": 0,
             "ticks": ""
            },
            "colorscale": [
             [
              0,
              "#0d0887"
             ],
             [
              0.1111111111111111,
              "#46039f"
             ],
             [
              0.2222222222222222,
              "#7201a8"
             ],
             [
              0.3333333333333333,
              "#9c179e"
             ],
             [
              0.4444444444444444,
              "#bd3786"
             ],
             [
              0.5555555555555556,
              "#d8576b"
             ],
             [
              0.6666666666666666,
              "#ed7953"
             ],
             [
              0.7777777777777778,
              "#fb9f3a"
             ],
             [
              0.8888888888888888,
              "#fdca26"
             ],
             [
              1,
              "#f0f921"
             ]
            ],
            "type": "heatmap"
           }
          ],
          "heatmapgl": [
           {
            "colorbar": {
             "outlinewidth": 0,
             "ticks": ""
            },
            "colorscale": [
             [
              0,
              "#0d0887"
             ],
             [
              0.1111111111111111,
              "#46039f"
             ],
             [
              0.2222222222222222,
              "#7201a8"
             ],
             [
              0.3333333333333333,
              "#9c179e"
             ],
             [
              0.4444444444444444,
              "#bd3786"
             ],
             [
              0.5555555555555556,
              "#d8576b"
             ],
             [
              0.6666666666666666,
              "#ed7953"
             ],
             [
              0.7777777777777778,
              "#fb9f3a"
             ],
             [
              0.8888888888888888,
              "#fdca26"
             ],
             [
              1,
              "#f0f921"
             ]
            ],
            "type": "heatmapgl"
           }
          ],
          "histogram": [
           {
            "marker": {
             "pattern": {
              "fillmode": "overlay",
              "size": 10,
              "solidity": 0.2
             }
            },
            "type": "histogram"
           }
          ],
          "histogram2d": [
           {
            "colorbar": {
             "outlinewidth": 0,
             "ticks": ""
            },
            "colorscale": [
             [
              0,
              "#0d0887"
             ],
             [
              0.1111111111111111,
              "#46039f"
             ],
             [
              0.2222222222222222,
              "#7201a8"
             ],
             [
              0.3333333333333333,
              "#9c179e"
             ],
             [
              0.4444444444444444,
              "#bd3786"
             ],
             [
              0.5555555555555556,
              "#d8576b"
             ],
             [
              0.6666666666666666,
              "#ed7953"
             ],
             [
              0.7777777777777778,
              "#fb9f3a"
             ],
             [
              0.8888888888888888,
              "#fdca26"
             ],
             [
              1,
              "#f0f921"
             ]
            ],
            "type": "histogram2d"
           }
          ],
          "histogram2dcontour": [
           {
            "colorbar": {
             "outlinewidth": 0,
             "ticks": ""
            },
            "colorscale": [
             [
              0,
              "#0d0887"
             ],
             [
              0.1111111111111111,
              "#46039f"
             ],
             [
              0.2222222222222222,
              "#7201a8"
             ],
             [
              0.3333333333333333,
              "#9c179e"
             ],
             [
              0.4444444444444444,
              "#bd3786"
             ],
             [
              0.5555555555555556,
              "#d8576b"
             ],
             [
              0.6666666666666666,
              "#ed7953"
             ],
             [
              0.7777777777777778,
              "#fb9f3a"
             ],
             [
              0.8888888888888888,
              "#fdca26"
             ],
             [
              1,
              "#f0f921"
             ]
            ],
            "type": "histogram2dcontour"
           }
          ],
          "mesh3d": [
           {
            "colorbar": {
             "outlinewidth": 0,
             "ticks": ""
            },
            "type": "mesh3d"
           }
          ],
          "parcoords": [
           {
            "line": {
             "colorbar": {
              "outlinewidth": 0,
              "ticks": ""
             }
            },
            "type": "parcoords"
           }
          ],
          "pie": [
           {
            "automargin": true,
            "type": "pie"
           }
          ],
          "scatter": [
           {
            "fillpattern": {
             "fillmode": "overlay",
             "size": 10,
             "solidity": 0.2
            },
            "type": "scatter"
           }
          ],
          "scatter3d": [
           {
            "line": {
             "colorbar": {
              "outlinewidth": 0,
              "ticks": ""
             }
            },
            "marker": {
             "colorbar": {
              "outlinewidth": 0,
              "ticks": ""
             }
            },
            "type": "scatter3d"
           }
          ],
          "scattercarpet": [
           {
            "marker": {
             "colorbar": {
              "outlinewidth": 0,
              "ticks": ""
             }
            },
            "type": "scattercarpet"
           }
          ],
          "scattergeo": [
           {
            "marker": {
             "colorbar": {
              "outlinewidth": 0,
              "ticks": ""
             }
            },
            "type": "scattergeo"
           }
          ],
          "scattergl": [
           {
            "marker": {
             "colorbar": {
              "outlinewidth": 0,
              "ticks": ""
             }
            },
            "type": "scattergl"
           }
          ],
          "scattermapbox": [
           {
            "marker": {
             "colorbar": {
              "outlinewidth": 0,
              "ticks": ""
             }
            },
            "type": "scattermapbox"
           }
          ],
          "scatterpolar": [
           {
            "marker": {
             "colorbar": {
              "outlinewidth": 0,
              "ticks": ""
             }
            },
            "type": "scatterpolar"
           }
          ],
          "scatterpolargl": [
           {
            "marker": {
             "colorbar": {
              "outlinewidth": 0,
              "ticks": ""
             }
            },
            "type": "scatterpolargl"
           }
          ],
          "scatterternary": [
           {
            "marker": {
             "colorbar": {
              "outlinewidth": 0,
              "ticks": ""
             }
            },
            "type": "scatterternary"
           }
          ],
          "surface": [
           {
            "colorbar": {
             "outlinewidth": 0,
             "ticks": ""
            },
            "colorscale": [
             [
              0,
              "#0d0887"
             ],
             [
              0.1111111111111111,
              "#46039f"
             ],
             [
              0.2222222222222222,
              "#7201a8"
             ],
             [
              0.3333333333333333,
              "#9c179e"
             ],
             [
              0.4444444444444444,
              "#bd3786"
             ],
             [
              0.5555555555555556,
              "#d8576b"
             ],
             [
              0.6666666666666666,
              "#ed7953"
             ],
             [
              0.7777777777777778,
              "#fb9f3a"
             ],
             [
              0.8888888888888888,
              "#fdca26"
             ],
             [
              1,
              "#f0f921"
             ]
            ],
            "type": "surface"
           }
          ],
          "table": [
           {
            "cells": {
             "fill": {
              "color": "#EBF0F8"
             },
             "line": {
              "color": "white"
             }
            },
            "header": {
             "fill": {
              "color": "#C8D4E3"
             },
             "line": {
              "color": "white"
             }
            },
            "type": "table"
           }
          ]
         },
         "layout": {
          "annotationdefaults": {
           "arrowcolor": "#2a3f5f",
           "arrowhead": 0,
           "arrowwidth": 1
          },
          "autotypenumbers": "strict",
          "coloraxis": {
           "colorbar": {
            "outlinewidth": 0,
            "ticks": ""
           }
          },
          "colorscale": {
           "diverging": [
            [
             0,
             "#8e0152"
            ],
            [
             0.1,
             "#c51b7d"
            ],
            [
             0.2,
             "#de77ae"
            ],
            [
             0.3,
             "#f1b6da"
            ],
            [
             0.4,
             "#fde0ef"
            ],
            [
             0.5,
             "#f7f7f7"
            ],
            [
             0.6,
             "#e6f5d0"
            ],
            [
             0.7,
             "#b8e186"
            ],
            [
             0.8,
             "#7fbc41"
            ],
            [
             0.9,
             "#4d9221"
            ],
            [
             1,
             "#276419"
            ]
           ],
           "sequential": [
            [
             0,
             "#0d0887"
            ],
            [
             0.1111111111111111,
             "#46039f"
            ],
            [
             0.2222222222222222,
             "#7201a8"
            ],
            [
             0.3333333333333333,
             "#9c179e"
            ],
            [
             0.4444444444444444,
             "#bd3786"
            ],
            [
             0.5555555555555556,
             "#d8576b"
            ],
            [
             0.6666666666666666,
             "#ed7953"
            ],
            [
             0.7777777777777778,
             "#fb9f3a"
            ],
            [
             0.8888888888888888,
             "#fdca26"
            ],
            [
             1,
             "#f0f921"
            ]
           ],
           "sequentialminus": [
            [
             0,
             "#0d0887"
            ],
            [
             0.1111111111111111,
             "#46039f"
            ],
            [
             0.2222222222222222,
             "#7201a8"
            ],
            [
             0.3333333333333333,
             "#9c179e"
            ],
            [
             0.4444444444444444,
             "#bd3786"
            ],
            [
             0.5555555555555556,
             "#d8576b"
            ],
            [
             0.6666666666666666,
             "#ed7953"
            ],
            [
             0.7777777777777778,
             "#fb9f3a"
            ],
            [
             0.8888888888888888,
             "#fdca26"
            ],
            [
             1,
             "#f0f921"
            ]
           ]
          },
          "colorway": [
           "#636efa",
           "#EF553B",
           "#00cc96",
           "#ab63fa",
           "#FFA15A",
           "#19d3f3",
           "#FF6692",
           "#B6E880",
           "#FF97FF",
           "#FECB52"
          ],
          "font": {
           "color": "#2a3f5f"
          },
          "geo": {
           "bgcolor": "white",
           "lakecolor": "white",
           "landcolor": "#E5ECF6",
           "showlakes": true,
           "showland": true,
           "subunitcolor": "white"
          },
          "hoverlabel": {
           "align": "left"
          },
          "hovermode": "closest",
          "mapbox": {
           "style": "light"
          },
          "paper_bgcolor": "white",
          "plot_bgcolor": "#E5ECF6",
          "polar": {
           "angularaxis": {
            "gridcolor": "white",
            "linecolor": "white",
            "ticks": ""
           },
           "bgcolor": "#E5ECF6",
           "radialaxis": {
            "gridcolor": "white",
            "linecolor": "white",
            "ticks": ""
           }
          },
          "scene": {
           "xaxis": {
            "backgroundcolor": "#E5ECF6",
            "gridcolor": "white",
            "gridwidth": 2,
            "linecolor": "white",
            "showbackground": true,
            "ticks": "",
            "zerolinecolor": "white"
           },
           "yaxis": {
            "backgroundcolor": "#E5ECF6",
            "gridcolor": "white",
            "gridwidth": 2,
            "linecolor": "white",
            "showbackground": true,
            "ticks": "",
            "zerolinecolor": "white"
           },
           "zaxis": {
            "backgroundcolor": "#E5ECF6",
            "gridcolor": "white",
            "gridwidth": 2,
            "linecolor": "white",
            "showbackground": true,
            "ticks": "",
            "zerolinecolor": "white"
           }
          },
          "shapedefaults": {
           "line": {
            "color": "#2a3f5f"
           }
          },
          "ternary": {
           "aaxis": {
            "gridcolor": "white",
            "linecolor": "white",
            "ticks": ""
           },
           "baxis": {
            "gridcolor": "white",
            "linecolor": "white",
            "ticks": ""
           },
           "bgcolor": "#E5ECF6",
           "caxis": {
            "gridcolor": "white",
            "linecolor": "white",
            "ticks": ""
           }
          },
          "title": {
           "x": 0.05
          },
          "xaxis": {
           "automargin": true,
           "gridcolor": "white",
           "linecolor": "white",
           "ticks": "",
           "title": {
            "standoff": 15
           },
           "zerolinecolor": "white",
           "zerolinewidth": 2
          },
          "yaxis": {
           "automargin": true,
           "gridcolor": "white",
           "linecolor": "white",
           "ticks": "",
           "title": {
            "standoff": 15
           },
           "zerolinecolor": "white",
           "zerolinewidth": 2
          }
         }
        },
        "title": {
         "text": "Participants from each country (Top 40)"
        },
        "width": 400,
        "xaxis": {
         "title": {
          "text": "# participants"
         }
        },
        "yaxis": {
         "title": {
          "text": "Countries"
         }
        }
       }
      }
     },
     "metadata": {},
     "output_type": "display_data"
    }
   ],
   "source": [
    "import plotly.io as pio\n",
    "\n",
    "sorted_indices = sorted(range(len(plot_data['total_delegates'])), key=lambda i: plot_data['total_delegates'][i])\n",
    "sorted_categories = [plot_data['country_name'][i] for i in sorted_indices]\n",
    "sorted_values = [plot_data['total_delegates'][i] for i in sorted_indices]\n",
    "\n",
    "fig = go.Figure(data=[go.Bar(\n",
    "    y=sorted_categories,  # y-axis categories\n",
    "    x=sorted_values,      # x-axis values\n",
    "    orientation='h'  # horizontal orientation\n",
    ")])\n",
    "\n",
    "# Add title and labels\n",
    "fig.update_layout(\n",
    "    title='Participants from each country (Top 40)',\n",
    "    yaxis=dict(title='Countries'),\n",
    "    xaxis=dict(title='# participants'),\n",
    "    width=400,\n",
    "    height=800\n",
    ")\n",
    "\n",
    "# Show the chart\n",
    "#fig.write_image(\"participants_country.png\")\n",
    "fig.show()\n",
    "#pio.write_image(fig, \"participants_country.png\")\n"
   ]
  },
  {
   "cell_type": "markdown",
   "metadata": {},
   "source": [
    "### Checking if flight from origin to destination is in flight database"
   ]
  },
  {
   "cell_type": "code",
   "execution_count": 140,
   "metadata": {},
   "outputs": [],
   "source": [
    "destination_dubai = df[df['destination_airport'] == 'OMDB']\n",
    "# destination_dubai[destination_dubai['origin_airport'] == 'DNMM'] #[['origin_airport_name','destination_airport_name']]\n",
    "# destination_dubai['origin_airport'] = destination_dubai['origin_airport'].astype('str')#.dtypes\n",
    "# destination_dubai['origin_airport'].unique()\n"
   ]
  },
  {
   "cell_type": "code",
   "execution_count": 141,
   "metadata": {},
   "outputs": [
    {
     "data": {
      "text/plain": [
       "87"
      ]
     },
     "execution_count": 141,
     "metadata": {},
     "output_type": "execute_result"
    }
   ],
   "source": [
    "# # Alternative \n",
    "# def inner_merge_on_columns(df1, df2, column1, column2):\n",
    "#     merged_data = []\n",
    "#     for value1 in df1[column1]:\n",
    "#         for value2 in df2[column2]:\n",
    "#             if value1 == value2:\n",
    "#                 row1 = df1[df1[column1] == value1].iloc[0].to_dict()\n",
    "#                 row2 = df2[df2[column2] == value2].iloc[0].to_dict()\n",
    "#                 merged_data.append({**row1, **row2})\n",
    "#     return pd.DataFrame(merged_data)\n",
    "\n",
    "# merged_df = inner_merge_on_columns(airport_location,destination_dubai,\"icao\",\"origin_airport\")\n",
    "# merged_df['icao'].unique()\n",
    "\n",
    "\n",
    "# Merging airport origin with the existing flights from 2021\n",
    "merged_df = airport_location.merge(destination_dubai, left_on='icao', right_on='origin_airport', how='inner')\n",
    "test = merged_df['icao'].unique()\n",
    "test.size"
   ]
  },
  {
   "cell_type": "markdown",
   "metadata": {},
   "source": [
    "##### Select unique flights from origin to destination airport"
   ]
  },
  {
   "cell_type": "code",
   "execution_count": 142,
   "metadata": {},
   "outputs": [
    {
     "data": {
      "text/html": [
       "<div>\n",
       "<style scoped>\n",
       "    .dataframe tbody tr th:only-of-type {\n",
       "        vertical-align: middle;\n",
       "    }\n",
       "\n",
       "    .dataframe tbody tr th {\n",
       "        vertical-align: top;\n",
       "    }\n",
       "\n",
       "    .dataframe thead th {\n",
       "        text-align: right;\n",
       "    }\n",
       "</style>\n",
       "<table border=\"1\" class=\"dataframe\">\n",
       "  <thead>\n",
       "    <tr style=\"text-align: right;\">\n",
       "      <th></th>\n",
       "      <th>icao</th>\n",
       "      <th>total_delegates</th>\n",
       "      <th>country_code</th>\n",
       "      <th>origin_airport</th>\n",
       "      <th>destination_airport</th>\n",
       "      <th>distance_to_dubai</th>\n",
       "      <th>assumed_load_factor</th>\n",
       "      <th>aircraft_type_icao</th>\n",
       "      <th>total_fuel_burn</th>\n",
       "      <th>co2_kg</th>\n",
       "      <th>nox_kg</th>\n",
       "      <th>hc_kg</th>\n",
       "      <th>oc_kg</th>\n",
       "      <th>h2o_kg</th>\n",
       "      <th>so2_kg</th>\n",
       "      <th>sulphates_kg</th>\n",
       "    </tr>\n",
       "  </thead>\n",
       "  <tbody>\n",
       "    <tr>\n",
       "      <th>0</th>\n",
       "      <td>OMAA</td>\n",
       "      <td>4409</td>\n",
       "      <td>AE</td>\n",
       "      <td>OMAA</td>\n",
       "      <td>OMDB</td>\n",
       "      <td>115.950398</td>\n",
       "      <td>0.529896</td>\n",
       "      <td>DH8D</td>\n",
       "      <td>466.979806</td>\n",
       "      <td>1475.189208</td>\n",
       "      <td>7.070074</td>\n",
       "      <td>0.242829</td>\n",
       "      <td>0.009340</td>\n",
       "      <td>574.385162</td>\n",
       "      <td>0.560376</td>\n",
       "      <td>0.011436</td>\n",
       "    </tr>\n",
       "    <tr>\n",
       "      <th>1</th>\n",
       "      <td>SBGR</td>\n",
       "      <td>7598</td>\n",
       "      <td>BR</td>\n",
       "      <td>SBGR</td>\n",
       "      <td>OMDB</td>\n",
       "      <td>12218.280093</td>\n",
       "      <td>0.787394</td>\n",
       "      <td>B77W</td>\n",
       "      <td>117028.001705</td>\n",
       "      <td>369691.457386</td>\n",
       "      <td>2653.651550</td>\n",
       "      <td>11.064843</td>\n",
       "      <td>2.340560</td>\n",
       "      <td>143944.442097</td>\n",
       "      <td>140.433602</td>\n",
       "      <td>2.865992</td>\n",
       "    </tr>\n",
       "    <tr>\n",
       "      <th>2</th>\n",
       "      <td>ZBAA</td>\n",
       "      <td>3480</td>\n",
       "      <td>CN</td>\n",
       "      <td>ZBAA</td>\n",
       "      <td>OMDB</td>\n",
       "      <td>5856.254969</td>\n",
       "      <td>0.641342</td>\n",
       "      <td>B77L</td>\n",
       "      <td>52082.273957</td>\n",
       "      <td>164527.903430</td>\n",
       "      <td>961.016159</td>\n",
       "      <td>6.623664</td>\n",
       "      <td>1.041645</td>\n",
       "      <td>64061.196967</td>\n",
       "      <td>62.498729</td>\n",
       "      <td>1.275484</td>\n",
       "    </tr>\n",
       "    <tr>\n",
       "      <th>3</th>\n",
       "      <td>WIII</td>\n",
       "      <td>1229</td>\n",
       "      <td>ID</td>\n",
       "      <td>WIII</td>\n",
       "      <td>OMDB</td>\n",
       "      <td>6543.695620</td>\n",
       "      <td>0.637657</td>\n",
       "      <td>B77W</td>\n",
       "      <td>52290.480217</td>\n",
       "      <td>165185.627004</td>\n",
       "      <td>1076.737713</td>\n",
       "      <td>7.272460</td>\n",
       "      <td>1.045810</td>\n",
       "      <td>64317.290666</td>\n",
       "      <td>62.748576</td>\n",
       "      <td>1.280583</td>\n",
       "    </tr>\n",
       "    <tr>\n",
       "      <th>4</th>\n",
       "      <td>RJTT</td>\n",
       "      <td>2631</td>\n",
       "      <td>JP</td>\n",
       "      <td>RJTT</td>\n",
       "      <td>OMDB</td>\n",
       "      <td>7949.365154</td>\n",
       "      <td>0.645028</td>\n",
       "      <td>B77L</td>\n",
       "      <td>72779.497786</td>\n",
       "      <td>229910.433506</td>\n",
       "      <td>1418.160959</td>\n",
       "      <td>7.370945</td>\n",
       "      <td>1.455590</td>\n",
       "      <td>89518.782277</td>\n",
       "      <td>87.335397</td>\n",
       "      <td>1.782355</td>\n",
       "    </tr>\n",
       "    <tr>\n",
       "      <th>...</th>\n",
       "      <td>...</td>\n",
       "      <td>...</td>\n",
       "      <td>...</td>\n",
       "      <td>...</td>\n",
       "      <td>...</td>\n",
       "      <td>...</td>\n",
       "      <td>...</td>\n",
       "      <td>...</td>\n",
       "      <td>...</td>\n",
       "      <td>...</td>\n",
       "      <td>...</td>\n",
       "      <td>...</td>\n",
       "      <td>...</td>\n",
       "      <td>...</td>\n",
       "      <td>...</td>\n",
       "      <td>...</td>\n",
       "    </tr>\n",
       "    <tr>\n",
       "      <th>82</th>\n",
       "      <td>LATI</td>\n",
       "      <td>42</td>\n",
       "      <td>IR</td>\n",
       "      <td>LATI</td>\n",
       "      <td>OMDB</td>\n",
       "      <td>3734.448998</td>\n",
       "      <td>0.698774</td>\n",
       "      <td>B38M</td>\n",
       "      <td>8783.294863</td>\n",
       "      <td>27746.428472</td>\n",
       "      <td>131.278370</td>\n",
       "      <td>0.988350</td>\n",
       "      <td>0.175666</td>\n",
       "      <td>10803.452681</td>\n",
       "      <td>10.539954</td>\n",
       "      <td>0.215101</td>\n",
       "    </tr>\n",
       "    <tr>\n",
       "      <th>83</th>\n",
       "      <td>DAAG</td>\n",
       "      <td>33</td>\n",
       "      <td>DZ</td>\n",
       "      <td>DAAG</td>\n",
       "      <td>OMDB</td>\n",
       "      <td>5076.841504</td>\n",
       "      <td>0.614838</td>\n",
       "      <td>A332</td>\n",
       "      <td>31490.563146</td>\n",
       "      <td>99478.688977</td>\n",
       "      <td>440.796435</td>\n",
       "      <td>3.042108</td>\n",
       "      <td>0.629811</td>\n",
       "      <td>38733.392669</td>\n",
       "      <td>37.788676</td>\n",
       "      <td>0.771197</td>\n",
       "    </tr>\n",
       "    <tr>\n",
       "      <th>84</th>\n",
       "      <td>LFMN</td>\n",
       "      <td>28</td>\n",
       "      <td>FR</td>\n",
       "      <td>LFMN</td>\n",
       "      <td>OMDB</td>\n",
       "      <td>4790.372978</td>\n",
       "      <td>0.698774</td>\n",
       "      <td>B77W</td>\n",
       "      <td>38234.231550</td>\n",
       "      <td>120781.937466</td>\n",
       "      <td>769.844919</td>\n",
       "      <td>5.736055</td>\n",
       "      <td>0.764685</td>\n",
       "      <td>47028.104806</td>\n",
       "      <td>45.881078</td>\n",
       "      <td>0.936349</td>\n",
       "    </tr>\n",
       "    <tr>\n",
       "      <th>85</th>\n",
       "      <td>LDZA</td>\n",
       "      <td>27</td>\n",
       "      <td>HR</td>\n",
       "      <td>LDZA</td>\n",
       "      <td>OMDB</td>\n",
       "      <td>4166.712100</td>\n",
       "      <td>0.699784</td>\n",
       "      <td>B38M</td>\n",
       "      <td>9776.092429</td>\n",
       "      <td>30882.675983</td>\n",
       "      <td>160.201789</td>\n",
       "      <td>0.992341</td>\n",
       "      <td>0.195522</td>\n",
       "      <td>12024.593687</td>\n",
       "      <td>11.731311</td>\n",
       "      <td>0.239415</td>\n",
       "    </tr>\n",
       "    <tr>\n",
       "      <th>86</th>\n",
       "      <td>HHAS</td>\n",
       "      <td>7</td>\n",
       "      <td>ER</td>\n",
       "      <td>HHAS</td>\n",
       "      <td>OMDB</td>\n",
       "      <td>2039.020269</td>\n",
       "      <td>0.606955</td>\n",
       "      <td>B738</td>\n",
       "      <td>6400.667852</td>\n",
       "      <td>20219.709743</td>\n",
       "      <td>74.459191</td>\n",
       "      <td>0.782703</td>\n",
       "      <td>0.128013</td>\n",
       "      <td>7872.821458</td>\n",
       "      <td>7.680801</td>\n",
       "      <td>0.156751</td>\n",
       "    </tr>\n",
       "  </tbody>\n",
       "</table>\n",
       "<p>87 rows × 16 columns</p>\n",
       "</div>"
      ],
      "text/plain": [
       "    icao  total_delegates country_code origin_airport destination_airport  \\\n",
       "0   OMAA             4409           AE           OMAA                OMDB   \n",
       "1   SBGR             7598           BR           SBGR                OMDB   \n",
       "2   ZBAA             3480           CN           ZBAA                OMDB   \n",
       "3   WIII             1229           ID           WIII                OMDB   \n",
       "4   RJTT             2631           JP           RJTT                OMDB   \n",
       "..   ...              ...          ...            ...                 ...   \n",
       "82  LATI               42           IR           LATI                OMDB   \n",
       "83  DAAG               33           DZ           DAAG                OMDB   \n",
       "84  LFMN               28           FR           LFMN                OMDB   \n",
       "85  LDZA               27           HR           LDZA                OMDB   \n",
       "86  HHAS                7           ER           HHAS                OMDB   \n",
       "\n",
       "    distance_to_dubai  assumed_load_factor aircraft_type_icao  \\\n",
       "0          115.950398             0.529896               DH8D   \n",
       "1        12218.280093             0.787394               B77W   \n",
       "2         5856.254969             0.641342               B77L   \n",
       "3         6543.695620             0.637657               B77W   \n",
       "4         7949.365154             0.645028               B77L   \n",
       "..                ...                  ...                ...   \n",
       "82        3734.448998             0.698774               B38M   \n",
       "83        5076.841504             0.614838               A332   \n",
       "84        4790.372978             0.698774               B77W   \n",
       "85        4166.712100             0.699784               B38M   \n",
       "86        2039.020269             0.606955               B738   \n",
       "\n",
       "    total_fuel_burn         co2_kg       nox_kg      hc_kg     oc_kg  \\\n",
       "0        466.979806    1475.189208     7.070074   0.242829  0.009340   \n",
       "1     117028.001705  369691.457386  2653.651550  11.064843  2.340560   \n",
       "2      52082.273957  164527.903430   961.016159   6.623664  1.041645   \n",
       "3      52290.480217  165185.627004  1076.737713   7.272460  1.045810   \n",
       "4      72779.497786  229910.433506  1418.160959   7.370945  1.455590   \n",
       "..              ...            ...          ...        ...       ...   \n",
       "82      8783.294863   27746.428472   131.278370   0.988350  0.175666   \n",
       "83     31490.563146   99478.688977   440.796435   3.042108  0.629811   \n",
       "84     38234.231550  120781.937466   769.844919   5.736055  0.764685   \n",
       "85      9776.092429   30882.675983   160.201789   0.992341  0.195522   \n",
       "86      6400.667852   20219.709743    74.459191   0.782703  0.128013   \n",
       "\n",
       "           h2o_kg      so2_kg  sulphates_kg  \n",
       "0      574.385162    0.560376      0.011436  \n",
       "1   143944.442097  140.433602      2.865992  \n",
       "2    64061.196967   62.498729      1.275484  \n",
       "3    64317.290666   62.748576      1.280583  \n",
       "4    89518.782277   87.335397      1.782355  \n",
       "..            ...         ...           ...  \n",
       "82   10803.452681   10.539954      0.215101  \n",
       "83   38733.392669   37.788676      0.771197  \n",
       "84   47028.104806   45.881078      0.936349  \n",
       "85   12024.593687   11.731311      0.239415  \n",
       "86    7872.821458    7.680801      0.156751  \n",
       "\n",
       "[87 rows x 16 columns]"
      ]
     },
     "execution_count": 142,
     "metadata": {},
     "output_type": "execute_result"
    }
   ],
   "source": [
    "\n",
    "unique_flights_df = merged_df.drop_duplicates(subset=['icao'])\n",
    "unique_flights_df.reset_index(inplace=True)\n",
    "\n",
    "# Relevant columns\n",
    "unique_flights_df = unique_flights_df[['icao', 'total_delegates', 'country_code', 'origin_airport','destination_airport',\n",
    "       'distance_to_dubai', 'assumed_load_factor', 'aircraft_type_icao', 'total_fuel_burn','co2_kg', \n",
    "       'nox_kg','hc_kg', 'oc_kg', 'h2o_kg', 'so2_kg', 'sulphates_kg'\n",
    "       ]]\n",
    "unique_flights_df.to_excel('flights_without_transit.xlsx', index=False)\n",
    "unique_flights_df"
   ]
  },
  {
   "cell_type": "code",
   "execution_count": 147,
   "metadata": {},
   "outputs": [
    {
     "data": {
      "text/plain": [
       "array(['DH8D', 'B77W', 'B77L', 'A388', 'B738', 'B788', 'B38M', 'A359',\n",
       "       'A20N', 'A321', 'A310', 'A21N', 'B734', 'A320', 'B763', 'A332',\n",
       "       'B39M', 'A333', 'BCS3'], dtype=object)"
      ]
     },
     "execution_count": 147,
     "metadata": {},
     "output_type": "execute_result"
    }
   ],
   "source": [
    "unique_flights_df['aircraft_type_icao'].unique()"
   ]
  },
  {
   "cell_type": "markdown",
   "metadata": {},
   "source": [
    "Flights without direct flight to dubai"
   ]
  },
  {
   "cell_type": "code",
   "execution_count": 143,
   "metadata": {},
   "outputs": [
    {
     "data": {
      "text/html": [
       "<div>\n",
       "<style scoped>\n",
       "    .dataframe tbody tr th:only-of-type {\n",
       "        vertical-align: middle;\n",
       "    }\n",
       "\n",
       "    .dataframe tbody tr th {\n",
       "        vertical-align: top;\n",
       "    }\n",
       "\n",
       "    .dataframe thead th {\n",
       "        text-align: right;\n",
       "    }\n",
       "</style>\n",
       "<table border=\"1\" class=\"dataframe\">\n",
       "  <thead>\n",
       "    <tr style=\"text-align: right;\">\n",
       "      <th></th>\n",
       "      <th>iata</th>\n",
       "      <th>icao</th>\n",
       "      <th>total_delegates</th>\n",
       "      <th>country_code</th>\n",
       "      <th>airport</th>\n",
       "      <th>latitude</th>\n",
       "      <th>longitude</th>\n",
       "      <th>distance_to_dubai</th>\n",
       "      <th>existing_flight</th>\n",
       "    </tr>\n",
       "  </thead>\n",
       "  <tbody>\n",
       "    <tr>\n",
       "      <th>3</th>\n",
       "      <td>LOS</td>\n",
       "      <td>DNMM</td>\n",
       "      <td>1411</td>\n",
       "      <td>NG</td>\n",
       "      <td>Murtala Muhammed International Airport</td>\n",
       "      <td>6.57737</td>\n",
       "      <td>3.32116</td>\n",
       "      <td>5899.623220</td>\n",
       "      <td>False</td>\n",
       "    </tr>\n",
       "    <tr>\n",
       "      <th>8</th>\n",
       "      <td>RBA</td>\n",
       "      <td>GMME</td>\n",
       "      <td>823</td>\n",
       "      <td>MA</td>\n",
       "      <td>Rabat-Sale Airport</td>\n",
       "      <td>34.05150</td>\n",
       "      <td>-6.75152</td>\n",
       "      <td>6003.076078</td>\n",
       "      <td>False</td>\n",
       "    </tr>\n",
       "    <tr>\n",
       "      <th>13</th>\n",
       "      <td>YOW</td>\n",
       "      <td>CYOW</td>\n",
       "      <td>1830</td>\n",
       "      <td>CA</td>\n",
       "      <td>Ottawa Macdonald-Cartier International Airport</td>\n",
       "      <td>45.32250</td>\n",
       "      <td>-75.66920</td>\n",
       "      <td>10756.579780</td>\n",
       "      <td>False</td>\n",
       "    </tr>\n",
       "    <tr>\n",
       "      <th>20</th>\n",
       "      <td>FIH</td>\n",
       "      <td>FZAA</td>\n",
       "      <td>590</td>\n",
       "      <td>CD</td>\n",
       "      <td>N'djili Airport</td>\n",
       "      <td>-4.38575</td>\n",
       "      <td>15.44460</td>\n",
       "      <td>5418.061564</td>\n",
       "      <td>False</td>\n",
       "    </tr>\n",
       "    <tr>\n",
       "      <th>23</th>\n",
       "      <td>DKR</td>\n",
       "      <td>GOOY</td>\n",
       "      <td>560</td>\n",
       "      <td>SN</td>\n",
       "      <td>Leopold Sedar Senghor International Airport</td>\n",
       "      <td>14.73970</td>\n",
       "      <td>-17.49020</td>\n",
       "      <td>7628.024227</td>\n",
       "      <td>False</td>\n",
       "    </tr>\n",
       "    <tr>\n",
       "      <th>...</th>\n",
       "      <td>...</td>\n",
       "      <td>...</td>\n",
       "      <td>...</td>\n",
       "      <td>...</td>\n",
       "      <td>...</td>\n",
       "      <td>...</td>\n",
       "      <td>...</td>\n",
       "      <td>...</td>\n",
       "      <td>...</td>\n",
       "    </tr>\n",
       "    <tr>\n",
       "      <th>200</th>\n",
       "      <td>LEU</td>\n",
       "      <td>LESU</td>\n",
       "      <td>11</td>\n",
       "      <td>ES</td>\n",
       "      <td>La Seu d'Urgell Airport</td>\n",
       "      <td>42.33860</td>\n",
       "      <td>1.40917</td>\n",
       "      <td>5245.481469</td>\n",
       "      <td>False</td>\n",
       "    </tr>\n",
       "    <tr>\n",
       "      <th>201</th>\n",
       "      <td>LEU</td>\n",
       "      <td>LESU</td>\n",
       "      <td>11</td>\n",
       "      <td>ES</td>\n",
       "      <td>Andorra-La Seu Airport</td>\n",
       "      <td>42.33860</td>\n",
       "      <td>1.40917</td>\n",
       "      <td>5245.481469</td>\n",
       "      <td>False</td>\n",
       "    </tr>\n",
       "    <tr>\n",
       "      <th>203</th>\n",
       "      <td>KIV</td>\n",
       "      <td>LUKK</td>\n",
       "      <td>8</td>\n",
       "      <td>MD</td>\n",
       "      <td>Chisinau International Airport</td>\n",
       "      <td>46.92770</td>\n",
       "      <td>28.93100</td>\n",
       "      <td>3352.541593</td>\n",
       "      <td>False</td>\n",
       "    </tr>\n",
       "    <tr>\n",
       "      <th>205</th>\n",
       "      <td>MGA</td>\n",
       "      <td>MNMG</td>\n",
       "      <td>6</td>\n",
       "      <td>NI</td>\n",
       "      <td>Augusto C. Sandino International Airport</td>\n",
       "      <td>12.14150</td>\n",
       "      <td>-86.16820</td>\n",
       "      <td>14143.820362</td>\n",
       "      <td>False</td>\n",
       "    </tr>\n",
       "    <tr>\n",
       "      <th>206</th>\n",
       "      <td>FNJ</td>\n",
       "      <td>ZKPY</td>\n",
       "      <td>2</td>\n",
       "      <td>KP</td>\n",
       "      <td>Pyongyang Sunan International Airport</td>\n",
       "      <td>39.22410</td>\n",
       "      <td>125.67000</td>\n",
       "      <td>6640.198207</td>\n",
       "      <td>False</td>\n",
       "    </tr>\n",
       "  </tbody>\n",
       "</table>\n",
       "<p>114 rows × 9 columns</p>\n",
       "</div>"
      ],
      "text/plain": [
       "    iata  icao  total_delegates country_code  \\\n",
       "3    LOS  DNMM             1411           NG   \n",
       "8    RBA  GMME              823           MA   \n",
       "13   YOW  CYOW             1830           CA   \n",
       "20   FIH  FZAA              590           CD   \n",
       "23   DKR  GOOY              560           SN   \n",
       "..   ...   ...              ...          ...   \n",
       "200  LEU  LESU               11           ES   \n",
       "201  LEU  LESU               11           ES   \n",
       "203  KIV  LUKK                8           MD   \n",
       "205  MGA  MNMG                6           NI   \n",
       "206  FNJ  ZKPY                2           KP   \n",
       "\n",
       "                                            airport  latitude  longitude  \\\n",
       "3            Murtala Muhammed International Airport   6.57737    3.32116   \n",
       "8                                Rabat-Sale Airport  34.05150   -6.75152   \n",
       "13   Ottawa Macdonald-Cartier International Airport  45.32250  -75.66920   \n",
       "20                                  N'djili Airport  -4.38575   15.44460   \n",
       "23      Leopold Sedar Senghor International Airport  14.73970  -17.49020   \n",
       "..                                              ...       ...        ...   \n",
       "200                         La Seu d'Urgell Airport  42.33860    1.40917   \n",
       "201                          Andorra-La Seu Airport  42.33860    1.40917   \n",
       "203                  Chisinau International Airport  46.92770   28.93100   \n",
       "205        Augusto C. Sandino International Airport  12.14150  -86.16820   \n",
       "206           Pyongyang Sunan International Airport  39.22410  125.67000   \n",
       "\n",
       "     distance_to_dubai  existing_flight  \n",
       "3          5899.623220            False  \n",
       "8          6003.076078            False  \n",
       "13        10756.579780            False  \n",
       "20         5418.061564            False  \n",
       "23         7628.024227            False  \n",
       "..                 ...              ...  \n",
       "200        5245.481469            False  \n",
       "201        5245.481469            False  \n",
       "203        3352.541593            False  \n",
       "205       14143.820362            False  \n",
       "206        6640.198207            False  \n",
       "\n",
       "[114 rows x 9 columns]"
      ]
     },
     "execution_count": 143,
     "metadata": {},
     "output_type": "execute_result"
    }
   ],
   "source": [
    "# All origins who \n",
    "airport_location['existing_flight'] = airport_location['icao'].isin(merged_df['origin_airport'])\n",
    "airport_location[airport_location['existing_flight'] == False]"
   ]
  },
  {
   "cell_type": "code",
   "execution_count": 144,
   "metadata": {},
   "outputs": [],
   "source": [
    "export = airport_location[airport_location['existing_flight'] == False]\n",
    "export.to_excel('flights_with_transit_stop.xlsx', index=False)"
   ]
  },
  {
   "cell_type": "markdown",
   "metadata": {},
   "source": [
    "#### Heatmap"
   ]
  },
  {
   "cell_type": "code",
   "execution_count": 145,
   "metadata": {},
   "outputs": [
    {
     "data": {
      "text/html": [
       "<div>\n",
       "<style scoped>\n",
       "    .dataframe tbody tr th:only-of-type {\n",
       "        vertical-align: middle;\n",
       "    }\n",
       "\n",
       "    .dataframe tbody tr th {\n",
       "        vertical-align: top;\n",
       "    }\n",
       "\n",
       "    .dataframe thead th {\n",
       "        text-align: right;\n",
       "    }\n",
       "</style>\n",
       "<table border=\"1\" class=\"dataframe\">\n",
       "  <thead>\n",
       "    <tr style=\"text-align: right;\">\n",
       "      <th></th>\n",
       "      <th>iata</th>\n",
       "      <th>icao</th>\n",
       "      <th>total_delegates</th>\n",
       "      <th>country_code</th>\n",
       "      <th>airport</th>\n",
       "      <th>latitude</th>\n",
       "      <th>longitude</th>\n",
       "      <th>distance_to_dubai</th>\n",
       "      <th>existing_flight</th>\n",
       "    </tr>\n",
       "  </thead>\n",
       "  <tbody>\n",
       "    <tr>\n",
       "      <th>0</th>\n",
       "      <td>AUH</td>\n",
       "      <td>OMAA</td>\n",
       "      <td>4409</td>\n",
       "      <td>AE</td>\n",
       "      <td>Abu Dhabi International Airport</td>\n",
       "      <td>24.43300</td>\n",
       "      <td>54.65110</td>\n",
       "      <td>115.950398</td>\n",
       "      <td>True</td>\n",
       "    </tr>\n",
       "    <tr>\n",
       "      <th>1</th>\n",
       "      <td>GRU</td>\n",
       "      <td>SBGR</td>\n",
       "      <td>7598</td>\n",
       "      <td>BR</td>\n",
       "      <td>Sao Paulo/Guarulhos International Airport</td>\n",
       "      <td>-23.42620</td>\n",
       "      <td>-46.48000</td>\n",
       "      <td>12218.280093</td>\n",
       "      <td>True</td>\n",
       "    </tr>\n",
       "    <tr>\n",
       "      <th>2</th>\n",
       "      <td>PEK</td>\n",
       "      <td>ZBAA</td>\n",
       "      <td>3480</td>\n",
       "      <td>CN</td>\n",
       "      <td>Beijing Capital International Airport</td>\n",
       "      <td>40.07250</td>\n",
       "      <td>116.59800</td>\n",
       "      <td>5856.254969</td>\n",
       "      <td>True</td>\n",
       "    </tr>\n",
       "    <tr>\n",
       "      <th>3</th>\n",
       "      <td>LOS</td>\n",
       "      <td>DNMM</td>\n",
       "      <td>1411</td>\n",
       "      <td>NG</td>\n",
       "      <td>Murtala Muhammed International Airport</td>\n",
       "      <td>6.57737</td>\n",
       "      <td>3.32116</td>\n",
       "      <td>5899.623220</td>\n",
       "      <td>False</td>\n",
       "    </tr>\n",
       "    <tr>\n",
       "      <th>4</th>\n",
       "      <td>CGK</td>\n",
       "      <td>WIII</td>\n",
       "      <td>1229</td>\n",
       "      <td>ID</td>\n",
       "      <td>Soekarno–Hatta International Airport</td>\n",
       "      <td>-6.12556</td>\n",
       "      <td>106.65600</td>\n",
       "      <td>6543.695620</td>\n",
       "      <td>True</td>\n",
       "    </tr>\n",
       "    <tr>\n",
       "      <th>...</th>\n",
       "      <td>...</td>\n",
       "      <td>...</td>\n",
       "      <td>...</td>\n",
       "      <td>...</td>\n",
       "      <td>...</td>\n",
       "      <td>...</td>\n",
       "      <td>...</td>\n",
       "      <td>...</td>\n",
       "      <td>...</td>\n",
       "    </tr>\n",
       "    <tr>\n",
       "      <th>202</th>\n",
       "      <td>ZRH</td>\n",
       "      <td>LSZH</td>\n",
       "      <td>8</td>\n",
       "      <td>CH</td>\n",
       "      <td>Zurich Airport</td>\n",
       "      <td>47.46470</td>\n",
       "      <td>8.54917</td>\n",
       "      <td>4773.283197</td>\n",
       "      <td>True</td>\n",
       "    </tr>\n",
       "    <tr>\n",
       "      <th>203</th>\n",
       "      <td>KIV</td>\n",
       "      <td>LUKK</td>\n",
       "      <td>8</td>\n",
       "      <td>MD</td>\n",
       "      <td>Chisinau International Airport</td>\n",
       "      <td>46.92770</td>\n",
       "      <td>28.93100</td>\n",
       "      <td>3352.541593</td>\n",
       "      <td>False</td>\n",
       "    </tr>\n",
       "    <tr>\n",
       "      <th>204</th>\n",
       "      <td>ASM</td>\n",
       "      <td>HHAS</td>\n",
       "      <td>7</td>\n",
       "      <td>ER</td>\n",
       "      <td>Asmara International Airport</td>\n",
       "      <td>15.29190</td>\n",
       "      <td>38.91070</td>\n",
       "      <td>2039.020269</td>\n",
       "      <td>True</td>\n",
       "    </tr>\n",
       "    <tr>\n",
       "      <th>205</th>\n",
       "      <td>MGA</td>\n",
       "      <td>MNMG</td>\n",
       "      <td>6</td>\n",
       "      <td>NI</td>\n",
       "      <td>Augusto C. Sandino International Airport</td>\n",
       "      <td>12.14150</td>\n",
       "      <td>-86.16820</td>\n",
       "      <td>14143.820362</td>\n",
       "      <td>False</td>\n",
       "    </tr>\n",
       "    <tr>\n",
       "      <th>206</th>\n",
       "      <td>FNJ</td>\n",
       "      <td>ZKPY</td>\n",
       "      <td>2</td>\n",
       "      <td>KP</td>\n",
       "      <td>Pyongyang Sunan International Airport</td>\n",
       "      <td>39.22410</td>\n",
       "      <td>125.67000</td>\n",
       "      <td>6640.198207</td>\n",
       "      <td>False</td>\n",
       "    </tr>\n",
       "  </tbody>\n",
       "</table>\n",
       "<p>207 rows × 9 columns</p>\n",
       "</div>"
      ],
      "text/plain": [
       "    iata  icao  total_delegates country_code  \\\n",
       "0    AUH  OMAA             4409           AE   \n",
       "1    GRU  SBGR             7598           BR   \n",
       "2    PEK  ZBAA             3480           CN   \n",
       "3    LOS  DNMM             1411           NG   \n",
       "4    CGK  WIII             1229           ID   \n",
       "..   ...   ...              ...          ...   \n",
       "202  ZRH  LSZH                8           CH   \n",
       "203  KIV  LUKK                8           MD   \n",
       "204  ASM  HHAS                7           ER   \n",
       "205  MGA  MNMG                6           NI   \n",
       "206  FNJ  ZKPY                2           KP   \n",
       "\n",
       "                                       airport  latitude  longitude  \\\n",
       "0              Abu Dhabi International Airport  24.43300   54.65110   \n",
       "1    Sao Paulo/Guarulhos International Airport -23.42620  -46.48000   \n",
       "2        Beijing Capital International Airport  40.07250  116.59800   \n",
       "3       Murtala Muhammed International Airport   6.57737    3.32116   \n",
       "4         Soekarno–Hatta International Airport  -6.12556  106.65600   \n",
       "..                                         ...       ...        ...   \n",
       "202                             Zurich Airport  47.46470    8.54917   \n",
       "203             Chisinau International Airport  46.92770   28.93100   \n",
       "204               Asmara International Airport  15.29190   38.91070   \n",
       "205   Augusto C. Sandino International Airport  12.14150  -86.16820   \n",
       "206      Pyongyang Sunan International Airport  39.22410  125.67000   \n",
       "\n",
       "     distance_to_dubai  existing_flight  \n",
       "0           115.950398             True  \n",
       "1         12218.280093             True  \n",
       "2          5856.254969             True  \n",
       "3          5899.623220            False  \n",
       "4          6543.695620             True  \n",
       "..                 ...              ...  \n",
       "202        4773.283197             True  \n",
       "203        3352.541593            False  \n",
       "204        2039.020269             True  \n",
       "205       14143.820362            False  \n",
       "206        6640.198207            False  \n",
       "\n",
       "[207 rows x 9 columns]"
      ]
     },
     "execution_count": 145,
     "metadata": {},
     "output_type": "execute_result"
    }
   ],
   "source": [
    "airport_location"
   ]
  },
  {
   "cell_type": "code",
   "execution_count": 146,
   "metadata": {},
   "outputs": [
    {
     "data": {
      "application/vnd.plotly.v1+json": {
       "config": {
        "plotlyServerURL": "https://plot.ly"
       },
       "data": [
        {
         "lat": [
          24.433,
          -23.4262,
          40.0725,
          6.57737,
          -6.12556,
          35.5533,
          41.2753,
          28.5665,
          34.0515,
          49.0097,
          40.6397,
          -1.31924,
          -6.87811,
          45.3225,
          32.0114,
          2.74558,
          51.4775,
          37.4633,
          5.60519,
          0.042386,
          -4.38575,
          55.9728,
          30.1219,
          14.7397,
          12.1337,
          41.8003,
          52.3514,
          -15.3308,
          31.7226,
          33.2625,
          24.9578,
          -26.1392,
          -33.9461,
          51.0222,
          5.26139,
          50.9014,
          23.5933,
          4.70159,
          21.2212,
          2.01444,
          1.35019,
          14.5086,
          -17.9318,
          40.4675,
          -13.7894,
          -33.393,
          -33.3928,
          41.2579,
          6.35723,
          13.6811,
          -8.85837,
          37.9364,
          18.31,
          -4.2517,
          -4.25167,
          29.2266,
          8.97778,
          8.97789,
          55.6179,
          25.2731,
          59.6519,
          6.16561,
          40.4719,
          27.6966,
          60.3172,
          13.338,
          33.5607,
          42.6967,
          7.18076,
          -1.96863,
          36.851,
          36.8511,
          26.2708,
          52.3086,
          -22.4799,
          38.7813,
          9.57689,
          9.57689,
          12.3532,
          6.23379,
          -12.0219,
          -18.7969,
          8.61644,
          -24.5552,
          0.458611,
          0.4586,
          60.1939,
          50.9014,
          3.75527,
          50.4019,
          -34.5589,
          -3.32402,
          -25.9208,
          7.36731,
          33.8209,
          4.87201,
          3.83604,
          15.4763,
          15.4764,
          32.6635,
          52.1657,
          23.8433,
          59.4133,
          12.5335,
          41.8003,
          14.0609,
          14.0617,
          19.4363,
          53.4213,
          13.4815,
          -18.0433,
          -41.3272,
          43.0613,
          47.8431,
          -4.67434,
          38.5433,
          4.39848,
          -9.44338,
          -0.129167,
          48.1103,
          49.6233,
          18.4297,
          11.5466,
          22.9892,
          44.5711,
          27.4032,
          -11.5337,
          37.9868,
          -17.6993,
          -25.24,
          9.07136,
          14.5833,
          14.5817,
          63.985,
          40.1473,
          4.9442,
          32.0114,
          13.0746,
          47.4298,
          -21.2412,
          11.5473,
          25.039,
          35.6892,
          1.98616,
          4.19183,
          -8.5464,
          44.0203,
          50.1008,
          -26.529,
          41.6692,
          17.5391,
          -20.4302,
          46.2237,
          -9.428,
          -8.525,
          -13.83,
          47.4647,
          48.1702,
          53.8825,
          -29.4623,
          17.3112,
          17.3114,
          35.8575,
          -16.5133,
          43.8246,
          35.1547,
          15.5895,
          56.9236,
          44.8184,
          9.99386,
          46.9744,
          41.4147,
          18.58,
          18.58,
          17.9357,
          17.9883,
          17.1367,
          12.0042,
          54.6341,
          0.378175,
          14.0202,
          -34.8384,
          10.6012,
          36.691,
          10.6012,
          5.45283,
          15.547,
          24.0633,
          43.6584,
          41.9616,
          45.7429,
          14.9245,
          6.9851,
          -19.079,
          42.3594,
          -21.2027,
          -0.547458,
          6.49855,
          10.5954,
          13.1443,
          42.3386,
          42.3386,
          47.4647,
          46.9277,
          15.2919,
          12.1415,
          39.2241
         ],
         "locationmode": "USA-states",
         "lon": [
          54.6511,
          -46.48,
          116.598,
          3.32116,
          106.656,
          139.781,
          28.7519,
          77.1031,
          -6.75152,
          2.54778,
          -73.7789,
          36.9278,
          39.2026,
          -75.6692,
          34.8867,
          101.71,
          -0.461389,
          126.44,
          -0.166786,
          32.4435,
          15.4446,
          37.4147,
          31.4056,
          -17.4902,
          15.034,
          12.2389,
          13.4939,
          28.4526,
          35.9932,
          44.2346,
          46.6989,
          28.246,
          151.177,
          71.4669,
          -3.92629,
          4.48444,
          58.2844,
          -74.1469,
          105.807,
          45.3047,
          103.994,
          121.02,
          31.0928,
          50.0467,
          33.781,
          -70.7858,
          -70.7856,
          69.2812,
          2.38435,
          100.747,
          13.2312,
          23.9445,
          -15.9697,
          15.253,
          15.2531,
          47.9689,
          38.7994,
          38.7993,
          12.656,
          51.6081,
          17.9186,
          1.25451,
          -3.56264,
          85.3591,
          24.9633,
          -16.6522,
          72.8516,
          23.4114,
          79.8841,
          30.1395,
          10.2272,
          10.2272,
          50.6336,
          4.76389,
          17.4709,
          -9.13592,
          -13.612,
          -13.612,
          -1.51242,
          -10.3623,
          -77.1143,
          47.4788,
          -13.1955,
          25.9182,
          9.41222,
          9.41228,
          11.1004,
          4.48444,
          8.70872,
          30.4519,
          -58.4164,
          29.3185,
          32.5726,
          134.544,
          35.4884,
          31.6011,
          11.5235,
          44.2197,
          44.2197,
          13.159,
          20.9671,
          90.3978,
          24.8328,
          -7.94994,
          12.2389,
          -87.2172,
          -87.2169,
          -99.0721,
          -6.27007,
          2.18361,
          178.559,
          174.805,
          74.4776,
          106.767,
          55.5218,
          68.825,
          18.5188,
          147.22,
          -78.3575,
          16.5697,
          6.20444,
          -69.6689,
          104.844,
          -82.4091,
          26.085,
          89.4246,
          43.2719,
          58.361,
          168.32,
          -57.52,
          -79.3835,
          -90.5275,
          -90.5267,
          -22.6056,
          44.3959,
          114.928,
          34.8867,
          -59.4925,
          19.2611,
          -175.15,
          43.1595,
          -77.4662,
          51.3134,
          -157.35,
          73.5291,
          125.526,
          12.6117,
          14.26,
          31.3075,
          44.9547,
          -88.3082,
          57.6836,
          14.4576,
          160.055,
          179.196,
          -172.008,
          8.54917,
          17.2127,
          28.0307,
          27.5525,
          -62.7187,
          -62.7186,
          14.4775,
          -68.1923,
          18.3315,
          33.4961,
          32.5532,
          23.9711,
          20.3091,
          -84.2088,
          8.39694,
          19.7206,
          -72.2925,
          -72.2925,
          -76.7875,
          102.563,
          -61.7927,
          -61.7862,
          25.2858,
          6.71215,
          -60.9929,
          -56.0308,
          -66.9912,
          3.21541,
          -66.9912,
          -55.1878,
          -61.3,
          -74.524,
          7.21587,
          21.6214,
          16.0688,
          -23.4935,
          158.209,
          -169.926,
          19.2519,
          -159.806,
          166.919,
          -58.2541,
          -61.3372,
          -61.2109,
          1.40917,
          1.40917,
          8.54917,
          28.931,
          38.9107,
          -86.1682,
          125.67
         ],
         "marker": {
          "line": {
           "width": 0.5
          },
          "size": [
           44.09,
           75.98,
           34.8,
           14.11,
           12.29,
           26.31,
           25.77,
           23.38,
           8.23,
           19.73,
           18.99,
           7.65,
           7.63,
           18.3,
           17.71,
           7,
           17.19,
           16.99,
           6.18,
           6.06,
           5.9,
           14.55,
           5.65,
           5.6,
           5.54,
           13.14,
           11.54,
           4.45,
           4.44,
           4.42,
           4.26,
           10.11,
           9.96,
           4.03,
           4.01,
           9.77,
           3.8,
           9.32,
           3.77,
           3.66,
           3.6,
           3.42,
           3.37,
           3.12,
           3.05,
           7.42,
           7.42,
           2.98,
           2.97,
           2.93,
           2.9,
           7.1,
           2.85,
           2.84,
           2.84,
           2.83,
           2.75,
           2.75,
           6.68,
           2.64,
           6.26,
           2.5,
           6.07,
           2.41,
           5.87,
           2.38,
           2.38,
           2.34,
           2.34,
           2.23,
           2.21,
           2.21,
           2.18,
           5.28,
           2.12,
           5.2,
           2.08,
           2.08,
           2.06,
           1.97,
           1.95,
           1.89,
           1.89,
           1.86,
           1.86,
           1.86,
           4.51,
           4.46,
           1.8,
           1.8,
           1.79,
           1.72,
           1.71,
           1.62,
           1.6,
           1.58,
           1.56,
           1.53,
           1.53,
           1.5,
           3.67,
           1.48,
           3.63,
           1.46,
           1.42,
           1.39,
           1.39,
           3.38,
           3.33,
           1.35,
           1.34,
           3.3,
           1.33,
           1.33,
           1.33,
           1.3,
           1.29,
           1.26,
           1.24,
           3.01,
           2.84,
           1.14,
           1.12,
           1.1,
           1.1,
           1.05,
           1.05,
           1,
           0.99,
           0.98,
           0.92,
           0.91,
           0.91,
           2.24,
           0.84,
           0.84,
           0.81,
           0.8,
           1.95,
           0.79,
           0.78,
           0.74,
           0.73,
           0.71,
           0.69,
           0.69,
           0.65,
           1.5,
           0.61,
           0.6,
           0.58,
           0.56,
           1.38,
           0.56,
           0.54,
           0.53,
           1.31,
           1.28,
           0.48,
           0.48,
           0.48,
           0.48,
           0.47,
           0.46,
           0.46,
           0.46,
           0.46,
           1.11,
           0.45,
           1.09,
           0.43,
           0.42,
           0.42,
           0.42,
           0.41,
           0.4,
           0.39,
           0.39,
           0.96,
           0.39,
           0.37,
           0.34,
           0.34,
           0.33,
           0.31,
           0.3,
           0.29,
           0.28,
           0.28,
           0.28,
           0.27,
           0.26,
           0.26,
           0.24,
           0.22,
           0.21,
           0.21,
           0.2,
           0.2,
           0.15,
           0.11,
           0.11,
           0.08,
           0.08,
           0.07,
           0.06,
           0.02
          ]
         },
         "mode": "markers",
         "type": "scattergeo"
        }
       ],
       "layout": {
        "geo": {
         "landcolor": "rgb(217, 217, 217)",
         "projection": {
          "type": "mercator"
         },
         "scope": "world",
         "showframe": false,
         "showland": true
        },
        "height": 800,
        "template": {
         "data": {
          "bar": [
           {
            "error_x": {
             "color": "#2a3f5f"
            },
            "error_y": {
             "color": "#2a3f5f"
            },
            "marker": {
             "line": {
              "color": "#E5ECF6",
              "width": 0.5
             },
             "pattern": {
              "fillmode": "overlay",
              "size": 10,
              "solidity": 0.2
             }
            },
            "type": "bar"
           }
          ],
          "barpolar": [
           {
            "marker": {
             "line": {
              "color": "#E5ECF6",
              "width": 0.5
             },
             "pattern": {
              "fillmode": "overlay",
              "size": 10,
              "solidity": 0.2
             }
            },
            "type": "barpolar"
           }
          ],
          "carpet": [
           {
            "aaxis": {
             "endlinecolor": "#2a3f5f",
             "gridcolor": "white",
             "linecolor": "white",
             "minorgridcolor": "white",
             "startlinecolor": "#2a3f5f"
            },
            "baxis": {
             "endlinecolor": "#2a3f5f",
             "gridcolor": "white",
             "linecolor": "white",
             "minorgridcolor": "white",
             "startlinecolor": "#2a3f5f"
            },
            "type": "carpet"
           }
          ],
          "choropleth": [
           {
            "colorbar": {
             "outlinewidth": 0,
             "ticks": ""
            },
            "type": "choropleth"
           }
          ],
          "contour": [
           {
            "colorbar": {
             "outlinewidth": 0,
             "ticks": ""
            },
            "colorscale": [
             [
              0,
              "#0d0887"
             ],
             [
              0.1111111111111111,
              "#46039f"
             ],
             [
              0.2222222222222222,
              "#7201a8"
             ],
             [
              0.3333333333333333,
              "#9c179e"
             ],
             [
              0.4444444444444444,
              "#bd3786"
             ],
             [
              0.5555555555555556,
              "#d8576b"
             ],
             [
              0.6666666666666666,
              "#ed7953"
             ],
             [
              0.7777777777777778,
              "#fb9f3a"
             ],
             [
              0.8888888888888888,
              "#fdca26"
             ],
             [
              1,
              "#f0f921"
             ]
            ],
            "type": "contour"
           }
          ],
          "contourcarpet": [
           {
            "colorbar": {
             "outlinewidth": 0,
             "ticks": ""
            },
            "type": "contourcarpet"
           }
          ],
          "heatmap": [
           {
            "colorbar": {
             "outlinewidth": 0,
             "ticks": ""
            },
            "colorscale": [
             [
              0,
              "#0d0887"
             ],
             [
              0.1111111111111111,
              "#46039f"
             ],
             [
              0.2222222222222222,
              "#7201a8"
             ],
             [
              0.3333333333333333,
              "#9c179e"
             ],
             [
              0.4444444444444444,
              "#bd3786"
             ],
             [
              0.5555555555555556,
              "#d8576b"
             ],
             [
              0.6666666666666666,
              "#ed7953"
             ],
             [
              0.7777777777777778,
              "#fb9f3a"
             ],
             [
              0.8888888888888888,
              "#fdca26"
             ],
             [
              1,
              "#f0f921"
             ]
            ],
            "type": "heatmap"
           }
          ],
          "heatmapgl": [
           {
            "colorbar": {
             "outlinewidth": 0,
             "ticks": ""
            },
            "colorscale": [
             [
              0,
              "#0d0887"
             ],
             [
              0.1111111111111111,
              "#46039f"
             ],
             [
              0.2222222222222222,
              "#7201a8"
             ],
             [
              0.3333333333333333,
              "#9c179e"
             ],
             [
              0.4444444444444444,
              "#bd3786"
             ],
             [
              0.5555555555555556,
              "#d8576b"
             ],
             [
              0.6666666666666666,
              "#ed7953"
             ],
             [
              0.7777777777777778,
              "#fb9f3a"
             ],
             [
              0.8888888888888888,
              "#fdca26"
             ],
             [
              1,
              "#f0f921"
             ]
            ],
            "type": "heatmapgl"
           }
          ],
          "histogram": [
           {
            "marker": {
             "pattern": {
              "fillmode": "overlay",
              "size": 10,
              "solidity": 0.2
             }
            },
            "type": "histogram"
           }
          ],
          "histogram2d": [
           {
            "colorbar": {
             "outlinewidth": 0,
             "ticks": ""
            },
            "colorscale": [
             [
              0,
              "#0d0887"
             ],
             [
              0.1111111111111111,
              "#46039f"
             ],
             [
              0.2222222222222222,
              "#7201a8"
             ],
             [
              0.3333333333333333,
              "#9c179e"
             ],
             [
              0.4444444444444444,
              "#bd3786"
             ],
             [
              0.5555555555555556,
              "#d8576b"
             ],
             [
              0.6666666666666666,
              "#ed7953"
             ],
             [
              0.7777777777777778,
              "#fb9f3a"
             ],
             [
              0.8888888888888888,
              "#fdca26"
             ],
             [
              1,
              "#f0f921"
             ]
            ],
            "type": "histogram2d"
           }
          ],
          "histogram2dcontour": [
           {
            "colorbar": {
             "outlinewidth": 0,
             "ticks": ""
            },
            "colorscale": [
             [
              0,
              "#0d0887"
             ],
             [
              0.1111111111111111,
              "#46039f"
             ],
             [
              0.2222222222222222,
              "#7201a8"
             ],
             [
              0.3333333333333333,
              "#9c179e"
             ],
             [
              0.4444444444444444,
              "#bd3786"
             ],
             [
              0.5555555555555556,
              "#d8576b"
             ],
             [
              0.6666666666666666,
              "#ed7953"
             ],
             [
              0.7777777777777778,
              "#fb9f3a"
             ],
             [
              0.8888888888888888,
              "#fdca26"
             ],
             [
              1,
              "#f0f921"
             ]
            ],
            "type": "histogram2dcontour"
           }
          ],
          "mesh3d": [
           {
            "colorbar": {
             "outlinewidth": 0,
             "ticks": ""
            },
            "type": "mesh3d"
           }
          ],
          "parcoords": [
           {
            "line": {
             "colorbar": {
              "outlinewidth": 0,
              "ticks": ""
             }
            },
            "type": "parcoords"
           }
          ],
          "pie": [
           {
            "automargin": true,
            "type": "pie"
           }
          ],
          "scatter": [
           {
            "fillpattern": {
             "fillmode": "overlay",
             "size": 10,
             "solidity": 0.2
            },
            "type": "scatter"
           }
          ],
          "scatter3d": [
           {
            "line": {
             "colorbar": {
              "outlinewidth": 0,
              "ticks": ""
             }
            },
            "marker": {
             "colorbar": {
              "outlinewidth": 0,
              "ticks": ""
             }
            },
            "type": "scatter3d"
           }
          ],
          "scattercarpet": [
           {
            "marker": {
             "colorbar": {
              "outlinewidth": 0,
              "ticks": ""
             }
            },
            "type": "scattercarpet"
           }
          ],
          "scattergeo": [
           {
            "marker": {
             "colorbar": {
              "outlinewidth": 0,
              "ticks": ""
             }
            },
            "type": "scattergeo"
           }
          ],
          "scattergl": [
           {
            "marker": {
             "colorbar": {
              "outlinewidth": 0,
              "ticks": ""
             }
            },
            "type": "scattergl"
           }
          ],
          "scattermapbox": [
           {
            "marker": {
             "colorbar": {
              "outlinewidth": 0,
              "ticks": ""
             }
            },
            "type": "scattermapbox"
           }
          ],
          "scatterpolar": [
           {
            "marker": {
             "colorbar": {
              "outlinewidth": 0,
              "ticks": ""
             }
            },
            "type": "scatterpolar"
           }
          ],
          "scatterpolargl": [
           {
            "marker": {
             "colorbar": {
              "outlinewidth": 0,
              "ticks": ""
             }
            },
            "type": "scatterpolargl"
           }
          ],
          "scatterternary": [
           {
            "marker": {
             "colorbar": {
              "outlinewidth": 0,
              "ticks": ""
             }
            },
            "type": "scatterternary"
           }
          ],
          "surface": [
           {
            "colorbar": {
             "outlinewidth": 0,
             "ticks": ""
            },
            "colorscale": [
             [
              0,
              "#0d0887"
             ],
             [
              0.1111111111111111,
              "#46039f"
             ],
             [
              0.2222222222222222,
              "#7201a8"
             ],
             [
              0.3333333333333333,
              "#9c179e"
             ],
             [
              0.4444444444444444,
              "#bd3786"
             ],
             [
              0.5555555555555556,
              "#d8576b"
             ],
             [
              0.6666666666666666,
              "#ed7953"
             ],
             [
              0.7777777777777778,
              "#fb9f3a"
             ],
             [
              0.8888888888888888,
              "#fdca26"
             ],
             [
              1,
              "#f0f921"
             ]
            ],
            "type": "surface"
           }
          ],
          "table": [
           {
            "cells": {
             "fill": {
              "color": "#EBF0F8"
             },
             "line": {
              "color": "white"
             }
            },
            "header": {
             "fill": {
              "color": "#C8D4E3"
             },
             "line": {
              "color": "white"
             }
            },
            "type": "table"
           }
          ]
         },
         "layout": {
          "annotationdefaults": {
           "arrowcolor": "#2a3f5f",
           "arrowhead": 0,
           "arrowwidth": 1
          },
          "autotypenumbers": "strict",
          "coloraxis": {
           "colorbar": {
            "outlinewidth": 0,
            "ticks": ""
           }
          },
          "colorscale": {
           "diverging": [
            [
             0,
             "#8e0152"
            ],
            [
             0.1,
             "#c51b7d"
            ],
            [
             0.2,
             "#de77ae"
            ],
            [
             0.3,
             "#f1b6da"
            ],
            [
             0.4,
             "#fde0ef"
            ],
            [
             0.5,
             "#f7f7f7"
            ],
            [
             0.6,
             "#e6f5d0"
            ],
            [
             0.7,
             "#b8e186"
            ],
            [
             0.8,
             "#7fbc41"
            ],
            [
             0.9,
             "#4d9221"
            ],
            [
             1,
             "#276419"
            ]
           ],
           "sequential": [
            [
             0,
             "#0d0887"
            ],
            [
             0.1111111111111111,
             "#46039f"
            ],
            [
             0.2222222222222222,
             "#7201a8"
            ],
            [
             0.3333333333333333,
             "#9c179e"
            ],
            [
             0.4444444444444444,
             "#bd3786"
            ],
            [
             0.5555555555555556,
             "#d8576b"
            ],
            [
             0.6666666666666666,
             "#ed7953"
            ],
            [
             0.7777777777777778,
             "#fb9f3a"
            ],
            [
             0.8888888888888888,
             "#fdca26"
            ],
            [
             1,
             "#f0f921"
            ]
           ],
           "sequentialminus": [
            [
             0,
             "#0d0887"
            ],
            [
             0.1111111111111111,
             "#46039f"
            ],
            [
             0.2222222222222222,
             "#7201a8"
            ],
            [
             0.3333333333333333,
             "#9c179e"
            ],
            [
             0.4444444444444444,
             "#bd3786"
            ],
            [
             0.5555555555555556,
             "#d8576b"
            ],
            [
             0.6666666666666666,
             "#ed7953"
            ],
            [
             0.7777777777777778,
             "#fb9f3a"
            ],
            [
             0.8888888888888888,
             "#fdca26"
            ],
            [
             1,
             "#f0f921"
            ]
           ]
          },
          "colorway": [
           "#636efa",
           "#EF553B",
           "#00cc96",
           "#ab63fa",
           "#FFA15A",
           "#19d3f3",
           "#FF6692",
           "#B6E880",
           "#FF97FF",
           "#FECB52"
          ],
          "font": {
           "color": "#2a3f5f"
          },
          "geo": {
           "bgcolor": "white",
           "lakecolor": "white",
           "landcolor": "#E5ECF6",
           "showlakes": true,
           "showland": true,
           "subunitcolor": "white"
          },
          "hoverlabel": {
           "align": "left"
          },
          "hovermode": "closest",
          "mapbox": {
           "style": "light"
          },
          "paper_bgcolor": "white",
          "plot_bgcolor": "#E5ECF6",
          "polar": {
           "angularaxis": {
            "gridcolor": "white",
            "linecolor": "white",
            "ticks": ""
           },
           "bgcolor": "#E5ECF6",
           "radialaxis": {
            "gridcolor": "white",
            "linecolor": "white",
            "ticks": ""
           }
          },
          "scene": {
           "xaxis": {
            "backgroundcolor": "#E5ECF6",
            "gridcolor": "white",
            "gridwidth": 2,
            "linecolor": "white",
            "showbackground": true,
            "ticks": "",
            "zerolinecolor": "white"
           },
           "yaxis": {
            "backgroundcolor": "#E5ECF6",
            "gridcolor": "white",
            "gridwidth": 2,
            "linecolor": "white",
            "showbackground": true,
            "ticks": "",
            "zerolinecolor": "white"
           },
           "zaxis": {
            "backgroundcolor": "#E5ECF6",
            "gridcolor": "white",
            "gridwidth": 2,
            "linecolor": "white",
            "showbackground": true,
            "ticks": "",
            "zerolinecolor": "white"
           }
          },
          "shapedefaults": {
           "line": {
            "color": "#2a3f5f"
           }
          },
          "ternary": {
           "aaxis": {
            "gridcolor": "white",
            "linecolor": "white",
            "ticks": ""
           },
           "baxis": {
            "gridcolor": "white",
            "linecolor": "white",
            "ticks": ""
           },
           "bgcolor": "#E5ECF6",
           "caxis": {
            "gridcolor": "white",
            "linecolor": "white",
            "ticks": ""
           }
          },
          "title": {
           "x": 0.05
          },
          "xaxis": {
           "automargin": true,
           "gridcolor": "white",
           "linecolor": "white",
           "ticks": "",
           "title": {
            "standoff": 15
           },
           "zerolinecolor": "white",
           "zerolinewidth": 2
          },
          "yaxis": {
           "automargin": true,
           "gridcolor": "white",
           "linecolor": "white",
           "ticks": "",
           "title": {
            "standoff": 15
           },
           "zerolinecolor": "white",
           "zerolinewidth": 2
          }
         }
        },
        "title": {
         "text": "Global Heatmap with Locations and Size Factor"
        }
       }
      }
     },
     "metadata": {},
     "output_type": "display_data"
    }
   ],
   "source": [
    "scatter_geo = go.Scattergeo(\n",
    "    locationmode='USA-states',  # Set location mode\n",
    "    lon=airport_location['longitude'],\n",
    "    lat=airport_location['latitude'],\n",
    "    # text=airport_location[''],\n",
    "    mode='markers',\n",
    "    marker=dict(\n",
    "        size=airport_location['total_delegates']/100,\n",
    "        # #color=airport_location['total_delegates']/100,\n",
    "        # colorscale='Viridis',  # Choose a color scale\n",
    "        # colorbar=dict(title='Values'),  # Add color bar\n",
    "        line_width=0.5\n",
    "    )\n",
    ")\n",
    "\n",
    "# Create the layout for the figure\n",
    "layout = go.Layout(\n",
    "    title='Global Heatmap with Locations and Size Factor',\n",
    "    geo=dict(\n",
    "        scope='world',\n",
    "        showland=True,\n",
    "        landcolor='rgb(217, 217, 217)',  # Set the color of land areas\n",
    "        showframe=False,  # Hide the frame\n",
    "        projection_type='mercator'  # Choose projection type\n",
    "    ),\n",
    "    height=800,  # Increase the height of the plot\n",
    ")\n",
    "\n",
    "# Create the figure object\n",
    "fig = go.Figure(data=[scatter_geo], layout=layout)\n",
    "\n",
    "# Show the figure\n",
    "fig.show()"
   ]
  },
  {
   "cell_type": "code",
   "execution_count": 122,
   "metadata": {},
   "outputs": [],
   "source": [
    "import folium\n",
    "\n",
    "# Sample data\n",
    "locations = airport_location['country_code']\n",
    "latitudes = airport_location['latitude']\n",
    "longitudes = airport_location['longitude']\n",
    "sizes = airport_location['total_delegates']/10\n",
    "#values = [20, 30, 25, 40]  # Values for the color scale\n",
    "\n",
    "# Initialize the map centered around the first location\n",
    "mymap = folium.Map()\n",
    "\n",
    "# Iterate over locations\n",
    "for lat, lon, size, location in zip(latitudes, longitudes, sizes, locations):\n",
    "    # Add circle marker with varying sizes\n",
    "    folium.CircleMarker(\n",
    "        location=[lat, lon],\n",
    "        radius=size / 10,  # Normalize size for better visualization\n",
    "        color='blue',\n",
    "        fill=True,\n",
    "        fill_color='blue',\n",
    "        fill_opacity=0.6,\n",
    "        popup=location\n",
    "    ).add_to(mymap)\n",
    "\n",
    "# Save the map to an HTML file\n",
    "mymap.save(\"map_with_circles.html\")"
   ]
  },
  {
   "cell_type": "code",
   "execution_count": 69,
   "metadata": {},
   "outputs": [
    {
     "data": {
      "text/html": [
       "<div style=\"width:100%;\"><div style=\"position:relative;width:100%;height:0;padding-bottom:60%;\"><span style=\"color:#565656\">Make this Notebook Trusted to load map: File -> Trust Notebook</span><iframe srcdoc=\"&lt;!DOCTYPE html&gt;\n",
       "&lt;html&gt;\n",
       "&lt;head&gt;\n",
       "    \n",
       "    &lt;meta http-equiv=&quot;content-type&quot; content=&quot;text/html; charset=UTF-8&quot; /&gt;\n",
       "    \n",
       "        &lt;script&gt;\n",
       "            L_NO_TOUCH = false;\n",
       "            L_DISABLE_3D = false;\n",
       "        &lt;/script&gt;\n",
       "    \n",
       "    &lt;style&gt;html, body {width: 100%;height: 100%;margin: 0;padding: 0;}&lt;/style&gt;\n",
       "    &lt;style&gt;#map {position:absolute;top:0;bottom:0;right:0;left:0;}&lt;/style&gt;\n",
       "    &lt;script src=&quot;https://cdn.jsdelivr.net/npm/leaflet@1.9.3/dist/leaflet.js&quot;&gt;&lt;/script&gt;\n",
       "    &lt;script src=&quot;https://code.jquery.com/jquery-3.7.1.min.js&quot;&gt;&lt;/script&gt;\n",
       "    &lt;script src=&quot;https://cdn.jsdelivr.net/npm/bootstrap@5.2.2/dist/js/bootstrap.bundle.min.js&quot;&gt;&lt;/script&gt;\n",
       "    &lt;script src=&quot;https://cdnjs.cloudflare.com/ajax/libs/Leaflet.awesome-markers/2.0.2/leaflet.awesome-markers.js&quot;&gt;&lt;/script&gt;\n",
       "    &lt;link rel=&quot;stylesheet&quot; href=&quot;https://cdn.jsdelivr.net/npm/leaflet@1.9.3/dist/leaflet.css&quot;/&gt;\n",
       "    &lt;link rel=&quot;stylesheet&quot; href=&quot;https://cdn.jsdelivr.net/npm/bootstrap@5.2.2/dist/css/bootstrap.min.css&quot;/&gt;\n",
       "    &lt;link rel=&quot;stylesheet&quot; href=&quot;https://netdna.bootstrapcdn.com/bootstrap/3.0.0/css/bootstrap.min.css&quot;/&gt;\n",
       "    &lt;link rel=&quot;stylesheet&quot; href=&quot;https://cdn.jsdelivr.net/npm/@fortawesome/fontawesome-free@6.2.0/css/all.min.css&quot;/&gt;\n",
       "    &lt;link rel=&quot;stylesheet&quot; href=&quot;https://cdnjs.cloudflare.com/ajax/libs/Leaflet.awesome-markers/2.0.2/leaflet.awesome-markers.css&quot;/&gt;\n",
       "    &lt;link rel=&quot;stylesheet&quot; href=&quot;https://cdn.jsdelivr.net/gh/python-visualization/folium/folium/templates/leaflet.awesome.rotate.min.css&quot;/&gt;\n",
       "    \n",
       "            &lt;meta name=&quot;viewport&quot; content=&quot;width=device-width,\n",
       "                initial-scale=1.0, maximum-scale=1.0, user-scalable=no&quot; /&gt;\n",
       "            &lt;style&gt;\n",
       "                #map_e67870eeba37a668086e4603536a3400 {\n",
       "                    position: relative;\n",
       "                    width: 100.0%;\n",
       "                    height: 100.0%;\n",
       "                    left: 0.0%;\n",
       "                    top: 0.0%;\n",
       "                }\n",
       "                .leaflet-container { font-size: 1rem; }\n",
       "            &lt;/style&gt;\n",
       "        \n",
       "    &lt;script src=&quot;https://cdnjs.cloudflare.com/ajax/libs/leaflet.markercluster/1.1.0/leaflet.markercluster.js&quot;&gt;&lt;/script&gt;\n",
       "    &lt;link rel=&quot;stylesheet&quot; href=&quot;https://cdnjs.cloudflare.com/ajax/libs/leaflet.markercluster/1.1.0/MarkerCluster.css&quot;/&gt;\n",
       "    &lt;link rel=&quot;stylesheet&quot; href=&quot;https://cdnjs.cloudflare.com/ajax/libs/leaflet.markercluster/1.1.0/MarkerCluster.Default.css&quot;/&gt;\n",
       "    &lt;script src=&quot;https://cdn.jsdelivr.net/gh/python-visualization/folium@main/folium/templates/leaflet_heat.min.js&quot;&gt;&lt;/script&gt;\n",
       "&lt;/head&gt;\n",
       "&lt;body&gt;\n",
       "    \n",
       "    \n",
       "            &lt;div class=&quot;folium-map&quot; id=&quot;map_e67870eeba37a668086e4603536a3400&quot; &gt;&lt;/div&gt;\n",
       "        \n",
       "&lt;/body&gt;\n",
       "&lt;script&gt;\n",
       "    \n",
       "    \n",
       "            var map_e67870eeba37a668086e4603536a3400 = L.map(\n",
       "                &quot;map_e67870eeba37a668086e4603536a3400&quot;,\n",
       "                {\n",
       "                    center: [0.0, 0.0],\n",
       "                    crs: L.CRS.EPSG3857,\n",
       "                    zoom: 1,\n",
       "                    zoomControl: true,\n",
       "                    preferCanvas: false,\n",
       "                }\n",
       "            );\n",
       "\n",
       "            \n",
       "\n",
       "        \n",
       "    \n",
       "            var tile_layer_716237ce0904003b37b853e1fa19affe = L.tileLayer(\n",
       "                &quot;https://tile.openstreetmap.org/{z}/{x}/{y}.png&quot;,\n",
       "                {&quot;attribution&quot;: &quot;\\u0026copy; \\u003ca href=\\&quot;https://www.openstreetmap.org/copyright\\&quot;\\u003eOpenStreetMap\\u003c/a\\u003e contributors&quot;, &quot;detectRetina&quot;: false, &quot;maxNativeZoom&quot;: 19, &quot;maxZoom&quot;: 19, &quot;minZoom&quot;: 0, &quot;noWrap&quot;: false, &quot;opacity&quot;: 1, &quot;subdomains&quot;: &quot;abc&quot;, &quot;tms&quot;: false}\n",
       "            );\n",
       "        \n",
       "    \n",
       "            tile_layer_716237ce0904003b37b853e1fa19affe.addTo(map_e67870eeba37a668086e4603536a3400);\n",
       "        \n",
       "    \n",
       "            var fast_marker_cluster_9a00396f071d2acf928a34c8713f9f2a = (function(){\n",
       "                \n",
       "                var callback = function (row) {\n",
       "                    var icon = L.AwesomeMarkers.icon();\n",
       "                    var marker = L.marker(new L.LatLng(row[0], row[1]));\n",
       "                    marker.setIcon(icon);\n",
       "                    return marker;\n",
       "                };\n",
       "\n",
       "                var data = [[24.433, 54.6511], [-23.4262, -46.48], [40.0725, 116.598], [6.57737, 3.32116], [-6.12556, 106.656], [35.5533, 139.781], [41.2753, 28.7519], [28.5665, 77.1031], [34.0515, -6.75152], [49.0097, 2.54778], [40.6397, -73.7789], [-1.31924, 36.9278], [-6.87811, 39.2026], [45.3225, -75.6692], [32.0114, 34.8867], [2.74558, 101.71], [51.4775, -0.461389], [37.4633, 126.44], [5.60519, -0.166786], [0.042386, 32.4435], [-4.38575, 15.4446], [55.9728, 37.4147], [30.1219, 31.4056], [14.7397, -17.4902], [12.1337, 15.034], [41.8003, 12.2389], [52.3514, 13.4939], [-15.3308, 28.4526], [31.7226, 35.9932], [33.2625, 44.2346], [24.9578, 46.6989], [-26.1392, 28.246], [-33.9461, 151.177], [51.0222, 71.4669], [5.26139, -3.92629], [50.9014, 4.48444], [23.5933, 58.2844], [4.70159, -74.1469], [21.2212, 105.807], [2.01444, 45.3047], [1.35019, 103.994], [14.5086, 121.02], [-17.9318, 31.0928], [40.4675, 50.0467], [-13.7894, 33.781], [-33.393, -70.7858], [-33.3928, -70.7856], [41.2579, 69.2812], [6.35723, 2.38435], [13.6811, 100.747], [-8.85837, 13.2312], [37.9364, 23.9445], [18.31, -15.9697], [-4.2517, 15.253], [-4.25167, 15.2531], [29.2266, 47.9689], [8.97778, 38.7994], [8.97789, 38.7993], [55.6179, 12.656], [25.2731, 51.6081], [59.6519, 17.9186], [6.16561, 1.25451], [40.4719, -3.56264], [27.6966, 85.3591], [60.3172, 24.9633], [13.338, -16.6522], [33.5607, 72.8516], [42.6967, 23.4114], [7.18076, 79.8841], [-1.96863, 30.1395], [36.851, 10.2272], [36.8511, 10.2272], [26.2708, 50.6336], [52.3086, 4.76389], [-22.4799, 17.4709], [38.7813, -9.13592], [9.57689, -13.612], [9.57689, -13.612], [12.3532, -1.51242], [6.23379, -10.3623], [-12.0219, -77.1143], [-18.7969, 47.4788], [8.61644, -13.1955], [-24.5552, 25.9182], [0.458611, 9.41222], [0.4586, 9.41228], [60.1939, 11.1004], [50.9014, 4.48444], [3.75527, 8.70872], [50.4019, 30.4519], [-34.5589, -58.4164], [-3.32402, 29.3185], [-25.9208, 32.5726], [7.36731, 134.544], [33.8209, 35.4884], [4.87201, 31.6011], [3.83604, 11.5235], [15.4763, 44.2197], [15.4764, 44.2197], [32.6635, 13.159], [52.1657, 20.9671], [23.8433, 90.3978], [59.4133, 24.8328], [12.5335, -7.94994], [41.8003, 12.2389], [14.0609, -87.2172], [14.0617, -87.2169], [19.4363, -99.0721], [53.4213, -6.27007], [13.4815, 2.18361], [-18.0433, 178.559], [-41.3272, 174.805], [43.0613, 74.4776], [47.8431, 106.767], [-4.67434, 55.5218], [38.5433, 68.825], [4.39848, 18.5188], [-9.44338, 147.22], [-0.129167, -78.3575], [48.1103, 16.5697], [49.6233, 6.20444], [18.4297, -69.6689], [11.5466, 104.844], [22.9892, -82.4091], [44.5711, 26.085], [27.4032, 89.4246], [-11.5337, 43.2719], [37.9868, 58.361], [-17.6993, 168.32], [-25.24, -57.52], [9.07136, -79.3835], [14.5833, -90.5275], [14.5817, -90.5267], [63.985, -22.6056], [40.1473, 44.3959], [4.9442, 114.928], [32.0114, 34.8867], [13.0746, -59.4925], [47.4298, 19.2611], [-21.2412, -175.15], [11.5473, 43.1595], [25.039, -77.4662], [35.6892, 51.3134], [1.98616, -157.35], [4.19183, 73.5291], [-8.5464, 125.526], [44.0203, 12.6117], [50.1008, 14.26], [-26.529, 31.3075], [41.6692, 44.9547], [17.5391, -88.3082], [-20.4302, 57.6836], [46.2237, 14.4576], [-9.428, 160.055], [-8.525, 179.196], [-13.83, -172.008], [47.4647, 8.54917], [48.1702, 17.2127], [53.8825, 28.0307], [-29.4623, 27.5525], [17.3112, -62.7187], [17.3114, -62.7186], [35.8575, 14.4775], [-16.5133, -68.1923], [43.8246, 18.3315], [35.1547, 33.4961], [15.5895, 32.5532], [56.9236, 23.9711], [44.8184, 20.3091], [9.99386, -84.2088], [46.9744, 8.39694], [41.4147, 19.7206], [18.58, -72.2925], [18.58, -72.2925], [17.9357, -76.7875], [17.9883, 102.563], [17.1367, -61.7927], [12.0042, -61.7862], [54.6341, 25.2858], [0.378175, 6.71215], [14.0202, -60.9929], [-34.8384, -56.0308], [10.6012, -66.9912], [36.691, 3.21541], [10.6012, -66.9912], [5.45283, -55.1878], [15.547, -61.3], [24.0633, -74.524], [43.6584, 7.21587], [41.9616, 21.6214], [45.7429, 16.0688], [14.9245, -23.4935], [6.9851, 158.209], [-19.079, -169.926], [42.3594, 19.2519], [-21.2027, -159.806], [-0.547458, 166.919], [6.49855, -58.2541], [10.5954, -61.3372], [13.1443, -61.2109], [42.3386, 1.40917], [42.3386, 1.40917], [47.4647, 8.54917], [46.9277, 28.931], [15.2919, 38.9107], [12.1415, -86.1682], [39.2241, 125.67]];\n",
       "                var cluster = L.markerClusterGroup({});\n",
       "\n",
       "                for (var i = 0; i &lt; data.length; i++) {\n",
       "                    var row = data[i];\n",
       "                    var marker = callback(row);\n",
       "                    marker.addTo(cluster);\n",
       "                }\n",
       "\n",
       "                cluster.addTo(map_e67870eeba37a668086e4603536a3400);\n",
       "                return cluster;\n",
       "            })();\n",
       "        \n",
       "    \n",
       "            fast_marker_cluster_9a00396f071d2acf928a34c8713f9f2a.addTo(map_e67870eeba37a668086e4603536a3400);\n",
       "        \n",
       "    \n",
       "            var heat_map_44aa48a694c3643fac00e77d07744fbd = L.heatLayer(\n",
       "                [[24.433, 54.6511, 4409.0], [-23.4262, -46.48, 3081.0], [40.0725, 116.598, 1411.0], [6.57737, 3.32116, 1411.0], [-6.12556, 106.656, 1229.0], [35.5533, 139.781, 1067.0], [41.2753, 28.7519, 1045.0], [28.5665, 77.1031, 948.0], [34.0515, -6.75152, 823.0], [49.0097, 2.54778, 800.0], [40.6397, -73.7789, 770.0], [-1.31924, 36.9278, 765.0], [-6.87811, 39.2026, 763.0], [45.3225, -75.6692, 742.0], [32.0114, 34.8867, 718.0], [2.74558, 101.71, 700.0], [51.4775, -0.461389, 697.0], [37.4633, 126.44, 689.0], [5.60519, -0.166786, 618.0], [0.042386, 32.4435, 606.0], [-4.38575, 15.4446, 590.0], [55.9728, 37.4147, 590.0], [30.1219, 31.4056, 565.0], [14.7397, -17.4902, 560.0], [12.1337, 15.034, 554.0], [41.8003, 12.2389, 533.0], [52.3514, 13.4939, 468.0], [-15.3308, 28.4526, 445.0], [31.7226, 35.9932, 444.0], [33.2625, 44.2346, 442.0], [24.9578, 46.6989, 426.0], [-26.1392, 28.246, 410.0], [-33.9461, 151.177, 404.0], [51.0222, 71.4669, 403.0], [5.26139, -3.92629, 401.0], [50.9014, 4.48444, 396.0], [23.5933, 58.2844, 380.0], [4.70159, -74.1469, 378.0], [21.2212, 105.807, 377.0], [2.01444, 45.3047, 366.0], [1.35019, 103.994, 360.0], [14.5086, 121.02, 342.0], [-17.9318, 31.0928, 337.0], [40.4675, 50.0467, 312.0], [-13.7894, 33.781, 305.0], [-33.393, -70.7858, 301.0], [-33.3928, -70.7856, 301.0], [41.2579, 69.2812, 298.0], [6.35723, 2.38435, 297.0], [13.6811, 100.747, 293.0], [-8.85837, 13.2312, 290.0], [37.9364, 23.9445, 288.0], [18.31, -15.9697, 285.0], [-4.2517, 15.253, 284.0], [-4.25167, 15.2531, 284.0], [29.2266, 47.9689, 283.0], [8.97778, 38.7994, 275.0], [8.97789, 38.7993, 275.0], [55.6179, 12.656, 271.0], [25.2731, 51.6081, 264.0], [59.6519, 17.9186, 254.0], [6.16561, 1.25451, 250.0], [40.4719, -3.56264, 246.0], [27.6966, 85.3591, 241.0], [60.3172, 24.9633, 238.0], [13.338, -16.6522, 238.0], [33.5607, 72.8516, 238.0], [42.6967, 23.4114, 234.0], [7.18076, 79.8841, 234.0], [-1.96863, 30.1395, 223.0], [36.851, 10.2272, 221.0], [36.8511, 10.2272, 221.0], [26.2708, 50.6336, 218.0], [52.3086, 4.76389, 214.0], [-22.4799, 17.4709, 212.0], [38.7813, -9.13592, 211.0], [9.57689, -13.612, 208.0], [9.57689, -13.612, 208.0], [12.3532, -1.51242, 206.0], [6.23379, -10.3623, 197.0], [-12.0219, -77.1143, 195.0], [-18.7969, 47.4788, 189.0], [8.61644, -13.1955, 189.0], [-24.5552, 25.9182, 186.0], [0.458611, 9.41222, 186.0], [0.4586, 9.41228, 186.0], [60.1939, 11.1004, 183.0], [50.9014, 4.48444, 181.0], [3.75527, 8.70872, 180.0], [50.4019, 30.4519, 180.0], [-34.5589, -58.4164, 179.0], [-3.32402, 29.3185, 172.0], [-25.9208, 32.5726, 171.0], [7.36731, 134.544, 162.0], [33.8209, 35.4884, 160.0], [4.87201, 31.6011, 158.0], [3.83604, 11.5235, 156.0], [15.4763, 44.2197, 153.0], [15.4764, 44.2197, 153.0], [32.6635, 13.159, 150.0], [52.1657, 20.9671, 149.0], [23.8433, 90.3978, 148.0], [59.4133, 24.8328, 147.0], [12.5335, -7.94994, 146.0], [41.8003, 12.2389, 142.0], [14.0609, -87.2172, 139.0], [14.0617, -87.2169, 139.0], [19.4363, -99.0721, 137.0], [53.4213, -6.27007, 135.0], [13.4815, 2.18361, 135.0], [-18.0433, 178.559, 134.0], [-41.3272, 174.805, 134.0], [43.0613, 74.4776, 133.0], [47.8431, 106.767, 133.0], [-4.67434, 55.5218, 133.0], [38.5433, 68.825, 130.0], [4.39848, 18.5188, 129.0], [-9.44338, 147.22, 126.0], [-0.129167, -78.3575, 124.0], [48.1103, 16.5697, 122.0], [49.6233, 6.20444, 115.0], [18.4297, -69.6689, 114.0], [11.5466, 104.844, 112.0], [22.9892, -82.4091, 110.0], [44.5711, 26.085, 110.0], [27.4032, 89.4246, 105.0], [-11.5337, 43.2719, 105.0], [37.9868, 58.361, 100.0], [-17.6993, 168.32, 99.0], [-25.24, -57.52, 98.0], [9.07136, -79.3835, 92.0], [14.5833, -90.5275, 91.0], [14.5817, -90.5267, 91.0], [63.985, -22.6056, 91.0], [40.1473, 44.3959, 84.0], [4.9442, 114.928, 84.0], [32.0114, 34.8867, 81.0], [13.0746, -59.4925, 80.0], [47.4298, 19.2611, 79.0], [-21.2412, -175.15, 79.0], [11.5473, 43.1595, 78.0], [25.039, -77.4662, 74.0], [35.6892, 51.3134, 73.0], [1.98616, -157.35, 71.0], [4.19183, 73.5291, 69.0], [-8.5464, 125.526, 69.0], [44.0203, 12.6117, 65.0], [50.1008, 14.26, 61.0], [-26.529, 31.3075, 61.0], [41.6692, 44.9547, 60.0], [17.5391, -88.3082, 58.0], [-20.4302, 57.6836, 56.0], [46.2237, 14.4576, 56.0], [-9.428, 160.055, 56.0], [-8.525, 179.196, 54.0], [-13.83, -172.008, 53.0], [47.4647, 8.54917, 53.0], [48.1702, 17.2127, 52.0], [53.8825, 28.0307, 48.0], [-29.4623, 27.5525, 48.0], [17.3112, -62.7187, 48.0], [17.3114, -62.7186, 48.0], [35.8575, 14.4775, 47.0], [-16.5133, -68.1923, 46.0], [43.8246, 18.3315, 46.0], [35.1547, 33.4961, 46.0], [15.5895, 32.5532, 46.0], [56.9236, 23.9711, 45.0], [44.8184, 20.3091, 45.0], [9.99386, -84.2088, 44.0], [46.9744, 8.39694, 43.0], [41.4147, 19.7206, 42.0], [18.58, -72.2925, 42.0], [18.58, -72.2925, 42.0], [17.9357, -76.7875, 41.0], [17.9883, 102.563, 40.0], [17.1367, -61.7927, 39.0], [12.0042, -61.7862, 39.0], [54.6341, 25.2858, 39.0], [0.378175, 6.71215, 39.0], [14.0202, -60.9929, 37.0], [-34.8384, -56.0308, 34.0], [10.6012, -66.9912, 34.0], [36.691, 3.21541, 33.0], [10.6012, -66.9912, 31.0], [5.45283, -55.1878, 30.0], [15.547, -61.3, 29.0], [24.0633, -74.524, 28.0], [43.6584, 7.21587, 28.0], [41.9616, 21.6214, 28.0], [45.7429, 16.0688, 27.0], [14.9245, -23.4935, 26.0], [6.9851, 158.209, 26.0], [-19.079, -169.926, 24.0], [42.3594, 19.2519, 22.0], [-21.2027, -159.806, 21.0], [-0.547458, 166.919, 21.0], [6.49855, -58.2541, 20.0], [10.5954, -61.3372, 20.0], [13.1443, -61.2109, 15.0], [42.3386, 1.40917, 11.0], [42.3386, 1.40917, 11.0], [47.4647, 8.54917, 8.0], [46.9277, 28.931, 8.0], [15.2919, 38.9107, 7.0], [12.1415, -86.1682, 6.0], [39.2241, 125.67, 2.0]],\n",
       "                {&quot;blur&quot;: 15, &quot;maxZoom&quot;: 18, &quot;minOpacity&quot;: 0.5, &quot;radius&quot;: 25}\n",
       "            );\n",
       "        \n",
       "    \n",
       "            heat_map_44aa48a694c3643fac00e77d07744fbd.addTo(map_e67870eeba37a668086e4603536a3400);\n",
       "        \n",
       "&lt;/script&gt;\n",
       "&lt;/html&gt;\" style=\"position:absolute;width:100%;height:100%;left:0;top:0;border:none !important;\" allowfullscreen webkitallowfullscreen mozallowfullscreen></iframe></div></div>"
      ],
      "text/plain": [
       "<folium.folium.Map at 0x1ec1a8884d0>"
      ]
     },
     "execution_count": 69,
     "metadata": {},
     "output_type": "execute_result"
    }
   ],
   "source": [
    "import folium\n",
    "from folium.plugins import FastMarkerCluster\n",
    "from folium.plugins import HeatMap\n",
    "\n",
    "basemap = folium.Map()\n",
    "FastMarkerCluster(airport_location[['latitude', 'longitude']]).add_to(basemap)\n",
    "HeatMap(airport_location[['latitude', 'longitude','total_delegates']],\n",
    "        ).add_to(basemap)\n",
    "basemap"
   ]
  },
  {
   "cell_type": "code",
   "execution_count": 70,
   "metadata": {},
   "outputs": [
    {
     "name": "stderr",
     "output_type": "stream",
     "text": [
      "C:\\Users\\lukas\\AppData\\Local\\Temp\\ipykernel_32200\\3193186839.py:3: UserWarning:\n",
      "\n",
      "The `max_val` parameter is no longer necessary. The largest intensity is calculated automatically.\n",
      "\n"
     ]
    },
    {
     "data": {
      "text/html": [
       "<div style=\"width:100%;\"><div style=\"position:relative;width:100%;height:0;padding-bottom:60%;\"><span style=\"color:#565656\">Make this Notebook Trusted to load map: File -> Trust Notebook</span><iframe srcdoc=\"&lt;!DOCTYPE html&gt;\n",
       "&lt;html&gt;\n",
       "&lt;head&gt;\n",
       "    \n",
       "    &lt;meta http-equiv=&quot;content-type&quot; content=&quot;text/html; charset=UTF-8&quot; /&gt;\n",
       "    \n",
       "        &lt;script&gt;\n",
       "            L_NO_TOUCH = false;\n",
       "            L_DISABLE_3D = false;\n",
       "        &lt;/script&gt;\n",
       "    \n",
       "    &lt;style&gt;html, body {width: 100%;height: 100%;margin: 0;padding: 0;}&lt;/style&gt;\n",
       "    &lt;style&gt;#map {position:absolute;top:0;bottom:0;right:0;left:0;}&lt;/style&gt;\n",
       "    &lt;script src=&quot;https://cdn.jsdelivr.net/npm/leaflet@1.9.3/dist/leaflet.js&quot;&gt;&lt;/script&gt;\n",
       "    &lt;script src=&quot;https://code.jquery.com/jquery-3.7.1.min.js&quot;&gt;&lt;/script&gt;\n",
       "    &lt;script src=&quot;https://cdn.jsdelivr.net/npm/bootstrap@5.2.2/dist/js/bootstrap.bundle.min.js&quot;&gt;&lt;/script&gt;\n",
       "    &lt;script src=&quot;https://cdnjs.cloudflare.com/ajax/libs/Leaflet.awesome-markers/2.0.2/leaflet.awesome-markers.js&quot;&gt;&lt;/script&gt;\n",
       "    &lt;link rel=&quot;stylesheet&quot; href=&quot;https://cdn.jsdelivr.net/npm/leaflet@1.9.3/dist/leaflet.css&quot;/&gt;\n",
       "    &lt;link rel=&quot;stylesheet&quot; href=&quot;https://cdn.jsdelivr.net/npm/bootstrap@5.2.2/dist/css/bootstrap.min.css&quot;/&gt;\n",
       "    &lt;link rel=&quot;stylesheet&quot; href=&quot;https://netdna.bootstrapcdn.com/bootstrap/3.0.0/css/bootstrap.min.css&quot;/&gt;\n",
       "    &lt;link rel=&quot;stylesheet&quot; href=&quot;https://cdn.jsdelivr.net/npm/@fortawesome/fontawesome-free@6.2.0/css/all.min.css&quot;/&gt;\n",
       "    &lt;link rel=&quot;stylesheet&quot; href=&quot;https://cdnjs.cloudflare.com/ajax/libs/Leaflet.awesome-markers/2.0.2/leaflet.awesome-markers.css&quot;/&gt;\n",
       "    &lt;link rel=&quot;stylesheet&quot; href=&quot;https://cdn.jsdelivr.net/gh/python-visualization/folium/folium/templates/leaflet.awesome.rotate.min.css&quot;/&gt;\n",
       "    \n",
       "            &lt;meta name=&quot;viewport&quot; content=&quot;width=device-width,\n",
       "                initial-scale=1.0, maximum-scale=1.0, user-scalable=no&quot; /&gt;\n",
       "            &lt;style&gt;\n",
       "                #map_b880022b5d8840053077f85eb8565a7d {\n",
       "                    position: relative;\n",
       "                    width: 100.0%;\n",
       "                    height: 100.0%;\n",
       "                    left: 0.0%;\n",
       "                    top: 0.0%;\n",
       "                }\n",
       "                .leaflet-container { font-size: 1rem; }\n",
       "            &lt;/style&gt;\n",
       "        \n",
       "    &lt;script src=&quot;https://cdnjs.cloudflare.com/ajax/libs/leaflet.markercluster/1.1.0/leaflet.markercluster.js&quot;&gt;&lt;/script&gt;\n",
       "    &lt;link rel=&quot;stylesheet&quot; href=&quot;https://cdnjs.cloudflare.com/ajax/libs/leaflet.markercluster/1.1.0/MarkerCluster.css&quot;/&gt;\n",
       "    &lt;link rel=&quot;stylesheet&quot; href=&quot;https://cdnjs.cloudflare.com/ajax/libs/leaflet.markercluster/1.1.0/MarkerCluster.Default.css&quot;/&gt;\n",
       "    &lt;script src=&quot;https://cdn.jsdelivr.net/gh/python-visualization/folium@main/folium/templates/leaflet_heat.min.js&quot;&gt;&lt;/script&gt;\n",
       "&lt;/head&gt;\n",
       "&lt;body&gt;\n",
       "    \n",
       "    \n",
       "            &lt;div class=&quot;folium-map&quot; id=&quot;map_b880022b5d8840053077f85eb8565a7d&quot; &gt;&lt;/div&gt;\n",
       "        \n",
       "&lt;/body&gt;\n",
       "&lt;script&gt;\n",
       "    \n",
       "    \n",
       "            var map_b880022b5d8840053077f85eb8565a7d = L.map(\n",
       "                &quot;map_b880022b5d8840053077f85eb8565a7d&quot;,\n",
       "                {\n",
       "                    center: [0.0, 0.0],\n",
       "                    crs: L.CRS.EPSG3857,\n",
       "                    zoom: 1,\n",
       "                    zoomControl: true,\n",
       "                    preferCanvas: false,\n",
       "                }\n",
       "            );\n",
       "\n",
       "            \n",
       "\n",
       "        \n",
       "    \n",
       "            var tile_layer_e8e379de6aa58b693fb57f799fb30edb = L.tileLayer(\n",
       "                &quot;https://tile.openstreetmap.org/{z}/{x}/{y}.png&quot;,\n",
       "                {&quot;attribution&quot;: &quot;\\u0026copy; \\u003ca href=\\&quot;https://www.openstreetmap.org/copyright\\&quot;\\u003eOpenStreetMap\\u003c/a\\u003e contributors&quot;, &quot;detectRetina&quot;: false, &quot;maxNativeZoom&quot;: 19, &quot;maxZoom&quot;: 19, &quot;minZoom&quot;: 0, &quot;noWrap&quot;: false, &quot;opacity&quot;: 1, &quot;subdomains&quot;: &quot;abc&quot;, &quot;tms&quot;: false}\n",
       "            );\n",
       "        \n",
       "    \n",
       "            tile_layer_e8e379de6aa58b693fb57f799fb30edb.addTo(map_b880022b5d8840053077f85eb8565a7d);\n",
       "        \n",
       "    \n",
       "            var fast_marker_cluster_0e9081562670435d8b652449d8bfa3eb = (function(){\n",
       "                \n",
       "                var callback = function (row) {\n",
       "                    var icon = L.AwesomeMarkers.icon();\n",
       "                    var marker = L.marker(new L.LatLng(row[0], row[1]));\n",
       "                    marker.setIcon(icon);\n",
       "                    return marker;\n",
       "                };\n",
       "\n",
       "                var data = [[24.433, 54.6511], [-23.4262, -46.48], [40.0725, 116.598], [6.57737, 3.32116], [-6.12556, 106.656], [35.5533, 139.781], [41.2753, 28.7519], [28.5665, 77.1031], [34.0515, -6.75152], [49.0097, 2.54778], [40.6397, -73.7789], [-1.31924, 36.9278], [-6.87811, 39.2026], [45.3225, -75.6692], [32.0114, 34.8867], [2.74558, 101.71], [51.4775, -0.461389], [37.4633, 126.44], [5.60519, -0.166786], [0.042386, 32.4435], [-4.38575, 15.4446], [55.9728, 37.4147], [30.1219, 31.4056], [14.7397, -17.4902], [12.1337, 15.034], [41.8003, 12.2389], [52.3514, 13.4939], [-15.3308, 28.4526], [31.7226, 35.9932], [33.2625, 44.2346], [24.9578, 46.6989], [-26.1392, 28.246], [-33.9461, 151.177], [51.0222, 71.4669], [5.26139, -3.92629], [50.9014, 4.48444], [23.5933, 58.2844], [4.70159, -74.1469], [21.2212, 105.807], [2.01444, 45.3047], [1.35019, 103.994], [14.5086, 121.02], [-17.9318, 31.0928], [40.4675, 50.0467], [-13.7894, 33.781], [-33.393, -70.7858], [-33.3928, -70.7856], [41.2579, 69.2812], [6.35723, 2.38435], [13.6811, 100.747], [-8.85837, 13.2312], [37.9364, 23.9445], [18.31, -15.9697], [-4.2517, 15.253], [-4.25167, 15.2531], [29.2266, 47.9689], [8.97778, 38.7994], [8.97789, 38.7993], [55.6179, 12.656], [25.2731, 51.6081], [59.6519, 17.9186], [6.16561, 1.25451], [40.4719, -3.56264], [27.6966, 85.3591], [60.3172, 24.9633], [13.338, -16.6522], [33.5607, 72.8516], [42.6967, 23.4114], [7.18076, 79.8841], [-1.96863, 30.1395], [36.851, 10.2272], [36.8511, 10.2272], [26.2708, 50.6336], [52.3086, 4.76389], [-22.4799, 17.4709], [38.7813, -9.13592], [9.57689, -13.612], [9.57689, -13.612], [12.3532, -1.51242], [6.23379, -10.3623], [-12.0219, -77.1143], [-18.7969, 47.4788], [8.61644, -13.1955], [-24.5552, 25.9182], [0.458611, 9.41222], [0.4586, 9.41228], [60.1939, 11.1004], [50.9014, 4.48444], [3.75527, 8.70872], [50.4019, 30.4519], [-34.5589, -58.4164], [-3.32402, 29.3185], [-25.9208, 32.5726], [7.36731, 134.544], [33.8209, 35.4884], [4.87201, 31.6011], [3.83604, 11.5235], [15.4763, 44.2197], [15.4764, 44.2197], [32.6635, 13.159], [52.1657, 20.9671], [23.8433, 90.3978], [59.4133, 24.8328], [12.5335, -7.94994], [41.8003, 12.2389], [14.0609, -87.2172], [14.0617, -87.2169], [19.4363, -99.0721], [53.4213, -6.27007], [13.4815, 2.18361], [-18.0433, 178.559], [-41.3272, 174.805], [43.0613, 74.4776], [47.8431, 106.767], [-4.67434, 55.5218], [38.5433, 68.825], [4.39848, 18.5188], [-9.44338, 147.22], [-0.129167, -78.3575], [48.1103, 16.5697], [49.6233, 6.20444], [18.4297, -69.6689], [11.5466, 104.844], [22.9892, -82.4091], [44.5711, 26.085], [27.4032, 89.4246], [-11.5337, 43.2719], [37.9868, 58.361], [-17.6993, 168.32], [-25.24, -57.52], [9.07136, -79.3835], [14.5833, -90.5275], [14.5817, -90.5267], [63.985, -22.6056], [40.1473, 44.3959], [4.9442, 114.928], [32.0114, 34.8867], [13.0746, -59.4925], [47.4298, 19.2611], [-21.2412, -175.15], [11.5473, 43.1595], [25.039, -77.4662], [35.6892, 51.3134], [1.98616, -157.35], [4.19183, 73.5291], [-8.5464, 125.526], [44.0203, 12.6117], [50.1008, 14.26], [-26.529, 31.3075], [41.6692, 44.9547], [17.5391, -88.3082], [-20.4302, 57.6836], [46.2237, 14.4576], [-9.428, 160.055], [-8.525, 179.196], [-13.83, -172.008], [47.4647, 8.54917], [48.1702, 17.2127], [53.8825, 28.0307], [-29.4623, 27.5525], [17.3112, -62.7187], [17.3114, -62.7186], [35.8575, 14.4775], [-16.5133, -68.1923], [43.8246, 18.3315], [35.1547, 33.4961], [15.5895, 32.5532], [56.9236, 23.9711], [44.8184, 20.3091], [9.99386, -84.2088], [46.9744, 8.39694], [41.4147, 19.7206], [18.58, -72.2925], [18.58, -72.2925], [17.9357, -76.7875], [17.9883, 102.563], [17.1367, -61.7927], [12.0042, -61.7862], [54.6341, 25.2858], [0.378175, 6.71215], [14.0202, -60.9929], [-34.8384, -56.0308], [10.6012, -66.9912], [36.691, 3.21541], [10.6012, -66.9912], [5.45283, -55.1878], [15.547, -61.3], [24.0633, -74.524], [43.6584, 7.21587], [41.9616, 21.6214], [45.7429, 16.0688], [14.9245, -23.4935], [6.9851, 158.209], [-19.079, -169.926], [42.3594, 19.2519], [-21.2027, -159.806], [-0.547458, 166.919], [6.49855, -58.2541], [10.5954, -61.3372], [13.1443, -61.2109], [42.3386, 1.40917], [42.3386, 1.40917], [47.4647, 8.54917], [46.9277, 28.931], [15.2919, 38.9107], [12.1415, -86.1682], [39.2241, 125.67]];\n",
       "                var cluster = L.markerClusterGroup({});\n",
       "\n",
       "                for (var i = 0; i &lt; data.length; i++) {\n",
       "                    var row = data[i];\n",
       "                    var marker = callback(row);\n",
       "                    marker.addTo(cluster);\n",
       "                }\n",
       "\n",
       "                cluster.addTo(map_b880022b5d8840053077f85eb8565a7d);\n",
       "                return cluster;\n",
       "            })();\n",
       "        \n",
       "    \n",
       "            fast_marker_cluster_0e9081562670435d8b652449d8bfa3eb.addTo(map_b880022b5d8840053077f85eb8565a7d);\n",
       "        \n",
       "    \n",
       "            var heat_map_1e10472dce1e0fd9525a098bc2c3a0ce = L.heatLayer(\n",
       "                [[24.433, 54.6511, 4409.0], [-23.4262, -46.48, 3081.0], [40.0725, 116.598, 1411.0], [6.57737, 3.32116, 1411.0], [-6.12556, 106.656, 1229.0], [35.5533, 139.781, 1067.0], [41.2753, 28.7519, 1045.0], [28.5665, 77.1031, 948.0], [34.0515, -6.75152, 823.0], [49.0097, 2.54778, 800.0], [40.6397, -73.7789, 770.0], [-1.31924, 36.9278, 765.0], [-6.87811, 39.2026, 763.0], [45.3225, -75.6692, 742.0], [32.0114, 34.8867, 718.0], [2.74558, 101.71, 700.0], [51.4775, -0.461389, 697.0], [37.4633, 126.44, 689.0], [5.60519, -0.166786, 618.0], [0.042386, 32.4435, 606.0], [-4.38575, 15.4446, 590.0], [55.9728, 37.4147, 590.0], [30.1219, 31.4056, 565.0], [14.7397, -17.4902, 560.0], [12.1337, 15.034, 554.0], [41.8003, 12.2389, 533.0], [52.3514, 13.4939, 468.0], [-15.3308, 28.4526, 445.0], [31.7226, 35.9932, 444.0], [33.2625, 44.2346, 442.0], [24.9578, 46.6989, 426.0], [-26.1392, 28.246, 410.0], [-33.9461, 151.177, 404.0], [51.0222, 71.4669, 403.0], [5.26139, -3.92629, 401.0], [50.9014, 4.48444, 396.0], [23.5933, 58.2844, 380.0], [4.70159, -74.1469, 378.0], [21.2212, 105.807, 377.0], [2.01444, 45.3047, 366.0], [1.35019, 103.994, 360.0], [14.5086, 121.02, 342.0], [-17.9318, 31.0928, 337.0], [40.4675, 50.0467, 312.0], [-13.7894, 33.781, 305.0], [-33.393, -70.7858, 301.0], [-33.3928, -70.7856, 301.0], [41.2579, 69.2812, 298.0], [6.35723, 2.38435, 297.0], [13.6811, 100.747, 293.0], [-8.85837, 13.2312, 290.0], [37.9364, 23.9445, 288.0], [18.31, -15.9697, 285.0], [-4.2517, 15.253, 284.0], [-4.25167, 15.2531, 284.0], [29.2266, 47.9689, 283.0], [8.97778, 38.7994, 275.0], [8.97789, 38.7993, 275.0], [55.6179, 12.656, 271.0], [25.2731, 51.6081, 264.0], [59.6519, 17.9186, 254.0], [6.16561, 1.25451, 250.0], [40.4719, -3.56264, 246.0], [27.6966, 85.3591, 241.0], [60.3172, 24.9633, 238.0], [13.338, -16.6522, 238.0], [33.5607, 72.8516, 238.0], [42.6967, 23.4114, 234.0], [7.18076, 79.8841, 234.0], [-1.96863, 30.1395, 223.0], [36.851, 10.2272, 221.0], [36.8511, 10.2272, 221.0], [26.2708, 50.6336, 218.0], [52.3086, 4.76389, 214.0], [-22.4799, 17.4709, 212.0], [38.7813, -9.13592, 211.0], [9.57689, -13.612, 208.0], [9.57689, -13.612, 208.0], [12.3532, -1.51242, 206.0], [6.23379, -10.3623, 197.0], [-12.0219, -77.1143, 195.0], [-18.7969, 47.4788, 189.0], [8.61644, -13.1955, 189.0], [-24.5552, 25.9182, 186.0], [0.458611, 9.41222, 186.0], [0.4586, 9.41228, 186.0], [60.1939, 11.1004, 183.0], [50.9014, 4.48444, 181.0], [3.75527, 8.70872, 180.0], [50.4019, 30.4519, 180.0], [-34.5589, -58.4164, 179.0], [-3.32402, 29.3185, 172.0], [-25.9208, 32.5726, 171.0], [7.36731, 134.544, 162.0], [33.8209, 35.4884, 160.0], [4.87201, 31.6011, 158.0], [3.83604, 11.5235, 156.0], [15.4763, 44.2197, 153.0], [15.4764, 44.2197, 153.0], [32.6635, 13.159, 150.0], [52.1657, 20.9671, 149.0], [23.8433, 90.3978, 148.0], [59.4133, 24.8328, 147.0], [12.5335, -7.94994, 146.0], [41.8003, 12.2389, 142.0], [14.0609, -87.2172, 139.0], [14.0617, -87.2169, 139.0], [19.4363, -99.0721, 137.0], [53.4213, -6.27007, 135.0], [13.4815, 2.18361, 135.0], [-18.0433, 178.559, 134.0], [-41.3272, 174.805, 134.0], [43.0613, 74.4776, 133.0], [47.8431, 106.767, 133.0], [-4.67434, 55.5218, 133.0], [38.5433, 68.825, 130.0], [4.39848, 18.5188, 129.0], [-9.44338, 147.22, 126.0], [-0.129167, -78.3575, 124.0], [48.1103, 16.5697, 122.0], [49.6233, 6.20444, 115.0], [18.4297, -69.6689, 114.0], [11.5466, 104.844, 112.0], [22.9892, -82.4091, 110.0], [44.5711, 26.085, 110.0], [27.4032, 89.4246, 105.0], [-11.5337, 43.2719, 105.0], [37.9868, 58.361, 100.0], [-17.6993, 168.32, 99.0], [-25.24, -57.52, 98.0], [9.07136, -79.3835, 92.0], [14.5833, -90.5275, 91.0], [14.5817, -90.5267, 91.0], [63.985, -22.6056, 91.0], [40.1473, 44.3959, 84.0], [4.9442, 114.928, 84.0], [32.0114, 34.8867, 81.0], [13.0746, -59.4925, 80.0], [47.4298, 19.2611, 79.0], [-21.2412, -175.15, 79.0], [11.5473, 43.1595, 78.0], [25.039, -77.4662, 74.0], [35.6892, 51.3134, 73.0], [1.98616, -157.35, 71.0], [4.19183, 73.5291, 69.0], [-8.5464, 125.526, 69.0], [44.0203, 12.6117, 65.0], [50.1008, 14.26, 61.0], [-26.529, 31.3075, 61.0], [41.6692, 44.9547, 60.0], [17.5391, -88.3082, 58.0], [-20.4302, 57.6836, 56.0], [46.2237, 14.4576, 56.0], [-9.428, 160.055, 56.0], [-8.525, 179.196, 54.0], [-13.83, -172.008, 53.0], [47.4647, 8.54917, 53.0], [48.1702, 17.2127, 52.0], [53.8825, 28.0307, 48.0], [-29.4623, 27.5525, 48.0], [17.3112, -62.7187, 48.0], [17.3114, -62.7186, 48.0], [35.8575, 14.4775, 47.0], [-16.5133, -68.1923, 46.0], [43.8246, 18.3315, 46.0], [35.1547, 33.4961, 46.0], [15.5895, 32.5532, 46.0], [56.9236, 23.9711, 45.0], [44.8184, 20.3091, 45.0], [9.99386, -84.2088, 44.0], [46.9744, 8.39694, 43.0], [41.4147, 19.7206, 42.0], [18.58, -72.2925, 42.0], [18.58, -72.2925, 42.0], [17.9357, -76.7875, 41.0], [17.9883, 102.563, 40.0], [17.1367, -61.7927, 39.0], [12.0042, -61.7862, 39.0], [54.6341, 25.2858, 39.0], [0.378175, 6.71215, 39.0], [14.0202, -60.9929, 37.0], [-34.8384, -56.0308, 34.0], [10.6012, -66.9912, 34.0], [36.691, 3.21541, 33.0], [10.6012, -66.9912, 31.0], [5.45283, -55.1878, 30.0], [15.547, -61.3, 29.0], [24.0633, -74.524, 28.0], [43.6584, 7.21587, 28.0], [41.9616, 21.6214, 28.0], [45.7429, 16.0688, 27.0], [14.9245, -23.4935, 26.0], [6.9851, 158.209, 26.0], [-19.079, -169.926, 24.0], [42.3594, 19.2519, 22.0], [-21.2027, -159.806, 21.0], [-0.547458, 166.919, 21.0], [6.49855, -58.2541, 20.0], [10.5954, -61.3372, 20.0], [13.1443, -61.2109, 15.0], [42.3386, 1.40917, 11.0], [42.3386, 1.40917, 11.0], [47.4647, 8.54917, 8.0], [46.9277, 28.931, 8.0], [15.2919, 38.9107, 7.0], [12.1415, -86.1682, 6.0], [39.2241, 125.67, 2.0]],\n",
       "                {&quot;blur&quot;: 15, &quot;maxZoom&quot;: 18, &quot;minOpacity&quot;: 0.5, &quot;radius&quot;: 25}\n",
       "            );\n",
       "        \n",
       "    \n",
       "            heat_map_1e10472dce1e0fd9525a098bc2c3a0ce.addTo(map_b880022b5d8840053077f85eb8565a7d);\n",
       "        \n",
       "&lt;/script&gt;\n",
       "&lt;/html&gt;\" style=\"position:absolute;width:100%;height:100%;left:0;top:0;border:none !important;\" allowfullscreen webkitallowfullscreen mozallowfullscreen></iframe></div></div>"
      ],
      "text/plain": [
       "<folium.folium.Map at 0x1ec3eecdbd0>"
      ]
     },
     "execution_count": 70,
     "metadata": {},
     "output_type": "execute_result"
    }
   ],
   "source": [
    "basemap = folium.Map()\n",
    "FastMarkerCluster(airport_location[['latitude', 'longitude']]).add_to(basemap)\n",
    "HeatMap(airport_location[['latitude', 'longitude','total_delegates']],\n",
    "        max_val=max(airport_location['total_delegates'])).add_to(basemap)\n",
    "basemap"
   ]
  }
 ],
 "metadata": {
  "kernelspec": {
   "display_name": "Python 3",
   "language": "python",
   "name": "python3"
  },
  "language_info": {
   "codemirror_mode": {
    "name": "ipython",
    "version": 3
   },
   "file_extension": ".py",
   "mimetype": "text/x-python",
   "name": "python",
   "nbconvert_exporter": "python",
   "pygments_lexer": "ipython3",
   "version": "3.11.8"
  }
 },
 "nbformat": 4,
 "nbformat_minor": 2
}
